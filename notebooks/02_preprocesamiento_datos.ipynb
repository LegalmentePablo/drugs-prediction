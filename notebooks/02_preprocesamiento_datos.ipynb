{
 "cells": [
  {
   "cell_type": "markdown",
   "id": "246bbe73",
   "metadata": {},
   "source": [
    "# 02 - Ajuste de Datos ENCSPA 2019\n",
    "## Preprocesamiento y Limpieza para Machine Learning\n",
    "\n",
    "**Objetivo:** Preparar los datos de la Encuesta Nacional de Consumo de Sustancias Psicoactivas para entrenamiento de modelos predictivos.\n",
    "\n",
    "**Variables objetivo identificadas:**\n",
    "- Marihuana (G_11_F): Variable principal - 8.0% prevalencia\n",
    "- Cocaína (G_11_G): Variable intermedia - 1.96% prevalencia  \n",
    "- Basuco (G_11_H): Variable alto riesgo - 0.62% prevalencia\n",
    "\n",
    "**Variables predictoras clave:**\n",
    "- Entorno social (G_01, G_02)\n",
    "- Curiosidad y actitudes (G_03, G_04, G_05)\n",
    "- Accesibilidad (G_06_A-D, G_07, G_08_A-G)"
   ]
  },
  {
   "cell_type": "markdown",
   "id": "5f26fb33",
   "metadata": {},
   "source": [
    "## Pasos del preprocesamiento (Segundo Commit)\n",
    "\n",
    "**Fase 1 - Exploración y limpieza básica:**\n",
    "1. Carga y análisis inicial de los datos\n",
    "2. Identificación de valores faltantes y outliers\n",
    "3. Selección de variables relevantes\n",
    "4. Análisis de distribuciones\n",
    "\n",
    "**Fase 2 - Transformaciones básicas:**\n",
    "5. Encoding de variables categóricas\n",
    "6. Normalización de variables numéricas  \n",
    "7. División train/test\n",
    "8. Preparación para modelos (siguiente commit)\n",
    "\n",
    "*Nota: Balanceo de clases y modelos avanzados se implementarán en commits posteriores*"
   ]
  },
  {
   "cell_type": "code",
   "execution_count": 25,
   "id": "af70a769",
   "metadata": {},
   "outputs": [],
   "source": [
    "# Importación de librerías (siguiendo estructura del profesor)\n",
    "import pandas as pd\n",
    "import numpy as np # Sin uso actual\n",
    "import matplotlib.pyplot as plt\n",
    "import seaborn as sns\n",
    "import plotly.express as px\n",
    "import plotly.graph_objects as go\n",
    "from plotly.subplots import make_subplots\n",
    "\n",
    "# Preprocesamiento y métricas\n",
    "from sklearn.model_selection import train_test_split\n",
    "from sklearn.preprocessing import LabelEncoder, StandardScaler # Sin uso actual\n",
    "from sklearn.impute import SimpleImputer # Sin uso actual\n",
    "from sklearn.metrics import classification_report, confusion_matrix # Sin uso actual\n",
    "\n",
    "# Configuración\n",
    "import warnings\n",
    "warnings.filterwarnings('ignore')\n",
    "\n",
    "# Configurar matplotlib para español\n",
    "plt.rcParams['font.size'] = 12\n",
    "sns.set_style(\"whitegrid\")"
   ]
  },
  {
   "cell_type": "markdown",
   "id": "09115e3c",
   "metadata": {},
   "source": [
    "## 1. Carga y exploración inicial de datos"
   ]
  },
  {
   "cell_type": "code",
   "execution_count": 26,
   "id": "2e312578",
   "metadata": {},
   "outputs": [
    {
     "name": "stdout",
     "output_type": "stream",
     "text": [
      "Dataset ENCSPA 2019 cargado\n",
      "Dimensiones: (49756, 98)\n",
      "Observaciones: 49,756\n",
      "Variables: 98\n",
      "\n",
      "Primeras 5 filas del dataset:\n"
     ]
    },
    {
     "data": {
      "text/html": [
       "<div>\n",
       "<style scoped>\n",
       "    .dataframe tbody tr th:only-of-type {\n",
       "        vertical-align: middle;\n",
       "    }\n",
       "\n",
       "    .dataframe tbody tr th {\n",
       "        vertical-align: top;\n",
       "    }\n",
       "\n",
       "    .dataframe thead th {\n",
       "        text-align: right;\n",
       "    }\n",
       "</style>\n",
       "<table border=\"1\" class=\"dataframe\">\n",
       "  <thead>\n",
       "    <tr style=\"text-align: right;\">\n",
       "      <th></th>\n",
       "      <th>G_01</th>\n",
       "      <th>G_01_A</th>\n",
       "      <th>G_02</th>\n",
       "      <th>G_02_A</th>\n",
       "      <th>G_03</th>\n",
       "      <th>G_04</th>\n",
       "      <th>G_05</th>\n",
       "      <th>G_05_A</th>\n",
       "      <th>G_06_A</th>\n",
       "      <th>G_06_B</th>\n",
       "      <th>...</th>\n",
       "      <th>G_14_B</th>\n",
       "      <th>G_14_C</th>\n",
       "      <th>G_14_D</th>\n",
       "      <th>G_14_E</th>\n",
       "      <th>G_14_F</th>\n",
       "      <th>G_14_G</th>\n",
       "      <th>DIRECTORIO</th>\n",
       "      <th>SECUENCIA_ENCUESTA</th>\n",
       "      <th>SECUENCIA_P</th>\n",
       "      <th>ORDEN</th>\n",
       "    </tr>\n",
       "  </thead>\n",
       "  <tbody>\n",
       "    <tr>\n",
       "      <th>0</th>\n",
       "      <td>2</td>\n",
       "      <td>NaN</td>\n",
       "      <td>2</td>\n",
       "      <td>NaN</td>\n",
       "      <td>2</td>\n",
       "      <td>2</td>\n",
       "      <td>2</td>\n",
       "      <td>NaN</td>\n",
       "      <td>9</td>\n",
       "      <td>9</td>\n",
       "      <td>...</td>\n",
       "      <td>NaN</td>\n",
       "      <td>NaN</td>\n",
       "      <td>NaN</td>\n",
       "      <td>NaN</td>\n",
       "      <td>NaN</td>\n",
       "      <td>NaN</td>\n",
       "      <td>1</td>\n",
       "      <td>2</td>\n",
       "      <td>1</td>\n",
       "      <td>2</td>\n",
       "    </tr>\n",
       "    <tr>\n",
       "      <th>1</th>\n",
       "      <td>2</td>\n",
       "      <td>NaN</td>\n",
       "      <td>2</td>\n",
       "      <td>NaN</td>\n",
       "      <td>2</td>\n",
       "      <td>2</td>\n",
       "      <td>2</td>\n",
       "      <td>NaN</td>\n",
       "      <td>9</td>\n",
       "      <td>9</td>\n",
       "      <td>...</td>\n",
       "      <td>NaN</td>\n",
       "      <td>NaN</td>\n",
       "      <td>NaN</td>\n",
       "      <td>NaN</td>\n",
       "      <td>NaN</td>\n",
       "      <td>NaN</td>\n",
       "      <td>2</td>\n",
       "      <td>1</td>\n",
       "      <td>1</td>\n",
       "      <td>1</td>\n",
       "    </tr>\n",
       "    <tr>\n",
       "      <th>2</th>\n",
       "      <td>2</td>\n",
       "      <td>NaN</td>\n",
       "      <td>2</td>\n",
       "      <td>NaN</td>\n",
       "      <td>2</td>\n",
       "      <td>2</td>\n",
       "      <td>2</td>\n",
       "      <td>NaN</td>\n",
       "      <td>3</td>\n",
       "      <td>3</td>\n",
       "      <td>...</td>\n",
       "      <td>NaN</td>\n",
       "      <td>NaN</td>\n",
       "      <td>NaN</td>\n",
       "      <td>NaN</td>\n",
       "      <td>NaN</td>\n",
       "      <td>NaN</td>\n",
       "      <td>3</td>\n",
       "      <td>1</td>\n",
       "      <td>1</td>\n",
       "      <td>1</td>\n",
       "    </tr>\n",
       "    <tr>\n",
       "      <th>3</th>\n",
       "      <td>2</td>\n",
       "      <td>NaN</td>\n",
       "      <td>2</td>\n",
       "      <td>NaN</td>\n",
       "      <td>2</td>\n",
       "      <td>2</td>\n",
       "      <td>2</td>\n",
       "      <td>NaN</td>\n",
       "      <td>9</td>\n",
       "      <td>9</td>\n",
       "      <td>...</td>\n",
       "      <td>NaN</td>\n",
       "      <td>NaN</td>\n",
       "      <td>NaN</td>\n",
       "      <td>NaN</td>\n",
       "      <td>NaN</td>\n",
       "      <td>NaN</td>\n",
       "      <td>4</td>\n",
       "      <td>1</td>\n",
       "      <td>1</td>\n",
       "      <td>1</td>\n",
       "    </tr>\n",
       "    <tr>\n",
       "      <th>4</th>\n",
       "      <td>2</td>\n",
       "      <td>NaN</td>\n",
       "      <td>2</td>\n",
       "      <td>NaN</td>\n",
       "      <td>2</td>\n",
       "      <td>2</td>\n",
       "      <td>2</td>\n",
       "      <td>NaN</td>\n",
       "      <td>9</td>\n",
       "      <td>9</td>\n",
       "      <td>...</td>\n",
       "      <td>NaN</td>\n",
       "      <td>NaN</td>\n",
       "      <td>NaN</td>\n",
       "      <td>NaN</td>\n",
       "      <td>NaN</td>\n",
       "      <td>NaN</td>\n",
       "      <td>6</td>\n",
       "      <td>1</td>\n",
       "      <td>1</td>\n",
       "      <td>1</td>\n",
       "    </tr>\n",
       "  </tbody>\n",
       "</table>\n",
       "<p>5 rows × 98 columns</p>\n",
       "</div>"
      ],
      "text/plain": [
       "   G_01  G_01_A  G_02  G_02_A  G_03  G_04  G_05  G_05_A  G_06_A  G_06_B  ...  \\\n",
       "0     2     NaN     2     NaN     2     2     2     NaN       9       9  ...   \n",
       "1     2     NaN     2     NaN     2     2     2     NaN       9       9  ...   \n",
       "2     2     NaN     2     NaN     2     2     2     NaN       3       3  ...   \n",
       "3     2     NaN     2     NaN     2     2     2     NaN       9       9  ...   \n",
       "4     2     NaN     2     NaN     2     2     2     NaN       9       9  ...   \n",
       "\n",
       "   G_14_B  G_14_C  G_14_D  G_14_E  G_14_F  G_14_G  DIRECTORIO  \\\n",
       "0     NaN     NaN     NaN     NaN     NaN     NaN           1   \n",
       "1     NaN     NaN     NaN     NaN     NaN     NaN           2   \n",
       "2     NaN     NaN     NaN     NaN     NaN     NaN           3   \n",
       "3     NaN     NaN     NaN     NaN     NaN     NaN           4   \n",
       "4     NaN     NaN     NaN     NaN     NaN     NaN           6   \n",
       "\n",
       "   SECUENCIA_ENCUESTA  SECUENCIA_P  ORDEN  \n",
       "0                   2            1      2  \n",
       "1                   1            1      1  \n",
       "2                   1            1      1  \n",
       "3                   1            1      1  \n",
       "4                   1            1      1  \n",
       "\n",
       "[5 rows x 98 columns]"
      ]
     },
     "execution_count": 26,
     "metadata": {},
     "output_type": "execute_result"
    }
   ],
   "source": [
    "# Cargar dataset original\n",
    "df_original = pd.read_csv('../data/g_capitulos.csv')\n",
    "\n",
    "print(f\"Dataset ENCSPA 2019 cargado\")\n",
    "print(f\"Dimensiones: {df_original.shape}\")\n",
    "print(f\"Observaciones: {df_original.shape[0]:,}\")\n",
    "print(f\"Variables: {df_original.shape[1]}\")\n",
    "\n",
    "# Mostrar primeras filas\n",
    "print(f\"\\nPrimeras 5 filas del dataset:\")\n",
    "df_original.head()"
   ]
  },
  {
   "cell_type": "markdown",
   "id": "6da4cf2b",
   "metadata": {},
   "source": [
    "## 2. Definición de variables objetivo y predictoras"
   ]
  },
  {
   "cell_type": "code",
   "execution_count": 27,
   "id": "9385de01",
   "metadata": {},
   "outputs": [
    {
     "name": "stdout",
     "output_type": "stream",
     "text": [
      "Variable objetivo: Consumo de Marihuana\n",
      "Variables categóricas: 5\n",
      "Variables numéricas: 9\n",
      "Total variables seleccionadas: 15\n",
      "Total variables predictoras: 14\n",
      "\n",
      "Variables categóricas (Entorno + Actitudes):\n",
      "   1. Familiares Consumen Sustancias\n",
      "   2. Amigos Consumen Sustancias\n",
      "   3. Curiosidad por Probar\n",
      "   4. Disposición a Consumir\n",
      "   5. Tuvo Oportunidad de Probar\n",
      "\n",
      "Variables numéricas (Cantidades + Acceso + Exposición):\n",
      "   1. Cantidad de Familiares que Consumen\n",
      "   2. Cantidad de Amigos que Consumen\n",
      "   3. Acceso Fácil a Marihuana\n",
      "   4. Acceso Fácil a Cocaína\n",
      "   5. Acceso Fácil a Basuco\n",
      "   6. Acceso Fácil a Éxtasis\n",
      "   7. Ofertas Recibidas (Último Año)\n",
      "   8. Ofertas de Marihuana\n",
      "   9. Ofertas de Cocaína\n",
      "\n",
      "Variables disponibles: 15\n",
      "\n",
      "VERIFICACIÓN: Coincidencia con EDA\n",
      "   Aquí tenemos: 1 variable objetivo + 14 variables predictoras\n",
      "   Variables con nombres legibles configuradas para gráficos\n"
     ]
    }
   ],
   "source": [
    "# Variables seleccionadas basadas en EDA previo\n",
    "# (Siguiendo metodología del profesor: definir variables clave primero)\n",
    "# IMPORTANTE: Estas variables deben coincidir exactamente con el notebook EDA\n",
    "\n",
    "# Variable objetivo principal para este commit\n",
    "target_variable = 'G_11_F'  # Consumo de marihuana (8% prevalencia)\n",
    "\n",
    "# Variables predictoras categóricas (entorno social + actitudes)\n",
    "categorical_features = [\n",
    "    # Entorno Social\n",
    "    'G_01',  # Familiares consumen sustancias\n",
    "    'G_02',  # Amigos consumen sustancias  \n",
    "    \n",
    "    # Actitudes y Curiosidad\n",
    "    'G_03',  # Curiosidad por probar\n",
    "    'G_04',  # Disposición a consumir\n",
    "    'G_05'   # Tuvo oportunidad de probar\n",
    "]\n",
    "\n",
    "# Variables predictoras numéricas (accesibilidad + exposición)\n",
    "numerical_features = [\n",
    "    # Cantidad de familiares/amigos (del EDA)\n",
    "    'G_01_A',  # Cantidad de familiares que consumen\n",
    "    'G_02_A',  # Cantidad de amigos que consumen\n",
    "    \n",
    "    # Accesibilidad (facilidad de acceso)\n",
    "    'G_06_A',  # Facilidad acceso marihuana\n",
    "    'G_06_B',  # Facilidad acceso cocaína\n",
    "    'G_06_C',  # Facilidad acceso basuco\n",
    "    'G_06_D',  # Facilidad acceso éxtasis\n",
    "    \n",
    "    # Exposición (ofertas recibidas)\n",
    "    'G_07',    # Ofertas recibidas en último año\n",
    "    'G_08_A',  # Veces que ofrecieron marihuana\n",
    "    'G_08_B'   # Veces que ofrecieron cocaína\n",
    "]\n",
    "\n",
    "# DICCIONARIO DE NOMBRES LEGIBLES PARA GRÁFICOS Y PRINTS\n",
    "variable_names = {\n",
    "    # Variable objetivo\n",
    "    'G_11_F': 'Consumo de Marihuana',\n",
    "    \n",
    "    # Variables categóricas (entorno social + actitudes)\n",
    "    'G_01': 'Familiares Consumen Sustancias',\n",
    "    'G_02': 'Amigos Consumen Sustancias',\n",
    "    'G_03': 'Curiosidad por Probar',\n",
    "    'G_04': 'Disposición a Consumir',\n",
    "    'G_05': 'Tuvo Oportunidad de Probar',\n",
    "    \n",
    "    # Variables numéricas (cantidades + acceso + exposición)\n",
    "    'G_01_A': 'Cantidad de Familiares que Consumen',\n",
    "    'G_02_A': 'Cantidad de Amigos que Consumen',\n",
    "    'G_06_A': 'Acceso Fácil a Marihuana',\n",
    "    'G_06_B': 'Acceso Fácil a Cocaína',\n",
    "    'G_06_C': 'Acceso Fácil a Basuco',\n",
    "    'G_06_D': 'Acceso Fácil a Éxtasis',\n",
    "    'G_07': 'Ofertas Recibidas (Último Año)',\n",
    "    'G_08_A': 'Ofertas de Marihuana',\n",
    "    'G_08_B': 'Ofertas de Cocaína'\n",
    "}\n",
    "\n",
    "# Función para obtener nombre legible\n",
    "def get_readable_name(var_code):\n",
    "    \"\"\"Convierte código de variable a nombre legible\"\"\"\n",
    "    return variable_names.get(var_code, var_code)\n",
    "\n",
    "# Todas las variables para el análisis (igual que en EDA)\n",
    "all_features = categorical_features + numerical_features + [target_variable]\n",
    "\n",
    "print(f\"Variable objetivo: {get_readable_name(target_variable)}\")\n",
    "print(f\"Variables categóricas: {len(categorical_features)}\")\n",
    "print(f\"Variables numéricas: {len(numerical_features)}\")\n",
    "print(f\"Total variables seleccionadas: {len(all_features)}\")\n",
    "print(f\"Total variables predictoras: {len(categorical_features + numerical_features)}\")\n",
    "\n",
    "print(f\"\\nVariables categóricas (Entorno + Actitudes):\")\n",
    "for i, var in enumerate(categorical_features, 1):\n",
    "    print(f\"   {i}. {get_readable_name(var)}\")\n",
    "\n",
    "print(f\"\\nVariables numéricas (Cantidades + Acceso + Exposición):\")\n",
    "for i, var in enumerate(numerical_features, 1):\n",
    "    print(f\"   {i}. {get_readable_name(var)}\")\n",
    "\n",
    "# Verificar disponibilidad de variables\n",
    "variables_disponibles = [var for var in all_features if var in df_original.columns]\n",
    "variables_faltantes = [var for var in all_features if var not in df_original.columns]\n",
    "\n",
    "print(f\"\\nVariables disponibles: {len(variables_disponibles)}\")\n",
    "if variables_faltantes:\n",
    "    print(f\"Variables faltantes:\")\n",
    "    for var in variables_faltantes:\n",
    "        print(f\"   - {get_readable_name(var)} ({var})\")\n",
    "        \n",
    "print(f\"\\nVERIFICACIÓN: Coincidencia con EDA\")\n",
    "print(f\"   Aquí tenemos: 1 variable objetivo + {len(categorical_features + numerical_features)} variables predictoras\")\n",
    "print(f\"   Variables con nombres legibles configuradas para gráficos\")"
   ]
  },
  {
   "cell_type": "markdown",
   "id": "8eb728db",
   "metadata": {},
   "source": [
    "## 3. Análisis de calidad de datos"
   ]
  },
  {
   "cell_type": "code",
   "execution_count": 28,
   "id": "2be80535",
   "metadata": {},
   "outputs": [
    {
     "name": "stdout",
     "output_type": "stream",
     "text": [
      "Análisis de calidad de datos\n",
      "========================================\n",
      "Dimensiones del subset: (49756, 15)\n",
      "\n",
      "Tipos de datos:\n",
      "G_01        int64\n",
      "G_02        int64\n",
      "G_03        int64\n",
      "G_04        int64\n",
      "G_05        int64\n",
      "G_01_A    float64\n",
      "G_02_A    float64\n",
      "G_06_A      int64\n",
      "G_06_B      int64\n",
      "G_06_C      int64\n",
      "G_06_D      int64\n",
      "G_07        int64\n",
      "G_08_A    float64\n",
      "G_08_B    float64\n",
      "G_11_F      int64\n",
      "dtype: object\n",
      "\n",
      "Análisis de valores faltantes:\n",
      "   Variable  Valores_Faltantes  Porcentaje\n",
      "5    G_01_A              39998   80.388295\n",
      "6    G_02_A              36191   72.736956\n",
      "13   G_08_B              35502   71.352199\n",
      "12   G_08_A              35502   71.352199\n",
      "1      G_02                  0    0.000000\n",
      "2      G_03                  0    0.000000\n",
      "0      G_01                  0    0.000000\n",
      "3      G_04                  0    0.000000\n",
      "4      G_05                  0    0.000000\n",
      "7    G_06_A                  0    0.000000\n",
      "8    G_06_B                  0    0.000000\n",
      "10   G_06_D                  0    0.000000\n",
      "9    G_06_C                  0    0.000000\n",
      "11     G_07                  0    0.000000\n",
      "14   G_11_F                  0    0.000000\n",
      "\n",
      "Distribución de variable objetivo:\n",
      "Variable: G_11_F\n",
      "G_11_F\n",
      "1     3982\n",
      "2    45774\n",
      "Name: count, dtype: int64\n",
      "Prevalencia de consumo: 8.00%\n"
     ]
    }
   ],
   "source": [
    "# Crear subset con variables seleccionadas\n",
    "df = df_original[variables_disponibles].copy()\n",
    "\n",
    "print(\"Análisis de calidad de datos\")\n",
    "print(\"=\" * 40)\n",
    "\n",
    "# 1. Información general\n",
    "print(f\"Dimensiones del subset: {df.shape}\")\n",
    "\n",
    "# 2. Tipos de datos\n",
    "print(f\"\\nTipos de datos:\")\n",
    "print(df.dtypes)\n",
    "\n",
    "# 3. Valores faltantes\n",
    "print(f\"\\nAnálisis de valores faltantes:\")\n",
    "missing_data = df.isnull().sum()\n",
    "missing_percent = (missing_data / len(df)) * 100\n",
    "\n",
    "missing_summary = pd.DataFrame({\n",
    "    'Variable': missing_data.index,\n",
    "    'Valores_Faltantes': missing_data.values,\n",
    "    'Porcentaje': missing_percent.values\n",
    "}).sort_values('Porcentaje', ascending=False)\n",
    "\n",
    "print(missing_summary)\n",
    "\n",
    "# 4. Estadísticas descriptivas básicas\n",
    "print(f\"\\nDistribución de variable objetivo:\")\n",
    "if target_variable in df.columns:\n",
    "    target_counts = df[target_variable].value_counts().sort_index()\n",
    "    print(f\"Variable: {target_variable}\")\n",
    "    print(target_counts)\n",
    "    \n",
    "    # Calcular prevalencia de consumo\n",
    "    if 1 in target_counts.index:\n",
    "        prevalencia = (target_counts[1] / target_counts.sum()) * 100\n",
    "        print(f\"Prevalencia de consumo: {prevalencia:.2f}%\")\n",
    "else:\n",
    "    print(f\"Variable objetivo {target_variable} no encontrada\")"
   ]
  },
  {
   "cell_type": "markdown",
   "id": "9b00b19d",
   "metadata": {},
   "source": [
    "## 4. Limpieza y filtrado de datos"
   ]
  },
  {
   "cell_type": "code",
   "execution_count": 29,
   "id": "982ca2ee",
   "metadata": {},
   "outputs": [
    {
     "name": "stdout",
     "output_type": "stream",
     "text": [
      "Limpieza y filtrado de datos\n",
      "===================================\n",
      "Registros originales: 49,756\n",
      "Después de eliminar target faltante: 49,756\n",
      "\n",
      "Distribución original de variable objetivo:\n",
      "G_11_F\n",
      "1     3982\n",
      "2    45774\n",
      "Name: count, dtype: int64\n",
      "\n",
      "Después de excluir 'No sabe': 49,756\n",
      "Distribución binaria:\n",
      "target_binary\n",
      "0    45774\n",
      "1     3982\n",
      "Name: count, dtype: int64\n",
      "\n",
      "Prevalencia final de consumo: 8.00%\n",
      "\n",
      "Resumen del dataset limpio:\n",
      "   Dimensiones: (49756, 16)\n",
      "   Casos válidos: 49,756\n",
      "   Casos positivos: 3,982\n",
      "   Casos negativos: 45,774\n"
     ]
    }
   ],
   "source": [
    "# Limpieza básica siguiendo metodología del profesor\n",
    "print(\"Limpieza y filtrado de datos\")\n",
    "print(\"=\" * 35)\n",
    "\n",
    "# 1. Eliminar filas con target variable faltante\n",
    "print(f\"Registros originales: {len(df):,}\")\n",
    "\n",
    "# Filtrar solo casos con variable objetivo válida\n",
    "df_clean = df[df[target_variable].notna()].copy()\n",
    "print(f\"Después de eliminar target faltante: {len(df_clean):,}\")\n",
    "\n",
    "# 2. Convertir variable objetivo a binaria (siguiendo lógica de clasificación)\n",
    "# 1 = Sí consumió, 2 = No consumió, 9 = No sabe/No responde\n",
    "print(f\"\\nDistribución original de variable objetivo:\")\n",
    "print(df_clean[target_variable].value_counts().sort_index())\n",
    "\n",
    "# Crear variable binaria: 1 = Consumió, 0 = No consumió\n",
    "# Excluir \"No sabe/No responde\" (código 9)\n",
    "df_clean = df_clean[df_clean[target_variable] != 9].copy()\n",
    "df_clean['target_binary'] = (df_clean[target_variable] == 1).astype(int)\n",
    "\n",
    "print(f\"\\nDespués de excluir 'No sabe': {len(df_clean):,}\")\n",
    "print(f\"Distribución binaria:\")\n",
    "print(df_clean['target_binary'].value_counts())\n",
    "\n",
    "# 3. Verificar prevalencia final\n",
    "prevalencia_final = df_clean['target_binary'].mean() * 100\n",
    "print(f\"\\nPrevalencia final de consumo: {prevalencia_final:.2f}%\")\n",
    "\n",
    "# 4. Información del dataset limpio\n",
    "print(f\"\\nResumen del dataset limpio:\")\n",
    "print(f\"   Dimensiones: {df_clean.shape}\")\n",
    "print(f\"   Casos válidos: {len(df_clean):,}\")\n",
    "print(f\"   Casos positivos: {df_clean['target_binary'].sum():,}\")\n",
    "print(f\"   Casos negativos: {(1-df_clean['target_binary']).sum():,}\")"
   ]
  },
  {
   "cell_type": "markdown",
   "id": "52fab836",
   "metadata": {},
   "source": [
    "## 5. Análisis exploratorio de variables predictoras"
   ]
  },
  {
   "cell_type": "code",
   "execution_count": 30,
   "id": "aaee2710",
   "metadata": {},
   "outputs": [
    {
     "name": "stdout",
     "output_type": "stream",
     "text": [
      "Análisis de variables predictoras\n",
      "========================================\n",
      "Variables categóricas (Entorno Social + Actitudes):\n",
      "\n",
      "--- Familiares Consumen Sustancias ---\n",
      "G_01\n",
      "1     9758\n",
      "2    39998\n",
      "Name: count, dtype: int64\n",
      "Porcentajes:\n",
      "  1: 19.6%\n",
      "  2: 80.4%\n",
      "\n",
      "--- Amigos Consumen Sustancias ---\n",
      "G_02\n",
      "1    13565\n",
      "2    36191\n",
      "Name: count, dtype: int64\n",
      "Porcentajes:\n",
      "  1: 27.3%\n",
      "  2: 72.7%\n",
      "\n",
      "--- Curiosidad por Probar ---\n",
      "G_03\n",
      "1     8188\n",
      "2    41568\n",
      "Name: count, dtype: int64\n",
      "Porcentajes:\n",
      "  1: 16.5%\n",
      "  2: 83.5%\n",
      "\n",
      "--- Disposición a Consumir ---\n",
      "G_04\n",
      "1     2595\n",
      "2    47161\n",
      "Name: count, dtype: int64\n",
      "Porcentajes:\n",
      "  1: 5.2%\n",
      "  2: 94.8%\n",
      "\n",
      "--- Tuvo Oportunidad de Probar ---\n",
      "G_05\n",
      "1    13545\n",
      "2    36211\n",
      "Name: count, dtype: int64\n",
      "Porcentajes:\n",
      "  1: 27.2%\n",
      "  2: 72.8%\n",
      "\n",
      "Variables numéricas (Cantidades + Acceso + Exposición):\n",
      "\n",
      "Estadísticas descriptivas:\n",
      "\n",
      "Cantidad de Familiares que Consumen:\n",
      "  Media: 1.46\n",
      "  Mediana: 1.00\n",
      "  Desv. Estándar: 0.50\n",
      "  Min-Max: 1 - 2\n",
      "\n",
      "Cantidad de Amigos que Consumen:\n",
      "  Media: 1.81\n",
      "  Mediana: 2.00\n",
      "  Desv. Estándar: 0.39\n",
      "  Min-Max: 1 - 2\n",
      "\n",
      "Acceso Fácil a Marihuana:\n",
      "  Media: 3.79\n",
      "  Mediana: 1.00\n",
      "  Desv. Estándar: 3.60\n",
      "  Min-Max: 1 - 9\n",
      "\n",
      "Acceso Fácil a Cocaína:\n",
      "  Media: 4.75\n",
      "  Mediana: 3.00\n",
      "  Desv. Estándar: 3.68\n",
      "  Min-Max: 1 - 9\n",
      "\n",
      "Acceso Fácil a Basuco:\n",
      "  Media: 4.90\n",
      "  Mediana: 3.00\n",
      "  Desv. Estándar: 3.70\n",
      "  Min-Max: 1 - 9\n",
      "\n",
      "Acceso Fácil a Éxtasis:\n",
      "  Media: 5.51\n",
      "  Mediana: 9.00\n",
      "  Desv. Estándar: 3.63\n",
      "  Min-Max: 1 - 9\n",
      "\n",
      "Ofertas Recibidas (Último Año):\n",
      "  Media: 1.73\n",
      "  Mediana: 2.00\n",
      "  Desv. Estándar: 0.60\n",
      "  Min-Max: 1 - 9\n",
      "\n",
      "Ofertas de Marihuana:\n",
      "  Media: 3.13\n",
      "  Mediana: 3.00\n",
      "  Desv. Estándar: 1.77\n",
      "  Min-Max: 1 - 9\n",
      "\n",
      "Ofertas de Cocaína:\n",
      "  Media: 6.65\n",
      "  Mediana: 9.00\n",
      "  Desv. Estándar: 3.07\n",
      "  Min-Max: 1 - 9\n",
      "\n",
      "Valores únicos por variable:\n",
      "Cantidad de Familiares que Consumen: [np.float64(1.0), np.float64(2.0)]\n",
      "Cantidad de Amigos que Consumen: [np.float64(1.0), np.float64(2.0)]\n",
      "Acceso Fácil a Marihuana: [np.int64(1), np.int64(2), np.int64(3), np.int64(9)]\n",
      "Acceso Fácil a Cocaína: [np.int64(1), np.int64(2), np.int64(3), np.int64(9)]\n",
      "Acceso Fácil a Basuco: [np.int64(1), np.int64(2), np.int64(3), np.int64(9)]\n",
      "Acceso Fácil a Éxtasis: [np.int64(1), np.int64(2), np.int64(3), np.int64(9)]\n",
      "Ofertas Recibidas (Último Año): [np.int64(1), np.int64(2), np.int64(9)]\n",
      "Ofertas de Marihuana: [np.float64(1.0), np.float64(2.0), np.float64(3.0), np.float64(9.0)]\n",
      "Ofertas de Cocaína: [np.float64(1.0), np.float64(2.0), np.float64(3.0), np.float64(9.0)]\n",
      "\n",
      "Relación con variable objetivo:\n",
      "Variables más correlacionadas con consumo de marihuana:\n",
      "Top 10 correlaciones (valor absoluto):\n",
      "  1. Curiosidad por Probar: 0.594\n",
      "  2. Disposición a Consumir: 0.530\n",
      "  3. Tuvo Oportunidad de Probar: 0.411\n",
      "  4. Amigos Consumen Sustancias: 0.290\n",
      "  5. Ofertas Recibidas (Último Año): 0.283\n",
      "  6. Ofertas de Marihuana: 0.225\n",
      "  7. Familiares Consumen Sustancias: 0.170\n",
      "  8. Acceso Fácil a Marihuana: 0.166\n",
      "  9. Ofertas de Cocaína: 0.145\n",
      "  10. Acceso Fácil a Cocaína: 0.130\n"
     ]
    }
   ],
   "source": [
    "# Análisis de variables predictoras (metodología exploratoria del profesor)\n",
    "print(\"Análisis de variables predictoras\")\n",
    "print(\"=\" * 40)\n",
    "\n",
    "# 1. Variables categóricas - Análisis de distribuciones\n",
    "print(\"Variables categóricas (Entorno Social + Actitudes):\")\n",
    "for var in categorical_features:\n",
    "    if var in df_clean.columns:\n",
    "        print(f\"\\n--- {get_readable_name(var)} ---\")\n",
    "        distribucion = df_clean[var].value_counts().sort_index()\n",
    "        print(distribucion)\n",
    "        \n",
    "        # Mostrar distribución porcentual\n",
    "        distribucion_pct = (distribucion / distribucion.sum()) * 100\n",
    "        print(\"Porcentajes:\")\n",
    "        for idx, pct in distribucion_pct.items():\n",
    "            print(f\"  {idx}: {pct:.1f}%\")\n",
    "\n",
    "# 2. Variables numéricas - Estadísticas descriptivas\n",
    "print(f\"\\nVariables numéricas (Cantidades + Acceso + Exposición):\")\n",
    "numeric_vars_available = [var for var in numerical_features if var in df_clean.columns]\n",
    "\n",
    "if numeric_vars_available:\n",
    "    # Mostrar estadísticas con nombres legibles\n",
    "    print(\"\\nEstadísticas descriptivas:\")\n",
    "    for var in numeric_vars_available:\n",
    "        stats = df_clean[var].describe()\n",
    "        print(f\"\\n{get_readable_name(var)}:\")\n",
    "        print(f\"  Media: {stats['mean']:.2f}\")\n",
    "        print(f\"  Mediana: {stats['50%']:.2f}\")\n",
    "        print(f\"  Desv. Estándar: {stats['std']:.2f}\")\n",
    "        print(f\"  Min-Max: {stats['min']:.0f} - {stats['max']:.0f}\")\n",
    "    \n",
    "    # Verificar valores únicos para detectar si son realmente categóricas\n",
    "    print(f\"\\nValores únicos por variable:\")\n",
    "    for var in numeric_vars_available:\n",
    "        unique_vals = sorted(df_clean[var].dropna().unique())\n",
    "        unique_count = len(unique_vals)\n",
    "        if unique_count <= 10:  # Mostrar valores si son pocos\n",
    "            print(f\"{get_readable_name(var)}: {unique_vals}\")\n",
    "        else:  # Solo mostrar cantidad si son muchos\n",
    "            print(f\"{get_readable_name(var)}: {unique_count} valores únicos (rango: {min(unique_vals)}-{max(unique_vals)})\")\n",
    "\n",
    "# 3. Correlación preliminar con variable objetivo\n",
    "print(f\"\\nRelación con variable objetivo:\")\n",
    "print(\"Variables más correlacionadas con consumo de marihuana:\")\n",
    "\n",
    "# Crear DataFrame para correlaciones\n",
    "df_corr = df_clean.copy()\n",
    "\n",
    "# Convertir categóricas para correlación rápida\n",
    "for var in categorical_features:\n",
    "    if var in df_corr.columns:\n",
    "        # Convertir a binario para análisis rápido (1=Sí, 0=Resto)\n",
    "        df_corr[f\"{var}_binary\"] = (df_corr[var] == 1).astype(int)\n",
    "\n",
    "# Calcular correlaciones\n",
    "correlation_vars = [f\"{var}_binary\" for var in categorical_features if var in df_clean.columns]\n",
    "correlation_vars.extend([var for var in numerical_features if var in df_clean.columns])\n",
    "\n",
    "if correlation_vars:\n",
    "    correlations = df_corr[correlation_vars + ['target_binary']].corr()['target_binary'].drop('target_binary')\n",
    "    correlations_sorted = correlations.abs().sort_values(ascending=False)\n",
    "    \n",
    "    print(\"Top 10 correlaciones (valor absoluto):\")\n",
    "    for i, (var, corr) in enumerate(correlations_sorted.head(10).items(), 1):\n",
    "        # Limpiar nombre de variable (quitar _binary si existe)\n",
    "        clean_var = var.replace('_binary', '')\n",
    "        readable_name = get_readable_name(clean_var)\n",
    "        print(f\"  {i}. {readable_name}: {corr:.3f}\")\n",
    "        \n",
    "# Guardar variables de correlación para visualizaciones\n",
    "globals()['correlation_vars'] = correlation_vars\n",
    "globals()['correlations_sorted'] = correlations_sorted"
   ]
  },
  {
   "cell_type": "markdown",
   "id": "4d6b7b26",
   "metadata": {},
   "source": [
    "## 6. Preparación básica para machine learning"
   ]
  },
  {
   "cell_type": "code",
   "execution_count": 31,
   "id": "ebce40da",
   "metadata": {},
   "outputs": [
    {
     "name": "stdout",
     "output_type": "stream",
     "text": [
      "Preparación básica para Machine Learning\n",
      "=============================================\n",
      "Features seleccionadas para modelo: 14\n",
      "\n",
      "Variables categóricas incluidas:\n",
      "   1. Familiares Consumen Sustancias\n",
      "   2. Amigos Consumen Sustancias\n",
      "   3. Curiosidad por Probar\n",
      "   4. Disposición a Consumir\n",
      "   5. Tuvo Oportunidad de Probar\n",
      "\n",
      "Variables numéricas incluidas:\n",
      "   1. Cantidad de Familiares que Consumen\n",
      "   2. Cantidad de Amigos que Consumen\n",
      "   3. Acceso Fácil a Marihuana\n",
      "   4. Acceso Fácil a Cocaína\n",
      "   5. Acceso Fácil a Basuco\n",
      "   6. Acceso Fácil a Éxtasis\n",
      "   7. Ofertas Recibidas (Último Año)\n",
      "   8. Ofertas de Marihuana\n",
      "   9. Ofertas de Cocaína\n",
      "\n",
      "Dimensiones finales:\n",
      "   X (features): (49756, 14)\n",
      "   y (target): (49756,)\n",
      "\n",
      "Valores faltantes en features:\n",
      "Variables con datos faltantes:\n",
      "  - Cantidad de Familiares que Consumen: 39998 casos (80.4%)\n",
      "  - Cantidad de Amigos que Consumen: 36191 casos (72.7%)\n",
      "  - Ofertas de Marihuana: 35502 casos (71.4%)\n",
      "  - Ofertas de Cocaína: 35502 casos (71.4%)\n",
      "\n",
      "División de datos completada:\n",
      "   Entrenamiento: 39,804 muestras\n",
      "   Prueba: 9,952 muestras\n",
      "   Prevalencia train: 8.0%\n",
      "   Prevalencia test: 8.0%\n",
      "\n",
      "Top 5 variables más predictivas:\n",
      "   1. Curiosidad por Probar (correlación: 0.594)\n",
      "   2. Disposición a Consumir (correlación: 0.530)\n",
      "   3. Tuvo Oportunidad de Probar (correlación: 0.411)\n",
      "   4. Amigos Consumen Sustancias (correlación: 0.290)\n",
      "   5. Ofertas Recibidas (Último Año) (correlación: 0.283)\n",
      "\n",
      "Datos preparados para siguiente commit:\n",
      "   Variables objetivo y predictoras definidas con nombres legibles\n",
      "   Datos limpios y filtrados\n",
      "   División train/test realizada\n",
      "   14 features listas para modelos\n",
      "   Pendiente: Encoding, normalización y modelos\n"
     ]
    }
   ],
   "source": [
    "# Preparación básica para ML (siguiendo estructura del profesor)\n",
    "print(\"Preparación básica para Machine Learning\")\n",
    "print(\"=\" * 45)\n",
    "\n",
    "# 1. Seleccionar features válidas para el modelo\n",
    "features_para_modelo = []\n",
    "\n",
    "# Agregar variables categóricas disponibles\n",
    "for var in categorical_features:\n",
    "    if var in df_clean.columns:\n",
    "        features_para_modelo.append(var)\n",
    "\n",
    "# Agregar variables numéricas disponibles  \n",
    "for var in numerical_features:\n",
    "    if var in df_clean.columns:\n",
    "        features_para_modelo.append(var)\n",
    "\n",
    "print(f\"Features seleccionadas para modelo: {len(features_para_modelo)}\")\n",
    "print(f\"\\nVariables categóricas incluidas:\")\n",
    "cat_included = [var for var in categorical_features if var in df_clean.columns]\n",
    "for i, var in enumerate(cat_included, 1):\n",
    "    print(f\"   {i}. {get_readable_name(var)}\")\n",
    "\n",
    "print(f\"\\nVariables numéricas incluidas:\")\n",
    "num_included = [var for var in numerical_features if var in df_clean.columns]\n",
    "for i, var in enumerate(num_included, 1):\n",
    "    print(f\"   {i}. {get_readable_name(var)}\")\n",
    "\n",
    "# 2. Crear matrices X e y\n",
    "X = df_clean[features_para_modelo].copy()\n",
    "y = df_clean['target_binary'].copy()\n",
    "\n",
    "print(f\"\\nDimensiones finales:\")\n",
    "print(f\"   X (features): {X.shape}\")\n",
    "print(f\"   y (target): {y.shape}\")\n",
    "\n",
    "# 3. Verificar valores faltantes en features\n",
    "print(f\"\\nValores faltantes en features:\")\n",
    "missing_in_features = X.isnull().sum()\n",
    "if missing_in_features.sum() > 0:\n",
    "    print(\"Variables con datos faltantes:\")\n",
    "    for var, missing in missing_in_features[missing_in_features > 0].items():\n",
    "        pct_missing = (missing / len(X)) * 100\n",
    "        print(f\"  - {get_readable_name(var)}: {missing} casos ({pct_missing:.1f}%)\")\n",
    "else:\n",
    "    print(\"No hay valores faltantes en las features seleccionadas\")\n",
    "\n",
    "# 4. División train/test básica (80/20)\n",
    "X_train, X_test, y_train, y_test = train_test_split(\n",
    "    X, y, \n",
    "    test_size=0.2, \n",
    "    random_state=42, \n",
    "    stratify=y  # Mantener proporción de clases\n",
    ")\n",
    "\n",
    "print(f\"\\nDivisión de datos completada:\")\n",
    "print(f\"   Entrenamiento: {X_train.shape[0]:,} muestras\")\n",
    "print(f\"   Prueba: {X_test.shape[0]:,} muestras\")\n",
    "print(f\"   Prevalencia train: {y_train.mean()*100:.1f}%\")\n",
    "print(f\"   Prevalencia test: {y_test.mean()*100:.1f}%\")\n",
    "\n",
    "# 5. Resumen de variables más importantes para el modelo\n",
    "if 'correlations_sorted' in globals():\n",
    "    print(f\"\\nTop 5 variables más predictivas:\")\n",
    "    for i, (var, corr) in enumerate(correlations_sorted.head(5).items(), 1):\n",
    "        clean_var = var.replace('_binary', '')\n",
    "        readable_name = get_readable_name(clean_var)\n",
    "        print(f\"   {i}. {readable_name} (correlación: {corr:.3f})\")\n",
    "\n",
    "# 6. Guardar información para siguientes pasos\n",
    "print(f\"\\nDatos preparados para siguiente commit:\")\n",
    "print(f\"   Variables objetivo y predictoras definidas con nombres legibles\")\n",
    "print(f\"   Datos limpios y filtrados\") \n",
    "print(f\"   División train/test realizada\")\n",
    "print(f\"   {len(features_para_modelo)} features listas para modelos\")\n",
    "print(f\"   Pendiente: Encoding, normalización y modelos\")"
   ]
  },
  {
   "cell_type": "markdown",
   "id": "22ae53e2",
   "metadata": {},
   "source": [
    "## 7. Visualización exploratoria básica"
   ]
  },
  {
   "cell_type": "code",
   "execution_count": 32,
   "id": "2713cd5e",
   "metadata": {},
   "outputs": [
    {
     "name": "stdout",
     "output_type": "stream",
     "text": [
      "Visualización exploratoria básica\n",
      "========================================\n"
     ]
    },
    {
     "data": {
      "application/vnd.plotly.v1+json": {
       "config": {
        "plotlyServerURL": "https://plot.ly"
       },
       "data": [
        {
         "hovertemplate": "Categoría=%{x}<br>Número de casos=%{y}<br>text=%{text}<br>color=%{marker.color}<extra></extra>",
         "legendgroup": "",
         "marker": {
          "color": {
           "bdata": "zrIAAI4PAAA=",
           "dtype": "i4"
          },
          "coloraxis": "coloraxis",
          "pattern": {
           "shape": ""
          }
         },
         "name": "",
         "orientation": "v",
         "showlegend": false,
         "text": [
          "45,774",
          "3,982"
         ],
         "textposition": "outside",
         "type": "bar",
         "x": [
          "No Consume",
          "Consume"
         ],
         "xaxis": "x",
         "y": {
          "bdata": "zrIAAI4PAAA=",
          "dtype": "i4"
         },
         "yaxis": "y"
        }
       ],
       "layout": {
        "barmode": "relative",
        "coloraxis": {
         "colorbar": {
          "title": {
           "text": "color"
          }
         },
         "colorscale": [
          [
           0,
           "rgb(247,251,255)"
          ],
          [
           0.125,
           "rgb(222,235,247)"
          ],
          [
           0.25,
           "rgb(198,219,239)"
          ],
          [
           0.375,
           "rgb(158,202,225)"
          ],
          [
           0.5,
           "rgb(107,174,214)"
          ],
          [
           0.625,
           "rgb(66,146,198)"
          ],
          [
           0.75,
           "rgb(33,113,181)"
          ],
          [
           0.875,
           "rgb(8,81,156)"
          ],
          [
           1,
           "rgb(8,48,107)"
          ]
         ]
        },
        "height": 400,
        "legend": {
         "tracegroupgap": 0
        },
        "showlegend": false,
        "template": {
         "data": {
          "bar": [
           {
            "error_x": {
             "color": "#2a3f5f"
            },
            "error_y": {
             "color": "#2a3f5f"
            },
            "marker": {
             "line": {
              "color": "#E5ECF6",
              "width": 0.5
             },
             "pattern": {
              "fillmode": "overlay",
              "size": 10,
              "solidity": 0.2
             }
            },
            "type": "bar"
           }
          ],
          "barpolar": [
           {
            "marker": {
             "line": {
              "color": "#E5ECF6",
              "width": 0.5
             },
             "pattern": {
              "fillmode": "overlay",
              "size": 10,
              "solidity": 0.2
             }
            },
            "type": "barpolar"
           }
          ],
          "carpet": [
           {
            "aaxis": {
             "endlinecolor": "#2a3f5f",
             "gridcolor": "white",
             "linecolor": "white",
             "minorgridcolor": "white",
             "startlinecolor": "#2a3f5f"
            },
            "baxis": {
             "endlinecolor": "#2a3f5f",
             "gridcolor": "white",
             "linecolor": "white",
             "minorgridcolor": "white",
             "startlinecolor": "#2a3f5f"
            },
            "type": "carpet"
           }
          ],
          "choropleth": [
           {
            "colorbar": {
             "outlinewidth": 0,
             "ticks": ""
            },
            "type": "choropleth"
           }
          ],
          "contour": [
           {
            "colorbar": {
             "outlinewidth": 0,
             "ticks": ""
            },
            "colorscale": [
             [
              0,
              "#0d0887"
             ],
             [
              0.1111111111111111,
              "#46039f"
             ],
             [
              0.2222222222222222,
              "#7201a8"
             ],
             [
              0.3333333333333333,
              "#9c179e"
             ],
             [
              0.4444444444444444,
              "#bd3786"
             ],
             [
              0.5555555555555556,
              "#d8576b"
             ],
             [
              0.6666666666666666,
              "#ed7953"
             ],
             [
              0.7777777777777778,
              "#fb9f3a"
             ],
             [
              0.8888888888888888,
              "#fdca26"
             ],
             [
              1,
              "#f0f921"
             ]
            ],
            "type": "contour"
           }
          ],
          "contourcarpet": [
           {
            "colorbar": {
             "outlinewidth": 0,
             "ticks": ""
            },
            "type": "contourcarpet"
           }
          ],
          "heatmap": [
           {
            "colorbar": {
             "outlinewidth": 0,
             "ticks": ""
            },
            "colorscale": [
             [
              0,
              "#0d0887"
             ],
             [
              0.1111111111111111,
              "#46039f"
             ],
             [
              0.2222222222222222,
              "#7201a8"
             ],
             [
              0.3333333333333333,
              "#9c179e"
             ],
             [
              0.4444444444444444,
              "#bd3786"
             ],
             [
              0.5555555555555556,
              "#d8576b"
             ],
             [
              0.6666666666666666,
              "#ed7953"
             ],
             [
              0.7777777777777778,
              "#fb9f3a"
             ],
             [
              0.8888888888888888,
              "#fdca26"
             ],
             [
              1,
              "#f0f921"
             ]
            ],
            "type": "heatmap"
           }
          ],
          "histogram": [
           {
            "marker": {
             "pattern": {
              "fillmode": "overlay",
              "size": 10,
              "solidity": 0.2
             }
            },
            "type": "histogram"
           }
          ],
          "histogram2d": [
           {
            "colorbar": {
             "outlinewidth": 0,
             "ticks": ""
            },
            "colorscale": [
             [
              0,
              "#0d0887"
             ],
             [
              0.1111111111111111,
              "#46039f"
             ],
             [
              0.2222222222222222,
              "#7201a8"
             ],
             [
              0.3333333333333333,
              "#9c179e"
             ],
             [
              0.4444444444444444,
              "#bd3786"
             ],
             [
              0.5555555555555556,
              "#d8576b"
             ],
             [
              0.6666666666666666,
              "#ed7953"
             ],
             [
              0.7777777777777778,
              "#fb9f3a"
             ],
             [
              0.8888888888888888,
              "#fdca26"
             ],
             [
              1,
              "#f0f921"
             ]
            ],
            "type": "histogram2d"
           }
          ],
          "histogram2dcontour": [
           {
            "colorbar": {
             "outlinewidth": 0,
             "ticks": ""
            },
            "colorscale": [
             [
              0,
              "#0d0887"
             ],
             [
              0.1111111111111111,
              "#46039f"
             ],
             [
              0.2222222222222222,
              "#7201a8"
             ],
             [
              0.3333333333333333,
              "#9c179e"
             ],
             [
              0.4444444444444444,
              "#bd3786"
             ],
             [
              0.5555555555555556,
              "#d8576b"
             ],
             [
              0.6666666666666666,
              "#ed7953"
             ],
             [
              0.7777777777777778,
              "#fb9f3a"
             ],
             [
              0.8888888888888888,
              "#fdca26"
             ],
             [
              1,
              "#f0f921"
             ]
            ],
            "type": "histogram2dcontour"
           }
          ],
          "mesh3d": [
           {
            "colorbar": {
             "outlinewidth": 0,
             "ticks": ""
            },
            "type": "mesh3d"
           }
          ],
          "parcoords": [
           {
            "line": {
             "colorbar": {
              "outlinewidth": 0,
              "ticks": ""
             }
            },
            "type": "parcoords"
           }
          ],
          "pie": [
           {
            "automargin": true,
            "type": "pie"
           }
          ],
          "scatter": [
           {
            "fillpattern": {
             "fillmode": "overlay",
             "size": 10,
             "solidity": 0.2
            },
            "type": "scatter"
           }
          ],
          "scatter3d": [
           {
            "line": {
             "colorbar": {
              "outlinewidth": 0,
              "ticks": ""
             }
            },
            "marker": {
             "colorbar": {
              "outlinewidth": 0,
              "ticks": ""
             }
            },
            "type": "scatter3d"
           }
          ],
          "scattercarpet": [
           {
            "marker": {
             "colorbar": {
              "outlinewidth": 0,
              "ticks": ""
             }
            },
            "type": "scattercarpet"
           }
          ],
          "scattergeo": [
           {
            "marker": {
             "colorbar": {
              "outlinewidth": 0,
              "ticks": ""
             }
            },
            "type": "scattergeo"
           }
          ],
          "scattergl": [
           {
            "marker": {
             "colorbar": {
              "outlinewidth": 0,
              "ticks": ""
             }
            },
            "type": "scattergl"
           }
          ],
          "scattermap": [
           {
            "marker": {
             "colorbar": {
              "outlinewidth": 0,
              "ticks": ""
             }
            },
            "type": "scattermap"
           }
          ],
          "scattermapbox": [
           {
            "marker": {
             "colorbar": {
              "outlinewidth": 0,
              "ticks": ""
             }
            },
            "type": "scattermapbox"
           }
          ],
          "scatterpolar": [
           {
            "marker": {
             "colorbar": {
              "outlinewidth": 0,
              "ticks": ""
             }
            },
            "type": "scatterpolar"
           }
          ],
          "scatterpolargl": [
           {
            "marker": {
             "colorbar": {
              "outlinewidth": 0,
              "ticks": ""
             }
            },
            "type": "scatterpolargl"
           }
          ],
          "scatterternary": [
           {
            "marker": {
             "colorbar": {
              "outlinewidth": 0,
              "ticks": ""
             }
            },
            "type": "scatterternary"
           }
          ],
          "surface": [
           {
            "colorbar": {
             "outlinewidth": 0,
             "ticks": ""
            },
            "colorscale": [
             [
              0,
              "#0d0887"
             ],
             [
              0.1111111111111111,
              "#46039f"
             ],
             [
              0.2222222222222222,
              "#7201a8"
             ],
             [
              0.3333333333333333,
              "#9c179e"
             ],
             [
              0.4444444444444444,
              "#bd3786"
             ],
             [
              0.5555555555555556,
              "#d8576b"
             ],
             [
              0.6666666666666666,
              "#ed7953"
             ],
             [
              0.7777777777777778,
              "#fb9f3a"
             ],
             [
              0.8888888888888888,
              "#fdca26"
             ],
             [
              1,
              "#f0f921"
             ]
            ],
            "type": "surface"
           }
          ],
          "table": [
           {
            "cells": {
             "fill": {
              "color": "#EBF0F8"
             },
             "line": {
              "color": "white"
             }
            },
            "header": {
             "fill": {
              "color": "#C8D4E3"
             },
             "line": {
              "color": "white"
             }
            },
            "type": "table"
           }
          ]
         },
         "layout": {
          "annotationdefaults": {
           "arrowcolor": "#2a3f5f",
           "arrowhead": 0,
           "arrowwidth": 1
          },
          "autotypenumbers": "strict",
          "coloraxis": {
           "colorbar": {
            "outlinewidth": 0,
            "ticks": ""
           }
          },
          "colorscale": {
           "diverging": [
            [
             0,
             "#8e0152"
            ],
            [
             0.1,
             "#c51b7d"
            ],
            [
             0.2,
             "#de77ae"
            ],
            [
             0.3,
             "#f1b6da"
            ],
            [
             0.4,
             "#fde0ef"
            ],
            [
             0.5,
             "#f7f7f7"
            ],
            [
             0.6,
             "#e6f5d0"
            ],
            [
             0.7,
             "#b8e186"
            ],
            [
             0.8,
             "#7fbc41"
            ],
            [
             0.9,
             "#4d9221"
            ],
            [
             1,
             "#276419"
            ]
           ],
           "sequential": [
            [
             0,
             "#0d0887"
            ],
            [
             0.1111111111111111,
             "#46039f"
            ],
            [
             0.2222222222222222,
             "#7201a8"
            ],
            [
             0.3333333333333333,
             "#9c179e"
            ],
            [
             0.4444444444444444,
             "#bd3786"
            ],
            [
             0.5555555555555556,
             "#d8576b"
            ],
            [
             0.6666666666666666,
             "#ed7953"
            ],
            [
             0.7777777777777778,
             "#fb9f3a"
            ],
            [
             0.8888888888888888,
             "#fdca26"
            ],
            [
             1,
             "#f0f921"
            ]
           ],
           "sequentialminus": [
            [
             0,
             "#0d0887"
            ],
            [
             0.1111111111111111,
             "#46039f"
            ],
            [
             0.2222222222222222,
             "#7201a8"
            ],
            [
             0.3333333333333333,
             "#9c179e"
            ],
            [
             0.4444444444444444,
             "#bd3786"
            ],
            [
             0.5555555555555556,
             "#d8576b"
            ],
            [
             0.6666666666666666,
             "#ed7953"
            ],
            [
             0.7777777777777778,
             "#fb9f3a"
            ],
            [
             0.8888888888888888,
             "#fdca26"
            ],
            [
             1,
             "#f0f921"
            ]
           ]
          },
          "colorway": [
           "#636efa",
           "#EF553B",
           "#00cc96",
           "#ab63fa",
           "#FFA15A",
           "#19d3f3",
           "#FF6692",
           "#B6E880",
           "#FF97FF",
           "#FECB52"
          ],
          "font": {
           "color": "#2a3f5f"
          },
          "geo": {
           "bgcolor": "white",
           "lakecolor": "white",
           "landcolor": "#E5ECF6",
           "showlakes": true,
           "showland": true,
           "subunitcolor": "white"
          },
          "hoverlabel": {
           "align": "left"
          },
          "hovermode": "closest",
          "mapbox": {
           "style": "light"
          },
          "paper_bgcolor": "white",
          "plot_bgcolor": "#E5ECF6",
          "polar": {
           "angularaxis": {
            "gridcolor": "white",
            "linecolor": "white",
            "ticks": ""
           },
           "bgcolor": "#E5ECF6",
           "radialaxis": {
            "gridcolor": "white",
            "linecolor": "white",
            "ticks": ""
           }
          },
          "scene": {
           "xaxis": {
            "backgroundcolor": "#E5ECF6",
            "gridcolor": "white",
            "gridwidth": 2,
            "linecolor": "white",
            "showbackground": true,
            "ticks": "",
            "zerolinecolor": "white"
           },
           "yaxis": {
            "backgroundcolor": "#E5ECF6",
            "gridcolor": "white",
            "gridwidth": 2,
            "linecolor": "white",
            "showbackground": true,
            "ticks": "",
            "zerolinecolor": "white"
           },
           "zaxis": {
            "backgroundcolor": "#E5ECF6",
            "gridcolor": "white",
            "gridwidth": 2,
            "linecolor": "white",
            "showbackground": true,
            "ticks": "",
            "zerolinecolor": "white"
           }
          },
          "shapedefaults": {
           "line": {
            "color": "#2a3f5f"
           }
          },
          "ternary": {
           "aaxis": {
            "gridcolor": "white",
            "linecolor": "white",
            "ticks": ""
           },
           "baxis": {
            "gridcolor": "white",
            "linecolor": "white",
            "ticks": ""
           },
           "bgcolor": "#E5ECF6",
           "caxis": {
            "gridcolor": "white",
            "linecolor": "white",
            "ticks": ""
           }
          },
          "title": {
           "x": 0.05
          },
          "xaxis": {
           "automargin": true,
           "gridcolor": "white",
           "linecolor": "white",
           "ticks": "",
           "title": {
            "standoff": 15
           },
           "zerolinecolor": "white",
           "zerolinewidth": 2
          },
          "yaxis": {
           "automargin": true,
           "gridcolor": "white",
           "linecolor": "white",
           "ticks": "",
           "title": {
            "standoff": 15
           },
           "zerolinecolor": "white",
           "zerolinewidth": 2
          }
         }
        },
        "title": {
         "text": "Distribución de Consumo de Marihuana"
        },
        "xaxis": {
         "anchor": "y",
         "domain": [
          0,
          1
         ],
         "title": {
          "text": "Categoría"
         }
        },
        "yaxis": {
         "anchor": "x",
         "domain": [
          0,
          1
         ],
         "title": {
          "text": "Número de casos"
         }
        }
       }
      }
     },
     "metadata": {},
     "output_type": "display_data"
    },
    {
     "data": {
      "application/vnd.plotly.v1+json": {
       "config": {
        "plotlyServerURL": "https://plot.ly"
       },
       "data": [
        {
         "name": "Curiosidad por Probar",
         "text": [
          "8,188",
          "41,568"
         ],
         "textposition": "outside",
         "type": "bar",
         "x": [
          "Sí",
          "No"
         ],
         "xaxis": "x",
         "y": {
          "bdata": "/B8AAGCiAAA=",
          "dtype": "i4"
         },
         "yaxis": "y"
        },
        {
         "name": "Disposición a Consumir",
         "text": [
          "2,595",
          "47,161"
         ],
         "textposition": "outside",
         "type": "bar",
         "x": [
          "Sí",
          "No"
         ],
         "xaxis": "x2",
         "y": {
          "bdata": "IwoAADm4AAA=",
          "dtype": "i4"
         },
         "yaxis": "y2"
        }
       ],
       "layout": {
        "annotations": [
         {
          "font": {
           "size": 16
          },
          "showarrow": false,
          "text": "Curiosidad por Probar",
          "x": 0.225,
          "xanchor": "center",
          "xref": "paper",
          "y": 1,
          "yanchor": "bottom",
          "yref": "paper"
         },
         {
          "font": {
           "size": 16
          },
          "showarrow": false,
          "text": "Disposición a Consumir",
          "x": 0.775,
          "xanchor": "center",
          "xref": "paper",
          "y": 1,
          "yanchor": "bottom",
          "yref": "paper"
         }
        ],
        "height": 400,
        "showlegend": false,
        "template": {
         "data": {
          "bar": [
           {
            "error_x": {
             "color": "#2a3f5f"
            },
            "error_y": {
             "color": "#2a3f5f"
            },
            "marker": {
             "line": {
              "color": "#E5ECF6",
              "width": 0.5
             },
             "pattern": {
              "fillmode": "overlay",
              "size": 10,
              "solidity": 0.2
             }
            },
            "type": "bar"
           }
          ],
          "barpolar": [
           {
            "marker": {
             "line": {
              "color": "#E5ECF6",
              "width": 0.5
             },
             "pattern": {
              "fillmode": "overlay",
              "size": 10,
              "solidity": 0.2
             }
            },
            "type": "barpolar"
           }
          ],
          "carpet": [
           {
            "aaxis": {
             "endlinecolor": "#2a3f5f",
             "gridcolor": "white",
             "linecolor": "white",
             "minorgridcolor": "white",
             "startlinecolor": "#2a3f5f"
            },
            "baxis": {
             "endlinecolor": "#2a3f5f",
             "gridcolor": "white",
             "linecolor": "white",
             "minorgridcolor": "white",
             "startlinecolor": "#2a3f5f"
            },
            "type": "carpet"
           }
          ],
          "choropleth": [
           {
            "colorbar": {
             "outlinewidth": 0,
             "ticks": ""
            },
            "type": "choropleth"
           }
          ],
          "contour": [
           {
            "colorbar": {
             "outlinewidth": 0,
             "ticks": ""
            },
            "colorscale": [
             [
              0,
              "#0d0887"
             ],
             [
              0.1111111111111111,
              "#46039f"
             ],
             [
              0.2222222222222222,
              "#7201a8"
             ],
             [
              0.3333333333333333,
              "#9c179e"
             ],
             [
              0.4444444444444444,
              "#bd3786"
             ],
             [
              0.5555555555555556,
              "#d8576b"
             ],
             [
              0.6666666666666666,
              "#ed7953"
             ],
             [
              0.7777777777777778,
              "#fb9f3a"
             ],
             [
              0.8888888888888888,
              "#fdca26"
             ],
             [
              1,
              "#f0f921"
             ]
            ],
            "type": "contour"
           }
          ],
          "contourcarpet": [
           {
            "colorbar": {
             "outlinewidth": 0,
             "ticks": ""
            },
            "type": "contourcarpet"
           }
          ],
          "heatmap": [
           {
            "colorbar": {
             "outlinewidth": 0,
             "ticks": ""
            },
            "colorscale": [
             [
              0,
              "#0d0887"
             ],
             [
              0.1111111111111111,
              "#46039f"
             ],
             [
              0.2222222222222222,
              "#7201a8"
             ],
             [
              0.3333333333333333,
              "#9c179e"
             ],
             [
              0.4444444444444444,
              "#bd3786"
             ],
             [
              0.5555555555555556,
              "#d8576b"
             ],
             [
              0.6666666666666666,
              "#ed7953"
             ],
             [
              0.7777777777777778,
              "#fb9f3a"
             ],
             [
              0.8888888888888888,
              "#fdca26"
             ],
             [
              1,
              "#f0f921"
             ]
            ],
            "type": "heatmap"
           }
          ],
          "histogram": [
           {
            "marker": {
             "pattern": {
              "fillmode": "overlay",
              "size": 10,
              "solidity": 0.2
             }
            },
            "type": "histogram"
           }
          ],
          "histogram2d": [
           {
            "colorbar": {
             "outlinewidth": 0,
             "ticks": ""
            },
            "colorscale": [
             [
              0,
              "#0d0887"
             ],
             [
              0.1111111111111111,
              "#46039f"
             ],
             [
              0.2222222222222222,
              "#7201a8"
             ],
             [
              0.3333333333333333,
              "#9c179e"
             ],
             [
              0.4444444444444444,
              "#bd3786"
             ],
             [
              0.5555555555555556,
              "#d8576b"
             ],
             [
              0.6666666666666666,
              "#ed7953"
             ],
             [
              0.7777777777777778,
              "#fb9f3a"
             ],
             [
              0.8888888888888888,
              "#fdca26"
             ],
             [
              1,
              "#f0f921"
             ]
            ],
            "type": "histogram2d"
           }
          ],
          "histogram2dcontour": [
           {
            "colorbar": {
             "outlinewidth": 0,
             "ticks": ""
            },
            "colorscale": [
             [
              0,
              "#0d0887"
             ],
             [
              0.1111111111111111,
              "#46039f"
             ],
             [
              0.2222222222222222,
              "#7201a8"
             ],
             [
              0.3333333333333333,
              "#9c179e"
             ],
             [
              0.4444444444444444,
              "#bd3786"
             ],
             [
              0.5555555555555556,
              "#d8576b"
             ],
             [
              0.6666666666666666,
              "#ed7953"
             ],
             [
              0.7777777777777778,
              "#fb9f3a"
             ],
             [
              0.8888888888888888,
              "#fdca26"
             ],
             [
              1,
              "#f0f921"
             ]
            ],
            "type": "histogram2dcontour"
           }
          ],
          "mesh3d": [
           {
            "colorbar": {
             "outlinewidth": 0,
             "ticks": ""
            },
            "type": "mesh3d"
           }
          ],
          "parcoords": [
           {
            "line": {
             "colorbar": {
              "outlinewidth": 0,
              "ticks": ""
             }
            },
            "type": "parcoords"
           }
          ],
          "pie": [
           {
            "automargin": true,
            "type": "pie"
           }
          ],
          "scatter": [
           {
            "fillpattern": {
             "fillmode": "overlay",
             "size": 10,
             "solidity": 0.2
            },
            "type": "scatter"
           }
          ],
          "scatter3d": [
           {
            "line": {
             "colorbar": {
              "outlinewidth": 0,
              "ticks": ""
             }
            },
            "marker": {
             "colorbar": {
              "outlinewidth": 0,
              "ticks": ""
             }
            },
            "type": "scatter3d"
           }
          ],
          "scattercarpet": [
           {
            "marker": {
             "colorbar": {
              "outlinewidth": 0,
              "ticks": ""
             }
            },
            "type": "scattercarpet"
           }
          ],
          "scattergeo": [
           {
            "marker": {
             "colorbar": {
              "outlinewidth": 0,
              "ticks": ""
             }
            },
            "type": "scattergeo"
           }
          ],
          "scattergl": [
           {
            "marker": {
             "colorbar": {
              "outlinewidth": 0,
              "ticks": ""
             }
            },
            "type": "scattergl"
           }
          ],
          "scattermap": [
           {
            "marker": {
             "colorbar": {
              "outlinewidth": 0,
              "ticks": ""
             }
            },
            "type": "scattermap"
           }
          ],
          "scattermapbox": [
           {
            "marker": {
             "colorbar": {
              "outlinewidth": 0,
              "ticks": ""
             }
            },
            "type": "scattermapbox"
           }
          ],
          "scatterpolar": [
           {
            "marker": {
             "colorbar": {
              "outlinewidth": 0,
              "ticks": ""
             }
            },
            "type": "scatterpolar"
           }
          ],
          "scatterpolargl": [
           {
            "marker": {
             "colorbar": {
              "outlinewidth": 0,
              "ticks": ""
             }
            },
            "type": "scatterpolargl"
           }
          ],
          "scatterternary": [
           {
            "marker": {
             "colorbar": {
              "outlinewidth": 0,
              "ticks": ""
             }
            },
            "type": "scatterternary"
           }
          ],
          "surface": [
           {
            "colorbar": {
             "outlinewidth": 0,
             "ticks": ""
            },
            "colorscale": [
             [
              0,
              "#0d0887"
             ],
             [
              0.1111111111111111,
              "#46039f"
             ],
             [
              0.2222222222222222,
              "#7201a8"
             ],
             [
              0.3333333333333333,
              "#9c179e"
             ],
             [
              0.4444444444444444,
              "#bd3786"
             ],
             [
              0.5555555555555556,
              "#d8576b"
             ],
             [
              0.6666666666666666,
              "#ed7953"
             ],
             [
              0.7777777777777778,
              "#fb9f3a"
             ],
             [
              0.8888888888888888,
              "#fdca26"
             ],
             [
              1,
              "#f0f921"
             ]
            ],
            "type": "surface"
           }
          ],
          "table": [
           {
            "cells": {
             "fill": {
              "color": "#EBF0F8"
             },
             "line": {
              "color": "white"
             }
            },
            "header": {
             "fill": {
              "color": "#C8D4E3"
             },
             "line": {
              "color": "white"
             }
            },
            "type": "table"
           }
          ]
         },
         "layout": {
          "annotationdefaults": {
           "arrowcolor": "#2a3f5f",
           "arrowhead": 0,
           "arrowwidth": 1
          },
          "autotypenumbers": "strict",
          "coloraxis": {
           "colorbar": {
            "outlinewidth": 0,
            "ticks": ""
           }
          },
          "colorscale": {
           "diverging": [
            [
             0,
             "#8e0152"
            ],
            [
             0.1,
             "#c51b7d"
            ],
            [
             0.2,
             "#de77ae"
            ],
            [
             0.3,
             "#f1b6da"
            ],
            [
             0.4,
             "#fde0ef"
            ],
            [
             0.5,
             "#f7f7f7"
            ],
            [
             0.6,
             "#e6f5d0"
            ],
            [
             0.7,
             "#b8e186"
            ],
            [
             0.8,
             "#7fbc41"
            ],
            [
             0.9,
             "#4d9221"
            ],
            [
             1,
             "#276419"
            ]
           ],
           "sequential": [
            [
             0,
             "#0d0887"
            ],
            [
             0.1111111111111111,
             "#46039f"
            ],
            [
             0.2222222222222222,
             "#7201a8"
            ],
            [
             0.3333333333333333,
             "#9c179e"
            ],
            [
             0.4444444444444444,
             "#bd3786"
            ],
            [
             0.5555555555555556,
             "#d8576b"
            ],
            [
             0.6666666666666666,
             "#ed7953"
            ],
            [
             0.7777777777777778,
             "#fb9f3a"
            ],
            [
             0.8888888888888888,
             "#fdca26"
            ],
            [
             1,
             "#f0f921"
            ]
           ],
           "sequentialminus": [
            [
             0,
             "#0d0887"
            ],
            [
             0.1111111111111111,
             "#46039f"
            ],
            [
             0.2222222222222222,
             "#7201a8"
            ],
            [
             0.3333333333333333,
             "#9c179e"
            ],
            [
             0.4444444444444444,
             "#bd3786"
            ],
            [
             0.5555555555555556,
             "#d8576b"
            ],
            [
             0.6666666666666666,
             "#ed7953"
            ],
            [
             0.7777777777777778,
             "#fb9f3a"
            ],
            [
             0.8888888888888888,
             "#fdca26"
            ],
            [
             1,
             "#f0f921"
            ]
           ]
          },
          "colorway": [
           "#636efa",
           "#EF553B",
           "#00cc96",
           "#ab63fa",
           "#FFA15A",
           "#19d3f3",
           "#FF6692",
           "#B6E880",
           "#FF97FF",
           "#FECB52"
          ],
          "font": {
           "color": "#2a3f5f"
          },
          "geo": {
           "bgcolor": "white",
           "lakecolor": "white",
           "landcolor": "#E5ECF6",
           "showlakes": true,
           "showland": true,
           "subunitcolor": "white"
          },
          "hoverlabel": {
           "align": "left"
          },
          "hovermode": "closest",
          "mapbox": {
           "style": "light"
          },
          "paper_bgcolor": "white",
          "plot_bgcolor": "#E5ECF6",
          "polar": {
           "angularaxis": {
            "gridcolor": "white",
            "linecolor": "white",
            "ticks": ""
           },
           "bgcolor": "#E5ECF6",
           "radialaxis": {
            "gridcolor": "white",
            "linecolor": "white",
            "ticks": ""
           }
          },
          "scene": {
           "xaxis": {
            "backgroundcolor": "#E5ECF6",
            "gridcolor": "white",
            "gridwidth": 2,
            "linecolor": "white",
            "showbackground": true,
            "ticks": "",
            "zerolinecolor": "white"
           },
           "yaxis": {
            "backgroundcolor": "#E5ECF6",
            "gridcolor": "white",
            "gridwidth": 2,
            "linecolor": "white",
            "showbackground": true,
            "ticks": "",
            "zerolinecolor": "white"
           },
           "zaxis": {
            "backgroundcolor": "#E5ECF6",
            "gridcolor": "white",
            "gridwidth": 2,
            "linecolor": "white",
            "showbackground": true,
            "ticks": "",
            "zerolinecolor": "white"
           }
          },
          "shapedefaults": {
           "line": {
            "color": "#2a3f5f"
           }
          },
          "ternary": {
           "aaxis": {
            "gridcolor": "white",
            "linecolor": "white",
            "ticks": ""
           },
           "baxis": {
            "gridcolor": "white",
            "linecolor": "white",
            "ticks": ""
           },
           "bgcolor": "#E5ECF6",
           "caxis": {
            "gridcolor": "white",
            "linecolor": "white",
            "ticks": ""
           }
          },
          "title": {
           "x": 0.05
          },
          "xaxis": {
           "automargin": true,
           "gridcolor": "white",
           "linecolor": "white",
           "ticks": "",
           "title": {
            "standoff": 15
           },
           "zerolinecolor": "white",
           "zerolinewidth": 2
          },
          "yaxis": {
           "automargin": true,
           "gridcolor": "white",
           "linecolor": "white",
           "ticks": "",
           "title": {
            "standoff": 15
           },
           "zerolinecolor": "white",
           "zerolinewidth": 2
          }
         }
        },
        "title": {
         "text": "Variables Más Predictivas del Entorno Social"
        },
        "xaxis": {
         "anchor": "y",
         "domain": [
          0,
          0.45
         ]
        },
        "xaxis2": {
         "anchor": "y2",
         "domain": [
          0.55,
          1
         ]
        },
        "yaxis": {
         "anchor": "x",
         "domain": [
          0,
          1
         ]
        },
        "yaxis2": {
         "anchor": "x2",
         "domain": [
          0,
          1
         ]
        }
       }
      }
     },
     "metadata": {},
     "output_type": "display_data"
    },
    {
     "data": {
      "application/vnd.plotly.v1+json": {
       "config": {
        "plotlyServerURL": "https://plot.ly"
       },
       "data": [
        {
         "coloraxis": "coloraxis",
         "hovertemplate": "x: %{x}<br>y: %{y}<br>color: %{z}<extra></extra>",
         "name": "0",
         "texttemplate": "%{z:.2f}",
         "type": "heatmap",
         "x": [
          "Curiosidad por Probar",
          "Disposición a Consumir",
          "Tuvo Oportunidad de Probar",
          "Amigos Consumen Sustancias",
          "Ofertas Recibidas (Último Año)",
          "Ofertas de Marihuana",
          "Consumo Marihuana"
         ],
         "xaxis": "x",
         "y": [
          "Curiosidad por Probar",
          "Disposición a Consumir",
          "Tuvo Oportunidad de Probar",
          "Amigos Consumen Sustancias",
          "Ofertas Recibidas (Último Año)",
          "Ofertas de Marihuana",
          "Consumo Marihuana"
         ],
         "yaxis": "y",
         "z": {
          "bdata": "AAAAAAAA8D/r07ql9ZTdPxeVq8AC1d4/b+zVh5oq1D9vFGUdhw3Vv2BJBWvTpsa/YJBQyhn/4j/r07ql9ZTdPwAAAAAAAPA/tefglAHy0z91xBDOaxDQP9sU5mSRoMq/Da53q5OVyL93BQT2GfTgPxeVq8AC1d4/tefglAHy0z8AAAAAAADwP5jLJxtu2NQ/ysSXeUy12793OicQUo/Av2RpnYLPSNo/b+zVh5oq1D91xBDOaxDQP5jLJxtu2NQ/AAAAAAAA8D8dbHkgT4/Rv6LSada+osW/+Yu3AAqP0j9vFGUdhw3Vv9sU5mSRoMq/ysSXeUy1278dbHkgT4/RvwAAAAAAAPA/AAAAAAAA+H+2+jrIBSTSv2BJBWvTpsa/Da53q5OVyL93OicQUo/Av6LSada+osW/AAAAAAAA+H8AAAAAAADwP5le1Ld/zMy/YJBQyhn/4j93BQT2GfTgP2RpnYLPSNo/+Yu3AAqP0j+2+jrIBSTSv5le1Ld/zMy/AAAAAAAA8D8=",
          "dtype": "f8",
          "shape": "7, 7"
         }
        }
       ],
       "layout": {
        "coloraxis": {
         "colorscale": [
          [
           0,
           "rgb(5,48,97)"
          ],
          [
           0.1,
           "rgb(33,102,172)"
          ],
          [
           0.2,
           "rgb(67,147,195)"
          ],
          [
           0.3,
           "rgb(146,197,222)"
          ],
          [
           0.4,
           "rgb(209,229,240)"
          ],
          [
           0.5,
           "rgb(247,247,247)"
          ],
          [
           0.6,
           "rgb(253,219,199)"
          ],
          [
           0.7,
           "rgb(244,165,130)"
          ],
          [
           0.8,
           "rgb(214,96,77)"
          ],
          [
           0.9,
           "rgb(178,24,43)"
          ],
          [
           1,
           "rgb(103,0,31)"
          ]
         ]
        },
        "height": 600,
        "template": {
         "data": {
          "bar": [
           {
            "error_x": {
             "color": "#2a3f5f"
            },
            "error_y": {
             "color": "#2a3f5f"
            },
            "marker": {
             "line": {
              "color": "#E5ECF6",
              "width": 0.5
             },
             "pattern": {
              "fillmode": "overlay",
              "size": 10,
              "solidity": 0.2
             }
            },
            "type": "bar"
           }
          ],
          "barpolar": [
           {
            "marker": {
             "line": {
              "color": "#E5ECF6",
              "width": 0.5
             },
             "pattern": {
              "fillmode": "overlay",
              "size": 10,
              "solidity": 0.2
             }
            },
            "type": "barpolar"
           }
          ],
          "carpet": [
           {
            "aaxis": {
             "endlinecolor": "#2a3f5f",
             "gridcolor": "white",
             "linecolor": "white",
             "minorgridcolor": "white",
             "startlinecolor": "#2a3f5f"
            },
            "baxis": {
             "endlinecolor": "#2a3f5f",
             "gridcolor": "white",
             "linecolor": "white",
             "minorgridcolor": "white",
             "startlinecolor": "#2a3f5f"
            },
            "type": "carpet"
           }
          ],
          "choropleth": [
           {
            "colorbar": {
             "outlinewidth": 0,
             "ticks": ""
            },
            "type": "choropleth"
           }
          ],
          "contour": [
           {
            "colorbar": {
             "outlinewidth": 0,
             "ticks": ""
            },
            "colorscale": [
             [
              0,
              "#0d0887"
             ],
             [
              0.1111111111111111,
              "#46039f"
             ],
             [
              0.2222222222222222,
              "#7201a8"
             ],
             [
              0.3333333333333333,
              "#9c179e"
             ],
             [
              0.4444444444444444,
              "#bd3786"
             ],
             [
              0.5555555555555556,
              "#d8576b"
             ],
             [
              0.6666666666666666,
              "#ed7953"
             ],
             [
              0.7777777777777778,
              "#fb9f3a"
             ],
             [
              0.8888888888888888,
              "#fdca26"
             ],
             [
              1,
              "#f0f921"
             ]
            ],
            "type": "contour"
           }
          ],
          "contourcarpet": [
           {
            "colorbar": {
             "outlinewidth": 0,
             "ticks": ""
            },
            "type": "contourcarpet"
           }
          ],
          "heatmap": [
           {
            "colorbar": {
             "outlinewidth": 0,
             "ticks": ""
            },
            "colorscale": [
             [
              0,
              "#0d0887"
             ],
             [
              0.1111111111111111,
              "#46039f"
             ],
             [
              0.2222222222222222,
              "#7201a8"
             ],
             [
              0.3333333333333333,
              "#9c179e"
             ],
             [
              0.4444444444444444,
              "#bd3786"
             ],
             [
              0.5555555555555556,
              "#d8576b"
             ],
             [
              0.6666666666666666,
              "#ed7953"
             ],
             [
              0.7777777777777778,
              "#fb9f3a"
             ],
             [
              0.8888888888888888,
              "#fdca26"
             ],
             [
              1,
              "#f0f921"
             ]
            ],
            "type": "heatmap"
           }
          ],
          "histogram": [
           {
            "marker": {
             "pattern": {
              "fillmode": "overlay",
              "size": 10,
              "solidity": 0.2
             }
            },
            "type": "histogram"
           }
          ],
          "histogram2d": [
           {
            "colorbar": {
             "outlinewidth": 0,
             "ticks": ""
            },
            "colorscale": [
             [
              0,
              "#0d0887"
             ],
             [
              0.1111111111111111,
              "#46039f"
             ],
             [
              0.2222222222222222,
              "#7201a8"
             ],
             [
              0.3333333333333333,
              "#9c179e"
             ],
             [
              0.4444444444444444,
              "#bd3786"
             ],
             [
              0.5555555555555556,
              "#d8576b"
             ],
             [
              0.6666666666666666,
              "#ed7953"
             ],
             [
              0.7777777777777778,
              "#fb9f3a"
             ],
             [
              0.8888888888888888,
              "#fdca26"
             ],
             [
              1,
              "#f0f921"
             ]
            ],
            "type": "histogram2d"
           }
          ],
          "histogram2dcontour": [
           {
            "colorbar": {
             "outlinewidth": 0,
             "ticks": ""
            },
            "colorscale": [
             [
              0,
              "#0d0887"
             ],
             [
              0.1111111111111111,
              "#46039f"
             ],
             [
              0.2222222222222222,
              "#7201a8"
             ],
             [
              0.3333333333333333,
              "#9c179e"
             ],
             [
              0.4444444444444444,
              "#bd3786"
             ],
             [
              0.5555555555555556,
              "#d8576b"
             ],
             [
              0.6666666666666666,
              "#ed7953"
             ],
             [
              0.7777777777777778,
              "#fb9f3a"
             ],
             [
              0.8888888888888888,
              "#fdca26"
             ],
             [
              1,
              "#f0f921"
             ]
            ],
            "type": "histogram2dcontour"
           }
          ],
          "mesh3d": [
           {
            "colorbar": {
             "outlinewidth": 0,
             "ticks": ""
            },
            "type": "mesh3d"
           }
          ],
          "parcoords": [
           {
            "line": {
             "colorbar": {
              "outlinewidth": 0,
              "ticks": ""
             }
            },
            "type": "parcoords"
           }
          ],
          "pie": [
           {
            "automargin": true,
            "type": "pie"
           }
          ],
          "scatter": [
           {
            "fillpattern": {
             "fillmode": "overlay",
             "size": 10,
             "solidity": 0.2
            },
            "type": "scatter"
           }
          ],
          "scatter3d": [
           {
            "line": {
             "colorbar": {
              "outlinewidth": 0,
              "ticks": ""
             }
            },
            "marker": {
             "colorbar": {
              "outlinewidth": 0,
              "ticks": ""
             }
            },
            "type": "scatter3d"
           }
          ],
          "scattercarpet": [
           {
            "marker": {
             "colorbar": {
              "outlinewidth": 0,
              "ticks": ""
             }
            },
            "type": "scattercarpet"
           }
          ],
          "scattergeo": [
           {
            "marker": {
             "colorbar": {
              "outlinewidth": 0,
              "ticks": ""
             }
            },
            "type": "scattergeo"
           }
          ],
          "scattergl": [
           {
            "marker": {
             "colorbar": {
              "outlinewidth": 0,
              "ticks": ""
             }
            },
            "type": "scattergl"
           }
          ],
          "scattermap": [
           {
            "marker": {
             "colorbar": {
              "outlinewidth": 0,
              "ticks": ""
             }
            },
            "type": "scattermap"
           }
          ],
          "scattermapbox": [
           {
            "marker": {
             "colorbar": {
              "outlinewidth": 0,
              "ticks": ""
             }
            },
            "type": "scattermapbox"
           }
          ],
          "scatterpolar": [
           {
            "marker": {
             "colorbar": {
              "outlinewidth": 0,
              "ticks": ""
             }
            },
            "type": "scatterpolar"
           }
          ],
          "scatterpolargl": [
           {
            "marker": {
             "colorbar": {
              "outlinewidth": 0,
              "ticks": ""
             }
            },
            "type": "scatterpolargl"
           }
          ],
          "scatterternary": [
           {
            "marker": {
             "colorbar": {
              "outlinewidth": 0,
              "ticks": ""
             }
            },
            "type": "scatterternary"
           }
          ],
          "surface": [
           {
            "colorbar": {
             "outlinewidth": 0,
             "ticks": ""
            },
            "colorscale": [
             [
              0,
              "#0d0887"
             ],
             [
              0.1111111111111111,
              "#46039f"
             ],
             [
              0.2222222222222222,
              "#7201a8"
             ],
             [
              0.3333333333333333,
              "#9c179e"
             ],
             [
              0.4444444444444444,
              "#bd3786"
             ],
             [
              0.5555555555555556,
              "#d8576b"
             ],
             [
              0.6666666666666666,
              "#ed7953"
             ],
             [
              0.7777777777777778,
              "#fb9f3a"
             ],
             [
              0.8888888888888888,
              "#fdca26"
             ],
             [
              1,
              "#f0f921"
             ]
            ],
            "type": "surface"
           }
          ],
          "table": [
           {
            "cells": {
             "fill": {
              "color": "#EBF0F8"
             },
             "line": {
              "color": "white"
             }
            },
            "header": {
             "fill": {
              "color": "#C8D4E3"
             },
             "line": {
              "color": "white"
             }
            },
            "type": "table"
           }
          ]
         },
         "layout": {
          "annotationdefaults": {
           "arrowcolor": "#2a3f5f",
           "arrowhead": 0,
           "arrowwidth": 1
          },
          "autotypenumbers": "strict",
          "coloraxis": {
           "colorbar": {
            "outlinewidth": 0,
            "ticks": ""
           }
          },
          "colorscale": {
           "diverging": [
            [
             0,
             "#8e0152"
            ],
            [
             0.1,
             "#c51b7d"
            ],
            [
             0.2,
             "#de77ae"
            ],
            [
             0.3,
             "#f1b6da"
            ],
            [
             0.4,
             "#fde0ef"
            ],
            [
             0.5,
             "#f7f7f7"
            ],
            [
             0.6,
             "#e6f5d0"
            ],
            [
             0.7,
             "#b8e186"
            ],
            [
             0.8,
             "#7fbc41"
            ],
            [
             0.9,
             "#4d9221"
            ],
            [
             1,
             "#276419"
            ]
           ],
           "sequential": [
            [
             0,
             "#0d0887"
            ],
            [
             0.1111111111111111,
             "#46039f"
            ],
            [
             0.2222222222222222,
             "#7201a8"
            ],
            [
             0.3333333333333333,
             "#9c179e"
            ],
            [
             0.4444444444444444,
             "#bd3786"
            ],
            [
             0.5555555555555556,
             "#d8576b"
            ],
            [
             0.6666666666666666,
             "#ed7953"
            ],
            [
             0.7777777777777778,
             "#fb9f3a"
            ],
            [
             0.8888888888888888,
             "#fdca26"
            ],
            [
             1,
             "#f0f921"
            ]
           ],
           "sequentialminus": [
            [
             0,
             "#0d0887"
            ],
            [
             0.1111111111111111,
             "#46039f"
            ],
            [
             0.2222222222222222,
             "#7201a8"
            ],
            [
             0.3333333333333333,
             "#9c179e"
            ],
            [
             0.4444444444444444,
             "#bd3786"
            ],
            [
             0.5555555555555556,
             "#d8576b"
            ],
            [
             0.6666666666666666,
             "#ed7953"
            ],
            [
             0.7777777777777778,
             "#fb9f3a"
            ],
            [
             0.8888888888888888,
             "#fdca26"
            ],
            [
             1,
             "#f0f921"
            ]
           ]
          },
          "colorway": [
           "#636efa",
           "#EF553B",
           "#00cc96",
           "#ab63fa",
           "#FFA15A",
           "#19d3f3",
           "#FF6692",
           "#B6E880",
           "#FF97FF",
           "#FECB52"
          ],
          "font": {
           "color": "#2a3f5f"
          },
          "geo": {
           "bgcolor": "white",
           "lakecolor": "white",
           "landcolor": "#E5ECF6",
           "showlakes": true,
           "showland": true,
           "subunitcolor": "white"
          },
          "hoverlabel": {
           "align": "left"
          },
          "hovermode": "closest",
          "mapbox": {
           "style": "light"
          },
          "paper_bgcolor": "white",
          "plot_bgcolor": "#E5ECF6",
          "polar": {
           "angularaxis": {
            "gridcolor": "white",
            "linecolor": "white",
            "ticks": ""
           },
           "bgcolor": "#E5ECF6",
           "radialaxis": {
            "gridcolor": "white",
            "linecolor": "white",
            "ticks": ""
           }
          },
          "scene": {
           "xaxis": {
            "backgroundcolor": "#E5ECF6",
            "gridcolor": "white",
            "gridwidth": 2,
            "linecolor": "white",
            "showbackground": true,
            "ticks": "",
            "zerolinecolor": "white"
           },
           "yaxis": {
            "backgroundcolor": "#E5ECF6",
            "gridcolor": "white",
            "gridwidth": 2,
            "linecolor": "white",
            "showbackground": true,
            "ticks": "",
            "zerolinecolor": "white"
           },
           "zaxis": {
            "backgroundcolor": "#E5ECF6",
            "gridcolor": "white",
            "gridwidth": 2,
            "linecolor": "white",
            "showbackground": true,
            "ticks": "",
            "zerolinecolor": "white"
           }
          },
          "shapedefaults": {
           "line": {
            "color": "#2a3f5f"
           }
          },
          "ternary": {
           "aaxis": {
            "gridcolor": "white",
            "linecolor": "white",
            "ticks": ""
           },
           "baxis": {
            "gridcolor": "white",
            "linecolor": "white",
            "ticks": ""
           },
           "bgcolor": "#E5ECF6",
           "caxis": {
            "gridcolor": "white",
            "linecolor": "white",
            "ticks": ""
           }
          },
          "title": {
           "x": 0.05
          },
          "xaxis": {
           "automargin": true,
           "gridcolor": "white",
           "linecolor": "white",
           "ticks": "",
           "title": {
            "standoff": 15
           },
           "zerolinecolor": "white",
           "zerolinewidth": 2
          },
          "yaxis": {
           "automargin": true,
           "gridcolor": "white",
           "linecolor": "white",
           "ticks": "",
           "title": {
            "standoff": 15
           },
           "zerolinecolor": "white",
           "zerolinewidth": 2
          }
         }
        },
        "title": {
         "text": "Matriz de Correlación - Variables Más Predictivas"
        },
        "width": 700,
        "xaxis": {
         "anchor": "y",
         "domain": [
          0,
          1
         ],
         "title": {
          "text": "Variables Predictoras"
         }
        },
        "yaxis": {
         "anchor": "x",
         "autorange": "reversed",
         "domain": [
          0,
          1
         ],
         "title": {
          "text": "Variables Predictoras"
         }
        }
       }
      }
     },
     "metadata": {},
     "output_type": "display_data"
    },
    {
     "data": {
      "application/vnd.plotly.v1+json": {
       "config": {
        "plotlyServerURL": "https://plot.ly"
       },
       "data": [
        {
         "hovertemplate": "Correlación (Valor Absoluto)=%{x}<br>Variable Predictora=%{y}<br>text=%{text}<br>color=%{marker.color}<extra></extra>",
         "legendgroup": "",
         "marker": {
          "color": {
           "bdata": "YJBQyhn/4j93BQT2GfTgP2RpnYLPSNo/+Yu3AAqP0j+2+jrIBSTSP5le1Ld/zMw/RIKsDjLHxT+DyznDbknFPw==",
           "dtype": "f8"
          },
          "coloraxis": "coloraxis",
          "pattern": {
           "shape": ""
          }
         },
         "name": "",
         "orientation": "h",
         "showlegend": false,
         "text": [
          "0.594",
          "0.530",
          "0.411",
          "0.290",
          "0.283",
          "0.225",
          "0.170",
          "0.166"
         ],
         "textposition": "outside",
         "type": "bar",
         "x": {
          "bdata": "YJBQyhn/4j93BQT2GfTgP2RpnYLPSNo/+Yu3AAqP0j+2+jrIBSTSP5le1Ld/zMw/RIKsDjLHxT+DyznDbknFPw==",
          "dtype": "f8"
         },
         "xaxis": "x",
         "y": [
          "Curiosidad por Probar",
          "Disposición a Consumir",
          "Tuvo Oportunidad de Probar",
          "Amigos Consumen Sustancias",
          "Ofertas Recibidas (Último Año)",
          "Ofertas de Marihuana",
          "Familiares Consumen Sustancias",
          "Acceso Fácil a Marihuana"
         ],
         "yaxis": "y"
        }
       ],
       "layout": {
        "barmode": "relative",
        "coloraxis": {
         "colorbar": {
          "title": {
           "text": "color"
          }
         },
         "colorscale": [
          [
           0,
           "rgb(255,245,240)"
          ],
          [
           0.125,
           "rgb(254,224,210)"
          ],
          [
           0.25,
           "rgb(252,187,161)"
          ],
          [
           0.375,
           "rgb(252,146,114)"
          ],
          [
           0.5,
           "rgb(251,106,74)"
          ],
          [
           0.625,
           "rgb(239,59,44)"
          ],
          [
           0.75,
           "rgb(203,24,29)"
          ],
          [
           0.875,
           "rgb(165,15,21)"
          ],
          [
           1,
           "rgb(103,0,13)"
          ]
         ]
        },
        "height": 500,
        "legend": {
         "tracegroupgap": 0
        },
        "showlegend": false,
        "template": {
         "data": {
          "bar": [
           {
            "error_x": {
             "color": "#2a3f5f"
            },
            "error_y": {
             "color": "#2a3f5f"
            },
            "marker": {
             "line": {
              "color": "#E5ECF6",
              "width": 0.5
             },
             "pattern": {
              "fillmode": "overlay",
              "size": 10,
              "solidity": 0.2
             }
            },
            "type": "bar"
           }
          ],
          "barpolar": [
           {
            "marker": {
             "line": {
              "color": "#E5ECF6",
              "width": 0.5
             },
             "pattern": {
              "fillmode": "overlay",
              "size": 10,
              "solidity": 0.2
             }
            },
            "type": "barpolar"
           }
          ],
          "carpet": [
           {
            "aaxis": {
             "endlinecolor": "#2a3f5f",
             "gridcolor": "white",
             "linecolor": "white",
             "minorgridcolor": "white",
             "startlinecolor": "#2a3f5f"
            },
            "baxis": {
             "endlinecolor": "#2a3f5f",
             "gridcolor": "white",
             "linecolor": "white",
             "minorgridcolor": "white",
             "startlinecolor": "#2a3f5f"
            },
            "type": "carpet"
           }
          ],
          "choropleth": [
           {
            "colorbar": {
             "outlinewidth": 0,
             "ticks": ""
            },
            "type": "choropleth"
           }
          ],
          "contour": [
           {
            "colorbar": {
             "outlinewidth": 0,
             "ticks": ""
            },
            "colorscale": [
             [
              0,
              "#0d0887"
             ],
             [
              0.1111111111111111,
              "#46039f"
             ],
             [
              0.2222222222222222,
              "#7201a8"
             ],
             [
              0.3333333333333333,
              "#9c179e"
             ],
             [
              0.4444444444444444,
              "#bd3786"
             ],
             [
              0.5555555555555556,
              "#d8576b"
             ],
             [
              0.6666666666666666,
              "#ed7953"
             ],
             [
              0.7777777777777778,
              "#fb9f3a"
             ],
             [
              0.8888888888888888,
              "#fdca26"
             ],
             [
              1,
              "#f0f921"
             ]
            ],
            "type": "contour"
           }
          ],
          "contourcarpet": [
           {
            "colorbar": {
             "outlinewidth": 0,
             "ticks": ""
            },
            "type": "contourcarpet"
           }
          ],
          "heatmap": [
           {
            "colorbar": {
             "outlinewidth": 0,
             "ticks": ""
            },
            "colorscale": [
             [
              0,
              "#0d0887"
             ],
             [
              0.1111111111111111,
              "#46039f"
             ],
             [
              0.2222222222222222,
              "#7201a8"
             ],
             [
              0.3333333333333333,
              "#9c179e"
             ],
             [
              0.4444444444444444,
              "#bd3786"
             ],
             [
              0.5555555555555556,
              "#d8576b"
             ],
             [
              0.6666666666666666,
              "#ed7953"
             ],
             [
              0.7777777777777778,
              "#fb9f3a"
             ],
             [
              0.8888888888888888,
              "#fdca26"
             ],
             [
              1,
              "#f0f921"
             ]
            ],
            "type": "heatmap"
           }
          ],
          "histogram": [
           {
            "marker": {
             "pattern": {
              "fillmode": "overlay",
              "size": 10,
              "solidity": 0.2
             }
            },
            "type": "histogram"
           }
          ],
          "histogram2d": [
           {
            "colorbar": {
             "outlinewidth": 0,
             "ticks": ""
            },
            "colorscale": [
             [
              0,
              "#0d0887"
             ],
             [
              0.1111111111111111,
              "#46039f"
             ],
             [
              0.2222222222222222,
              "#7201a8"
             ],
             [
              0.3333333333333333,
              "#9c179e"
             ],
             [
              0.4444444444444444,
              "#bd3786"
             ],
             [
              0.5555555555555556,
              "#d8576b"
             ],
             [
              0.6666666666666666,
              "#ed7953"
             ],
             [
              0.7777777777777778,
              "#fb9f3a"
             ],
             [
              0.8888888888888888,
              "#fdca26"
             ],
             [
              1,
              "#f0f921"
             ]
            ],
            "type": "histogram2d"
           }
          ],
          "histogram2dcontour": [
           {
            "colorbar": {
             "outlinewidth": 0,
             "ticks": ""
            },
            "colorscale": [
             [
              0,
              "#0d0887"
             ],
             [
              0.1111111111111111,
              "#46039f"
             ],
             [
              0.2222222222222222,
              "#7201a8"
             ],
             [
              0.3333333333333333,
              "#9c179e"
             ],
             [
              0.4444444444444444,
              "#bd3786"
             ],
             [
              0.5555555555555556,
              "#d8576b"
             ],
             [
              0.6666666666666666,
              "#ed7953"
             ],
             [
              0.7777777777777778,
              "#fb9f3a"
             ],
             [
              0.8888888888888888,
              "#fdca26"
             ],
             [
              1,
              "#f0f921"
             ]
            ],
            "type": "histogram2dcontour"
           }
          ],
          "mesh3d": [
           {
            "colorbar": {
             "outlinewidth": 0,
             "ticks": ""
            },
            "type": "mesh3d"
           }
          ],
          "parcoords": [
           {
            "line": {
             "colorbar": {
              "outlinewidth": 0,
              "ticks": ""
             }
            },
            "type": "parcoords"
           }
          ],
          "pie": [
           {
            "automargin": true,
            "type": "pie"
           }
          ],
          "scatter": [
           {
            "fillpattern": {
             "fillmode": "overlay",
             "size": 10,
             "solidity": 0.2
            },
            "type": "scatter"
           }
          ],
          "scatter3d": [
           {
            "line": {
             "colorbar": {
              "outlinewidth": 0,
              "ticks": ""
             }
            },
            "marker": {
             "colorbar": {
              "outlinewidth": 0,
              "ticks": ""
             }
            },
            "type": "scatter3d"
           }
          ],
          "scattercarpet": [
           {
            "marker": {
             "colorbar": {
              "outlinewidth": 0,
              "ticks": ""
             }
            },
            "type": "scattercarpet"
           }
          ],
          "scattergeo": [
           {
            "marker": {
             "colorbar": {
              "outlinewidth": 0,
              "ticks": ""
             }
            },
            "type": "scattergeo"
           }
          ],
          "scattergl": [
           {
            "marker": {
             "colorbar": {
              "outlinewidth": 0,
              "ticks": ""
             }
            },
            "type": "scattergl"
           }
          ],
          "scattermap": [
           {
            "marker": {
             "colorbar": {
              "outlinewidth": 0,
              "ticks": ""
             }
            },
            "type": "scattermap"
           }
          ],
          "scattermapbox": [
           {
            "marker": {
             "colorbar": {
              "outlinewidth": 0,
              "ticks": ""
             }
            },
            "type": "scattermapbox"
           }
          ],
          "scatterpolar": [
           {
            "marker": {
             "colorbar": {
              "outlinewidth": 0,
              "ticks": ""
             }
            },
            "type": "scatterpolar"
           }
          ],
          "scatterpolargl": [
           {
            "marker": {
             "colorbar": {
              "outlinewidth": 0,
              "ticks": ""
             }
            },
            "type": "scatterpolargl"
           }
          ],
          "scatterternary": [
           {
            "marker": {
             "colorbar": {
              "outlinewidth": 0,
              "ticks": ""
             }
            },
            "type": "scatterternary"
           }
          ],
          "surface": [
           {
            "colorbar": {
             "outlinewidth": 0,
             "ticks": ""
            },
            "colorscale": [
             [
              0,
              "#0d0887"
             ],
             [
              0.1111111111111111,
              "#46039f"
             ],
             [
              0.2222222222222222,
              "#7201a8"
             ],
             [
              0.3333333333333333,
              "#9c179e"
             ],
             [
              0.4444444444444444,
              "#bd3786"
             ],
             [
              0.5555555555555556,
              "#d8576b"
             ],
             [
              0.6666666666666666,
              "#ed7953"
             ],
             [
              0.7777777777777778,
              "#fb9f3a"
             ],
             [
              0.8888888888888888,
              "#fdca26"
             ],
             [
              1,
              "#f0f921"
             ]
            ],
            "type": "surface"
           }
          ],
          "table": [
           {
            "cells": {
             "fill": {
              "color": "#EBF0F8"
             },
             "line": {
              "color": "white"
             }
            },
            "header": {
             "fill": {
              "color": "#C8D4E3"
             },
             "line": {
              "color": "white"
             }
            },
            "type": "table"
           }
          ]
         },
         "layout": {
          "annotationdefaults": {
           "arrowcolor": "#2a3f5f",
           "arrowhead": 0,
           "arrowwidth": 1
          },
          "autotypenumbers": "strict",
          "coloraxis": {
           "colorbar": {
            "outlinewidth": 0,
            "ticks": ""
           }
          },
          "colorscale": {
           "diverging": [
            [
             0,
             "#8e0152"
            ],
            [
             0.1,
             "#c51b7d"
            ],
            [
             0.2,
             "#de77ae"
            ],
            [
             0.3,
             "#f1b6da"
            ],
            [
             0.4,
             "#fde0ef"
            ],
            [
             0.5,
             "#f7f7f7"
            ],
            [
             0.6,
             "#e6f5d0"
            ],
            [
             0.7,
             "#b8e186"
            ],
            [
             0.8,
             "#7fbc41"
            ],
            [
             0.9,
             "#4d9221"
            ],
            [
             1,
             "#276419"
            ]
           ],
           "sequential": [
            [
             0,
             "#0d0887"
            ],
            [
             0.1111111111111111,
             "#46039f"
            ],
            [
             0.2222222222222222,
             "#7201a8"
            ],
            [
             0.3333333333333333,
             "#9c179e"
            ],
            [
             0.4444444444444444,
             "#bd3786"
            ],
            [
             0.5555555555555556,
             "#d8576b"
            ],
            [
             0.6666666666666666,
             "#ed7953"
            ],
            [
             0.7777777777777778,
             "#fb9f3a"
            ],
            [
             0.8888888888888888,
             "#fdca26"
            ],
            [
             1,
             "#f0f921"
            ]
           ],
           "sequentialminus": [
            [
             0,
             "#0d0887"
            ],
            [
             0.1111111111111111,
             "#46039f"
            ],
            [
             0.2222222222222222,
             "#7201a8"
            ],
            [
             0.3333333333333333,
             "#9c179e"
            ],
            [
             0.4444444444444444,
             "#bd3786"
            ],
            [
             0.5555555555555556,
             "#d8576b"
            ],
            [
             0.6666666666666666,
             "#ed7953"
            ],
            [
             0.7777777777777778,
             "#fb9f3a"
            ],
            [
             0.8888888888888888,
             "#fdca26"
            ],
            [
             1,
             "#f0f921"
            ]
           ]
          },
          "colorway": [
           "#636efa",
           "#EF553B",
           "#00cc96",
           "#ab63fa",
           "#FFA15A",
           "#19d3f3",
           "#FF6692",
           "#B6E880",
           "#FF97FF",
           "#FECB52"
          ],
          "font": {
           "color": "#2a3f5f"
          },
          "geo": {
           "bgcolor": "white",
           "lakecolor": "white",
           "landcolor": "#E5ECF6",
           "showlakes": true,
           "showland": true,
           "subunitcolor": "white"
          },
          "hoverlabel": {
           "align": "left"
          },
          "hovermode": "closest",
          "mapbox": {
           "style": "light"
          },
          "paper_bgcolor": "white",
          "plot_bgcolor": "#E5ECF6",
          "polar": {
           "angularaxis": {
            "gridcolor": "white",
            "linecolor": "white",
            "ticks": ""
           },
           "bgcolor": "#E5ECF6",
           "radialaxis": {
            "gridcolor": "white",
            "linecolor": "white",
            "ticks": ""
           }
          },
          "scene": {
           "xaxis": {
            "backgroundcolor": "#E5ECF6",
            "gridcolor": "white",
            "gridwidth": 2,
            "linecolor": "white",
            "showbackground": true,
            "ticks": "",
            "zerolinecolor": "white"
           },
           "yaxis": {
            "backgroundcolor": "#E5ECF6",
            "gridcolor": "white",
            "gridwidth": 2,
            "linecolor": "white",
            "showbackground": true,
            "ticks": "",
            "zerolinecolor": "white"
           },
           "zaxis": {
            "backgroundcolor": "#E5ECF6",
            "gridcolor": "white",
            "gridwidth": 2,
            "linecolor": "white",
            "showbackground": true,
            "ticks": "",
            "zerolinecolor": "white"
           }
          },
          "shapedefaults": {
           "line": {
            "color": "#2a3f5f"
           }
          },
          "ternary": {
           "aaxis": {
            "gridcolor": "white",
            "linecolor": "white",
            "ticks": ""
           },
           "baxis": {
            "gridcolor": "white",
            "linecolor": "white",
            "ticks": ""
           },
           "bgcolor": "#E5ECF6",
           "caxis": {
            "gridcolor": "white",
            "linecolor": "white",
            "ticks": ""
           }
          },
          "title": {
           "x": 0.05
          },
          "xaxis": {
           "automargin": true,
           "gridcolor": "white",
           "linecolor": "white",
           "ticks": "",
           "title": {
            "standoff": 15
           },
           "zerolinecolor": "white",
           "zerolinewidth": 2
          },
          "yaxis": {
           "automargin": true,
           "gridcolor": "white",
           "linecolor": "white",
           "ticks": "",
           "title": {
            "standoff": 15
           },
           "zerolinecolor": "white",
           "zerolinewidth": 2
          }
         }
        },
        "title": {
         "text": "Variables Más Correlacionadas con Consumo de Marihuana"
        },
        "xaxis": {
         "anchor": "y",
         "domain": [
          0,
          1
         ],
         "title": {
          "text": "Correlación (Valor Absoluto)"
         }
        },
        "yaxis": {
         "anchor": "x",
         "categoryorder": "total ascending",
         "domain": [
          0,
          1
         ],
         "title": {
          "text": "Variable Predictora"
         }
        }
       }
      }
     },
     "metadata": {},
     "output_type": "display_data"
    },
    {
     "name": "stdout",
     "output_type": "stream",
     "text": [
      "Visualizaciones básicas completadas\n",
      "Todas las gráficas usan nombres legibles y entendibles\n",
      "Análisis más detallado se realizará en próximos commits\n"
     ]
    }
   ],
   "source": [
    "# Visualización exploratoria básica (usando plotly como el profesor)\n",
    "print(\"Visualización exploratoria básica\")\n",
    "print(\"=\" * 40)\n",
    "\n",
    "# 1. Distribución de la variable objetivo\n",
    "fig_target = px.bar(\n",
    "    x=['No Consume', 'Consume'], \n",
    "    y=[len(y) - y.sum(), y.sum()],\n",
    "    title=f'Distribución de {get_readable_name(target_variable)}',\n",
    "    labels={'x': 'Categoría', 'y': 'Número de casos'},\n",
    "    color=[len(y) - y.sum(), y.sum()],\n",
    "    color_continuous_scale='Blues',\n",
    "    text=[f'{len(y) - y.sum():,}', f'{y.sum():,}']\n",
    ")\n",
    "\n",
    "fig_target.update_traces(textposition='outside')\n",
    "fig_target.update_layout(height=400, showlegend=False)\n",
    "fig_target.show()\n",
    "\n",
    "# 2. Análisis de variables categóricas más importantes\n",
    "if 'correlations_sorted' in globals() and len(correlation_vars) >= 2:\n",
    "    # Seleccionar las 2 variables categóricas más correlacionadas\n",
    "    top_categorical = correlations_sorted.head(3).index.tolist()\n",
    "    \n",
    "    # Filtrar solo variables categóricas para el gráfico\n",
    "    categorical_vars_binary = [var for var in top_categorical if '_binary' in var][:2]\n",
    "    \n",
    "    if len(categorical_vars_binary) >= 2:\n",
    "        # Crear gráfico para variables categóricas top\n",
    "        fig_cat = make_subplots(\n",
    "            rows=1, cols=2,\n",
    "            subplot_titles=[get_readable_name(var.replace('_binary', '')) for var in categorical_vars_binary]\n",
    "        )\n",
    "        \n",
    "        for i, var in enumerate(categorical_vars_binary):\n",
    "            original_var = var.replace('_binary', '')\n",
    "            if original_var in df_clean.columns:\n",
    "                counts = df_clean[original_var].value_counts().sort_index()\n",
    "                \n",
    "                # Crear etiquetas más legibles para los valores\n",
    "                labels = []\n",
    "                for idx in counts.index:\n",
    "                    if idx == 1:\n",
    "                        labels.append('Sí')\n",
    "                    elif idx == 2:\n",
    "                        labels.append('No')\n",
    "                    elif idx == 9:\n",
    "                        labels.append('No sabe')\n",
    "                    else:\n",
    "                        labels.append(str(idx))\n",
    "                \n",
    "                fig_cat.add_trace(\n",
    "                    go.Bar(\n",
    "                        x=labels, \n",
    "                        y=counts.values, \n",
    "                        name=get_readable_name(original_var),\n",
    "                        text=[f'{v:,}' for v in counts.values],\n",
    "                        textposition='outside'\n",
    "                    ),\n",
    "                    row=1, col=i+1\n",
    "                )\n",
    "        \n",
    "        fig_cat.update_layout(\n",
    "            title_text=\"Variables Más Predictivas del Entorno Social\",\n",
    "            height=400,\n",
    "            showlegend=False\n",
    "        )\n",
    "        fig_cat.show()\n",
    "\n",
    "# 3. Matriz de correlación básica (solo top variables)\n",
    "if 'correlations_sorted' in globals() and len(correlation_vars) >= 3:\n",
    "    # Seleccionar top 6 variables para matriz de correlación\n",
    "    top_vars = correlations_sorted.head(6).index.tolist()\n",
    "    top_vars.append('target_binary')\n",
    "    \n",
    "    # Crear matriz de correlación\n",
    "    corr_matrix = df_corr[top_vars].corr()\n",
    "    \n",
    "    # Crear etiquetas legibles para la matriz\n",
    "    readable_labels = []\n",
    "    for var in corr_matrix.columns:\n",
    "        if var == 'target_binary':\n",
    "            readable_labels.append('Consumo Marihuana')\n",
    "        else:\n",
    "            clean_var = var.replace('_binary', '')\n",
    "            readable_labels.append(get_readable_name(clean_var))\n",
    "    \n",
    "    # Crear gráfico con nombres legibles\n",
    "    fig_corr = px.imshow(\n",
    "        corr_matrix,\n",
    "        x=readable_labels,\n",
    "        y=readable_labels,\n",
    "        title='Matriz de Correlación - Variables Más Predictivas',\n",
    "        color_continuous_scale='RdBu_r',\n",
    "        aspect='auto',\n",
    "        text_auto='.2f'\n",
    "    )\n",
    "    \n",
    "    fig_corr.update_layout(\n",
    "        height=600, \n",
    "        width=700,\n",
    "        xaxis_title=\"Variables Predictoras\",\n",
    "        yaxis_title=\"Variables Predictoras\"\n",
    "    )\n",
    "    fig_corr.show()\n",
    "\n",
    "# 4. Gráfico de barras con correlaciones top\n",
    "if 'correlations_sorted' in globals():\n",
    "    top_corr = correlations_sorted.head(8)\n",
    "    \n",
    "    # Crear nombres legibles para correlaciones\n",
    "    readable_names = []\n",
    "    correlations_values = []\n",
    "    \n",
    "    for var, corr in top_corr.items():\n",
    "        clean_var = var.replace('_binary', '')\n",
    "        readable_names.append(get_readable_name(clean_var))\n",
    "        correlations_values.append(corr)\n",
    "    \n",
    "    fig_corr_bar = px.bar(\n",
    "        x=correlations_values,\n",
    "        y=readable_names,\n",
    "        title='Variables Más Correlacionadas con Consumo de Marihuana',\n",
    "        labels={'x': 'Correlación (Valor Absoluto)', 'y': 'Variable Predictora'},\n",
    "        color=correlations_values,\n",
    "        color_continuous_scale='Reds',\n",
    "        orientation='h',\n",
    "        text=[f'{v:.3f}' for v in correlations_values]\n",
    "    )\n",
    "    \n",
    "    fig_corr_bar.update_traces(textposition='outside')\n",
    "    fig_corr_bar.update_layout(\n",
    "        height=500,\n",
    "        showlegend=False,\n",
    "        yaxis={'categoryorder': 'total ascending'}\n",
    "    )\n",
    "    fig_corr_bar.show()\n",
    "\n",
    "print(\"Visualizaciones básicas completadas\")\n",
    "print(\"Todas las gráficas usan nombres legibles y entendibles\")\n",
    "print(\"Análisis más detallado se realizará en próximos commits\")"
   ]
  }
 ],
 "metadata": {
  "kernelspec": {
   "display_name": "Python 3",
   "language": "python",
   "name": "python3"
  },
  "language_info": {
   "codemirror_mode": {
    "name": "ipython",
    "version": 3
   },
   "file_extension": ".py",
   "mimetype": "text/x-python",
   "name": "python",
   "nbconvert_exporter": "python",
   "pygments_lexer": "ipython3",
   "version": "3.13.6"
  }
 },
 "nbformat": 4,
 "nbformat_minor": 5
}
