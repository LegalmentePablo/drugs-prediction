{
 "cells": [
  {
   "cell_type": "markdown",
   "id": "027cf3da",
   "metadata": {},
   "source": [
    "# Análisis de Interpretabilidad - Modelo de Predicción de Consumo de Marihuana\n",
    "\n",
    "**Objetivo**: Analizar la interpretabilidad del modelo Random Forest final para entender:\n",
    "- Variables más predictivas del consumo de marihuana\n",
    "- Patrones de entorno social identificados\n",
    "- Casos específicos de alta/baja probabilidad"
   ]
  },
  {
   "cell_type": "markdown",
   "id": "b60fe7b9",
   "metadata": {},
   "source": [
    "## 1. Importar librerías y datos"
   ]
  },
  {
   "cell_type": "code",
   "execution_count": 49,
   "id": "8a140ce9",
   "metadata": {},
   "outputs": [
    {
     "name": "stdout",
     "output_type": "stream",
     "text": [
      "Librerías cargadas correctamente\n"
     ]
    }
   ],
   "source": [
    "# Librerías básicas\n",
    "import pandas as pd\n",
    "import numpy as np\n",
    "import matplotlib.pyplot as plt\n",
    "import seaborn as sns\n",
    "import joblib\n",
    "import json\n",
    "import plotly.graph_objects as go\n",
    "import plotly.express as px\n",
    "from plotly.subplots import make_subplots\n",
    "\n",
    "# Interpretabilidad\n",
    "import shap\n",
    "from sklearn.inspection import permutation_importance\n",
    "\n",
    "# Configuración de gráficos\n",
    "plt.style.use('default')\n",
    "sns.set_palette(\"husl\")\n",
    "\n",
    "print(\"Librerías cargadas correctamente\")"
   ]
  },
  {
   "cell_type": "code",
   "execution_count": 50,
   "id": "97613665",
   "metadata": {},
   "outputs": [
    {
     "name": "stdout",
     "output_type": "stream",
     "text": [
      "Datos de test cargados: (4686, 14)\n",
      "Proporción de casos positivos: 16.11%\n"
     ]
    }
   ],
   "source": [
    "# Cargar datos preprocesados\n",
    "X_test = np.load('../data/processed/X_test_transformed.npy')\n",
    "y_test = np.load('../data/processed/y_test.npy')\n",
    "\n",
    "# Cargar preprocessor para obtener nombres de features\n",
    "preprocessor = joblib.load('../data/processed/preprocessor.joblib')\n",
    "\n",
    "# Nombres legibles de variables\n",
    "variable_names = {\n",
    "    'G_01': 'Familiares Consumen Sustancias',\n",
    "    'G_02': 'Amigos Consumen Sustancias',\n",
    "    'G_03': 'Curiosidad por Probar',\n",
    "    'G_04': 'Disposición a Consumir',\n",
    "    'G_05': 'Tuvo Oportunidad de Probar',\n",
    "    'G_01_A': 'Cant. Familiares que Consumen',\n",
    "    'G_02_A': 'Cant. Amigos que Consumen',\n",
    "    'G_06_A': 'Acceso Fácil a Marihuana',\n",
    "    'G_06_B': 'Acceso Fácil a Cocaína',\n",
    "    'G_06_C': 'Acceso Fácil a Basuco',\n",
    "    'G_06_D': 'Acceso Fácil a Éxtasis',\n",
    "    'G_07': 'Ofertas Recibidas (Último Año)',\n",
    "    'G_08_A': 'Ofertas de Marihuana',\n",
    "    'G_08_B': 'Ofertas de Cocaína'\n",
    "}\n",
    "\n",
    "print(f\"Datos de test cargados: {X_test.shape}\")\n",
    "print(f\"Proporción de casos positivos: {y_test.mean():.2%}\")"
   ]
  },
  {
   "cell_type": "markdown",
   "id": "99e380df",
   "metadata": {},
   "source": [
    "## 2. Cargar modelo final"
   ]
  },
  {
   "cell_type": "code",
   "execution_count": 51,
   "id": "349f01dc",
   "metadata": {},
   "outputs": [
    {
     "name": "stdout",
     "output_type": "stream",
     "text": [
      "F1 Score: 0.6617\n",
      "ROC AUC: 0.9182\n",
      "\n",
      "Modelo cargado y verificado\n"
     ]
    }
   ],
   "source": [
    "# Cargar metadatos del modelo\n",
    "with open('../models/metadatos_modelo_final.json', 'r') as f:\n",
    "    metadatos = json.load(f)\n",
    "\n",
    "# Reconstruir el modelo RF con los hiperparámetros optimizados\n",
    "from sklearn.ensemble import RandomForestClassifier\n",
    "\n",
    "rf_params = metadatos['hiperparametros']['rf']\n",
    "modelo_rf = RandomForestClassifier(\n",
    "    random_state=42,\n",
    "    **rf_params\n",
    ")\n",
    "\n",
    "# Cargar datos de entrenamiento para reentrenar\n",
    "X_train = np.load('../data/processed/X_train_balanced.npy')\n",
    "y_train = np.load('../data/processed/y_train_balanced.npy')\n",
    "\n",
    "# Entrenar modelo\n",
    "modelo_rf.fit(X_train, y_train)\n",
    "\n",
    "# Verificar rendimiento\n",
    "from sklearn.metrics import f1_score, roc_auc_score\n",
    "y_pred = modelo_rf.predict(X_test)\n",
    "y_proba = modelo_rf.predict_proba(X_test)[:, 1]\n",
    "\n",
    "print(f\"F1 Score: {f1_score(y_test, y_pred):.4f}\")\n",
    "print(f\"ROC AUC: {roc_auc_score(y_test, y_proba):.4f}\")\n",
    "print(\"\\nModelo cargado y verificado\")"
   ]
  },
  {
   "cell_type": "markdown",
   "id": "e2862f09",
   "metadata": {},
   "source": [
    "## 3. Feature Importance Global"
   ]
  },
  {
   "cell_type": "code",
   "execution_count": 52,
   "id": "056558ff",
   "metadata": {},
   "outputs": [
    {
     "name": "stdout",
     "output_type": "stream",
     "text": [
      "TOP 10 VARIABLES MÁS IMPORTANTES:\n",
      "==================================================\n",
      " 3. Curiosidad por Probar               0.4314\n",
      " 5. Tuvo Oportunidad de Probar          0.1539\n",
      " 4. Disposición a Consumir              0.1170\n",
      "13. Ofertas de Marihuana                0.0531\n",
      "12. Ofertas Recibidas (Último Año)      0.0492\n",
      "11. Acceso Fácil a Éxtasis              0.0353\n",
      " 8. Acceso Fácil a Marihuana            0.0344\n",
      "10. Acceso Fácil a Basuco               0.0282\n",
      " 9. Acceso Fácil a Cocaína              0.0277\n",
      " 2. Amigos Consumen Sustancias          0.0240\n"
     ]
    },
    {
     "data": {
      "application/vnd.plotly.v1+json": {
       "config": {
        "plotlyServerURL": "https://plot.ly"
       },
       "data": [
        {
         "hovertemplate": "<b>%{y}</b><br>Importancia: %{x:.4f}<extra></extra>",
         "marker": {
          "color": {
           "bdata": "CDn6udKb2z+NMbKa5LHDP9wnfXPM9b0/Vb8Zc94pqz8lSfBfDDOpPwewTsJqGKI/suwoB+ueoT/2wJscj9ScP/3EMC71aJw/YD9GO4SamD8lKsvQrx+XP0WVB6Jid4k/6U/wYgj+dj8QrNQMQwR1Pw==",
           "dtype": "f8"
          },
          "colorbar": {
           "title": {
            "text": "Importancia"
           }
          },
          "colorscale": [
           [
            0,
            "#440154"
           ],
           [
            0.1111111111111111,
            "#482878"
           ],
           [
            0.2222222222222222,
            "#3e4989"
           ],
           [
            0.3333333333333333,
            "#31688e"
           ],
           [
            0.4444444444444444,
            "#26828e"
           ],
           [
            0.5555555555555556,
            "#1f9e89"
           ],
           [
            0.6666666666666666,
            "#35b779"
           ],
           [
            0.7777777777777778,
            "#6ece58"
           ],
           [
            0.8888888888888888,
            "#b5de2b"
           ],
           [
            1,
            "#fde725"
           ]
          ],
          "showscale": true
         },
         "orientation": "h",
         "text": [
          "0.4314",
          "0.1539",
          "0.1170",
          "0.0531",
          "0.0492",
          "0.0353",
          "0.0344",
          "0.0282",
          "0.0277",
          "0.0240",
          "0.0226",
          "0.0124",
          "0.0056",
          "0.0051"
         ],
         "textposition": "outside",
         "type": "bar",
         "x": {
          "bdata": "CDn6udKb2z+NMbKa5LHDP9wnfXPM9b0/Vb8Zc94pqz8lSfBfDDOpPwewTsJqGKI/suwoB+ueoT/2wJscj9ScP/3EMC71aJw/YD9GO4SamD8lKsvQrx+XP0WVB6Jid4k/6U/wYgj+dj8QrNQMQwR1Pw==",
          "dtype": "f8"
         },
         "y": [
          "Curiosidad por Probar",
          "Tuvo Oportunidad de Probar",
          "Disposición a Consumir",
          "Ofertas de Marihuana",
          "Ofertas Recibidas (Último Año)",
          "Acceso Fácil a Éxtasis",
          "Acceso Fácil a Marihuana",
          "Acceso Fácil a Basuco",
          "Acceso Fácil a Cocaína",
          "Amigos Consumen Sustancias",
          "Ofertas de Cocaína",
          "Familiares Consumen Sustancias",
          "Cant. Amigos que Consumen",
          "Cant. Familiares que Consumen"
         ]
        }
       ],
       "layout": {
        "height": 600,
        "margin": {
         "b": 50,
         "l": 200,
         "r": 50,
         "t": 80
        },
        "template": {
         "data": {
          "bar": [
           {
            "error_x": {
             "color": "#2a3f5f"
            },
            "error_y": {
             "color": "#2a3f5f"
            },
            "marker": {
             "line": {
              "color": "white",
              "width": 0.5
             },
             "pattern": {
              "fillmode": "overlay",
              "size": 10,
              "solidity": 0.2
             }
            },
            "type": "bar"
           }
          ],
          "barpolar": [
           {
            "marker": {
             "line": {
              "color": "white",
              "width": 0.5
             },
             "pattern": {
              "fillmode": "overlay",
              "size": 10,
              "solidity": 0.2
             }
            },
            "type": "barpolar"
           }
          ],
          "carpet": [
           {
            "aaxis": {
             "endlinecolor": "#2a3f5f",
             "gridcolor": "#C8D4E3",
             "linecolor": "#C8D4E3",
             "minorgridcolor": "#C8D4E3",
             "startlinecolor": "#2a3f5f"
            },
            "baxis": {
             "endlinecolor": "#2a3f5f",
             "gridcolor": "#C8D4E3",
             "linecolor": "#C8D4E3",
             "minorgridcolor": "#C8D4E3",
             "startlinecolor": "#2a3f5f"
            },
            "type": "carpet"
           }
          ],
          "choropleth": [
           {
            "colorbar": {
             "outlinewidth": 0,
             "ticks": ""
            },
            "type": "choropleth"
           }
          ],
          "contour": [
           {
            "colorbar": {
             "outlinewidth": 0,
             "ticks": ""
            },
            "colorscale": [
             [
              0,
              "#0d0887"
             ],
             [
              0.1111111111111111,
              "#46039f"
             ],
             [
              0.2222222222222222,
              "#7201a8"
             ],
             [
              0.3333333333333333,
              "#9c179e"
             ],
             [
              0.4444444444444444,
              "#bd3786"
             ],
             [
              0.5555555555555556,
              "#d8576b"
             ],
             [
              0.6666666666666666,
              "#ed7953"
             ],
             [
              0.7777777777777778,
              "#fb9f3a"
             ],
             [
              0.8888888888888888,
              "#fdca26"
             ],
             [
              1,
              "#f0f921"
             ]
            ],
            "type": "contour"
           }
          ],
          "contourcarpet": [
           {
            "colorbar": {
             "outlinewidth": 0,
             "ticks": ""
            },
            "type": "contourcarpet"
           }
          ],
          "heatmap": [
           {
            "colorbar": {
             "outlinewidth": 0,
             "ticks": ""
            },
            "colorscale": [
             [
              0,
              "#0d0887"
             ],
             [
              0.1111111111111111,
              "#46039f"
             ],
             [
              0.2222222222222222,
              "#7201a8"
             ],
             [
              0.3333333333333333,
              "#9c179e"
             ],
             [
              0.4444444444444444,
              "#bd3786"
             ],
             [
              0.5555555555555556,
              "#d8576b"
             ],
             [
              0.6666666666666666,
              "#ed7953"
             ],
             [
              0.7777777777777778,
              "#fb9f3a"
             ],
             [
              0.8888888888888888,
              "#fdca26"
             ],
             [
              1,
              "#f0f921"
             ]
            ],
            "type": "heatmap"
           }
          ],
          "histogram": [
           {
            "marker": {
             "pattern": {
              "fillmode": "overlay",
              "size": 10,
              "solidity": 0.2
             }
            },
            "type": "histogram"
           }
          ],
          "histogram2d": [
           {
            "colorbar": {
             "outlinewidth": 0,
             "ticks": ""
            },
            "colorscale": [
             [
              0,
              "#0d0887"
             ],
             [
              0.1111111111111111,
              "#46039f"
             ],
             [
              0.2222222222222222,
              "#7201a8"
             ],
             [
              0.3333333333333333,
              "#9c179e"
             ],
             [
              0.4444444444444444,
              "#bd3786"
             ],
             [
              0.5555555555555556,
              "#d8576b"
             ],
             [
              0.6666666666666666,
              "#ed7953"
             ],
             [
              0.7777777777777778,
              "#fb9f3a"
             ],
             [
              0.8888888888888888,
              "#fdca26"
             ],
             [
              1,
              "#f0f921"
             ]
            ],
            "type": "histogram2d"
           }
          ],
          "histogram2dcontour": [
           {
            "colorbar": {
             "outlinewidth": 0,
             "ticks": ""
            },
            "colorscale": [
             [
              0,
              "#0d0887"
             ],
             [
              0.1111111111111111,
              "#46039f"
             ],
             [
              0.2222222222222222,
              "#7201a8"
             ],
             [
              0.3333333333333333,
              "#9c179e"
             ],
             [
              0.4444444444444444,
              "#bd3786"
             ],
             [
              0.5555555555555556,
              "#d8576b"
             ],
             [
              0.6666666666666666,
              "#ed7953"
             ],
             [
              0.7777777777777778,
              "#fb9f3a"
             ],
             [
              0.8888888888888888,
              "#fdca26"
             ],
             [
              1,
              "#f0f921"
             ]
            ],
            "type": "histogram2dcontour"
           }
          ],
          "mesh3d": [
           {
            "colorbar": {
             "outlinewidth": 0,
             "ticks": ""
            },
            "type": "mesh3d"
           }
          ],
          "parcoords": [
           {
            "line": {
             "colorbar": {
              "outlinewidth": 0,
              "ticks": ""
             }
            },
            "type": "parcoords"
           }
          ],
          "pie": [
           {
            "automargin": true,
            "type": "pie"
           }
          ],
          "scatter": [
           {
            "fillpattern": {
             "fillmode": "overlay",
             "size": 10,
             "solidity": 0.2
            },
            "type": "scatter"
           }
          ],
          "scatter3d": [
           {
            "line": {
             "colorbar": {
              "outlinewidth": 0,
              "ticks": ""
             }
            },
            "marker": {
             "colorbar": {
              "outlinewidth": 0,
              "ticks": ""
             }
            },
            "type": "scatter3d"
           }
          ],
          "scattercarpet": [
           {
            "marker": {
             "colorbar": {
              "outlinewidth": 0,
              "ticks": ""
             }
            },
            "type": "scattercarpet"
           }
          ],
          "scattergeo": [
           {
            "marker": {
             "colorbar": {
              "outlinewidth": 0,
              "ticks": ""
             }
            },
            "type": "scattergeo"
           }
          ],
          "scattergl": [
           {
            "marker": {
             "colorbar": {
              "outlinewidth": 0,
              "ticks": ""
             }
            },
            "type": "scattergl"
           }
          ],
          "scattermap": [
           {
            "marker": {
             "colorbar": {
              "outlinewidth": 0,
              "ticks": ""
             }
            },
            "type": "scattermap"
           }
          ],
          "scattermapbox": [
           {
            "marker": {
             "colorbar": {
              "outlinewidth": 0,
              "ticks": ""
             }
            },
            "type": "scattermapbox"
           }
          ],
          "scatterpolar": [
           {
            "marker": {
             "colorbar": {
              "outlinewidth": 0,
              "ticks": ""
             }
            },
            "type": "scatterpolar"
           }
          ],
          "scatterpolargl": [
           {
            "marker": {
             "colorbar": {
              "outlinewidth": 0,
              "ticks": ""
             }
            },
            "type": "scatterpolargl"
           }
          ],
          "scatterternary": [
           {
            "marker": {
             "colorbar": {
              "outlinewidth": 0,
              "ticks": ""
             }
            },
            "type": "scatterternary"
           }
          ],
          "surface": [
           {
            "colorbar": {
             "outlinewidth": 0,
             "ticks": ""
            },
            "colorscale": [
             [
              0,
              "#0d0887"
             ],
             [
              0.1111111111111111,
              "#46039f"
             ],
             [
              0.2222222222222222,
              "#7201a8"
             ],
             [
              0.3333333333333333,
              "#9c179e"
             ],
             [
              0.4444444444444444,
              "#bd3786"
             ],
             [
              0.5555555555555556,
              "#d8576b"
             ],
             [
              0.6666666666666666,
              "#ed7953"
             ],
             [
              0.7777777777777778,
              "#fb9f3a"
             ],
             [
              0.8888888888888888,
              "#fdca26"
             ],
             [
              1,
              "#f0f921"
             ]
            ],
            "type": "surface"
           }
          ],
          "table": [
           {
            "cells": {
             "fill": {
              "color": "#EBF0F8"
             },
             "line": {
              "color": "white"
             }
            },
            "header": {
             "fill": {
              "color": "#C8D4E3"
             },
             "line": {
              "color": "white"
             }
            },
            "type": "table"
           }
          ]
         },
         "layout": {
          "annotationdefaults": {
           "arrowcolor": "#2a3f5f",
           "arrowhead": 0,
           "arrowwidth": 1
          },
          "autotypenumbers": "strict",
          "coloraxis": {
           "colorbar": {
            "outlinewidth": 0,
            "ticks": ""
           }
          },
          "colorscale": {
           "diverging": [
            [
             0,
             "#8e0152"
            ],
            [
             0.1,
             "#c51b7d"
            ],
            [
             0.2,
             "#de77ae"
            ],
            [
             0.3,
             "#f1b6da"
            ],
            [
             0.4,
             "#fde0ef"
            ],
            [
             0.5,
             "#f7f7f7"
            ],
            [
             0.6,
             "#e6f5d0"
            ],
            [
             0.7,
             "#b8e186"
            ],
            [
             0.8,
             "#7fbc41"
            ],
            [
             0.9,
             "#4d9221"
            ],
            [
             1,
             "#276419"
            ]
           ],
           "sequential": [
            [
             0,
             "#0d0887"
            ],
            [
             0.1111111111111111,
             "#46039f"
            ],
            [
             0.2222222222222222,
             "#7201a8"
            ],
            [
             0.3333333333333333,
             "#9c179e"
            ],
            [
             0.4444444444444444,
             "#bd3786"
            ],
            [
             0.5555555555555556,
             "#d8576b"
            ],
            [
             0.6666666666666666,
             "#ed7953"
            ],
            [
             0.7777777777777778,
             "#fb9f3a"
            ],
            [
             0.8888888888888888,
             "#fdca26"
            ],
            [
             1,
             "#f0f921"
            ]
           ],
           "sequentialminus": [
            [
             0,
             "#0d0887"
            ],
            [
             0.1111111111111111,
             "#46039f"
            ],
            [
             0.2222222222222222,
             "#7201a8"
            ],
            [
             0.3333333333333333,
             "#9c179e"
            ],
            [
             0.4444444444444444,
             "#bd3786"
            ],
            [
             0.5555555555555556,
             "#d8576b"
            ],
            [
             0.6666666666666666,
             "#ed7953"
            ],
            [
             0.7777777777777778,
             "#fb9f3a"
            ],
            [
             0.8888888888888888,
             "#fdca26"
            ],
            [
             1,
             "#f0f921"
            ]
           ]
          },
          "colorway": [
           "#636efa",
           "#EF553B",
           "#00cc96",
           "#ab63fa",
           "#FFA15A",
           "#19d3f3",
           "#FF6692",
           "#B6E880",
           "#FF97FF",
           "#FECB52"
          ],
          "font": {
           "color": "#2a3f5f"
          },
          "geo": {
           "bgcolor": "white",
           "lakecolor": "white",
           "landcolor": "white",
           "showlakes": true,
           "showland": true,
           "subunitcolor": "#C8D4E3"
          },
          "hoverlabel": {
           "align": "left"
          },
          "hovermode": "closest",
          "mapbox": {
           "style": "light"
          },
          "paper_bgcolor": "white",
          "plot_bgcolor": "white",
          "polar": {
           "angularaxis": {
            "gridcolor": "#EBF0F8",
            "linecolor": "#EBF0F8",
            "ticks": ""
           },
           "bgcolor": "white",
           "radialaxis": {
            "gridcolor": "#EBF0F8",
            "linecolor": "#EBF0F8",
            "ticks": ""
           }
          },
          "scene": {
           "xaxis": {
            "backgroundcolor": "white",
            "gridcolor": "#DFE8F3",
            "gridwidth": 2,
            "linecolor": "#EBF0F8",
            "showbackground": true,
            "ticks": "",
            "zerolinecolor": "#EBF0F8"
           },
           "yaxis": {
            "backgroundcolor": "white",
            "gridcolor": "#DFE8F3",
            "gridwidth": 2,
            "linecolor": "#EBF0F8",
            "showbackground": true,
            "ticks": "",
            "zerolinecolor": "#EBF0F8"
           },
           "zaxis": {
            "backgroundcolor": "white",
            "gridcolor": "#DFE8F3",
            "gridwidth": 2,
            "linecolor": "#EBF0F8",
            "showbackground": true,
            "ticks": "",
            "zerolinecolor": "#EBF0F8"
           }
          },
          "shapedefaults": {
           "line": {
            "color": "#2a3f5f"
           }
          },
          "ternary": {
           "aaxis": {
            "gridcolor": "#DFE8F3",
            "linecolor": "#A2B1C6",
            "ticks": ""
           },
           "baxis": {
            "gridcolor": "#DFE8F3",
            "linecolor": "#A2B1C6",
            "ticks": ""
           },
           "bgcolor": "white",
           "caxis": {
            "gridcolor": "#DFE8F3",
            "linecolor": "#A2B1C6",
            "ticks": ""
           }
          },
          "title": {
           "x": 0.05
          },
          "xaxis": {
           "automargin": true,
           "gridcolor": "#EBF0F8",
           "linecolor": "#EBF0F8",
           "ticks": "",
           "title": {
            "standoff": 15
           },
           "zerolinecolor": "#EBF0F8",
           "zerolinewidth": 2
          },
          "yaxis": {
           "automargin": true,
           "gridcolor": "#EBF0F8",
           "linecolor": "#EBF0F8",
           "ticks": "",
           "title": {
            "standoff": 15
           },
           "zerolinecolor": "#EBF0F8",
           "zerolinewidth": 2
          }
         }
        },
        "title": {
         "font": {
          "size": 16
         },
         "text": "Top 15 Variables más Importantes - Random Forest",
         "x": 0.5,
         "xanchor": "center"
        },
        "width": 900,
        "xaxis": {
         "title": {
          "text": "Importancia"
         }
        },
        "yaxis": {
         "categoryorder": "total ascending",
         "title": {
          "text": ""
         }
        }
       }
      }
     },
     "metadata": {},
     "output_type": "display_data"
    }
   ],
   "source": [
    "# Obtener nombres de features transformados\n",
    "feature_names = []\n",
    "for transformer_name, transformer, cols in preprocessor.transformers_:\n",
    "    if transformer_name == 'cat':\n",
    "        # Features categóricas (one-hot encoded)\n",
    "        cat_names = list(transformer.get_feature_names_out(cols))\n",
    "        feature_names.extend(cat_names)\n",
    "    elif transformer_name == 'num':\n",
    "        # Features numéricas (escaladas)\n",
    "        feature_names.extend(cols)\n",
    "\n",
    "# Función para convertir nombres de features a nombres legibles\n",
    "def get_readable_feature_name(feature_name):\n",
    "    # Para variables categóricas one-hot encoded (ej: G_01_1.0)\n",
    "    if '_' in feature_name and '.' in feature_name:\n",
    "        base_var = '_'.join(feature_name.split('_')[:2])  # G_01\n",
    "        if base_var in variable_names:\n",
    "            return f\"{variable_names[base_var]}\"\n",
    "    \n",
    "    # Para variables numéricas (ej: G_01_A)\n",
    "    if feature_name in variable_names:\n",
    "        return variable_names[feature_name]\n",
    "    \n",
    "    # Si no encuentra mapeo, usar el nombre original pero más limpio\n",
    "    return feature_name.replace('_', ' ').title()\n",
    "\n",
    "# Feature Importance nativo del Random Forest\n",
    "importance_rf = modelo_rf.feature_importances_\n",
    "\n",
    "# Crear DataFrame para visualización\n",
    "importance_df = pd.DataFrame({\n",
    "    'feature': feature_names,\n",
    "    'readable_name': [get_readable_feature_name(f) for f in feature_names],\n",
    "    'importance': importance_rf\n",
    "}).sort_values('importance', ascending=False)\n",
    "\n",
    "# Mostrar top 10\n",
    "print(\"TOP 10 VARIABLES MÁS IMPORTANTES:\")\n",
    "print(\"=\"*50)\n",
    "for i, row in importance_df.head(10).iterrows():\n",
    "    print(f\"{i+1:2d}. {row['readable_name']:<35} {row['importance']:.4f}\")\n",
    "\n",
    "# Gráfico de Feature Importance con Plotly\n",
    "top_15 = importance_df.head(15)\n",
    "\n",
    "fig = go.Figure()\n",
    "\n",
    "fig.add_trace(go.Bar(\n",
    "    x=top_15['importance'],\n",
    "    y=top_15['readable_name'],\n",
    "    orientation='h',\n",
    "    marker=dict(\n",
    "        color=top_15['importance'],\n",
    "        colorscale='Viridis',\n",
    "        showscale=True,\n",
    "        colorbar=dict(title=\"Importancia\")\n",
    "    ),\n",
    "    text=[f\"{val:.4f}\" for val in top_15['importance']],\n",
    "    textposition='outside',\n",
    "    hovertemplate='<b>%{y}</b><br>Importancia: %{x:.4f}<extra></extra>'\n",
    "))\n",
    "\n",
    "fig.update_layout(\n",
    "    title={\n",
    "        'text': 'Top 15 Variables más Importantes - Random Forest',\n",
    "        'x': 0.5,\n",
    "        'xanchor': 'center',\n",
    "        'font': {'size': 16}\n",
    "    },\n",
    "    xaxis_title='Importancia',\n",
    "    yaxis_title='',\n",
    "    height=600,\n",
    "    width=900,\n",
    "    yaxis={'categoryorder': 'total ascending'},\n",
    "    template='plotly_white',\n",
    "    margin=dict(l=200, r=50, t=80, b=50)\n",
    ")\n",
    "\n",
    "fig.show()"
   ]
  },
  {
   "cell_type": "markdown",
   "id": "8f130ec0",
   "metadata": {},
   "source": [
    "## 4. Permutation Importance"
   ]
  },
  {
   "cell_type": "code",
   "execution_count": 42,
   "id": "0f76db9f",
   "metadata": {},
   "outputs": [
    {
     "name": "stdout",
     "output_type": "stream",
     "text": [
      "Calculando Permutation Importance...\n",
      "\n",
      "TOP 10 VARIABLES - PERMUTATION IMPORTANCE:\n",
      "=======================================================\n",
      " 3. Curiosidad por Probar               0.2583 ± 0.0068\n",
      " 5. Tuvo Oportunidad de Probar          0.0853 ± 0.0066\n",
      " 4. Disposición a Consumir              0.0527 ± 0.0032\n",
      " 8. Acceso Fácil a Marihuana            0.0231 ± 0.0042\n",
      "13. Ofertas de Marihuana                0.0164 ± 0.0045\n",
      "12. Ofertas Recibidas (Último Año)      0.0151 ± 0.0042\n",
      "11. Acceso Fácil a Éxtasis              0.0109 ± 0.0046\n",
      " 2. Amigos Consumen Sustancias          0.0095 ± 0.0028\n",
      "14. Ofertas de Cocaína                  0.0071 ± 0.0029\n",
      "10. Acceso Fácil a Basuco               0.0059 ± 0.0039\n",
      "\n",
      "TOP 10 VARIABLES - PERMUTATION IMPORTANCE:\n",
      "=======================================================\n",
      " 3. Curiosidad por Probar               0.2583 ± 0.0068\n",
      " 5. Tuvo Oportunidad de Probar          0.0853 ± 0.0066\n",
      " 4. Disposición a Consumir              0.0527 ± 0.0032\n",
      " 8. Acceso Fácil a Marihuana            0.0231 ± 0.0042\n",
      "13. Ofertas de Marihuana                0.0164 ± 0.0045\n",
      "12. Ofertas Recibidas (Último Año)      0.0151 ± 0.0042\n",
      "11. Acceso Fácil a Éxtasis              0.0109 ± 0.0046\n",
      " 2. Amigos Consumen Sustancias          0.0095 ± 0.0028\n",
      "14. Ofertas de Cocaína                  0.0071 ± 0.0029\n",
      "10. Acceso Fácil a Basuco               0.0059 ± 0.0039\n"
     ]
    },
    {
     "data": {
      "application/vnd.plotly.v1+json": {
       "config": {
        "plotlyServerURL": "https://plot.ly"
       },
       "data": [
        {
         "error_x": {
          "array": {
           "bdata": "fNl5Hcz7ez8WmfObvAB7P/08uwISXmo/HDb2lohbcT+dRBp6X0dyP+mBUT7uAnE/krzsUdfEcj/0cU2jktBmP8P6JJRh5Gc/FZTeUarGbz+M/ViFmrplP6mLv7UjkWQ/mIeic5TNcz9p6xKoDrZYPw==",
           "dtype": "f8"
          },
          "color": "rgba(0,0,0,0.3)",
          "thickness": 2,
          "type": "data",
          "visible": true
         },
         "hovertemplate": "<b>%{y}</b><br>Drop F1: %{x:.4f}<br>Std: %{error_x.array:.4f}<extra></extra>",
         "marker": {
          "color": {
           "bdata": "YtR/AWWH0D/l2uixoNi1P2rCo88t/qo/xl8MIiCzlz+N32PdtsCQP411E8JL7o4/zc33nWdGhj+aEwRwTmeDPwAQhH3vRX0/ZnOXX/QpeD+ACMZe+4FyP2bjsyXAKm0/M6o9xAiPZT8A8dxvxipiPw==",
           "dtype": "f8"
          },
          "colorbar": {
           "title": {
            "text": "Drop en F1 Score"
           }
          },
          "colorscale": [
           [
            0,
            "#0d0887"
           ],
           [
            0.1111111111111111,
            "#46039f"
           ],
           [
            0.2222222222222222,
            "#7201a8"
           ],
           [
            0.3333333333333333,
            "#9c179e"
           ],
           [
            0.4444444444444444,
            "#bd3786"
           ],
           [
            0.5555555555555556,
            "#d8576b"
           ],
           [
            0.6666666666666666,
            "#ed7953"
           ],
           [
            0.7777777777777778,
            "#fb9f3a"
           ],
           [
            0.8888888888888888,
            "#fdca26"
           ],
           [
            1,
            "#f0f921"
           ]
          ],
          "showscale": true
         },
         "orientation": "h",
         "text": [
          "0.2583±0.0068",
          "0.0853±0.0066",
          "0.0527±0.0032",
          "0.0231±0.0042",
          "0.0164±0.0045",
          "0.0151±0.0042",
          "0.0109±0.0046",
          "0.0095±0.0028",
          "0.0071±0.0029",
          "0.0059±0.0039",
          "0.0045±0.0027",
          "0.0036±0.0025",
          "0.0026±0.0048",
          "0.0022±0.0015"
         ],
         "textposition": "outside",
         "type": "bar",
         "x": {
          "bdata": "YtR/AWWH0D/l2uixoNi1P2rCo88t/qo/xl8MIiCzlz+N32PdtsCQP411E8JL7o4/zc33nWdGhj+aEwRwTmeDPwAQhH3vRX0/ZnOXX/QpeD+ACMZe+4FyP2bjsyXAKm0/M6o9xAiPZT8A8dxvxipiPw==",
          "dtype": "f8"
         },
         "y": [
          "Curiosidad por Probar",
          "Tuvo Oportunidad de Probar",
          "Disposición a Consumir",
          "Acceso Fácil a Marihuana",
          "Ofertas de Marihuana",
          "Ofertas Recibidas (Último Año)",
          "Acceso Fácil a Éxtasis",
          "Amigos Consumen Sustancias",
          "Ofertas de Cocaína",
          "Acceso Fácil a Basuco",
          "Familiares Consumen Sustancias",
          "Cant. Familiares que Consumen",
          "Acceso Fácil a Cocaína",
          "Cant. Amigos que Consumen"
         ]
        }
       ],
       "layout": {
        "height": 600,
        "margin": {
         "b": 50,
         "l": 200,
         "r": 100,
         "t": 80
        },
        "template": {
         "data": {
          "bar": [
           {
            "error_x": {
             "color": "#2a3f5f"
            },
            "error_y": {
             "color": "#2a3f5f"
            },
            "marker": {
             "line": {
              "color": "white",
              "width": 0.5
             },
             "pattern": {
              "fillmode": "overlay",
              "size": 10,
              "solidity": 0.2
             }
            },
            "type": "bar"
           }
          ],
          "barpolar": [
           {
            "marker": {
             "line": {
              "color": "white",
              "width": 0.5
             },
             "pattern": {
              "fillmode": "overlay",
              "size": 10,
              "solidity": 0.2
             }
            },
            "type": "barpolar"
           }
          ],
          "carpet": [
           {
            "aaxis": {
             "endlinecolor": "#2a3f5f",
             "gridcolor": "#C8D4E3",
             "linecolor": "#C8D4E3",
             "minorgridcolor": "#C8D4E3",
             "startlinecolor": "#2a3f5f"
            },
            "baxis": {
             "endlinecolor": "#2a3f5f",
             "gridcolor": "#C8D4E3",
             "linecolor": "#C8D4E3",
             "minorgridcolor": "#C8D4E3",
             "startlinecolor": "#2a3f5f"
            },
            "type": "carpet"
           }
          ],
          "choropleth": [
           {
            "colorbar": {
             "outlinewidth": 0,
             "ticks": ""
            },
            "type": "choropleth"
           }
          ],
          "contour": [
           {
            "colorbar": {
             "outlinewidth": 0,
             "ticks": ""
            },
            "colorscale": [
             [
              0,
              "#0d0887"
             ],
             [
              0.1111111111111111,
              "#46039f"
             ],
             [
              0.2222222222222222,
              "#7201a8"
             ],
             [
              0.3333333333333333,
              "#9c179e"
             ],
             [
              0.4444444444444444,
              "#bd3786"
             ],
             [
              0.5555555555555556,
              "#d8576b"
             ],
             [
              0.6666666666666666,
              "#ed7953"
             ],
             [
              0.7777777777777778,
              "#fb9f3a"
             ],
             [
              0.8888888888888888,
              "#fdca26"
             ],
             [
              1,
              "#f0f921"
             ]
            ],
            "type": "contour"
           }
          ],
          "contourcarpet": [
           {
            "colorbar": {
             "outlinewidth": 0,
             "ticks": ""
            },
            "type": "contourcarpet"
           }
          ],
          "heatmap": [
           {
            "colorbar": {
             "outlinewidth": 0,
             "ticks": ""
            },
            "colorscale": [
             [
              0,
              "#0d0887"
             ],
             [
              0.1111111111111111,
              "#46039f"
             ],
             [
              0.2222222222222222,
              "#7201a8"
             ],
             [
              0.3333333333333333,
              "#9c179e"
             ],
             [
              0.4444444444444444,
              "#bd3786"
             ],
             [
              0.5555555555555556,
              "#d8576b"
             ],
             [
              0.6666666666666666,
              "#ed7953"
             ],
             [
              0.7777777777777778,
              "#fb9f3a"
             ],
             [
              0.8888888888888888,
              "#fdca26"
             ],
             [
              1,
              "#f0f921"
             ]
            ],
            "type": "heatmap"
           }
          ],
          "histogram": [
           {
            "marker": {
             "pattern": {
              "fillmode": "overlay",
              "size": 10,
              "solidity": 0.2
             }
            },
            "type": "histogram"
           }
          ],
          "histogram2d": [
           {
            "colorbar": {
             "outlinewidth": 0,
             "ticks": ""
            },
            "colorscale": [
             [
              0,
              "#0d0887"
             ],
             [
              0.1111111111111111,
              "#46039f"
             ],
             [
              0.2222222222222222,
              "#7201a8"
             ],
             [
              0.3333333333333333,
              "#9c179e"
             ],
             [
              0.4444444444444444,
              "#bd3786"
             ],
             [
              0.5555555555555556,
              "#d8576b"
             ],
             [
              0.6666666666666666,
              "#ed7953"
             ],
             [
              0.7777777777777778,
              "#fb9f3a"
             ],
             [
              0.8888888888888888,
              "#fdca26"
             ],
             [
              1,
              "#f0f921"
             ]
            ],
            "type": "histogram2d"
           }
          ],
          "histogram2dcontour": [
           {
            "colorbar": {
             "outlinewidth": 0,
             "ticks": ""
            },
            "colorscale": [
             [
              0,
              "#0d0887"
             ],
             [
              0.1111111111111111,
              "#46039f"
             ],
             [
              0.2222222222222222,
              "#7201a8"
             ],
             [
              0.3333333333333333,
              "#9c179e"
             ],
             [
              0.4444444444444444,
              "#bd3786"
             ],
             [
              0.5555555555555556,
              "#d8576b"
             ],
             [
              0.6666666666666666,
              "#ed7953"
             ],
             [
              0.7777777777777778,
              "#fb9f3a"
             ],
             [
              0.8888888888888888,
              "#fdca26"
             ],
             [
              1,
              "#f0f921"
             ]
            ],
            "type": "histogram2dcontour"
           }
          ],
          "mesh3d": [
           {
            "colorbar": {
             "outlinewidth": 0,
             "ticks": ""
            },
            "type": "mesh3d"
           }
          ],
          "parcoords": [
           {
            "line": {
             "colorbar": {
              "outlinewidth": 0,
              "ticks": ""
             }
            },
            "type": "parcoords"
           }
          ],
          "pie": [
           {
            "automargin": true,
            "type": "pie"
           }
          ],
          "scatter": [
           {
            "fillpattern": {
             "fillmode": "overlay",
             "size": 10,
             "solidity": 0.2
            },
            "type": "scatter"
           }
          ],
          "scatter3d": [
           {
            "line": {
             "colorbar": {
              "outlinewidth": 0,
              "ticks": ""
             }
            },
            "marker": {
             "colorbar": {
              "outlinewidth": 0,
              "ticks": ""
             }
            },
            "type": "scatter3d"
           }
          ],
          "scattercarpet": [
           {
            "marker": {
             "colorbar": {
              "outlinewidth": 0,
              "ticks": ""
             }
            },
            "type": "scattercarpet"
           }
          ],
          "scattergeo": [
           {
            "marker": {
             "colorbar": {
              "outlinewidth": 0,
              "ticks": ""
             }
            },
            "type": "scattergeo"
           }
          ],
          "scattergl": [
           {
            "marker": {
             "colorbar": {
              "outlinewidth": 0,
              "ticks": ""
             }
            },
            "type": "scattergl"
           }
          ],
          "scattermap": [
           {
            "marker": {
             "colorbar": {
              "outlinewidth": 0,
              "ticks": ""
             }
            },
            "type": "scattermap"
           }
          ],
          "scattermapbox": [
           {
            "marker": {
             "colorbar": {
              "outlinewidth": 0,
              "ticks": ""
             }
            },
            "type": "scattermapbox"
           }
          ],
          "scatterpolar": [
           {
            "marker": {
             "colorbar": {
              "outlinewidth": 0,
              "ticks": ""
             }
            },
            "type": "scatterpolar"
           }
          ],
          "scatterpolargl": [
           {
            "marker": {
             "colorbar": {
              "outlinewidth": 0,
              "ticks": ""
             }
            },
            "type": "scatterpolargl"
           }
          ],
          "scatterternary": [
           {
            "marker": {
             "colorbar": {
              "outlinewidth": 0,
              "ticks": ""
             }
            },
            "type": "scatterternary"
           }
          ],
          "surface": [
           {
            "colorbar": {
             "outlinewidth": 0,
             "ticks": ""
            },
            "colorscale": [
             [
              0,
              "#0d0887"
             ],
             [
              0.1111111111111111,
              "#46039f"
             ],
             [
              0.2222222222222222,
              "#7201a8"
             ],
             [
              0.3333333333333333,
              "#9c179e"
             ],
             [
              0.4444444444444444,
              "#bd3786"
             ],
             [
              0.5555555555555556,
              "#d8576b"
             ],
             [
              0.6666666666666666,
              "#ed7953"
             ],
             [
              0.7777777777777778,
              "#fb9f3a"
             ],
             [
              0.8888888888888888,
              "#fdca26"
             ],
             [
              1,
              "#f0f921"
             ]
            ],
            "type": "surface"
           }
          ],
          "table": [
           {
            "cells": {
             "fill": {
              "color": "#EBF0F8"
             },
             "line": {
              "color": "white"
             }
            },
            "header": {
             "fill": {
              "color": "#C8D4E3"
             },
             "line": {
              "color": "white"
             }
            },
            "type": "table"
           }
          ]
         },
         "layout": {
          "annotationdefaults": {
           "arrowcolor": "#2a3f5f",
           "arrowhead": 0,
           "arrowwidth": 1
          },
          "autotypenumbers": "strict",
          "coloraxis": {
           "colorbar": {
            "outlinewidth": 0,
            "ticks": ""
           }
          },
          "colorscale": {
           "diverging": [
            [
             0,
             "#8e0152"
            ],
            [
             0.1,
             "#c51b7d"
            ],
            [
             0.2,
             "#de77ae"
            ],
            [
             0.3,
             "#f1b6da"
            ],
            [
             0.4,
             "#fde0ef"
            ],
            [
             0.5,
             "#f7f7f7"
            ],
            [
             0.6,
             "#e6f5d0"
            ],
            [
             0.7,
             "#b8e186"
            ],
            [
             0.8,
             "#7fbc41"
            ],
            [
             0.9,
             "#4d9221"
            ],
            [
             1,
             "#276419"
            ]
           ],
           "sequential": [
            [
             0,
             "#0d0887"
            ],
            [
             0.1111111111111111,
             "#46039f"
            ],
            [
             0.2222222222222222,
             "#7201a8"
            ],
            [
             0.3333333333333333,
             "#9c179e"
            ],
            [
             0.4444444444444444,
             "#bd3786"
            ],
            [
             0.5555555555555556,
             "#d8576b"
            ],
            [
             0.6666666666666666,
             "#ed7953"
            ],
            [
             0.7777777777777778,
             "#fb9f3a"
            ],
            [
             0.8888888888888888,
             "#fdca26"
            ],
            [
             1,
             "#f0f921"
            ]
           ],
           "sequentialminus": [
            [
             0,
             "#0d0887"
            ],
            [
             0.1111111111111111,
             "#46039f"
            ],
            [
             0.2222222222222222,
             "#7201a8"
            ],
            [
             0.3333333333333333,
             "#9c179e"
            ],
            [
             0.4444444444444444,
             "#bd3786"
            ],
            [
             0.5555555555555556,
             "#d8576b"
            ],
            [
             0.6666666666666666,
             "#ed7953"
            ],
            [
             0.7777777777777778,
             "#fb9f3a"
            ],
            [
             0.8888888888888888,
             "#fdca26"
            ],
            [
             1,
             "#f0f921"
            ]
           ]
          },
          "colorway": [
           "#636efa",
           "#EF553B",
           "#00cc96",
           "#ab63fa",
           "#FFA15A",
           "#19d3f3",
           "#FF6692",
           "#B6E880",
           "#FF97FF",
           "#FECB52"
          ],
          "font": {
           "color": "#2a3f5f"
          },
          "geo": {
           "bgcolor": "white",
           "lakecolor": "white",
           "landcolor": "white",
           "showlakes": true,
           "showland": true,
           "subunitcolor": "#C8D4E3"
          },
          "hoverlabel": {
           "align": "left"
          },
          "hovermode": "closest",
          "mapbox": {
           "style": "light"
          },
          "paper_bgcolor": "white",
          "plot_bgcolor": "white",
          "polar": {
           "angularaxis": {
            "gridcolor": "#EBF0F8",
            "linecolor": "#EBF0F8",
            "ticks": ""
           },
           "bgcolor": "white",
           "radialaxis": {
            "gridcolor": "#EBF0F8",
            "linecolor": "#EBF0F8",
            "ticks": ""
           }
          },
          "scene": {
           "xaxis": {
            "backgroundcolor": "white",
            "gridcolor": "#DFE8F3",
            "gridwidth": 2,
            "linecolor": "#EBF0F8",
            "showbackground": true,
            "ticks": "",
            "zerolinecolor": "#EBF0F8"
           },
           "yaxis": {
            "backgroundcolor": "white",
            "gridcolor": "#DFE8F3",
            "gridwidth": 2,
            "linecolor": "#EBF0F8",
            "showbackground": true,
            "ticks": "",
            "zerolinecolor": "#EBF0F8"
           },
           "zaxis": {
            "backgroundcolor": "white",
            "gridcolor": "#DFE8F3",
            "gridwidth": 2,
            "linecolor": "#EBF0F8",
            "showbackground": true,
            "ticks": "",
            "zerolinecolor": "#EBF0F8"
           }
          },
          "shapedefaults": {
           "line": {
            "color": "#2a3f5f"
           }
          },
          "ternary": {
           "aaxis": {
            "gridcolor": "#DFE8F3",
            "linecolor": "#A2B1C6",
            "ticks": ""
           },
           "baxis": {
            "gridcolor": "#DFE8F3",
            "linecolor": "#A2B1C6",
            "ticks": ""
           },
           "bgcolor": "white",
           "caxis": {
            "gridcolor": "#DFE8F3",
            "linecolor": "#A2B1C6",
            "ticks": ""
           }
          },
          "title": {
           "x": 0.05
          },
          "xaxis": {
           "automargin": true,
           "gridcolor": "#EBF0F8",
           "linecolor": "#EBF0F8",
           "ticks": "",
           "title": {
            "standoff": 15
           },
           "zerolinecolor": "#EBF0F8",
           "zerolinewidth": 2
          },
          "yaxis": {
           "automargin": true,
           "gridcolor": "#EBF0F8",
           "linecolor": "#EBF0F8",
           "ticks": "",
           "title": {
            "standoff": 15
           },
           "zerolinecolor": "#EBF0F8",
           "zerolinewidth": 2
          }
         }
        },
        "title": {
         "font": {
          "size": 16
         },
         "text": "Top 15 Variables - Permutation Importance",
         "x": 0.5,
         "xanchor": "center"
        },
        "width": 1000,
        "xaxis": {
         "title": {
          "text": "Importancia (F1 Score Drop)"
         }
        },
        "yaxis": {
         "categoryorder": "total ascending",
         "title": {
          "text": ""
         }
        }
       }
      }
     },
     "metadata": {},
     "output_type": "display_data"
    }
   ],
   "source": [
    "# Permutation Importance (más robusto)\n",
    "print(\"Calculando Permutation Importance...\")\n",
    "perm_importance = permutation_importance(\n",
    "    modelo_rf, X_test, y_test, \n",
    "    n_repeats=5, \n",
    "    random_state=42,\n",
    "    scoring='f1'\n",
    ")\n",
    "\n",
    "# Crear DataFrame\n",
    "perm_df = pd.DataFrame({\n",
    "    'feature': feature_names,\n",
    "    'readable_name': [get_readable_feature_name(f) for f in feature_names],\n",
    "    'importance_mean': perm_importance.importances_mean,\n",
    "    'importance_std': perm_importance.importances_std\n",
    "}).sort_values('importance_mean', ascending=False)\n",
    "\n",
    "# Mostrar top 10\n",
    "print(\"\\nTOP 10 VARIABLES - PERMUTATION IMPORTANCE:\")\n",
    "print(\"=\"*55)\n",
    "for i, row in perm_df.head(10).iterrows():\n",
    "    print(f\"{i+1:2d}. {row['readable_name']:<35} {row['importance_mean']:.4f} ± {row['importance_std']:.4f}\")\n",
    "\n",
    "# Gráfico con barras de error usando Plotly\n",
    "top_15 = perm_df.head(15)\n",
    "\n",
    "fig = go.Figure()\n",
    "\n",
    "fig.add_trace(go.Bar(\n",
    "    x=top_15['importance_mean'],\n",
    "    y=top_15['readable_name'],\n",
    "    orientation='h',\n",
    "    error_x=dict(\n",
    "        type='data',\n",
    "        array=top_15['importance_std'],\n",
    "        visible=True,\n",
    "        color='rgba(0,0,0,0.3)',\n",
    "        thickness=2\n",
    "    ),\n",
    "    marker=dict(\n",
    "        color=top_15['importance_mean'],\n",
    "        colorscale='Plasma',\n",
    "        showscale=True,\n",
    "        colorbar=dict(title=\"Drop en F1 Score\")\n",
    "    ),\n",
    "    text=[f\"{mean:.4f}±{std:.4f}\" for mean, std in zip(top_15['importance_mean'], top_15['importance_std'])],\n",
    "    textposition='outside',\n",
    "    hovertemplate='<b>%{y}</b><br>Drop F1: %{x:.4f}<br>Std: %{error_x.array:.4f}<extra></extra>'\n",
    "))\n",
    "\n",
    "fig.update_layout(\n",
    "    title={\n",
    "        'text': 'Top 15 Variables - Permutation Importance',\n",
    "        'x': 0.5,\n",
    "        'xanchor': 'center',\n",
    "        'font': {'size': 16}\n",
    "    },\n",
    "    xaxis_title='Importancia (F1 Score Drop)',\n",
    "    yaxis_title='',\n",
    "    height=600,\n",
    "    width=1000,\n",
    "    yaxis={'categoryorder': 'total ascending'},\n",
    "    template='plotly_white',\n",
    "    margin=dict(l=200, r=100, t=80, b=50)\n",
    ")\n",
    "\n",
    "fig.show()"
   ]
  },
  {
   "cell_type": "markdown",
   "id": "cd74e0f8",
   "metadata": {},
   "source": [
    "## 5. SHAP Analysis"
   ]
  },
  {
   "cell_type": "code",
   "execution_count": 43,
   "id": "0173d34c",
   "metadata": {},
   "outputs": [
    {
     "name": "stdout",
     "output_type": "stream",
     "text": [
      "Inicializando SHAP TreeExplainer...\n",
      "Calculando SHAP values para 500 casos...\n",
      "Forma de shap_values_raw: (500, 14, 2)\n",
      "Usando clase positiva de array 3D. Forma final: (500, 14)\n",
      "✓ SHAP values con forma correcta: (500, 14)\n",
      "SHAP values calculados\n",
      "Forma de shap_values_raw: (500, 14, 2)\n",
      "Usando clase positiva de array 3D. Forma final: (500, 14)\n",
      "✓ SHAP values con forma correcta: (500, 14)\n",
      "SHAP values calculados\n"
     ]
    }
   ],
   "source": [
    "# Inicializar SHAP explainer\n",
    "print(\"Inicializando SHAP TreeExplainer...\")\n",
    "explainer = shap.TreeExplainer(modelo_rf)\n",
    "\n",
    "# Calcular SHAP values (usar muestra para eficiencia)\n",
    "sample_size = min(500, len(X_test))\n",
    "sample_indices = np.random.choice(len(X_test), sample_size, replace=False)\n",
    "X_sample = X_test[sample_indices]\n",
    "y_sample = y_test[sample_indices]\n",
    "\n",
    "print(f\"Calculando SHAP values para {sample_size} casos...\")\n",
    "shap_values_raw = explainer.shap_values(X_sample)\n",
    "\n",
    "# Debug: verificar la forma de shap_values\n",
    "print(f\"Forma de shap_values_raw: {np.array(shap_values_raw).shape if isinstance(shap_values_raw, list) else shap_values_raw.shape}\")\n",
    "\n",
    "# Para clasificación binaria, SHAP puede devolver (n_samples, n_features, n_classes)\n",
    "if isinstance(shap_values_raw, list):\n",
    "    # Caso 1: Lista con valores por clase\n",
    "    shap_values = shap_values_raw[1]  # Clase positiva (consumo = 1)\n",
    "    print(f\"Usando clase positiva de lista. Forma final: {shap_values.shape}\")\n",
    "elif len(shap_values_raw.shape) == 3:\n",
    "    # Caso 2: Array 3D (n_samples, n_features, n_classes)\n",
    "    shap_values = shap_values_raw[:, :, 1]  # Clase positiva (consumo = 1)\n",
    "    print(f\"Usando clase positiva de array 3D. Forma final: {shap_values.shape}\")\n",
    "else:\n",
    "    # Caso 3: Array 2D directo\n",
    "    shap_values = shap_values_raw\n",
    "    print(f\"Usando valores directos. Forma: {shap_values.shape}\")\n",
    "\n",
    "# Verificar que tenemos la forma correcta\n",
    "assert len(shap_values.shape) == 2, f\"SHAP values debe ser 2D, pero tiene forma: {shap_values.shape}\"\n",
    "print(f\"✓ SHAP values con forma correcta: {shap_values.shape}\")\n",
    "\n",
    "print(\"SHAP values calculados\")"
   ]
  },
  {
   "cell_type": "code",
   "execution_count": 44,
   "id": "828ae236",
   "metadata": {},
   "outputs": [
    {
     "data": {
      "image/png": "[encoded data removed]",
      "text/plain": [
       "<Figure size 800x710 with 2 Axes>"
      ]
     },
     "metadata": {},
     "output_type": "display_data"
    },
    {
     "data": {
      "image/png": "[encoded data removed]",
      "text/plain": [
       "<Figure size 800x710 with 1 Axes>"
      ]
     },
     "metadata": {},
     "output_type": "display_data"
    }
   ],
   "source": [
    "# Crear nombres legibles para SHAP\n",
    "readable_feature_names = [get_readable_feature_name(f) for f in feature_names]\n",
    "\n",
    "# SHAP Summary Plot\n",
    "plt.figure(figsize=(12, 8))\n",
    "shap.summary_plot(shap_values, X_sample, feature_names=readable_feature_names, show=False)\n",
    "plt.title('SHAP Summary Plot - Influencia de Variables')\n",
    "plt.tight_layout()\n",
    "plt.show()\n",
    "\n",
    "# SHAP Feature Importance\n",
    "plt.figure(figsize=(10, 8))\n",
    "shap.summary_plot(shap_values, X_sample, feature_names=readable_feature_names, plot_type=\"bar\", show=False)\n",
    "plt.title('SHAP Feature Importance')\n",
    "plt.tight_layout()\n",
    "plt.show()"
   ]
  },
  {
   "cell_type": "markdown",
   "id": "195f378d",
   "metadata": {},
   "source": [
    "## 6. Análisis de Casos Específicos"
   ]
  },
  {
   "cell_type": "code",
   "execution_count": 45,
   "id": "75f05fc3",
   "metadata": {},
   "outputs": [
    {
     "name": "stdout",
     "output_type": "stream",
     "text": [
      "ANÁLISIS DE CASOS ESPECÍFICOS\n",
      "==================================================\n",
      "Caso de MAYOR riesgo: Probabilidad = 0.998, Real = 1\n",
      "Caso de MENOR riesgo: Probabilidad = 0.000, Real = 0\n",
      "\n",
      "Falsos positivos encontrados: 44\n",
      "Falsos negativos encontrados: 20\n",
      "\n",
      "Debug - Forma de shap_values: (500, 14)\n",
      "Debug - high_risk_idx: 309\n",
      "Debug - Forma de shap_values[309]: (14,)\n",
      "Base value: 0.49999999999999717\n"
     ]
    },
    {
     "data": {
      "image/png": "[encoded data removed]",
      "text/plain": [
       "<Figure size 800x650 with 3 Axes>"
      ]
     },
     "metadata": {},
     "output_type": "display_data"
    },
    {
     "name": "stdout",
     "output_type": "stream",
     "text": [
      "\n",
      "--- CASO FALSO POSITIVO ---\n",
      "Probabilidad predicha: 0.669, Real: 0\n"
     ]
    },
    {
     "data": {
      "application/vnd.plotly.v1+json": {
       "config": {
        "plotlyServerURL": "https://plot.ly"
       },
       "data": [
        {
         "hovertemplate": "<b>%{y}</b><br>SHAP Value: %{x:.4f}<extra></extra>",
         "marker": {
          "color": [
           "#FF6B6B",
           "#4ECDC4",
           "#FF6B6B",
           "#FF6B6B",
           "#4ECDC4",
           "#4ECDC4",
           "#4ECDC4",
           "#4ECDC4",
           "#FF6B6B",
           "#4ECDC4"
          ],
          "line": {
           "color": "black",
           "width": 0.5
          }
         },
         "orientation": "h",
         "text": [
          "0.2489",
          "-0.0869",
          "0.0710",
          "0.0387",
          "-0.0369",
          "-0.0345",
          "-0.0205",
          "-0.0122",
          "0.0109",
          "-0.0088"
         ],
         "textposition": "outside",
         "type": "bar",
         "x": {
          "bdata": "3pylsurbzz/wU8g/OD62v6rKfz1EKrI/cMbQFlnSoz83nQggpeqiv7Eu6DKXpqG/oAr0WsoJlb8RWNApaeOIvwMk1VPLZIY/Zs/1H13wgb8=",
          "dtype": "f8"
         },
         "y": [
          "Curiosidad por Probar",
          "Disposición a Consumir",
          "Tuvo Oportunidad de Probar",
          "Ofertas Recibidas (Último Año)",
          "Acceso Fácil a Marihuana",
          "Acceso Fácil a Éxtasis",
          "Familiares Consumen Sustancias",
          "Ofertas de Cocaína",
          "Acceso Fácil a Cocaína",
          "Amigos Consumen Sustancias"
         ]
        }
       ],
       "layout": {
        "annotations": [
         {
          "bgcolor": "rgba(255,255,255,0.8)",
          "font": {
           "size": 10
          },
          "showarrow": false,
          "text": "🔴 Incrementa riesgo | 🔵 Reduce riesgo",
          "x": 0.02,
          "xref": "paper",
          "y": 0.98,
          "yref": "paper"
         }
        ],
        "height": 500,
        "margin": {
         "b": 50,
         "l": 250,
         "r": 50,
         "t": 80
        },
        "shapes": [
         {
          "line": {
           "color": "black",
           "width": 2
          },
          "opacity": 0.5,
          "type": "line",
          "x0": 0,
          "x1": 0,
          "xref": "x",
          "y0": 0,
          "y1": 1,
          "yref": "y domain"
         }
        ],
        "template": {
         "data": {
          "bar": [
           {
            "error_x": {
             "color": "#2a3f5f"
            },
            "error_y": {
             "color": "#2a3f5f"
            },
            "marker": {
             "line": {
              "color": "white",
              "width": 0.5
             },
             "pattern": {
              "fillmode": "overlay",
              "size": 10,
              "solidity": 0.2
             }
            },
            "type": "bar"
           }
          ],
          "barpolar": [
           {
            "marker": {
             "line": {
              "color": "white",
              "width": 0.5
             },
             "pattern": {
              "fillmode": "overlay",
              "size": 10,
              "solidity": 0.2
             }
            },
            "type": "barpolar"
           }
          ],
          "carpet": [
           {
            "aaxis": {
             "endlinecolor": "#2a3f5f",
             "gridcolor": "#C8D4E3",
             "linecolor": "#C8D4E3",
             "minorgridcolor": "#C8D4E3",
             "startlinecolor": "#2a3f5f"
            },
            "baxis": {
             "endlinecolor": "#2a3f5f",
             "gridcolor": "#C8D4E3",
             "linecolor": "#C8D4E3",
             "minorgridcolor": "#C8D4E3",
             "startlinecolor": "#2a3f5f"
            },
            "type": "carpet"
           }
          ],
          "choropleth": [
           {
            "colorbar": {
             "outlinewidth": 0,
             "ticks": ""
            },
            "type": "choropleth"
           }
          ],
          "contour": [
           {
            "colorbar": {
             "outlinewidth": 0,
             "ticks": ""
            },
            "colorscale": [
             [
              0,
              "#0d0887"
             ],
             [
              0.1111111111111111,
              "#46039f"
             ],
             [
              0.2222222222222222,
              "#7201a8"
             ],
             [
              0.3333333333333333,
              "#9c179e"
             ],
             [
              0.4444444444444444,
              "#bd3786"
             ],
             [
              0.5555555555555556,
              "#d8576b"
             ],
             [
              0.6666666666666666,
              "#ed7953"
             ],
             [
              0.7777777777777778,
              "#fb9f3a"
             ],
             [
              0.8888888888888888,
              "#fdca26"
             ],
             [
              1,
              "#f0f921"
             ]
            ],
            "type": "contour"
           }
          ],
          "contourcarpet": [
           {
            "colorbar": {
             "outlinewidth": 0,
             "ticks": ""
            },
            "type": "contourcarpet"
           }
          ],
          "heatmap": [
           {
            "colorbar": {
             "outlinewidth": 0,
             "ticks": ""
            },
            "colorscale": [
             [
              0,
              "#0d0887"
             ],
             [
              0.1111111111111111,
              "#46039f"
             ],
             [
              0.2222222222222222,
              "#7201a8"
             ],
             [
              0.3333333333333333,
              "#9c179e"
             ],
             [
              0.4444444444444444,
              "#bd3786"
             ],
             [
              0.5555555555555556,
              "#d8576b"
             ],
             [
              0.6666666666666666,
              "#ed7953"
             ],
             [
              0.7777777777777778,
              "#fb9f3a"
             ],
             [
              0.8888888888888888,
              "#fdca26"
             ],
             [
              1,
              "#f0f921"
             ]
            ],
            "type": "heatmap"
           }
          ],
          "histogram": [
           {
            "marker": {
             "pattern": {
              "fillmode": "overlay",
              "size": 10,
              "solidity": 0.2
             }
            },
            "type": "histogram"
           }
          ],
          "histogram2d": [
           {
            "colorbar": {
             "outlinewidth": 0,
             "ticks": ""
            },
            "colorscale": [
             [
              0,
              "#0d0887"
             ],
             [
              0.1111111111111111,
              "#46039f"
             ],
             [
              0.2222222222222222,
              "#7201a8"
             ],
             [
              0.3333333333333333,
              "#9c179e"
             ],
             [
              0.4444444444444444,
              "#bd3786"
             ],
             [
              0.5555555555555556,
              "#d8576b"
             ],
             [
              0.6666666666666666,
              "#ed7953"
             ],
             [
              0.7777777777777778,
              "#fb9f3a"
             ],
             [
              0.8888888888888888,
              "#fdca26"
             ],
             [
              1,
              "#f0f921"
             ]
            ],
            "type": "histogram2d"
           }
          ],
          "histogram2dcontour": [
           {
            "colorbar": {
             "outlinewidth": 0,
             "ticks": ""
            },
            "colorscale": [
             [
              0,
              "#0d0887"
             ],
             [
              0.1111111111111111,
              "#46039f"
             ],
             [
              0.2222222222222222,
              "#7201a8"
             ],
             [
              0.3333333333333333,
              "#9c179e"
             ],
             [
              0.4444444444444444,
              "#bd3786"
             ],
             [
              0.5555555555555556,
              "#d8576b"
             ],
             [
              0.6666666666666666,
              "#ed7953"
             ],
             [
              0.7777777777777778,
              "#fb9f3a"
             ],
             [
              0.8888888888888888,
              "#fdca26"
             ],
             [
              1,
              "#f0f921"
             ]
            ],
            "type": "histogram2dcontour"
           }
          ],
          "mesh3d": [
           {
            "colorbar": {
             "outlinewidth": 0,
             "ticks": ""
            },
            "type": "mesh3d"
           }
          ],
          "parcoords": [
           {
            "line": {
             "colorbar": {
              "outlinewidth": 0,
              "ticks": ""
             }
            },
            "type": "parcoords"
           }
          ],
          "pie": [
           {
            "automargin": true,
            "type": "pie"
           }
          ],
          "scatter": [
           {
            "fillpattern": {
             "fillmode": "overlay",
             "size": 10,
             "solidity": 0.2
            },
            "type": "scatter"
           }
          ],
          "scatter3d": [
           {
            "line": {
             "colorbar": {
              "outlinewidth": 0,
              "ticks": ""
             }
            },
            "marker": {
             "colorbar": {
              "outlinewidth": 0,
              "ticks": ""
             }
            },
            "type": "scatter3d"
           }
          ],
          "scattercarpet": [
           {
            "marker": {
             "colorbar": {
              "outlinewidth": 0,
              "ticks": ""
             }
            },
            "type": "scattercarpet"
           }
          ],
          "scattergeo": [
           {
            "marker": {
             "colorbar": {
              "outlinewidth": 0,
              "ticks": ""
             }
            },
            "type": "scattergeo"
           }
          ],
          "scattergl": [
           {
            "marker": {
             "colorbar": {
              "outlinewidth": 0,
              "ticks": ""
             }
            },
            "type": "scattergl"
           }
          ],
          "scattermap": [
           {
            "marker": {
             "colorbar": {
              "outlinewidth": 0,
              "ticks": ""
             }
            },
            "type": "scattermap"
           }
          ],
          "scattermapbox": [
           {
            "marker": {
             "colorbar": {
              "outlinewidth": 0,
              "ticks": ""
             }
            },
            "type": "scattermapbox"
           }
          ],
          "scatterpolar": [
           {
            "marker": {
             "colorbar": {
              "outlinewidth": 0,
              "ticks": ""
             }
            },
            "type": "scatterpolar"
           }
          ],
          "scatterpolargl": [
           {
            "marker": {
             "colorbar": {
              "outlinewidth": 0,
              "ticks": ""
             }
            },
            "type": "scatterpolargl"
           }
          ],
          "scatterternary": [
           {
            "marker": {
             "colorbar": {
              "outlinewidth": 0,
              "ticks": ""
             }
            },
            "type": "scatterternary"
           }
          ],
          "surface": [
           {
            "colorbar": {
             "outlinewidth": 0,
             "ticks": ""
            },
            "colorscale": [
             [
              0,
              "#0d0887"
             ],
             [
              0.1111111111111111,
              "#46039f"
             ],
             [
              0.2222222222222222,
              "#7201a8"
             ],
             [
              0.3333333333333333,
              "#9c179e"
             ],
             [
              0.4444444444444444,
              "#bd3786"
             ],
             [
              0.5555555555555556,
              "#d8576b"
             ],
             [
              0.6666666666666666,
              "#ed7953"
             ],
             [
              0.7777777777777778,
              "#fb9f3a"
             ],
             [
              0.8888888888888888,
              "#fdca26"
             ],
             [
              1,
              "#f0f921"
             ]
            ],
            "type": "surface"
           }
          ],
          "table": [
           {
            "cells": {
             "fill": {
              "color": "#EBF0F8"
             },
             "line": {
              "color": "white"
             }
            },
            "header": {
             "fill": {
              "color": "#C8D4E3"
             },
             "line": {
              "color": "white"
             }
            },
            "type": "table"
           }
          ]
         },
         "layout": {
          "annotationdefaults": {
           "arrowcolor": "#2a3f5f",
           "arrowhead": 0,
           "arrowwidth": 1
          },
          "autotypenumbers": "strict",
          "coloraxis": {
           "colorbar": {
            "outlinewidth": 0,
            "ticks": ""
           }
          },
          "colorscale": {
           "diverging": [
            [
             0,
             "#8e0152"
            ],
            [
             0.1,
             "#c51b7d"
            ],
            [
             0.2,
             "#de77ae"
            ],
            [
             0.3,
             "#f1b6da"
            ],
            [
             0.4,
             "#fde0ef"
            ],
            [
             0.5,
             "#f7f7f7"
            ],
            [
             0.6,
             "#e6f5d0"
            ],
            [
             0.7,
             "#b8e186"
            ],
            [
             0.8,
             "#7fbc41"
            ],
            [
             0.9,
             "#4d9221"
            ],
            [
             1,
             "#276419"
            ]
           ],
           "sequential": [
            [
             0,
             "#0d0887"
            ],
            [
             0.1111111111111111,
             "#46039f"
            ],
            [
             0.2222222222222222,
             "#7201a8"
            ],
            [
             0.3333333333333333,
             "#9c179e"
            ],
            [
             0.4444444444444444,
             "#bd3786"
            ],
            [
             0.5555555555555556,
             "#d8576b"
            ],
            [
             0.6666666666666666,
             "#ed7953"
            ],
            [
             0.7777777777777778,
             "#fb9f3a"
            ],
            [
             0.8888888888888888,
             "#fdca26"
            ],
            [
             1,
             "#f0f921"
            ]
           ],
           "sequentialminus": [
            [
             0,
             "#0d0887"
            ],
            [
             0.1111111111111111,
             "#46039f"
            ],
            [
             0.2222222222222222,
             "#7201a8"
            ],
            [
             0.3333333333333333,
             "#9c179e"
            ],
            [
             0.4444444444444444,
             "#bd3786"
            ],
            [
             0.5555555555555556,
             "#d8576b"
            ],
            [
             0.6666666666666666,
             "#ed7953"
            ],
            [
             0.7777777777777778,
             "#fb9f3a"
            ],
            [
             0.8888888888888888,
             "#fdca26"
            ],
            [
             1,
             "#f0f921"
            ]
           ]
          },
          "colorway": [
           "#636efa",
           "#EF553B",
           "#00cc96",
           "#ab63fa",
           "#FFA15A",
           "#19d3f3",
           "#FF6692",
           "#B6E880",
           "#FF97FF",
           "#FECB52"
          ],
          "font": {
           "color": "#2a3f5f"
          },
          "geo": {
           "bgcolor": "white",
           "lakecolor": "white",
           "landcolor": "white",
           "showlakes": true,
           "showland": true,
           "subunitcolor": "#C8D4E3"
          },
          "hoverlabel": {
           "align": "left"
          },
          "hovermode": "closest",
          "mapbox": {
           "style": "light"
          },
          "paper_bgcolor": "white",
          "plot_bgcolor": "white",
          "polar": {
           "angularaxis": {
            "gridcolor": "#EBF0F8",
            "linecolor": "#EBF0F8",
            "ticks": ""
           },
           "bgcolor": "white",
           "radialaxis": {
            "gridcolor": "#EBF0F8",
            "linecolor": "#EBF0F8",
            "ticks": ""
           }
          },
          "scene": {
           "xaxis": {
            "backgroundcolor": "white",
            "gridcolor": "#DFE8F3",
            "gridwidth": 2,
            "linecolor": "#EBF0F8",
            "showbackground": true,
            "ticks": "",
            "zerolinecolor": "#EBF0F8"
           },
           "yaxis": {
            "backgroundcolor": "white",
            "gridcolor": "#DFE8F3",
            "gridwidth": 2,
            "linecolor": "#EBF0F8",
            "showbackground": true,
            "ticks": "",
            "zerolinecolor": "#EBF0F8"
           },
           "zaxis": {
            "backgroundcolor": "white",
            "gridcolor": "#DFE8F3",
            "gridwidth": 2,
            "linecolor": "#EBF0F8",
            "showbackground": true,
            "ticks": "",
            "zerolinecolor": "#EBF0F8"
           }
          },
          "shapedefaults": {
           "line": {
            "color": "#2a3f5f"
           }
          },
          "ternary": {
           "aaxis": {
            "gridcolor": "#DFE8F3",
            "linecolor": "#A2B1C6",
            "ticks": ""
           },
           "baxis": {
            "gridcolor": "#DFE8F3",
            "linecolor": "#A2B1C6",
            "ticks": ""
           },
           "bgcolor": "white",
           "caxis": {
            "gridcolor": "#DFE8F3",
            "linecolor": "#A2B1C6",
            "ticks": ""
           }
          },
          "title": {
           "x": 0.05
          },
          "xaxis": {
           "automargin": true,
           "gridcolor": "#EBF0F8",
           "linecolor": "#EBF0F8",
           "ticks": "",
           "title": {
            "standoff": 15
           },
           "zerolinecolor": "#EBF0F8",
           "zerolinewidth": 2
          },
          "yaxis": {
           "automargin": true,
           "gridcolor": "#EBF0F8",
           "linecolor": "#EBF0F8",
           "ticks": "",
           "title": {
            "standoff": 15
           },
           "zerolinecolor": "#EBF0F8",
           "zerolinewidth": 2
          }
         }
        },
        "title": {
         "font": {
          "size": 14
         },
         "text": "Top 10 SHAP Values - Falso Positivo (Prob: 0.669)",
         "x": 0.5,
         "xanchor": "center"
        },
        "width": 1000,
        "xaxis": {
         "title": {
          "text": "Valor SHAP"
         }
        },
        "yaxis": {
         "categoryorder": "total ascending",
         "title": {
          "text": ""
         }
        }
       }
      }
     },
     "metadata": {},
     "output_type": "display_data"
    },
    {
     "name": "stdout",
     "output_type": "stream",
     "text": [
      "\n",
      "--- CASO FALSO NEGATIVO ---\n",
      "Probabilidad predicha: 0.437, Real: 1\n"
     ]
    },
    {
     "data": {
      "application/vnd.plotly.v1+json": {
       "config": {
        "plotlyServerURL": "https://plot.ly"
       },
       "data": [
        {
         "hovertemplate": "<b>%{y}</b><br>SHAP Value: %{x:.4f}<extra></extra>",
         "marker": {
          "color": [
           "#FF6B6B",
           "#4ECDC4",
           "#4ECDC4",
           "#4ECDC4",
           "#FF6B6B",
           "#FF6B6B",
           "#4ECDC4",
           "#FF6B6B",
           "#FF6B6B",
           "#4ECDC4"
          ],
          "line": {
           "color": "black",
           "width": 0.5
          }
         },
         "orientation": "h",
         "text": [
          "0.2115",
          "-0.1856",
          "-0.1484",
          "-0.0581",
          "0.0403",
          "0.0354",
          "-0.0285",
          "0.0275",
          "0.0240",
          "-0.0195"
         ],
         "textposition": "outside",
         "type": "bar",
         "x": {
          "bdata": "By6UliERyz+4a0gXYcLHv7pt9ebu/8K/YkFXzGW+rb+d/XtMlJykP5UrnSRZH6I/5bPQb5Qwnb/yWSL44CecP4Z7rJ8boJg/xFfyKbDvk78=",
          "dtype": "f8"
         },
         "y": [
          "Curiosidad por Probar",
          "Ofertas de Marihuana",
          "Tuvo Oportunidad de Probar",
          "Disposición a Consumir",
          "Ofertas Recibidas (Último Año)",
          "Cant. Familiares que Consumen",
          "Acceso Fácil a Éxtasis",
          "Familiares Consumen Sustancias",
          "Amigos Consumen Sustancias",
          "Ofertas de Cocaína"
         ]
        }
       ],
       "layout": {
        "annotations": [
         {
          "bgcolor": "rgba(255,255,255,0.8)",
          "font": {
           "size": 10
          },
          "showarrow": false,
          "text": "🔴 Incrementa riesgo | 🔵 Reduce riesgo",
          "x": 0.02,
          "xref": "paper",
          "y": 0.98,
          "yref": "paper"
         }
        ],
        "height": 500,
        "margin": {
         "b": 50,
         "l": 250,
         "r": 50,
         "t": 80
        },
        "shapes": [
         {
          "line": {
           "color": "black",
           "width": 2
          },
          "opacity": 0.5,
          "type": "line",
          "x0": 0,
          "x1": 0,
          "xref": "x",
          "y0": 0,
          "y1": 1,
          "yref": "y domain"
         }
        ],
        "template": {
         "data": {
          "bar": [
           {
            "error_x": {
             "color": "#2a3f5f"
            },
            "error_y": {
             "color": "#2a3f5f"
            },
            "marker": {
             "line": {
              "color": "white",
              "width": 0.5
             },
             "pattern": {
              "fillmode": "overlay",
              "size": 10,
              "solidity": 0.2
             }
            },
            "type": "bar"
           }
          ],
          "barpolar": [
           {
            "marker": {
             "line": {
              "color": "white",
              "width": 0.5
             },
             "pattern": {
              "fillmode": "overlay",
              "size": 10,
              "solidity": 0.2
             }
            },
            "type": "barpolar"
           }
          ],
          "carpet": [
           {
            "aaxis": {
             "endlinecolor": "#2a3f5f",
             "gridcolor": "#C8D4E3",
             "linecolor": "#C8D4E3",
             "minorgridcolor": "#C8D4E3",
             "startlinecolor": "#2a3f5f"
            },
            "baxis": {
             "endlinecolor": "#2a3f5f",
             "gridcolor": "#C8D4E3",
             "linecolor": "#C8D4E3",
             "minorgridcolor": "#C8D4E3",
             "startlinecolor": "#2a3f5f"
            },
            "type": "carpet"
           }
          ],
          "choropleth": [
           {
            "colorbar": {
             "outlinewidth": 0,
             "ticks": ""
            },
            "type": "choropleth"
           }
          ],
          "contour": [
           {
            "colorbar": {
             "outlinewidth": 0,
             "ticks": ""
            },
            "colorscale": [
             [
              0,
              "#0d0887"
             ],
             [
              0.1111111111111111,
              "#46039f"
             ],
             [
              0.2222222222222222,
              "#7201a8"
             ],
             [
              0.3333333333333333,
              "#9c179e"
             ],
             [
              0.4444444444444444,
              "#bd3786"
             ],
             [
              0.5555555555555556,
              "#d8576b"
             ],
             [
              0.6666666666666666,
              "#ed7953"
             ],
             [
              0.7777777777777778,
              "#fb9f3a"
             ],
             [
              0.8888888888888888,
              "#fdca26"
             ],
             [
              1,
              "#f0f921"
             ]
            ],
            "type": "contour"
           }
          ],
          "contourcarpet": [
           {
            "colorbar": {
             "outlinewidth": 0,
             "ticks": ""
            },
            "type": "contourcarpet"
           }
          ],
          "heatmap": [
           {
            "colorbar": {
             "outlinewidth": 0,
             "ticks": ""
            },
            "colorscale": [
             [
              0,
              "#0d0887"
             ],
             [
              0.1111111111111111,
              "#46039f"
             ],
             [
              0.2222222222222222,
              "#7201a8"
             ],
             [
              0.3333333333333333,
              "#9c179e"
             ],
             [
              0.4444444444444444,
              "#bd3786"
             ],
             [
              0.5555555555555556,
              "#d8576b"
             ],
             [
              0.6666666666666666,
              "#ed7953"
             ],
             [
              0.7777777777777778,
              "#fb9f3a"
             ],
             [
              0.8888888888888888,
              "#fdca26"
             ],
             [
              1,
              "#f0f921"
             ]
            ],
            "type": "heatmap"
           }
          ],
          "histogram": [
           {
            "marker": {
             "pattern": {
              "fillmode": "overlay",
              "size": 10,
              "solidity": 0.2
             }
            },
            "type": "histogram"
           }
          ],
          "histogram2d": [
           {
            "colorbar": {
             "outlinewidth": 0,
             "ticks": ""
            },
            "colorscale": [
             [
              0,
              "#0d0887"
             ],
             [
              0.1111111111111111,
              "#46039f"
             ],
             [
              0.2222222222222222,
              "#7201a8"
             ],
             [
              0.3333333333333333,
              "#9c179e"
             ],
             [
              0.4444444444444444,
              "#bd3786"
             ],
             [
              0.5555555555555556,
              "#d8576b"
             ],
             [
              0.6666666666666666,
              "#ed7953"
             ],
             [
              0.7777777777777778,
              "#fb9f3a"
             ],
             [
              0.8888888888888888,
              "#fdca26"
             ],
             [
              1,
              "#f0f921"
             ]
            ],
            "type": "histogram2d"
           }
          ],
          "histogram2dcontour": [
           {
            "colorbar": {
             "outlinewidth": 0,
             "ticks": ""
            },
            "colorscale": [
             [
              0,
              "#0d0887"
             ],
             [
              0.1111111111111111,
              "#46039f"
             ],
             [
              0.2222222222222222,
              "#7201a8"
             ],
             [
              0.3333333333333333,
              "#9c179e"
             ],
             [
              0.4444444444444444,
              "#bd3786"
             ],
             [
              0.5555555555555556,
              "#d8576b"
             ],
             [
              0.6666666666666666,
              "#ed7953"
             ],
             [
              0.7777777777777778,
              "#fb9f3a"
             ],
             [
              0.8888888888888888,
              "#fdca26"
             ],
             [
              1,
              "#f0f921"
             ]
            ],
            "type": "histogram2dcontour"
           }
          ],
          "mesh3d": [
           {
            "colorbar": {
             "outlinewidth": 0,
             "ticks": ""
            },
            "type": "mesh3d"
           }
          ],
          "parcoords": [
           {
            "line": {
             "colorbar": {
              "outlinewidth": 0,
              "ticks": ""
             }
            },
            "type": "parcoords"
           }
          ],
          "pie": [
           {
            "automargin": true,
            "type": "pie"
           }
          ],
          "scatter": [
           {
            "fillpattern": {
             "fillmode": "overlay",
             "size": 10,
             "solidity": 0.2
            },
            "type": "scatter"
           }
          ],
          "scatter3d": [
           {
            "line": {
             "colorbar": {
              "outlinewidth": 0,
              "ticks": ""
             }
            },
            "marker": {
             "colorbar": {
              "outlinewidth": 0,
              "ticks": ""
             }
            },
            "type": "scatter3d"
           }
          ],
          "scattercarpet": [
           {
            "marker": {
             "colorbar": {
              "outlinewidth": 0,
              "ticks": ""
             }
            },
            "type": "scattercarpet"
           }
          ],
          "scattergeo": [
           {
            "marker": {
             "colorbar": {
              "outlinewidth": 0,
              "ticks": ""
             }
            },
            "type": "scattergeo"
           }
          ],
          "scattergl": [
           {
            "marker": {
             "colorbar": {
              "outlinewidth": 0,
              "ticks": ""
             }
            },
            "type": "scattergl"
           }
          ],
          "scattermap": [
           {
            "marker": {
             "colorbar": {
              "outlinewidth": 0,
              "ticks": ""
             }
            },
            "type": "scattermap"
           }
          ],
          "scattermapbox": [
           {
            "marker": {
             "colorbar": {
              "outlinewidth": 0,
              "ticks": ""
             }
            },
            "type": "scattermapbox"
           }
          ],
          "scatterpolar": [
           {
            "marker": {
             "colorbar": {
              "outlinewidth": 0,
              "ticks": ""
             }
            },
            "type": "scatterpolar"
           }
          ],
          "scatterpolargl": [
           {
            "marker": {
             "colorbar": {
              "outlinewidth": 0,
              "ticks": ""
             }
            },
            "type": "scatterpolargl"
           }
          ],
          "scatterternary": [
           {
            "marker": {
             "colorbar": {
              "outlinewidth": 0,
              "ticks": ""
             }
            },
            "type": "scatterternary"
           }
          ],
          "surface": [
           {
            "colorbar": {
             "outlinewidth": 0,
             "ticks": ""
            },
            "colorscale": [
             [
              0,
              "#0d0887"
             ],
             [
              0.1111111111111111,
              "#46039f"
             ],
             [
              0.2222222222222222,
              "#7201a8"
             ],
             [
              0.3333333333333333,
              "#9c179e"
             ],
             [
              0.4444444444444444,
              "#bd3786"
             ],
             [
              0.5555555555555556,
              "#d8576b"
             ],
             [
              0.6666666666666666,
              "#ed7953"
             ],
             [
              0.7777777777777778,
              "#fb9f3a"
             ],
             [
              0.8888888888888888,
              "#fdca26"
             ],
             [
              1,
              "#f0f921"
             ]
            ],
            "type": "surface"
           }
          ],
          "table": [
           {
            "cells": {
             "fill": {
              "color": "#EBF0F8"
             },
             "line": {
              "color": "white"
             }
            },
            "header": {
             "fill": {
              "color": "#C8D4E3"
             },
             "line": {
              "color": "white"
             }
            },
            "type": "table"
           }
          ]
         },
         "layout": {
          "annotationdefaults": {
           "arrowcolor": "#2a3f5f",
           "arrowhead": 0,
           "arrowwidth": 1
          },
          "autotypenumbers": "strict",
          "coloraxis": {
           "colorbar": {
            "outlinewidth": 0,
            "ticks": ""
           }
          },
          "colorscale": {
           "diverging": [
            [
             0,
             "#8e0152"
            ],
            [
             0.1,
             "#c51b7d"
            ],
            [
             0.2,
             "#de77ae"
            ],
            [
             0.3,
             "#f1b6da"
            ],
            [
             0.4,
             "#fde0ef"
            ],
            [
             0.5,
             "#f7f7f7"
            ],
            [
             0.6,
             "#e6f5d0"
            ],
            [
             0.7,
             "#b8e186"
            ],
            [
             0.8,
             "#7fbc41"
            ],
            [
             0.9,
             "#4d9221"
            ],
            [
             1,
             "#276419"
            ]
           ],
           "sequential": [
            [
             0,
             "#0d0887"
            ],
            [
             0.1111111111111111,
             "#46039f"
            ],
            [
             0.2222222222222222,
             "#7201a8"
            ],
            [
             0.3333333333333333,
             "#9c179e"
            ],
            [
             0.4444444444444444,
             "#bd3786"
            ],
            [
             0.5555555555555556,
             "#d8576b"
            ],
            [
             0.6666666666666666,
             "#ed7953"
            ],
            [
             0.7777777777777778,
             "#fb9f3a"
            ],
            [
             0.8888888888888888,
             "#fdca26"
            ],
            [
             1,
             "#f0f921"
            ]
           ],
           "sequentialminus": [
            [
             0,
             "#0d0887"
            ],
            [
             0.1111111111111111,
             "#46039f"
            ],
            [
             0.2222222222222222,
             "#7201a8"
            ],
            [
             0.3333333333333333,
             "#9c179e"
            ],
            [
             0.4444444444444444,
             "#bd3786"
            ],
            [
             0.5555555555555556,
             "#d8576b"
            ],
            [
             0.6666666666666666,
             "#ed7953"
            ],
            [
             0.7777777777777778,
             "#fb9f3a"
            ],
            [
             0.8888888888888888,
             "#fdca26"
            ],
            [
             1,
             "#f0f921"
            ]
           ]
          },
          "colorway": [
           "#636efa",
           "#EF553B",
           "#00cc96",
           "#ab63fa",
           "#FFA15A",
           "#19d3f3",
           "#FF6692",
           "#B6E880",
           "#FF97FF",
           "#FECB52"
          ],
          "font": {
           "color": "#2a3f5f"
          },
          "geo": {
           "bgcolor": "white",
           "lakecolor": "white",
           "landcolor": "white",
           "showlakes": true,
           "showland": true,
           "subunitcolor": "#C8D4E3"
          },
          "hoverlabel": {
           "align": "left"
          },
          "hovermode": "closest",
          "mapbox": {
           "style": "light"
          },
          "paper_bgcolor": "white",
          "plot_bgcolor": "white",
          "polar": {
           "angularaxis": {
            "gridcolor": "#EBF0F8",
            "linecolor": "#EBF0F8",
            "ticks": ""
           },
           "bgcolor": "white",
           "radialaxis": {
            "gridcolor": "#EBF0F8",
            "linecolor": "#EBF0F8",
            "ticks": ""
           }
          },
          "scene": {
           "xaxis": {
            "backgroundcolor": "white",
            "gridcolor": "#DFE8F3",
            "gridwidth": 2,
            "linecolor": "#EBF0F8",
            "showbackground": true,
            "ticks": "",
            "zerolinecolor": "#EBF0F8"
           },
           "yaxis": {
            "backgroundcolor": "white",
            "gridcolor": "#DFE8F3",
            "gridwidth": 2,
            "linecolor": "#EBF0F8",
            "showbackground": true,
            "ticks": "",
            "zerolinecolor": "#EBF0F8"
           },
           "zaxis": {
            "backgroundcolor": "white",
            "gridcolor": "#DFE8F3",
            "gridwidth": 2,
            "linecolor": "#EBF0F8",
            "showbackground": true,
            "ticks": "",
            "zerolinecolor": "#EBF0F8"
           }
          },
          "shapedefaults": {
           "line": {
            "color": "#2a3f5f"
           }
          },
          "ternary": {
           "aaxis": {
            "gridcolor": "#DFE8F3",
            "linecolor": "#A2B1C6",
            "ticks": ""
           },
           "baxis": {
            "gridcolor": "#DFE8F3",
            "linecolor": "#A2B1C6",
            "ticks": ""
           },
           "bgcolor": "white",
           "caxis": {
            "gridcolor": "#DFE8F3",
            "linecolor": "#A2B1C6",
            "ticks": ""
           }
          },
          "title": {
           "x": 0.05
          },
          "xaxis": {
           "automargin": true,
           "gridcolor": "#EBF0F8",
           "linecolor": "#EBF0F8",
           "ticks": "",
           "title": {
            "standoff": 15
           },
           "zerolinecolor": "#EBF0F8",
           "zerolinewidth": 2
          },
          "yaxis": {
           "automargin": true,
           "gridcolor": "#EBF0F8",
           "linecolor": "#EBF0F8",
           "ticks": "",
           "title": {
            "standoff": 15
           },
           "zerolinecolor": "#EBF0F8",
           "zerolinewidth": 2
          }
         }
        },
        "title": {
         "font": {
          "size": 14
         },
         "text": "Top 10 SHAP Values - Falso Negativo (Prob: 0.437)",
         "x": 0.5,
         "xanchor": "center"
        },
        "width": 1000,
        "xaxis": {
         "title": {
          "text": "Valor SHAP"
         }
        },
        "yaxis": {
         "categoryorder": "total ascending",
         "title": {
          "text": ""
         }
        }
       }
      }
     },
     "metadata": {},
     "output_type": "display_data"
    }
   ],
   "source": [
    "# Predecir probabilidades para la muestra\n",
    "probas_sample = modelo_rf.predict_proba(X_sample)[:, 1]\n",
    "\n",
    "# Encontrar casos extremos\n",
    "high_risk_idx = np.argmax(probas_sample)\n",
    "low_risk_idx = np.argmin(probas_sample)\n",
    "\n",
    "# Casos de falsos positivos y falsos negativos\n",
    "y_pred_sample = modelo_rf.predict(X_sample)\n",
    "false_positive_mask = (y_sample == 0) & (y_pred_sample == 1)\n",
    "false_negative_mask = (y_sample == 1) & (y_pred_sample == 0)\n",
    "\n",
    "print(\"ANÁLISIS DE CASOS ESPECÍFICOS\")\n",
    "print(\"=\"*50)\n",
    "print(f\"Caso de MAYOR riesgo: Probabilidad = {probas_sample[high_risk_idx]:.3f}, Real = {y_sample[high_risk_idx]}\")\n",
    "print(f\"Caso de MENOR riesgo: Probabilidad = {probas_sample[low_risk_idx]:.3f}, Real = {y_sample[low_risk_idx]}\")\n",
    "print(f\"\\nFalsos positivos encontrados: {false_positive_mask.sum()}\")\n",
    "print(f\"Falsos negativos encontrados: {false_negative_mask.sum()}\")\n",
    "\n",
    "# Función para crear gráfico SHAP con Plotly\n",
    "def create_shap_plot(shap_vals, feature_names, title, prob):\n",
    "    # Asegurar que shap_vals es 1D\n",
    "    if len(shap_vals.shape) > 1:\n",
    "        shap_vals = shap_vals.flatten()[:len(feature_names)]\n",
    "    \n",
    "    # Crear DataFrame para el gráfico\n",
    "    shap_df = pd.DataFrame({\n",
    "        'feature': feature_names[:len(shap_vals)],\n",
    "        'shap_value': shap_vals,\n",
    "        'abs_shap': np.abs(shap_vals)\n",
    "    }).sort_values('abs_shap', ascending=False).head(10)\n",
    "    \n",
    "    # Colores según el signo\n",
    "    colors = ['#FF6B6B' if x > 0 else '#4ECDC4' for x in shap_df['shap_value']]\n",
    "    \n",
    "    fig = go.Figure()\n",
    "    \n",
    "    fig.add_trace(go.Bar(\n",
    "        x=shap_df['shap_value'],\n",
    "        y=shap_df['feature'],\n",
    "        orientation='h',\n",
    "        marker=dict(\n",
    "            color=colors,\n",
    "            line=dict(color='black', width=0.5)\n",
    "        ),\n",
    "        text=[f\"{val:.4f}\" for val in shap_df['shap_value']],\n",
    "        textposition='outside',\n",
    "        hovertemplate='<b>%{y}</b><br>SHAP Value: %{x:.4f}<extra></extra>'\n",
    "    ))\n",
    "    \n",
    "    # Línea vertical en cero\n",
    "    fig.add_vline(x=0, line_width=2, line_color=\"black\", opacity=0.5)\n",
    "    \n",
    "    fig.update_layout(\n",
    "        title={\n",
    "            'text': f'{title} (Prob: {prob:.3f})',\n",
    "            'x': 0.5,\n",
    "            'xanchor': 'center',\n",
    "            'font': {'size': 14}\n",
    "        },\n",
    "        xaxis_title='Valor SHAP',\n",
    "        yaxis_title='',\n",
    "        height=500,\n",
    "        width=1000,\n",
    "        yaxis={'categoryorder': 'total ascending'},\n",
    "        template='plotly_white',\n",
    "        margin=dict(l=250, r=50, t=80, b=50),\n",
    "        annotations=[\n",
    "            dict(\n",
    "                x=0.02, y=0.98,\n",
    "                xref='paper', yref='paper',\n",
    "                text='🔴 Incrementa riesgo | 🔵 Reduce riesgo',\n",
    "                showarrow=False,\n",
    "                font=dict(size=10),\n",
    "                bgcolor=\"rgba(255,255,255,0.8)\"\n",
    "            )\n",
    "        ]\n",
    "    )\n",
    "    \n",
    "    return fig\n",
    "\n",
    "# Debug de dimensiones antes de waterfall\n",
    "print(f\"\\nDebug - Forma de shap_values: {shap_values.shape}\")\n",
    "print(f\"Debug - high_risk_idx: {high_risk_idx}\")\n",
    "if high_risk_idx < len(shap_values):\n",
    "    print(f\"Debug - Forma de shap_values[{high_risk_idx}]: {shap_values[high_risk_idx].shape}\")\n",
    "\n",
    "# SHAP Analysis para caso de alto riesgo\n",
    "try:\n",
    "    if high_risk_idx < len(shap_values):\n",
    "        # Obtener el valor base correcto\n",
    "        if isinstance(explainer.expected_value, np.ndarray):\n",
    "            base_value = explainer.expected_value[1] if len(explainer.expected_value) > 1 else explainer.expected_value[0]\n",
    "        else:\n",
    "            base_value = explainer.expected_value\n",
    "        \n",
    "        print(f\"Base value: {base_value}\")\n",
    "        \n",
    "        # Intentar waterfall plot\n",
    "        plt.figure(figsize=(12, 8))\n",
    "        explanation = shap.Explanation(\n",
    "            values=shap_values[high_risk_idx], \n",
    "            base_values=base_value,\n",
    "            data=X_sample[high_risk_idx],\n",
    "            feature_names=readable_feature_names\n",
    "        )\n",
    "        \n",
    "        shap.plots.waterfall(explanation, show=False)\n",
    "        plt.title(f'Explicación SHAP - Caso Alto Riesgo (Prob: {probas_sample[high_risk_idx]:.3f})')\n",
    "        plt.tight_layout()\n",
    "        plt.show()\n",
    "        \n",
    "except Exception as e:\n",
    "    print(f\"Error en waterfall plot: {e}\")\n",
    "    print(\"Usando gráfico Plotly alternativo...\")\n",
    "    \n",
    "    # Gráfico Plotly para caso de alto riesgo\n",
    "    fig = create_shap_plot(\n",
    "        shap_values[high_risk_idx], \n",
    "        readable_feature_names, \n",
    "        'Top 10 SHAP Values - Caso Alto Riesgo',\n",
    "        probas_sample[high_risk_idx]\n",
    "    )\n",
    "    fig.show()\n",
    "\n",
    "# Análisis adicional de un falso positivo si existe\n",
    "if false_positive_mask.sum() > 0:\n",
    "    fp_idx = np.where(false_positive_mask)[0][0]\n",
    "    print(f\"\\n--- CASO FALSO POSITIVO ---\")\n",
    "    print(f\"Probabilidad predicha: {probas_sample[fp_idx]:.3f}, Real: {y_sample[fp_idx]}\")\n",
    "    \n",
    "    fig = create_shap_plot(\n",
    "        shap_values[fp_idx], \n",
    "        readable_feature_names, \n",
    "        'Top 10 SHAP Values - Falso Positivo',\n",
    "        probas_sample[fp_idx]\n",
    "    )\n",
    "    fig.show()\n",
    "\n",
    "# Análisis adicional de un falso negativo si existe\n",
    "if false_negative_mask.sum() > 0:\n",
    "    fn_idx = np.where(false_negative_mask)[0][0]\n",
    "    print(f\"\\n--- CASO FALSO NEGATIVO ---\")\n",
    "    print(f\"Probabilidad predicha: {probas_sample[fn_idx]:.3f}, Real: {y_sample[fn_idx]}\")\n",
    "    \n",
    "    fig = create_shap_plot(\n",
    "        shap_values[fn_idx], \n",
    "        readable_feature_names, \n",
    "        'Top 10 SHAP Values - Falso Negativo',\n",
    "        probas_sample[fn_idx]\n",
    "    )\n",
    "    fig.show()"
   ]
  },
  {
   "cell_type": "markdown",
   "id": "4681c662",
   "metadata": {},
   "source": [
    "## 7. Insights para Políticas Públicas"
   ]
  },
  {
   "cell_type": "code",
   "execution_count": 60,
   "id": "061ae932",
   "metadata": {},
   "outputs": [
    {
     "name": "stdout",
     "output_type": "stream",
     "text": [
      "IMPORTANCIA POR CATEGORÍA DE VARIABLES\n",
      "==================================================\n",
      "Actitudes           : 0.7023\n",
      "Accesibilidad       : 0.1257\n",
      "Exposición          : 0.1249\n",
      "Entorno Social      : 0.0580\n"
     ]
    },
    {
     "data": {
      "application/vnd.plotly.v1+json": {
       "config": {
        "plotlyServerURL": "https://plot.ly"
       },
       "data": [
        {
         "hovertemplate": "<b>%{x}</b><br>Importancia: %{y:.4f}<extra></extra>",
         "marker": {
          "color": [
           "#FF6B6B",
           "#4ECDC4",
           "#45B7D1",
           "#96CEB4"
          ],
          "line": {
           "color": "black",
           "width": 1
          }
         },
         "text": [
          "0.7023",
          "0.1257",
          "0.1249",
          "0.0580"
         ],
         "textposition": "outside",
         "type": "bar",
         "x": [
          "Actitudes",
          "Accesibilidad",
          "Exposición",
          "Entorno Social"
         ],
         "y": [
          0.702283892964655,
          0.12565684119084555,
          0.12485321558034021,
          0.057950426136024184
         ]
        }
       ],
       "layout": {
        "height": 500,
        "margin": {
         "b": 50,
         "l": 50,
         "r": 50,
         "t": 80
        },
        "showlegend": false,
        "template": {
         "data": {
          "bar": [
           {
            "error_x": {
             "color": "#2a3f5f"
            },
            "error_y": {
             "color": "#2a3f5f"
            },
            "marker": {
             "line": {
              "color": "white",
              "width": 0.5
             },
             "pattern": {
              "fillmode": "overlay",
              "size": 10,
              "solidity": 0.2
             }
            },
            "type": "bar"
           }
          ],
          "barpolar": [
           {
            "marker": {
             "line": {
              "color": "white",
              "width": 0.5
             },
             "pattern": {
              "fillmode": "overlay",
              "size": 10,
              "solidity": 0.2
             }
            },
            "type": "barpolar"
           }
          ],
          "carpet": [
           {
            "aaxis": {
             "endlinecolor": "#2a3f5f",
             "gridcolor": "#C8D4E3",
             "linecolor": "#C8D4E3",
             "minorgridcolor": "#C8D4E3",
             "startlinecolor": "#2a3f5f"
            },
            "baxis": {
             "endlinecolor": "#2a3f5f",
             "gridcolor": "#C8D4E3",
             "linecolor": "#C8D4E3",
             "minorgridcolor": "#C8D4E3",
             "startlinecolor": "#2a3f5f"
            },
            "type": "carpet"
           }
          ],
          "choropleth": [
           {
            "colorbar": {
             "outlinewidth": 0,
             "ticks": ""
            },
            "type": "choropleth"
           }
          ],
          "contour": [
           {
            "colorbar": {
             "outlinewidth": 0,
             "ticks": ""
            },
            "colorscale": [
             [
              0,
              "#0d0887"
             ],
             [
              0.1111111111111111,
              "#46039f"
             ],
             [
              0.2222222222222222,
              "#7201a8"
             ],
             [
              0.3333333333333333,
              "#9c179e"
             ],
             [
              0.4444444444444444,
              "#bd3786"
             ],
             [
              0.5555555555555556,
              "#d8576b"
             ],
             [
              0.6666666666666666,
              "#ed7953"
             ],
             [
              0.7777777777777778,
              "#fb9f3a"
             ],
             [
              0.8888888888888888,
              "#fdca26"
             ],
             [
              1,
              "#f0f921"
             ]
            ],
            "type": "contour"
           }
          ],
          "contourcarpet": [
           {
            "colorbar": {
             "outlinewidth": 0,
             "ticks": ""
            },
            "type": "contourcarpet"
           }
          ],
          "heatmap": [
           {
            "colorbar": {
             "outlinewidth": 0,
             "ticks": ""
            },
            "colorscale": [
             [
              0,
              "#0d0887"
             ],
             [
              0.1111111111111111,
              "#46039f"
             ],
             [
              0.2222222222222222,
              "#7201a8"
             ],
             [
              0.3333333333333333,
              "#9c179e"
             ],
             [
              0.4444444444444444,
              "#bd3786"
             ],
             [
              0.5555555555555556,
              "#d8576b"
             ],
             [
              0.6666666666666666,
              "#ed7953"
             ],
             [
              0.7777777777777778,
              "#fb9f3a"
             ],
             [
              0.8888888888888888,
              "#fdca26"
             ],
             [
              1,
              "#f0f921"
             ]
            ],
            "type": "heatmap"
           }
          ],
          "histogram": [
           {
            "marker": {
             "pattern": {
              "fillmode": "overlay",
              "size": 10,
              "solidity": 0.2
             }
            },
            "type": "histogram"
           }
          ],
          "histogram2d": [
           {
            "colorbar": {
             "outlinewidth": 0,
             "ticks": ""
            },
            "colorscale": [
             [
              0,
              "#0d0887"
             ],
             [
              0.1111111111111111,
              "#46039f"
             ],
             [
              0.2222222222222222,
              "#7201a8"
             ],
             [
              0.3333333333333333,
              "#9c179e"
             ],
             [
              0.4444444444444444,
              "#bd3786"
             ],
             [
              0.5555555555555556,
              "#d8576b"
             ],
             [
              0.6666666666666666,
              "#ed7953"
             ],
             [
              0.7777777777777778,
              "#fb9f3a"
             ],
             [
              0.8888888888888888,
              "#fdca26"
             ],
             [
              1,
              "#f0f921"
             ]
            ],
            "type": "histogram2d"
           }
          ],
          "histogram2dcontour": [
           {
            "colorbar": {
             "outlinewidth": 0,
             "ticks": ""
            },
            "colorscale": [
             [
              0,
              "#0d0887"
             ],
             [
              0.1111111111111111,
              "#46039f"
             ],
             [
              0.2222222222222222,
              "#7201a8"
             ],
             [
              0.3333333333333333,
              "#9c179e"
             ],
             [
              0.4444444444444444,
              "#bd3786"
             ],
             [
              0.5555555555555556,
              "#d8576b"
             ],
             [
              0.6666666666666666,
              "#ed7953"
             ],
             [
              0.7777777777777778,
              "#fb9f3a"
             ],
             [
              0.8888888888888888,
              "#fdca26"
             ],
             [
              1,
              "#f0f921"
             ]
            ],
            "type": "histogram2dcontour"
           }
          ],
          "mesh3d": [
           {
            "colorbar": {
             "outlinewidth": 0,
             "ticks": ""
            },
            "type": "mesh3d"
           }
          ],
          "parcoords": [
           {
            "line": {
             "colorbar": {
              "outlinewidth": 0,
              "ticks": ""
             }
            },
            "type": "parcoords"
           }
          ],
          "pie": [
           {
            "automargin": true,
            "type": "pie"
           }
          ],
          "scatter": [
           {
            "fillpattern": {
             "fillmode": "overlay",
             "size": 10,
             "solidity": 0.2
            },
            "type": "scatter"
           }
          ],
          "scatter3d": [
           {
            "line": {
             "colorbar": {
              "outlinewidth": 0,
              "ticks": ""
             }
            },
            "marker": {
             "colorbar": {
              "outlinewidth": 0,
              "ticks": ""
             }
            },
            "type": "scatter3d"
           }
          ],
          "scattercarpet": [
           {
            "marker": {
             "colorbar": {
              "outlinewidth": 0,
              "ticks": ""
             }
            },
            "type": "scattercarpet"
           }
          ],
          "scattergeo": [
           {
            "marker": {
             "colorbar": {
              "outlinewidth": 0,
              "ticks": ""
             }
            },
            "type": "scattergeo"
           }
          ],
          "scattergl": [
           {
            "marker": {
             "colorbar": {
              "outlinewidth": 0,
              "ticks": ""
             }
            },
            "type": "scattergl"
           }
          ],
          "scattermap": [
           {
            "marker": {
             "colorbar": {
              "outlinewidth": 0,
              "ticks": ""
             }
            },
            "type": "scattermap"
           }
          ],
          "scattermapbox": [
           {
            "marker": {
             "colorbar": {
              "outlinewidth": 0,
              "ticks": ""
             }
            },
            "type": "scattermapbox"
           }
          ],
          "scatterpolar": [
           {
            "marker": {
             "colorbar": {
              "outlinewidth": 0,
              "ticks": ""
             }
            },
            "type": "scatterpolar"
           }
          ],
          "scatterpolargl": [
           {
            "marker": {
             "colorbar": {
              "outlinewidth": 0,
              "ticks": ""
             }
            },
            "type": "scatterpolargl"
           }
          ],
          "scatterternary": [
           {
            "marker": {
             "colorbar": {
              "outlinewidth": 0,
              "ticks": ""
             }
            },
            "type": "scatterternary"
           }
          ],
          "surface": [
           {
            "colorbar": {
             "outlinewidth": 0,
             "ticks": ""
            },
            "colorscale": [
             [
              0,
              "#0d0887"
             ],
             [
              0.1111111111111111,
              "#46039f"
             ],
             [
              0.2222222222222222,
              "#7201a8"
             ],
             [
              0.3333333333333333,
              "#9c179e"
             ],
             [
              0.4444444444444444,
              "#bd3786"
             ],
             [
              0.5555555555555556,
              "#d8576b"
             ],
             [
              0.6666666666666666,
              "#ed7953"
             ],
             [
              0.7777777777777778,
              "#fb9f3a"
             ],
             [
              0.8888888888888888,
              "#fdca26"
             ],
             [
              1,
              "#f0f921"
             ]
            ],
            "type": "surface"
           }
          ],
          "table": [
           {
            "cells": {
             "fill": {
              "color": "#EBF0F8"
             },
             "line": {
              "color": "white"
             }
            },
            "header": {
             "fill": {
              "color": "#C8D4E3"
             },
             "line": {
              "color": "white"
             }
            },
            "type": "table"
           }
          ]
         },
         "layout": {
          "annotationdefaults": {
           "arrowcolor": "#2a3f5f",
           "arrowhead": 0,
           "arrowwidth": 1
          },
          "autotypenumbers": "strict",
          "coloraxis": {
           "colorbar": {
            "outlinewidth": 0,
            "ticks": ""
           }
          },
          "colorscale": {
           "diverging": [
            [
             0,
             "#8e0152"
            ],
            [
             0.1,
             "#c51b7d"
            ],
            [
             0.2,
             "#de77ae"
            ],
            [
             0.3,
             "#f1b6da"
            ],
            [
             0.4,
             "#fde0ef"
            ],
            [
             0.5,
             "#f7f7f7"
            ],
            [
             0.6,
             "#e6f5d0"
            ],
            [
             0.7,
             "#b8e186"
            ],
            [
             0.8,
             "#7fbc41"
            ],
            [
             0.9,
             "#4d9221"
            ],
            [
             1,
             "#276419"
            ]
           ],
           "sequential": [
            [
             0,
             "#0d0887"
            ],
            [
             0.1111111111111111,
             "#46039f"
            ],
            [
             0.2222222222222222,
             "#7201a8"
            ],
            [
             0.3333333333333333,
             "#9c179e"
            ],
            [
             0.4444444444444444,
             "#bd3786"
            ],
            [
             0.5555555555555556,
             "#d8576b"
            ],
            [
             0.6666666666666666,
             "#ed7953"
            ],
            [
             0.7777777777777778,
             "#fb9f3a"
            ],
            [
             0.8888888888888888,
             "#fdca26"
            ],
            [
             1,
             "#f0f921"
            ]
           ],
           "sequentialminus": [
            [
             0,
             "#0d0887"
            ],
            [
             0.1111111111111111,
             "#46039f"
            ],
            [
             0.2222222222222222,
             "#7201a8"
            ],
            [
             0.3333333333333333,
             "#9c179e"
            ],
            [
             0.4444444444444444,
             "#bd3786"
            ],
            [
             0.5555555555555556,
             "#d8576b"
            ],
            [
             0.6666666666666666,
             "#ed7953"
            ],
            [
             0.7777777777777778,
             "#fb9f3a"
            ],
            [
             0.8888888888888888,
             "#fdca26"
            ],
            [
             1,
             "#f0f921"
            ]
           ]
          },
          "colorway": [
           "#636efa",
           "#EF553B",
           "#00cc96",
           "#ab63fa",
           "#FFA15A",
           "#19d3f3",
           "#FF6692",
           "#B6E880",
           "#FF97FF",
           "#FECB52"
          ],
          "font": {
           "color": "#2a3f5f"
          },
          "geo": {
           "bgcolor": "white",
           "lakecolor": "white",
           "landcolor": "white",
           "showlakes": true,
           "showland": true,
           "subunitcolor": "#C8D4E3"
          },
          "hoverlabel": {
           "align": "left"
          },
          "hovermode": "closest",
          "mapbox": {
           "style": "light"
          },
          "paper_bgcolor": "white",
          "plot_bgcolor": "white",
          "polar": {
           "angularaxis": {
            "gridcolor": "#EBF0F8",
            "linecolor": "#EBF0F8",
            "ticks": ""
           },
           "bgcolor": "white",
           "radialaxis": {
            "gridcolor": "#EBF0F8",
            "linecolor": "#EBF0F8",
            "ticks": ""
           }
          },
          "scene": {
           "xaxis": {
            "backgroundcolor": "white",
            "gridcolor": "#DFE8F3",
            "gridwidth": 2,
            "linecolor": "#EBF0F8",
            "showbackground": true,
            "ticks": "",
            "zerolinecolor": "#EBF0F8"
           },
           "yaxis": {
            "backgroundcolor": "white",
            "gridcolor": "#DFE8F3",
            "gridwidth": 2,
            "linecolor": "#EBF0F8",
            "showbackground": true,
            "ticks": "",
            "zerolinecolor": "#EBF0F8"
           },
           "zaxis": {
            "backgroundcolor": "white",
            "gridcolor": "#DFE8F3",
            "gridwidth": 2,
            "linecolor": "#EBF0F8",
            "showbackground": true,
            "ticks": "",
            "zerolinecolor": "#EBF0F8"
           }
          },
          "shapedefaults": {
           "line": {
            "color": "#2a3f5f"
           }
          },
          "ternary": {
           "aaxis": {
            "gridcolor": "#DFE8F3",
            "linecolor": "#A2B1C6",
            "ticks": ""
           },
           "baxis": {
            "gridcolor": "#DFE8F3",
            "linecolor": "#A2B1C6",
            "ticks": ""
           },
           "bgcolor": "white",
           "caxis": {
            "gridcolor": "#DFE8F3",
            "linecolor": "#A2B1C6",
            "ticks": ""
           }
          },
          "title": {
           "x": 0.05
          },
          "xaxis": {
           "automargin": true,
           "gridcolor": "#EBF0F8",
           "linecolor": "#EBF0F8",
           "ticks": "",
           "title": {
            "standoff": 15
           },
           "zerolinecolor": "#EBF0F8",
           "zerolinewidth": 2
          },
          "yaxis": {
           "automargin": true,
           "gridcolor": "#EBF0F8",
           "linecolor": "#EBF0F8",
           "ticks": "",
           "title": {
            "standoff": 15
           },
           "zerolinecolor": "#EBF0F8",
           "zerolinewidth": 2
          }
         }
        },
        "title": {
         "font": {
          "size": 16
         },
         "text": "Importancia por Categoría de Variables",
         "x": 0.5,
         "xanchor": "center"
        },
        "width": 800,
        "xaxis": {
         "title": {
          "text": "Categoría de Variables"
         }
        },
        "yaxis": {
         "title": {
          "text": "Importancia Acumulada"
         }
        }
       }
      }
     },
     "metadata": {},
     "output_type": "display_data"
    }
   ],
   "source": [
    "# Análisis de importancia por categorías\n",
    "categorias = {\n",
    "    'Entorno Social': ['G_01', 'G_02', 'G_01_A', 'G_02_A'],\n",
    "    'Actitudes': ['G_03', 'G_04', 'G_05'],\n",
    "    'Accesibilidad': ['G_06_A', 'G_06_B', 'G_06_C', 'G_06_D'],\n",
    "    'Exposición': ['G_07', 'G_08_A', 'G_08_B']\n",
    "}\n",
    "\n",
    "# Calcular importancia por categoría\n",
    "cat_importance = {}\n",
    "for categoria, variables in categorias.items():\n",
    "    # Buscar features que contengan estas variables\n",
    "    cat_features = []\n",
    "    for var in variables:\n",
    "        cat_features.extend([f for f in feature_names if f.startswith(var)])\n",
    "    \n",
    "    # Sumar importancia\n",
    "    total_importance = sum([importance_rf[feature_names.index(f)] for f in cat_features if f in feature_names])\n",
    "    cat_importance[categoria] = total_importance\n",
    "\n",
    "# Mostrar resultados\n",
    "print(\"IMPORTANCIA POR CATEGORÍA DE VARIABLES\")\n",
    "print(\"=\"*50)\n",
    "for categoria, importancia in sorted(cat_importance.items(), key=lambda x: x[1], reverse=True):\n",
    "    print(f\"{categoria:<20}: {importancia:.4f}\")\n",
    "\n",
    "# Gráfico de categorías con Plotly\n",
    "categorias_sorted = sorted(cat_importance.items(), key=lambda x: x[1], reverse=True)\n",
    "cats, imps = zip(*categorias_sorted)\n",
    "\n",
    "# Colores personalizados para cada categoría\n",
    "colors = ['#FF6B6B', '#4ECDC4', '#45B7D1', '#96CEB4']\n",
    "\n",
    "fig = go.Figure()\n",
    "\n",
    "fig.add_trace(go.Bar(\n",
    "    x=list(cats),\n",
    "    y=list(imps),\n",
    "    marker=dict(\n",
    "        color=colors,\n",
    "        line=dict(color='black', width=1)\n",
    "    ),\n",
    "    text=[f\"{imp:.4f}\" for imp in imps],\n",
    "    textposition='outside',\n",
    "    hovertemplate='<b>%{x}</b><br>Importancia: %{y:.4f}<extra></extra>'\n",
    "))\n",
    "\n",
    "fig.update_layout(\n",
    "    title={\n",
    "        'text': 'Importancia por Categoría de Variables',\n",
    "        'x': 0.5,\n",
    "        'xanchor': 'center',\n",
    "        'font': {'size': 16}\n",
    "    },\n",
    "    xaxis_title='Categoría de Variables',\n",
    "    yaxis_title='Importancia Acumulada',\n",
    "    height=500,\n",
    "    width=800,\n",
    "    template='plotly_white',\n",
    "    showlegend=False,\n",
    "    margin=dict(l=50, r=50, t=80, b=50)\n",
    ")\n",
    "\n",
    "fig.show()"
   ]
  },
  {
   "cell_type": "code",
   "execution_count": 47,
   "id": "f9a37bb6",
   "metadata": {},
   "outputs": [
    {
     "name": "stdout",
     "output_type": "stream",
     "text": [
      "\n",
      "UMBRALES DE RIESGO DE CONSUMO\n",
      "========================================\n",
      "Percentil 10: 0.000\n",
      "Percentil 25: 0.001\n",
      "Percentil 50: 0.029\n",
      "Percentil 75: 0.432\n",
      "Percentil 90: 0.833\n",
      "Percentil 95: 0.917\n",
      "Percentil 99: 0.991\n"
     ]
    },
    {
     "data": {
      "application/vnd.plotly.v1+json": {
       "config": {
        "plotlyServerURL": "https://plot.ly"
       },
       "data": [
        {
         "marker": {
          "color": "lightblue",
          "line": {
           "color": "black",
           "width": 1
          }
         },
         "name": "Distribución",
         "nbinsx": 30,
         "opacity": 0.7,
         "type": "histogram",
         "x": {
          "bdata": "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",
          "dtype": "f8"
         },
         "xaxis": "x",
         "yaxis": "y"
        },
        {
         "histnorm": "density",
         "marker": {
          "color": "lightcoral",
          "opacity": 0.7
         },
         "name": "No Consume",
         "nbinsx": 20,
         "type": "histogram",
         "x": {
          "bdata": "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",
          "dtype": "f8"
         },
         "xaxis": "x2",
         "yaxis": "y2"
        },
        {
         "histnorm": "density",
         "marker": {
          "color": "lightgreen",
          "opacity": 0.7
         },
         "name": "Consume",
         "nbinsx": 20,
         "type": "histogram",
         "x": {
          "bdata": "j4aBk/Zf4D9qFHkHAfDbPyCal9jJxe0/53ZysIam5j9nMz5X+LzWP5AX7Grdaeg/WrqjzPZy6j8GJ4K8lrnvP69RssB4XOw/47cP7FYwmT9ATIKr1U7jP267Ji1T/aM/C3LrtRp64D+aeLGDqQjuP+Tx5tIOzMc/ge5SQEzb5z9bVxkOfdrqPyh3OH3n58I/1SV9MPMP6D+V1Oev73PkP/XPUeHhUtE/deJUy8v45j+/4UFDIUuxP6FliOGR9Nc/a9m0TVa65T9WIPCkUMLlP9tDpp8XrO0/UadA7Ljb7z/O1DodzuPhP+d1JnUmzOw/VIOSUrdN5j9JTZqLfurrP34abfSce+s/2tUluafX3D/sF8Tg0+rvP+SUXqs9YNQ/YyoC7cbo7D/qyTvOBIbGPwQFvCVKYuQ/W4St/9yw7j966dhR5YbsPzTqtCiTQO0/KU0P8I/Q7z8MQRa+sunuPzQ+wDkjNYs/l7Olv/qM6j/5KS66AdvnP267Ji1T/aM/7BfE4NPq7z85lUnBa1vtP+S6PkUX9uc/6M9zak2A7T+mHK4+Kd2vP2v6Ok4Ys+A/dBP8aOry7z+VqReQ7RHkPwKsSrl9mu8/tQKdJvp05j+GWpjfKky9Py/fwTcPVeg/oeubgwBj7j8V1HYgMtDtPz8Xfdgrn1A/wfW986jFwz8Uxjc45iflPw47KI0CTOc/GAYoClq66j8D34E4+QPgP2TXjApoleU/aJPeFDz47T8lpqciXk/qP7lNleyp4Ok/6yN3BByy3T/DmiUPVdHtP6Yq7TWpE+4/A0t0OFrd7T8vh00C/+DuP2WJUV8Otew/gx5cE24W7z9ytyz5AenmP7GSj2yweeA/rfe7nWsi5z+JUWUHKsXSP05P2UUxF+E/DPdph1U36z/AsNyLevnqP+vlGUhXN+8/yZeByePQ5T8szMh0uZHkPw==",
          "dtype": "f8"
         },
         "xaxis": "x2",
         "yaxis": "y2"
        }
       ],
       "layout": {
        "annotations": [
         {
          "font": {
           "size": 16
          },
          "showarrow": false,
          "text": "Distribución General de Probabilidades",
          "x": 0.225,
          "xanchor": "center",
          "xref": "paper",
          "y": 1,
          "yanchor": "bottom",
          "yref": "paper"
         },
         {
          "font": {
           "size": 16
          },
          "showarrow": false,
          "text": "Distribución por Clase Real",
          "x": 0.775,
          "xanchor": "center",
          "xref": "paper",
          "y": 1,
          "yanchor": "bottom",
          "yref": "paper"
         },
         {
          "showarrow": false,
          "text": "P90: 0.833",
          "x": 0.8327033369699539,
          "xanchor": "left",
          "xref": "x",
          "y": 1,
          "yanchor": "top",
          "yref": "y domain"
         }
        ],
        "height": 500,
        "shapes": [
         {
          "line": {
           "color": "red",
           "dash": "dash",
           "width": 2
          },
          "type": "line",
          "x0": 0.8327033369699539,
          "x1": 0.8327033369699539,
          "xref": "x",
          "y0": 0,
          "y1": 1,
          "yref": "y domain"
         }
        ],
        "showlegend": true,
        "template": {
         "data": {
          "bar": [
           {
            "error_x": {
             "color": "#2a3f5f"
            },
            "error_y": {
             "color": "#2a3f5f"
            },
            "marker": {
             "line": {
              "color": "white",
              "width": 0.5
             },
             "pattern": {
              "fillmode": "overlay",
              "size": 10,
              "solidity": 0.2
             }
            },
            "type": "bar"
           }
          ],
          "barpolar": [
           {
            "marker": {
             "line": {
              "color": "white",
              "width": 0.5
             },
             "pattern": {
              "fillmode": "overlay",
              "size": 10,
              "solidity": 0.2
             }
            },
            "type": "barpolar"
           }
          ],
          "carpet": [
           {
            "aaxis": {
             "endlinecolor": "#2a3f5f",
             "gridcolor": "#C8D4E3",
             "linecolor": "#C8D4E3",
             "minorgridcolor": "#C8D4E3",
             "startlinecolor": "#2a3f5f"
            },
            "baxis": {
             "endlinecolor": "#2a3f5f",
             "gridcolor": "#C8D4E3",
             "linecolor": "#C8D4E3",
             "minorgridcolor": "#C8D4E3",
             "startlinecolor": "#2a3f5f"
            },
            "type": "carpet"
           }
          ],
          "choropleth": [
           {
            "colorbar": {
             "outlinewidth": 0,
             "ticks": ""
            },
            "type": "choropleth"
           }
          ],
          "contour": [
           {
            "colorbar": {
             "outlinewidth": 0,
             "ticks": ""
            },
            "colorscale": [
             [
              0,
              "#0d0887"
             ],
             [
              0.1111111111111111,
              "#46039f"
             ],
             [
              0.2222222222222222,
              "#7201a8"
             ],
             [
              0.3333333333333333,
              "#9c179e"
             ],
             [
              0.4444444444444444,
              "#bd3786"
             ],
             [
              0.5555555555555556,
              "#d8576b"
             ],
             [
              0.6666666666666666,
              "#ed7953"
             ],
             [
              0.7777777777777778,
              "#fb9f3a"
             ],
             [
              0.8888888888888888,
              "#fdca26"
             ],
             [
              1,
              "#f0f921"
             ]
            ],
            "type": "contour"
           }
          ],
          "contourcarpet": [
           {
            "colorbar": {
             "outlinewidth": 0,
             "ticks": ""
            },
            "type": "contourcarpet"
           }
          ],
          "heatmap": [
           {
            "colorbar": {
             "outlinewidth": 0,
             "ticks": ""
            },
            "colorscale": [
             [
              0,
              "#0d0887"
             ],
             [
              0.1111111111111111,
              "#46039f"
             ],
             [
              0.2222222222222222,
              "#7201a8"
             ],
             [
              0.3333333333333333,
              "#9c179e"
             ],
             [
              0.4444444444444444,
              "#bd3786"
             ],
             [
              0.5555555555555556,
              "#d8576b"
             ],
             [
              0.6666666666666666,
              "#ed7953"
             ],
             [
              0.7777777777777778,
              "#fb9f3a"
             ],
             [
              0.8888888888888888,
              "#fdca26"
             ],
             [
              1,
              "#f0f921"
             ]
            ],
            "type": "heatmap"
           }
          ],
          "histogram": [
           {
            "marker": {
             "pattern": {
              "fillmode": "overlay",
              "size": 10,
              "solidity": 0.2
             }
            },
            "type": "histogram"
           }
          ],
          "histogram2d": [
           {
            "colorbar": {
             "outlinewidth": 0,
             "ticks": ""
            },
            "colorscale": [
             [
              0,
              "#0d0887"
             ],
             [
              0.1111111111111111,
              "#46039f"
             ],
             [
              0.2222222222222222,
              "#7201a8"
             ],
             [
              0.3333333333333333,
              "#9c179e"
             ],
             [
              0.4444444444444444,
              "#bd3786"
             ],
             [
              0.5555555555555556,
              "#d8576b"
             ],
             [
              0.6666666666666666,
              "#ed7953"
             ],
             [
              0.7777777777777778,
              "#fb9f3a"
             ],
             [
              0.8888888888888888,
              "#fdca26"
             ],
             [
              1,
              "#f0f921"
             ]
            ],
            "type": "histogram2d"
           }
          ],
          "histogram2dcontour": [
           {
            "colorbar": {
             "outlinewidth": 0,
             "ticks": ""
            },
            "colorscale": [
             [
              0,
              "#0d0887"
             ],
             [
              0.1111111111111111,
              "#46039f"
             ],
             [
              0.2222222222222222,
              "#7201a8"
             ],
             [
              0.3333333333333333,
              "#9c179e"
             ],
             [
              0.4444444444444444,
              "#bd3786"
             ],
             [
              0.5555555555555556,
              "#d8576b"
             ],
             [
              0.6666666666666666,
              "#ed7953"
             ],
             [
              0.7777777777777778,
              "#fb9f3a"
             ],
             [
              0.8888888888888888,
              "#fdca26"
             ],
             [
              1,
              "#f0f921"
             ]
            ],
            "type": "histogram2dcontour"
           }
          ],
          "mesh3d": [
           {
            "colorbar": {
             "outlinewidth": 0,
             "ticks": ""
            },
            "type": "mesh3d"
           }
          ],
          "parcoords": [
           {
            "line": {
             "colorbar": {
              "outlinewidth": 0,
              "ticks": ""
             }
            },
            "type": "parcoords"
           }
          ],
          "pie": [
           {
            "automargin": true,
            "type": "pie"
           }
          ],
          "scatter": [
           {
            "fillpattern": {
             "fillmode": "overlay",
             "size": 10,
             "solidity": 0.2
            },
            "type": "scatter"
           }
          ],
          "scatter3d": [
           {
            "line": {
             "colorbar": {
              "outlinewidth": 0,
              "ticks": ""
             }
            },
            "marker": {
             "colorbar": {
              "outlinewidth": 0,
              "ticks": ""
             }
            },
            "type": "scatter3d"
           }
          ],
          "scattercarpet": [
           {
            "marker": {
             "colorbar": {
              "outlinewidth": 0,
              "ticks": ""
             }
            },
            "type": "scattercarpet"
           }
          ],
          "scattergeo": [
           {
            "marker": {
             "colorbar": {
              "outlinewidth": 0,
              "ticks": ""
             }
            },
            "type": "scattergeo"
           }
          ],
          "scattergl": [
           {
            "marker": {
             "colorbar": {
              "outlinewidth": 0,
              "ticks": ""
             }
            },
            "type": "scattergl"
           }
          ],
          "scattermap": [
           {
            "marker": {
             "colorbar": {
              "outlinewidth": 0,
              "ticks": ""
             }
            },
            "type": "scattermap"
           }
          ],
          "scattermapbox": [
           {
            "marker": {
             "colorbar": {
              "outlinewidth": 0,
              "ticks": ""
             }
            },
            "type": "scattermapbox"
           }
          ],
          "scatterpolar": [
           {
            "marker": {
             "colorbar": {
              "outlinewidth": 0,
              "ticks": ""
             }
            },
            "type": "scatterpolar"
           }
          ],
          "scatterpolargl": [
           {
            "marker": {
             "colorbar": {
              "outlinewidth": 0,
              "ticks": ""
             }
            },
            "type": "scatterpolargl"
           }
          ],
          "scatterternary": [
           {
            "marker": {
             "colorbar": {
              "outlinewidth": 0,
              "ticks": ""
             }
            },
            "type": "scatterternary"
           }
          ],
          "surface": [
           {
            "colorbar": {
             "outlinewidth": 0,
             "ticks": ""
            },
            "colorscale": [
             [
              0,
              "#0d0887"
             ],
             [
              0.1111111111111111,
              "#46039f"
             ],
             [
              0.2222222222222222,
              "#7201a8"
             ],
             [
              0.3333333333333333,
              "#9c179e"
             ],
             [
              0.4444444444444444,
              "#bd3786"
             ],
             [
              0.5555555555555556,
              "#d8576b"
             ],
             [
              0.6666666666666666,
              "#ed7953"
             ],
             [
              0.7777777777777778,
              "#fb9f3a"
             ],
             [
              0.8888888888888888,
              "#fdca26"
             ],
             [
              1,
              "#f0f921"
             ]
            ],
            "type": "surface"
           }
          ],
          "table": [
           {
            "cells": {
             "fill": {
              "color": "#EBF0F8"
             },
             "line": {
              "color": "white"
             }
            },
            "header": {
             "fill": {
              "color": "#C8D4E3"
             },
             "line": {
              "color": "white"
             }
            },
            "type": "table"
           }
          ]
         },
         "layout": {
          "annotationdefaults": {
           "arrowcolor": "#2a3f5f",
           "arrowhead": 0,
           "arrowwidth": 1
          },
          "autotypenumbers": "strict",
          "coloraxis": {
           "colorbar": {
            "outlinewidth": 0,
            "ticks": ""
           }
          },
          "colorscale": {
           "diverging": [
            [
             0,
             "#8e0152"
            ],
            [
             0.1,
             "#c51b7d"
            ],
            [
             0.2,
             "#de77ae"
            ],
            [
             0.3,
             "#f1b6da"
            ],
            [
             0.4,
             "#fde0ef"
            ],
            [
             0.5,
             "#f7f7f7"
            ],
            [
             0.6,
             "#e6f5d0"
            ],
            [
             0.7,
             "#b8e186"
            ],
            [
             0.8,
             "#7fbc41"
            ],
            [
             0.9,
             "#4d9221"
            ],
            [
             1,
             "#276419"
            ]
           ],
           "sequential": [
            [
             0,
             "#0d0887"
            ],
            [
             0.1111111111111111,
             "#46039f"
            ],
            [
             0.2222222222222222,
             "#7201a8"
            ],
            [
             0.3333333333333333,
             "#9c179e"
            ],
            [
             0.4444444444444444,
             "#bd3786"
            ],
            [
             0.5555555555555556,
             "#d8576b"
            ],
            [
             0.6666666666666666,
             "#ed7953"
            ],
            [
             0.7777777777777778,
             "#fb9f3a"
            ],
            [
             0.8888888888888888,
             "#fdca26"
            ],
            [
             1,
             "#f0f921"
            ]
           ],
           "sequentialminus": [
            [
             0,
             "#0d0887"
            ],
            [
             0.1111111111111111,
             "#46039f"
            ],
            [
             0.2222222222222222,
             "#7201a8"
            ],
            [
             0.3333333333333333,
             "#9c179e"
            ],
            [
             0.4444444444444444,
             "#bd3786"
            ],
            [
             0.5555555555555556,
             "#d8576b"
            ],
            [
             0.6666666666666666,
             "#ed7953"
            ],
            [
             0.7777777777777778,
             "#fb9f3a"
            ],
            [
             0.8888888888888888,
             "#fdca26"
            ],
            [
             1,
             "#f0f921"
            ]
           ]
          },
          "colorway": [
           "#636efa",
           "#EF553B",
           "#00cc96",
           "#ab63fa",
           "#FFA15A",
           "#19d3f3",
           "#FF6692",
           "#B6E880",
           "#FF97FF",
           "#FECB52"
          ],
          "font": {
           "color": "#2a3f5f"
          },
          "geo": {
           "bgcolor": "white",
           "lakecolor": "white",
           "landcolor": "white",
           "showlakes": true,
           "showland": true,
           "subunitcolor": "#C8D4E3"
          },
          "hoverlabel": {
           "align": "left"
          },
          "hovermode": "closest",
          "mapbox": {
           "style": "light"
          },
          "paper_bgcolor": "white",
          "plot_bgcolor": "white",
          "polar": {
           "angularaxis": {
            "gridcolor": "#EBF0F8",
            "linecolor": "#EBF0F8",
            "ticks": ""
           },
           "bgcolor": "white",
           "radialaxis": {
            "gridcolor": "#EBF0F8",
            "linecolor": "#EBF0F8",
            "ticks": ""
           }
          },
          "scene": {
           "xaxis": {
            "backgroundcolor": "white",
            "gridcolor": "#DFE8F3",
            "gridwidth": 2,
            "linecolor": "#EBF0F8",
            "showbackground": true,
            "ticks": "",
            "zerolinecolor": "#EBF0F8"
           },
           "yaxis": {
            "backgroundcolor": "white",
            "gridcolor": "#DFE8F3",
            "gridwidth": 2,
            "linecolor": "#EBF0F8",
            "showbackground": true,
            "ticks": "",
            "zerolinecolor": "#EBF0F8"
           },
           "zaxis": {
            "backgroundcolor": "white",
            "gridcolor": "#DFE8F3",
            "gridwidth": 2,
            "linecolor": "#EBF0F8",
            "showbackground": true,
            "ticks": "",
            "zerolinecolor": "#EBF0F8"
           }
          },
          "shapedefaults": {
           "line": {
            "color": "#2a3f5f"
           }
          },
          "ternary": {
           "aaxis": {
            "gridcolor": "#DFE8F3",
            "linecolor": "#A2B1C6",
            "ticks": ""
           },
           "baxis": {
            "gridcolor": "#DFE8F3",
            "linecolor": "#A2B1C6",
            "ticks": ""
           },
           "bgcolor": "white",
           "caxis": {
            "gridcolor": "#DFE8F3",
            "linecolor": "#A2B1C6",
            "ticks": ""
           }
          },
          "title": {
           "x": 0.05
          },
          "xaxis": {
           "automargin": true,
           "gridcolor": "#EBF0F8",
           "linecolor": "#EBF0F8",
           "ticks": "",
           "title": {
            "standoff": 15
           },
           "zerolinecolor": "#EBF0F8",
           "zerolinewidth": 2
          },
          "yaxis": {
           "automargin": true,
           "gridcolor": "#EBF0F8",
           "linecolor": "#EBF0F8",
           "ticks": "",
           "title": {
            "standoff": 15
           },
           "zerolinecolor": "#EBF0F8",
           "zerolinewidth": 2
          }
         }
        },
        "title": {
         "font": {
          "size": 16
         },
         "text": "Análisis de Distribución de Probabilidades de Consumo",
         "x": 0.5,
         "xanchor": "center"
        },
        "width": 1200,
        "xaxis": {
         "anchor": "y",
         "domain": [
          0,
          0.45
         ],
         "title": {
          "text": "Probabilidad de Consumo"
         }
        },
        "xaxis2": {
         "anchor": "y2",
         "domain": [
          0.55,
          1
         ],
         "title": {
          "text": "Probabilidad de Consumo"
         }
        },
        "yaxis": {
         "anchor": "x",
         "domain": [
          0,
          1
         ],
         "title": {
          "text": "Frecuencia"
         }
        },
        "yaxis2": {
         "anchor": "x2",
         "domain": [
          0,
          1
         ],
         "title": {
          "text": "Densidad"
         }
        }
       }
      }
     },
     "metadata": {},
     "output_type": "display_data"
    },
    {
     "data": {
      "application/vnd.plotly.v1+json": {
       "config": {
        "plotlyServerURL": "https://plot.ly"
       },
       "data": [
        {
         "customdata": [
          "Muy Bajo",
          "Bajo",
          "Medio-Bajo",
          "Medio-Alto",
          "Alto",
          "Muy Alto",
          "Crítico"
         ],
         "hovertemplate": "<b>%{x}</b><br>Umbral: %{y:.3f}<br>Nivel: %{text}<extra></extra>",
         "marker": {
          "color": {
           "bdata": "AAAAAAAAAACoujvx5DxDPxrjquyNtp0/8Ufrrxit2z/qyvF3gaXqP3BCWJcmXO0/r0hijNG57z8=",
           "dtype": "f8"
          },
          "colorbar": {
           "title": {
            "text": "Probabilidad"
           }
          },
          "colorscale": [
           [
            0,
            "rgb(255,245,240)"
           ],
           [
            0.125,
            "rgb(254,224,210)"
           ],
           [
            0.25,
            "rgb(252,187,161)"
           ],
           [
            0.375,
            "rgb(252,146,114)"
           ],
           [
            0.5,
            "rgb(251,106,74)"
           ],
           [
            0.625,
            "rgb(239,59,44)"
           ],
           [
            0.75,
            "rgb(203,24,29)"
           ],
           [
            0.875,
            "rgb(165,15,21)"
           ],
           [
            1,
            "rgb(103,0,13)"
           ]
          ],
          "showscale": true
         },
         "text": [
          "0.000",
          "0.001",
          "0.029",
          "0.432",
          "0.833",
          "0.917",
          "0.991"
         ],
         "textposition": "outside",
         "type": "bar",
         "x": [
          "P10",
          "P25",
          "P50",
          "P75",
          "P90",
          "P95",
          "P99"
         ],
         "y": {
          "bdata": "AAAAAAAAAACoujvx5DxDPxrjquyNtp0/8Ufrrxit2z/qyvF3gaXqP3BCWJcmXO0/r0hijNG57z8=",
          "dtype": "f8"
         }
        }
       ],
       "layout": {
        "height": 400,
        "template": {
         "data": {
          "bar": [
           {
            "error_x": {
             "color": "#2a3f5f"
            },
            "error_y": {
             "color": "#2a3f5f"
            },
            "marker": {
             "line": {
              "color": "white",
              "width": 0.5
             },
             "pattern": {
              "fillmode": "overlay",
              "size": 10,
              "solidity": 0.2
             }
            },
            "type": "bar"
           }
          ],
          "barpolar": [
           {
            "marker": {
             "line": {
              "color": "white",
              "width": 0.5
             },
             "pattern": {
              "fillmode": "overlay",
              "size": 10,
              "solidity": 0.2
             }
            },
            "type": "barpolar"
           }
          ],
          "carpet": [
           {
            "aaxis": {
             "endlinecolor": "#2a3f5f",
             "gridcolor": "#C8D4E3",
             "linecolor": "#C8D4E3",
             "minorgridcolor": "#C8D4E3",
             "startlinecolor": "#2a3f5f"
            },
            "baxis": {
             "endlinecolor": "#2a3f5f",
             "gridcolor": "#C8D4E3",
             "linecolor": "#C8D4E3",
             "minorgridcolor": "#C8D4E3",
             "startlinecolor": "#2a3f5f"
            },
            "type": "carpet"
           }
          ],
          "choropleth": [
           {
            "colorbar": {
             "outlinewidth": 0,
             "ticks": ""
            },
            "type": "choropleth"
           }
          ],
          "contour": [
           {
            "colorbar": {
             "outlinewidth": 0,
             "ticks": ""
            },
            "colorscale": [
             [
              0,
              "#0d0887"
             ],
             [
              0.1111111111111111,
              "#46039f"
             ],
             [
              0.2222222222222222,
              "#7201a8"
             ],
             [
              0.3333333333333333,
              "#9c179e"
             ],
             [
              0.4444444444444444,
              "#bd3786"
             ],
             [
              0.5555555555555556,
              "#d8576b"
             ],
             [
              0.6666666666666666,
              "#ed7953"
             ],
             [
              0.7777777777777778,
              "#fb9f3a"
             ],
             [
              0.8888888888888888,
              "#fdca26"
             ],
             [
              1,
              "#f0f921"
             ]
            ],
            "type": "contour"
           }
          ],
          "contourcarpet": [
           {
            "colorbar": {
             "outlinewidth": 0,
             "ticks": ""
            },
            "type": "contourcarpet"
           }
          ],
          "heatmap": [
           {
            "colorbar": {
             "outlinewidth": 0,
             "ticks": ""
            },
            "colorscale": [
             [
              0,
              "#0d0887"
             ],
             [
              0.1111111111111111,
              "#46039f"
             ],
             [
              0.2222222222222222,
              "#7201a8"
             ],
             [
              0.3333333333333333,
              "#9c179e"
             ],
             [
              0.4444444444444444,
              "#bd3786"
             ],
             [
              0.5555555555555556,
              "#d8576b"
             ],
             [
              0.6666666666666666,
              "#ed7953"
             ],
             [
              0.7777777777777778,
              "#fb9f3a"
             ],
             [
              0.8888888888888888,
              "#fdca26"
             ],
             [
              1,
              "#f0f921"
             ]
            ],
            "type": "heatmap"
           }
          ],
          "histogram": [
           {
            "marker": {
             "pattern": {
              "fillmode": "overlay",
              "size": 10,
              "solidity": 0.2
             }
            },
            "type": "histogram"
           }
          ],
          "histogram2d": [
           {
            "colorbar": {
             "outlinewidth": 0,
             "ticks": ""
            },
            "colorscale": [
             [
              0,
              "#0d0887"
             ],
             [
              0.1111111111111111,
              "#46039f"
             ],
             [
              0.2222222222222222,
              "#7201a8"
             ],
             [
              0.3333333333333333,
              "#9c179e"
             ],
             [
              0.4444444444444444,
              "#bd3786"
             ],
             [
              0.5555555555555556,
              "#d8576b"
             ],
             [
              0.6666666666666666,
              "#ed7953"
             ],
             [
              0.7777777777777778,
              "#fb9f3a"
             ],
             [
              0.8888888888888888,
              "#fdca26"
             ],
             [
              1,
              "#f0f921"
             ]
            ],
            "type": "histogram2d"
           }
          ],
          "histogram2dcontour": [
           {
            "colorbar": {
             "outlinewidth": 0,
             "ticks": ""
            },
            "colorscale": [
             [
              0,
              "#0d0887"
             ],
             [
              0.1111111111111111,
              "#46039f"
             ],
             [
              0.2222222222222222,
              "#7201a8"
             ],
             [
              0.3333333333333333,
              "#9c179e"
             ],
             [
              0.4444444444444444,
              "#bd3786"
             ],
             [
              0.5555555555555556,
              "#d8576b"
             ],
             [
              0.6666666666666666,
              "#ed7953"
             ],
             [
              0.7777777777777778,
              "#fb9f3a"
             ],
             [
              0.8888888888888888,
              "#fdca26"
             ],
             [
              1,
              "#f0f921"
             ]
            ],
            "type": "histogram2dcontour"
           }
          ],
          "mesh3d": [
           {
            "colorbar": {
             "outlinewidth": 0,
             "ticks": ""
            },
            "type": "mesh3d"
           }
          ],
          "parcoords": [
           {
            "line": {
             "colorbar": {
              "outlinewidth": 0,
              "ticks": ""
             }
            },
            "type": "parcoords"
           }
          ],
          "pie": [
           {
            "automargin": true,
            "type": "pie"
           }
          ],
          "scatter": [
           {
            "fillpattern": {
             "fillmode": "overlay",
             "size": 10,
             "solidity": 0.2
            },
            "type": "scatter"
           }
          ],
          "scatter3d": [
           {
            "line": {
             "colorbar": {
              "outlinewidth": 0,
              "ticks": ""
             }
            },
            "marker": {
             "colorbar": {
              "outlinewidth": 0,
              "ticks": ""
             }
            },
            "type": "scatter3d"
           }
          ],
          "scattercarpet": [
           {
            "marker": {
             "colorbar": {
              "outlinewidth": 0,
              "ticks": ""
             }
            },
            "type": "scattercarpet"
           }
          ],
          "scattergeo": [
           {
            "marker": {
             "colorbar": {
              "outlinewidth": 0,
              "ticks": ""
             }
            },
            "type": "scattergeo"
           }
          ],
          "scattergl": [
           {
            "marker": {
             "colorbar": {
              "outlinewidth": 0,
              "ticks": ""
             }
            },
            "type": "scattergl"
           }
          ],
          "scattermap": [
           {
            "marker": {
             "colorbar": {
              "outlinewidth": 0,
              "ticks": ""
             }
            },
            "type": "scattermap"
           }
          ],
          "scattermapbox": [
           {
            "marker": {
             "colorbar": {
              "outlinewidth": 0,
              "ticks": ""
             }
            },
            "type": "scattermapbox"
           }
          ],
          "scatterpolar": [
           {
            "marker": {
             "colorbar": {
              "outlinewidth": 0,
              "ticks": ""
             }
            },
            "type": "scatterpolar"
           }
          ],
          "scatterpolargl": [
           {
            "marker": {
             "colorbar": {
              "outlinewidth": 0,
              "ticks": ""
             }
            },
            "type": "scatterpolargl"
           }
          ],
          "scatterternary": [
           {
            "marker": {
             "colorbar": {
              "outlinewidth": 0,
              "ticks": ""
             }
            },
            "type": "scatterternary"
           }
          ],
          "surface": [
           {
            "colorbar": {
             "outlinewidth": 0,
             "ticks": ""
            },
            "colorscale": [
             [
              0,
              "#0d0887"
             ],
             [
              0.1111111111111111,
              "#46039f"
             ],
             [
              0.2222222222222222,
              "#7201a8"
             ],
             [
              0.3333333333333333,
              "#9c179e"
             ],
             [
              0.4444444444444444,
              "#bd3786"
             ],
             [
              0.5555555555555556,
              "#d8576b"
             ],
             [
              0.6666666666666666,
              "#ed7953"
             ],
             [
              0.7777777777777778,
              "#fb9f3a"
             ],
             [
              0.8888888888888888,
              "#fdca26"
             ],
             [
              1,
              "#f0f921"
             ]
            ],
            "type": "surface"
           }
          ],
          "table": [
           {
            "cells": {
             "fill": {
              "color": "#EBF0F8"
             },
             "line": {
              "color": "white"
             }
            },
            "header": {
             "fill": {
              "color": "#C8D4E3"
             },
             "line": {
              "color": "white"
             }
            },
            "type": "table"
           }
          ]
         },
         "layout": {
          "annotationdefaults": {
           "arrowcolor": "#2a3f5f",
           "arrowhead": 0,
           "arrowwidth": 1
          },
          "autotypenumbers": "strict",
          "coloraxis": {
           "colorbar": {
            "outlinewidth": 0,
            "ticks": ""
           }
          },
          "colorscale": {
           "diverging": [
            [
             0,
             "#8e0152"
            ],
            [
             0.1,
             "#c51b7d"
            ],
            [
             0.2,
             "#de77ae"
            ],
            [
             0.3,
             "#f1b6da"
            ],
            [
             0.4,
             "#fde0ef"
            ],
            [
             0.5,
             "#f7f7f7"
            ],
            [
             0.6,
             "#e6f5d0"
            ],
            [
             0.7,
             "#b8e186"
            ],
            [
             0.8,
             "#7fbc41"
            ],
            [
             0.9,
             "#4d9221"
            ],
            [
             1,
             "#276419"
            ]
           ],
           "sequential": [
            [
             0,
             "#0d0887"
            ],
            [
             0.1111111111111111,
             "#46039f"
            ],
            [
             0.2222222222222222,
             "#7201a8"
            ],
            [
             0.3333333333333333,
             "#9c179e"
            ],
            [
             0.4444444444444444,
             "#bd3786"
            ],
            [
             0.5555555555555556,
             "#d8576b"
            ],
            [
             0.6666666666666666,
             "#ed7953"
            ],
            [
             0.7777777777777778,
             "#fb9f3a"
            ],
            [
             0.8888888888888888,
             "#fdca26"
            ],
            [
             1,
             "#f0f921"
            ]
           ],
           "sequentialminus": [
            [
             0,
             "#0d0887"
            ],
            [
             0.1111111111111111,
             "#46039f"
            ],
            [
             0.2222222222222222,
             "#7201a8"
            ],
            [
             0.3333333333333333,
             "#9c179e"
            ],
            [
             0.4444444444444444,
             "#bd3786"
            ],
            [
             0.5555555555555556,
             "#d8576b"
            ],
            [
             0.6666666666666666,
             "#ed7953"
            ],
            [
             0.7777777777777778,
             "#fb9f3a"
            ],
            [
             0.8888888888888888,
             "#fdca26"
            ],
            [
             1,
             "#f0f921"
            ]
           ]
          },
          "colorway": [
           "#636efa",
           "#EF553B",
           "#00cc96",
           "#ab63fa",
           "#FFA15A",
           "#19d3f3",
           "#FF6692",
           "#B6E880",
           "#FF97FF",
           "#FECB52"
          ],
          "font": {
           "color": "#2a3f5f"
          },
          "geo": {
           "bgcolor": "white",
           "lakecolor": "white",
           "landcolor": "white",
           "showlakes": true,
           "showland": true,
           "subunitcolor": "#C8D4E3"
          },
          "hoverlabel": {
           "align": "left"
          },
          "hovermode": "closest",
          "mapbox": {
           "style": "light"
          },
          "paper_bgcolor": "white",
          "plot_bgcolor": "white",
          "polar": {
           "angularaxis": {
            "gridcolor": "#EBF0F8",
            "linecolor": "#EBF0F8",
            "ticks": ""
           },
           "bgcolor": "white",
           "radialaxis": {
            "gridcolor": "#EBF0F8",
            "linecolor": "#EBF0F8",
            "ticks": ""
           }
          },
          "scene": {
           "xaxis": {
            "backgroundcolor": "white",
            "gridcolor": "#DFE8F3",
            "gridwidth": 2,
            "linecolor": "#EBF0F8",
            "showbackground": true,
            "ticks": "",
            "zerolinecolor": "#EBF0F8"
           },
           "yaxis": {
            "backgroundcolor": "white",
            "gridcolor": "#DFE8F3",
            "gridwidth": 2,
            "linecolor": "#EBF0F8",
            "showbackground": true,
            "ticks": "",
            "zerolinecolor": "#EBF0F8"
           },
           "zaxis": {
            "backgroundcolor": "white",
            "gridcolor": "#DFE8F3",
            "gridwidth": 2,
            "linecolor": "#EBF0F8",
            "showbackground": true,
            "ticks": "",
            "zerolinecolor": "#EBF0F8"
           }
          },
          "shapedefaults": {
           "line": {
            "color": "#2a3f5f"
           }
          },
          "ternary": {
           "aaxis": {
            "gridcolor": "#DFE8F3",
            "linecolor": "#A2B1C6",
            "ticks": ""
           },
           "baxis": {
            "gridcolor": "#DFE8F3",
            "linecolor": "#A2B1C6",
            "ticks": ""
           },
           "bgcolor": "white",
           "caxis": {
            "gridcolor": "#DFE8F3",
            "linecolor": "#A2B1C6",
            "ticks": ""
           }
          },
          "title": {
           "x": 0.05
          },
          "xaxis": {
           "automargin": true,
           "gridcolor": "#EBF0F8",
           "linecolor": "#EBF0F8",
           "ticks": "",
           "title": {
            "standoff": 15
           },
           "zerolinecolor": "#EBF0F8",
           "zerolinewidth": 2
          },
          "yaxis": {
           "automargin": true,
           "gridcolor": "#EBF0F8",
           "linecolor": "#EBF0F8",
           "ticks": "",
           "title": {
            "standoff": 15
           },
           "zerolinecolor": "#EBF0F8",
           "zerolinewidth": 2
          }
         }
        },
        "title": {
         "font": {
          "size": 16
         },
         "text": "Umbrales de Riesgo por Percentiles",
         "x": 0.5,
         "xanchor": "center"
        },
        "width": 800,
        "xaxis": {
         "title": {
          "text": "Percentil"
         }
        },
        "yaxis": {
         "title": {
          "text": "Umbral de Probabilidad"
         }
        }
       }
      }
     },
     "metadata": {},
     "output_type": "display_data"
    }
   ],
   "source": [
    "# Umbrales de riesgo\n",
    "percentiles = [10, 25, 50, 75, 90, 95, 99]\n",
    "thresholds = np.percentile(probas_sample, percentiles)\n",
    "\n",
    "print(\"\\nUMBRALES DE RIESGO DE CONSUMO\")\n",
    "print(\"=\"*40)\n",
    "for p, t in zip(percentiles, thresholds):\n",
    "    print(f\"Percentil {p:2d}: {t:.3f}\")\n",
    "\n",
    "# Distribución de probabilidades con Plotly\n",
    "fig = make_subplots(\n",
    "    rows=1, cols=2,\n",
    "    subplot_titles=('Distribución General de Probabilidades', 'Distribución por Clase Real'),\n",
    "    horizontal_spacing=0.1\n",
    ")\n",
    "\n",
    "# Gráfico 1: Distribución general\n",
    "fig.add_trace(\n",
    "    go.Histogram(\n",
    "        x=probas_sample,\n",
    "        nbinsx=30,\n",
    "        name='Distribución',\n",
    "        marker=dict(color='lightblue', line=dict(color='black', width=1)),\n",
    "        opacity=0.7\n",
    "    ),\n",
    "    row=1, col=1\n",
    ")\n",
    "\n",
    "# Línea del percentil 90\n",
    "fig.add_vline(\n",
    "    x=thresholds[percentiles.index(90)],\n",
    "    line_width=2,\n",
    "    line_dash=\"dash\",\n",
    "    line_color=\"red\",\n",
    "    annotation_text=f\"P90: {thresholds[percentiles.index(90)]:.3f}\",\n",
    "    annotation_position=\"top right\",\n",
    "    row=1, col=1\n",
    ")\n",
    "\n",
    "# Gráfico 2: Distribución por clase\n",
    "fig.add_trace(\n",
    "    go.Histogram(\n",
    "        x=probas_sample[y_sample == 0],\n",
    "        nbinsx=20,\n",
    "        name='No Consume',\n",
    "        marker=dict(color='lightcoral', opacity=0.7),\n",
    "        histnorm='density'\n",
    "    ),\n",
    "    row=1, col=2\n",
    ")\n",
    "\n",
    "fig.add_trace(\n",
    "    go.Histogram(\n",
    "        x=probas_sample[y_sample == 1],\n",
    "        nbinsx=20,\n",
    "        name='Consume',\n",
    "        marker=dict(color='lightgreen', opacity=0.7),\n",
    "        histnorm='density'\n",
    "    ),\n",
    "    row=1, col=2\n",
    ")\n",
    "\n",
    "fig.update_layout(\n",
    "    title={\n",
    "        'text': 'Análisis de Distribución de Probabilidades de Consumo',\n",
    "        'x': 0.5,\n",
    "        'xanchor': 'center',\n",
    "        'font': {'size': 16}\n",
    "    },\n",
    "    height=500,\n",
    "    width=1200,\n",
    "    template='plotly_white',\n",
    "    showlegend=True\n",
    ")\n",
    "\n",
    "# Actualizar etiquetas de ejes\n",
    "fig.update_xaxes(title_text=\"Probabilidad de Consumo\", row=1, col=1)\n",
    "fig.update_xaxes(title_text=\"Probabilidad de Consumo\", row=1, col=2)\n",
    "fig.update_yaxes(title_text=\"Frecuencia\", row=1, col=1)\n",
    "fig.update_yaxes(title_text=\"Densidad\", row=1, col=2)\n",
    "\n",
    "fig.show()\n",
    "\n",
    "# Gráfico adicional: Matriz de umbrales\n",
    "threshold_df = pd.DataFrame({\n",
    "    'Percentil': [f\"P{p}\" for p in percentiles],\n",
    "    'Umbral': thresholds,\n",
    "    'Descripción': [\n",
    "        'Muy Bajo', 'Bajo', 'Medio-Bajo', 'Medio-Alto', \n",
    "        'Alto', 'Muy Alto', 'Crítico'\n",
    "    ]\n",
    "})\n",
    "\n",
    "fig_threshold = go.Figure()\n",
    "\n",
    "fig_threshold.add_trace(go.Bar(\n",
    "    x=threshold_df['Percentil'],\n",
    "    y=threshold_df['Umbral'],\n",
    "    text=[f\"{val:.3f}\" for val in threshold_df['Umbral']],\n",
    "    textposition='outside',\n",
    "    marker=dict(\n",
    "        color=threshold_df['Umbral'],\n",
    "        colorscale='Reds',\n",
    "        showscale=True,\n",
    "        colorbar=dict(title=\"Probabilidad\")\n",
    "    ),\n",
    "    hovertemplate='<b>%{x}</b><br>Umbral: %{y:.3f}<br>Nivel: %{text}<extra></extra>',\n",
    "    customdata=threshold_df['Descripción']\n",
    "))\n",
    "\n",
    "fig_threshold.update_layout(\n",
    "    title={\n",
    "        'text': 'Umbrales de Riesgo por Percentiles',\n",
    "        'x': 0.5,\n",
    "        'xanchor': 'center',\n",
    "        'font': {'size': 16}\n",
    "    },\n",
    "    xaxis_title='Percentil',\n",
    "    yaxis_title='Umbral de Probabilidad',\n",
    "    height=400,\n",
    "    width=800,\n",
    "    template='plotly_white'\n",
    ")\n",
    "\n",
    "fig_threshold.show()"
   ]
  },
  {
   "cell_type": "markdown",
   "id": "0114a295",
   "metadata": {},
   "source": [
    "## 8. Conclusiones"
   ]
  },
  {
   "cell_type": "code",
   "execution_count": 61,
   "id": "e733ea5d",
   "metadata": {},
   "outputs": [
    {
     "name": "stdout",
     "output_type": "stream",
     "text": [
      "CONCLUSIONES CLAVE PARA POLÍTICAS PÚBLICAS\n",
      "============================================================\n",
      "\n",
      "1. VARIABLES MÁS PREDICTIVAS:\n",
      "   • Curiosidad por Probar\n",
      "   • Tuvo Oportunidad de Probar\n",
      "   • Disposición a Consumir\n",
      "   • Ofertas de Marihuana\n",
      "   • Ofertas Recibidas (Último Año)\n",
      "\n",
      "2. CATEGORÍAS DE RIESGO POR IMPORTANCIA:\n",
      "   • Actitudes: 70.2% de importancia total\n",
      "   • Accesibilidad: 12.6% de importancia total\n",
      "   • Exposición: 12.5% de importancia total\n",
      "   • Entorno Social: 5.8% de importancia total\n",
      "\n",
      "3. UMBRALES DE INTERVENCIÓN:\n",
      "   • Alto riesgo (P90): Probabilidad > 0.833\n",
      "   • Riesgo muy alto (P95): Probabilidad > 0.917\n"
     ]
    }
   ],
   "source": [
    "print(\"CONCLUSIONES CLAVE PARA POLÍTICAS PÚBLICAS\")\n",
    "print(\"=\"*60)\n",
    "\n",
    "print(\"\\n1. VARIABLES MÁS PREDICTIVAS:\")\n",
    "top_5_features = importance_df.head(5)\n",
    "for i, row in top_5_features.iterrows():\n",
    "    print(f\"   • {row['readable_name']}\")\n",
    "\n",
    "print(\"\\n2. CATEGORÍAS DE RIESGO POR IMPORTANCIA:\")\n",
    "for categoria, importancia in sorted(cat_importance.items(), key=lambda x: x[1], reverse=True):\n",
    "    print(f\"   • {categoria}: {importancia:.1%} de importancia total\")\n",
    "\n",
    "print(\"\\n3. UMBRALES DE INTERVENCIÓN:\")\n",
    "print(f\"   • Alto riesgo (P90): Probabilidad > {thresholds[percentiles.index(90)]:.3f}\")\n",
    "print(f\"   • Riesgo muy alto (P95): Probabilidad > {thresholds[percentiles.index(95)]:.3f}\")"
   ]
  }
 ],
 "metadata": {
  "kernelspec": {
   "display_name": "Python 3",
   "language": "python",
   "name": "python3"
  },
  "language_info": {
   "codemirror_mode": {
    "name": "ipython",
    "version": 3
   },
   "file_extension": ".py",
   "mimetype": "text/x-python",
   "name": "python",
   "nbconvert_exporter": "python",
   "pygments_lexer": "ipython3",
   "version": "3.12.10"
  }
 },
 "nbformat": 4,
 "nbformat_minor": 5
}
