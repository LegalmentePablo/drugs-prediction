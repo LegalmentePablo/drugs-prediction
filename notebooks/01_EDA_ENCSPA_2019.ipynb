{
 "cells": [
  {
   "cell_type": "markdown",
   "id": "1582b11b",
   "metadata": {},
   "source": [
    "# EDA - Encuesta Nacional de Consumo de Sustancias Psicoactivas (ENCSPA) 2019\n",
    "## Análisis Exploratorio de Datos para Predicción de Consumo de Sustancias\n",
    "\n",
    "### Fuente de los Datos\n",
    "**Dataset**: Encuesta Nacional de Consumo de Sustancias Psicoactivas (ENCSPA) 2019\n",
    "- **Institución**: DANE (Departamento Administrativo Nacional de Estadística) - Colombia\n",
    "- **Población objetivo**: 12 a 65 años en territorio nacional\n",
    "- **Tamaño de muestra**: 49,756 observaciones válidas\n",
    "- **Variables**: 98 variables (entorno social, accesibilidad, comportamiento)\n",
    "- **Propósito**: Caracterización nacional de patrones de consumo de sustancias\n",
    "\n",
    "### Enfoque del Análisis: Variables Clave para Predicción ML\n",
    "\n",
    "**VARIABLES OBJETIVO SELECCIONADAS:**\n",
    "- G_11_F: Consumo de Marihuana (Variable principal - 8.0% prevalencia)\n",
    "- G_11_G: Consumo de Cocaína (Variable intermedia - 1.96% prevalencia)\n",
    "- G_11_H: Consumo de Basuco (Variable alto riesgo - 0.62% prevalencia)\n",
    "- G_13: Uso de Jeringas (Análisis descriptivo - 0.014% prevalencia)\n",
    "\n",
    "**VARIABLES PREDICTORAS PRINCIPALES:**\n",
    "- Entorno Social: G_01, G_02 (familiares/amigos consumidores)\n",
    "- Actitudes: G_03, G_04, G_05 (curiosidad, disposición)\n",
    "- Accesibilidad: G_06_A-G_06_D (facilidad de acceso)\n",
    "- Exposición: G_07, G_08_A-G_08_G (ofertas recibidas)"
   ]
  },
  {
   "cell_type": "code",
   "execution_count": 7,
   "id": "2e3c3988",
   "metadata": {},
   "outputs": [],
   "source": [
    "# Importar librerías necesarias\n",
    "import pandas as pd\n",
    "import numpy as np\n",
    "import plotly.express as px\n",
    "import plotly.graph_objects as go\n",
    "from plotly.subplots import make_subplots\n",
    "import plotly.figure_factory as ff\n",
    "import warnings\n",
    "warnings.filterwarnings('ignore')\n",
    "df = pd.read_csv('../data/g_capitulos.csv')"
   ]
  },
  {
   "cell_type": "code",
   "execution_count": 8,
   "id": "e9e1480c",
   "metadata": {},
   "outputs": [
    {
     "name": "stdout",
     "output_type": "stream",
     "text": [
      "Variables clave definidas para el proyecto de ML:\n",
      "Variables objetivo: 4\n",
      "Variables predictoras categóricas: 5\n",
      "Variables predictoras numéricas: 9\n",
      "Total variables predictoras: 14\n",
      "\n",
      "Variables objetivo seleccionadas:\n",
      "1. Consumo de Marihuana (principal)\n",
      "2. Consumo de Cocaína (intermedia)\n",
      "3. Consumo de Basuco (alto_riesgo)\n",
      "4. Uso de Jeringas (descriptiva)\n",
      "\n",
      "Variables predictoras categóricas:\n",
      "   1. Familiares Consumen Sustancias\n",
      "   2. Amigos Consumen Sustancias\n",
      "   3. Curiosidad por Probar\n",
      "   4. Disposición a Consumir\n",
      "   5. Tuvo Oportunidad de Probar\n",
      "\n",
      "Variables predictoras numéricas:\n",
      "   1. Cantidad de Familiares que Consumen\n",
      "   2. Cantidad de Amigos que Consumen\n",
      "   3. Acceso Fácil a Marihuana\n",
      "   4. Acceso Fácil a Cocaína\n",
      "   5. Acceso Fácil a Basuco\n",
      "   6. Acceso Fácil a Éxtasis\n",
      "   7. Ofertas Recibidas (Último Año)\n",
      "   8. Ofertas de Marihuana\n",
      "   9. Ofertas de Cocaína\n",
      "\n",
      "Estructura SINCRONIZADA con notebook de preprocesamiento\n"
     ]
    }
   ],
   "source": [
    "# Variables seleccionadas siguiendo metodología del proyecto\n",
    "\n",
    "# Variables objetivo identificadas (4 variables para diferentes análisis)\n",
    "target_variables = {\n",
    "    'principal': 'G_11_F',\n",
    "    'intermedia': 'G_11_G',\n",
    "    'alto_riesgo': 'G_11_H',\n",
    "    'descriptiva': 'G_13'\n",
    "}\n",
    "\n",
    "# Variables predictoras categóricas (entorno social + actitudes)\n",
    "categorical_features = [\n",
    "    # Entorno Social\n",
    "    'G_01',  # Familiares consumen sustancias\n",
    "    'G_02',  # Amigos consumen sustancias  \n",
    "    \n",
    "    # Actitudes y Curiosidad\n",
    "    'G_03',  # Curiosidad por probar\n",
    "    'G_04',  # Disposición a consumir\n",
    "    'G_05'   # Tuvo oportunidad de probar\n",
    "]\n",
    "\n",
    "# Variables predictoras numéricas (accesibilidad + exposición)\n",
    "numerical_features = [\n",
    "    # Cantidad de familiares/amigos\n",
    "    'G_01_A',  # Cantidad de familiares que consumen\n",
    "    'G_02_A',  # Cantidad de amigos que consumen\n",
    "    \n",
    "    # Accesibilidad (facilidad de acceso)\n",
    "    'G_06_A',  # Facilidad acceso marihuana\n",
    "    'G_06_B',  # Facilidad acceso cocaína\n",
    "    'G_06_C',  # Facilidad acceso basuco\n",
    "    'G_06_D',  # Facilidad acceso éxtasis\n",
    "    \n",
    "    # Exposición (ofertas recibidas)\n",
    "    'G_07',    # Ofertas recibidas en último año\n",
    "    'G_08_A',  # Veces que ofrecieron marihuana\n",
    "    'G_08_B'   # Veces que ofrecieron cocaína\n",
    "]\n",
    "\n",
    "# DICCIONARIO DE NOMBRES LEGIBLES PARA GRÁFICOS Y PRINTS\n",
    "variable_names = {\n",
    "    # Variables objetivo\n",
    "    'G_11_F': 'Consumo de Marihuana',\n",
    "    'G_11_G': 'Consumo de Cocaína', \n",
    "    'G_11_H': 'Consumo de Basuco',\n",
    "    'G_13': 'Uso de Jeringas',\n",
    "    \n",
    "    # Variables categóricas (entorno social + actitudes)\n",
    "    'G_01': 'Familiares Consumen Sustancias',\n",
    "    'G_02': 'Amigos Consumen Sustancias',\n",
    "    'G_03': 'Curiosidad por Probar',\n",
    "    'G_04': 'Disposición a Consumir',\n",
    "    'G_05': 'Tuvo Oportunidad de Probar',\n",
    "    \n",
    "    # Variables numéricas (cantidades + acceso + exposición)\n",
    "    'G_01_A': 'Cantidad de Familiares que Consumen',\n",
    "    'G_02_A': 'Cantidad de Amigos que Consumen',\n",
    "    'G_06_A': 'Acceso Fácil a Marihuana',\n",
    "    'G_06_B': 'Acceso Fácil a Cocaína',\n",
    "    'G_06_C': 'Acceso Fácil a Basuco',\n",
    "    'G_06_D': 'Acceso Fácil a Éxtasis',\n",
    "    'G_07': 'Ofertas Recibidas (Último Año)',\n",
    "    'G_08_A': 'Ofertas de Marihuana',\n",
    "    'G_08_B': 'Ofertas de Cocaína'\n",
    "}\n",
    "\n",
    "# Función para obtener nombre legible\n",
    "def get_readable_name(var_code):\n",
    "    \"\"\"Convierte código de variable a nombre legible\"\"\"\n",
    "    return variable_names.get(var_code, var_code)\n",
    "\n",
    "# Todas las variables para el análisis\n",
    "all_predictors = categorical_features + numerical_features\n",
    "\n",
    "print(\"Variables clave definidas para el proyecto de ML:\")\n",
    "print(f\"Variables objetivo: {len(target_variables)}\")\n",
    "print(f\"Variables predictoras categóricas: {len(categorical_features)}\")\n",
    "print(f\"Variables predictoras numéricas: {len(numerical_features)}\")\n",
    "print(f\"Total variables predictoras: {len(all_predictors)}\")\n",
    "\n",
    "print(f\"\\nVariables objetivo seleccionadas:\")\n",
    "for i, (tipo, var) in enumerate(target_variables.items(), 1):\n",
    "    print(f\"{i}. {get_readable_name(var)} ({tipo})\")\n",
    "\n",
    "print(f\"\\nVariables predictoras categóricas:\")\n",
    "for i, var in enumerate(categorical_features, 1):\n",
    "    print(f\"   {i}. {get_readable_name(var)}\")\n",
    "\n",
    "print(f\"\\nVariables predictoras numéricas:\")\n",
    "for i, var in enumerate(numerical_features, 1):\n",
    "    print(f\"   {i}. {get_readable_name(var)}\")\n",
    "\n",
    "print(f\"\\nEstructura SINCRONIZADA con notebook de preprocesamiento\")"
   ]
  },
  {
   "cell_type": "markdown",
   "id": "4206913d",
   "metadata": {},
   "source": [
    "## ANÁLISIS ESPECÍFICO PARA PREDICCIÓN DE CONSUMO\n",
    "### Variables Objetivo: Marihuana, Cocaína, Basuco y Uso de Jeringas\n",
    "### Variables Predictoras: Entorno Social, Actitudes, Accesibilidad y Exposición\n",
    "\n",
    "**ENFOQUE ESTRATÉGICO:**\n",
    "- **Marihuana**: Variable principal para modelos de clasificación (8% prevalencia)\n",
    "- **Cocaína**: Variable intermedia para análisis de riesgo (1.96% prevalencia)\n",
    "- **Basuco**: Variable de alto riesgo con técnicas para clases desbalanceadas (0.62% prevalencia)\n",
    "- **Jeringas**: Variable de análisis descriptivo (0.014% prevalencia)"
   ]
  },
  {
   "cell_type": "code",
   "execution_count": 11,
   "id": "1d0591b4",
   "metadata": {},
   "outputs": [
    {
     "name": "stdout",
     "output_type": "stream",
     "text": [
      "Consumo de Marihuana (PRINCIPAL): G_11_F - Disponible\n",
      "Consumo de Cocaína (INTERMEDIA): G_11_G - Disponible\n",
      "Consumo de Basuco (ALTO_RIESGO): G_11_H - Disponible\n",
      "Uso de Jeringas (DESCRIPTIVA): G_13 - Disponible\n",
      "\n",
      "Variables objetivo disponibles: 4\n",
      "Consumo de Marihuana: 8.00% de prevalencia\n",
      "Consumo de Cocaína: 1.96% de prevalencia\n",
      "Consumo de Basuco: 0.62% de prevalencia\n",
      "Uso de Jeringas: 0.01% de prevalencia\n"
     ]
    },
    {
     "data": {
      "application/vnd.plotly.v1+json": {
       "config": {
        "plotlyServerURL": "https://plot.ly"
       },
       "data": [
        {
         "hovertemplate": "Variable Objetivo=%{x}<br>Prevalencia de Consumo (%)=%{y}<br>text=%{text}<br>color=%{marker.color}<extra></extra>",
         "legendgroup": "",
         "marker": {
          "color": {
           "bdata": "YXuzaZABIECwhWCC50n/P8ryzX/y7+M/gBk/6gbQjD8=",
           "dtype": "f8"
          },
          "coloraxis": "coloraxis",
          "pattern": {
           "shape": ""
          }
         },
         "name": "",
         "orientation": "v",
         "showlegend": false,
         "text": [
          "8.0%",
          "2.0%",
          "0.6%",
          "0.0%"
         ],
         "textposition": "outside",
         "type": "bar",
         "x": [
          "Consumo de Marihuana",
          "Consumo de Cocaína",
          "Consumo de Basuco",
          "Uso de Jeringas"
         ],
         "xaxis": "x",
         "y": {
          "bdata": "YXuzaZABIECwhWCC50n/P8ryzX/y7+M/gBk/6gbQjD8=",
          "dtype": "f8"
         },
         "yaxis": "y"
        }
       ],
       "layout": {
        "annotations": [
         {
          "font": {
           "color": "gray",
           "size": 12
          },
          "showarrow": false,
          "text": "Variables seleccionadas como TARGET para modelos predictivos",
          "x": 0.5,
          "xref": "paper",
          "y": 1.1,
          "yref": "paper"
         }
        ],
        "barmode": "relative",
        "coloraxis": {
         "colorbar": {
          "title": {
           "text": "color"
          }
         },
         "colorscale": [
          [
           0,
           "rgb(255,245,240)"
          ],
          [
           0.125,
           "rgb(254,224,210)"
          ],
          [
           0.25,
           "rgb(252,187,161)"
          ],
          [
           0.375,
           "rgb(252,146,114)"
          ],
          [
           0.5,
           "rgb(251,106,74)"
          ],
          [
           0.625,
           "rgb(239,59,44)"
          ],
          [
           0.75,
           "rgb(203,24,29)"
          ],
          [
           0.875,
           "rgb(165,15,21)"
          ],
          [
           1,
           "rgb(103,0,13)"
          ]
         ]
        },
        "height": 500,
        "legend": {
         "tracegroupgap": 0
        },
        "showlegend": false,
        "template": {
         "data": {
          "bar": [
           {
            "error_x": {
             "color": "#2a3f5f"
            },
            "error_y": {
             "color": "#2a3f5f"
            },
            "marker": {
             "line": {
              "color": "#E5ECF6",
              "width": 0.5
             },
             "pattern": {
              "fillmode": "overlay",
              "size": 10,
              "solidity": 0.2
             }
            },
            "type": "bar"
           }
          ],
          "barpolar": [
           {
            "marker": {
             "line": {
              "color": "#E5ECF6",
              "width": 0.5
             },
             "pattern": {
              "fillmode": "overlay",
              "size": 10,
              "solidity": 0.2
             }
            },
            "type": "barpolar"
           }
          ],
          "carpet": [
           {
            "aaxis": {
             "endlinecolor": "#2a3f5f",
             "gridcolor": "white",
             "linecolor": "white",
             "minorgridcolor": "white",
             "startlinecolor": "#2a3f5f"
            },
            "baxis": {
             "endlinecolor": "#2a3f5f",
             "gridcolor": "white",
             "linecolor": "white",
             "minorgridcolor": "white",
             "startlinecolor": "#2a3f5f"
            },
            "type": "carpet"
           }
          ],
          "choropleth": [
           {
            "colorbar": {
             "outlinewidth": 0,
             "ticks": ""
            },
            "type": "choropleth"
           }
          ],
          "contour": [
           {
            "colorbar": {
             "outlinewidth": 0,
             "ticks": ""
            },
            "colorscale": [
             [
              0,
              "#0d0887"
             ],
             [
              0.1111111111111111,
              "#46039f"
             ],
             [
              0.2222222222222222,
              "#7201a8"
             ],
             [
              0.3333333333333333,
              "#9c179e"
             ],
             [
              0.4444444444444444,
              "#bd3786"
             ],
             [
              0.5555555555555556,
              "#d8576b"
             ],
             [
              0.6666666666666666,
              "#ed7953"
             ],
             [
              0.7777777777777778,
              "#fb9f3a"
             ],
             [
              0.8888888888888888,
              "#fdca26"
             ],
             [
              1,
              "#f0f921"
             ]
            ],
            "type": "contour"
           }
          ],
          "contourcarpet": [
           {
            "colorbar": {
             "outlinewidth": 0,
             "ticks": ""
            },
            "type": "contourcarpet"
           }
          ],
          "heatmap": [
           {
            "colorbar": {
             "outlinewidth": 0,
             "ticks": ""
            },
            "colorscale": [
             [
              0,
              "#0d0887"
             ],
             [
              0.1111111111111111,
              "#46039f"
             ],
             [
              0.2222222222222222,
              "#7201a8"
             ],
             [
              0.3333333333333333,
              "#9c179e"
             ],
             [
              0.4444444444444444,
              "#bd3786"
             ],
             [
              0.5555555555555556,
              "#d8576b"
             ],
             [
              0.6666666666666666,
              "#ed7953"
             ],
             [
              0.7777777777777778,
              "#fb9f3a"
             ],
             [
              0.8888888888888888,
              "#fdca26"
             ],
             [
              1,
              "#f0f921"
             ]
            ],
            "type": "heatmap"
           }
          ],
          "histogram": [
           {
            "marker": {
             "pattern": {
              "fillmode": "overlay",
              "size": 10,
              "solidity": 0.2
             }
            },
            "type": "histogram"
           }
          ],
          "histogram2d": [
           {
            "colorbar": {
             "outlinewidth": 0,
             "ticks": ""
            },
            "colorscale": [
             [
              0,
              "#0d0887"
             ],
             [
              0.1111111111111111,
              "#46039f"
             ],
             [
              0.2222222222222222,
              "#7201a8"
             ],
             [
              0.3333333333333333,
              "#9c179e"
             ],
             [
              0.4444444444444444,
              "#bd3786"
             ],
             [
              0.5555555555555556,
              "#d8576b"
             ],
             [
              0.6666666666666666,
              "#ed7953"
             ],
             [
              0.7777777777777778,
              "#fb9f3a"
             ],
             [
              0.8888888888888888,
              "#fdca26"
             ],
             [
              1,
              "#f0f921"
             ]
            ],
            "type": "histogram2d"
           }
          ],
          "histogram2dcontour": [
           {
            "colorbar": {
             "outlinewidth": 0,
             "ticks": ""
            },
            "colorscale": [
             [
              0,
              "#0d0887"
             ],
             [
              0.1111111111111111,
              "#46039f"
             ],
             [
              0.2222222222222222,
              "#7201a8"
             ],
             [
              0.3333333333333333,
              "#9c179e"
             ],
             [
              0.4444444444444444,
              "#bd3786"
             ],
             [
              0.5555555555555556,
              "#d8576b"
             ],
             [
              0.6666666666666666,
              "#ed7953"
             ],
             [
              0.7777777777777778,
              "#fb9f3a"
             ],
             [
              0.8888888888888888,
              "#fdca26"
             ],
             [
              1,
              "#f0f921"
             ]
            ],
            "type": "histogram2dcontour"
           }
          ],
          "mesh3d": [
           {
            "colorbar": {
             "outlinewidth": 0,
             "ticks": ""
            },
            "type": "mesh3d"
           }
          ],
          "parcoords": [
           {
            "line": {
             "colorbar": {
              "outlinewidth": 0,
              "ticks": ""
             }
            },
            "type": "parcoords"
           }
          ],
          "pie": [
           {
            "automargin": true,
            "type": "pie"
           }
          ],
          "scatter": [
           {
            "fillpattern": {
             "fillmode": "overlay",
             "size": 10,
             "solidity": 0.2
            },
            "type": "scatter"
           }
          ],
          "scatter3d": [
           {
            "line": {
             "colorbar": {
              "outlinewidth": 0,
              "ticks": ""
             }
            },
            "marker": {
             "colorbar": {
              "outlinewidth": 0,
              "ticks": ""
             }
            },
            "type": "scatter3d"
           }
          ],
          "scattercarpet": [
           {
            "marker": {
             "colorbar": {
              "outlinewidth": 0,
              "ticks": ""
             }
            },
            "type": "scattercarpet"
           }
          ],
          "scattergeo": [
           {
            "marker": {
             "colorbar": {
              "outlinewidth": 0,
              "ticks": ""
             }
            },
            "type": "scattergeo"
           }
          ],
          "scattergl": [
           {
            "marker": {
             "colorbar": {
              "outlinewidth": 0,
              "ticks": ""
             }
            },
            "type": "scattergl"
           }
          ],
          "scattermap": [
           {
            "marker": {
             "colorbar": {
              "outlinewidth": 0,
              "ticks": ""
             }
            },
            "type": "scattermap"
           }
          ],
          "scattermapbox": [
           {
            "marker": {
             "colorbar": {
              "outlinewidth": 0,
              "ticks": ""
             }
            },
            "type": "scattermapbox"
           }
          ],
          "scatterpolar": [
           {
            "marker": {
             "colorbar": {
              "outlinewidth": 0,
              "ticks": ""
             }
            },
            "type": "scatterpolar"
           }
          ],
          "scatterpolargl": [
           {
            "marker": {
             "colorbar": {
              "outlinewidth": 0,
              "ticks": ""
             }
            },
            "type": "scatterpolargl"
           }
          ],
          "scatterternary": [
           {
            "marker": {
             "colorbar": {
              "outlinewidth": 0,
              "ticks": ""
             }
            },
            "type": "scatterternary"
           }
          ],
          "surface": [
           {
            "colorbar": {
             "outlinewidth": 0,
             "ticks": ""
            },
            "colorscale": [
             [
              0,
              "#0d0887"
             ],
             [
              0.1111111111111111,
              "#46039f"
             ],
             [
              0.2222222222222222,
              "#7201a8"
             ],
             [
              0.3333333333333333,
              "#9c179e"
             ],
             [
              0.4444444444444444,
              "#bd3786"
             ],
             [
              0.5555555555555556,
              "#d8576b"
             ],
             [
              0.6666666666666666,
              "#ed7953"
             ],
             [
              0.7777777777777778,
              "#fb9f3a"
             ],
             [
              0.8888888888888888,
              "#fdca26"
             ],
             [
              1,
              "#f0f921"
             ]
            ],
            "type": "surface"
           }
          ],
          "table": [
           {
            "cells": {
             "fill": {
              "color": "#EBF0F8"
             },
             "line": {
              "color": "white"
             }
            },
            "header": {
             "fill": {
              "color": "#C8D4E3"
             },
             "line": {
              "color": "white"
             }
            },
            "type": "table"
           }
          ]
         },
         "layout": {
          "annotationdefaults": {
           "arrowcolor": "#2a3f5f",
           "arrowhead": 0,
           "arrowwidth": 1
          },
          "autotypenumbers": "strict",
          "coloraxis": {
           "colorbar": {
            "outlinewidth": 0,
            "ticks": ""
           }
          },
          "colorscale": {
           "diverging": [
            [
             0,
             "#8e0152"
            ],
            [
             0.1,
             "#c51b7d"
            ],
            [
             0.2,
             "#de77ae"
            ],
            [
             0.3,
             "#f1b6da"
            ],
            [
             0.4,
             "#fde0ef"
            ],
            [
             0.5,
             "#f7f7f7"
            ],
            [
             0.6,
             "#e6f5d0"
            ],
            [
             0.7,
             "#b8e186"
            ],
            [
             0.8,
             "#7fbc41"
            ],
            [
             0.9,
             "#4d9221"
            ],
            [
             1,
             "#276419"
            ]
           ],
           "sequential": [
            [
             0,
             "#0d0887"
            ],
            [
             0.1111111111111111,
             "#46039f"
            ],
            [
             0.2222222222222222,
             "#7201a8"
            ],
            [
             0.3333333333333333,
             "#9c179e"
            ],
            [
             0.4444444444444444,
             "#bd3786"
            ],
            [
             0.5555555555555556,
             "#d8576b"
            ],
            [
             0.6666666666666666,
             "#ed7953"
            ],
            [
             0.7777777777777778,
             "#fb9f3a"
            ],
            [
             0.8888888888888888,
             "#fdca26"
            ],
            [
             1,
             "#f0f921"
            ]
           ],
           "sequentialminus": [
            [
             0,
             "#0d0887"
            ],
            [
             0.1111111111111111,
             "#46039f"
            ],
            [
             0.2222222222222222,
             "#7201a8"
            ],
            [
             0.3333333333333333,
             "#9c179e"
            ],
            [
             0.4444444444444444,
             "#bd3786"
            ],
            [
             0.5555555555555556,
             "#d8576b"
            ],
            [
             0.6666666666666666,
             "#ed7953"
            ],
            [
             0.7777777777777778,
             "#fb9f3a"
            ],
            [
             0.8888888888888888,
             "#fdca26"
            ],
            [
             1,
             "#f0f921"
            ]
           ]
          },
          "colorway": [
           "#636efa",
           "#EF553B",
           "#00cc96",
           "#ab63fa",
           "#FFA15A",
           "#19d3f3",
           "#FF6692",
           "#B6E880",
           "#FF97FF",
           "#FECB52"
          ],
          "font": {
           "color": "#2a3f5f"
          },
          "geo": {
           "bgcolor": "white",
           "lakecolor": "white",
           "landcolor": "#E5ECF6",
           "showlakes": true,
           "showland": true,
           "subunitcolor": "white"
          },
          "hoverlabel": {
           "align": "left"
          },
          "hovermode": "closest",
          "mapbox": {
           "style": "light"
          },
          "paper_bgcolor": "white",
          "plot_bgcolor": "#E5ECF6",
          "polar": {
           "angularaxis": {
            "gridcolor": "white",
            "linecolor": "white",
            "ticks": ""
           },
           "bgcolor": "#E5ECF6",
           "radialaxis": {
            "gridcolor": "white",
            "linecolor": "white",
            "ticks": ""
           }
          },
          "scene": {
           "xaxis": {
            "backgroundcolor": "#E5ECF6",
            "gridcolor": "white",
            "gridwidth": 2,
            "linecolor": "white",
            "showbackground": true,
            "ticks": "",
            "zerolinecolor": "white"
           },
           "yaxis": {
            "backgroundcolor": "#E5ECF6",
            "gridcolor": "white",
            "gridwidth": 2,
            "linecolor": "white",
            "showbackground": true,
            "ticks": "",
            "zerolinecolor": "white"
           },
           "zaxis": {
            "backgroundcolor": "#E5ECF6",
            "gridcolor": "white",
            "gridwidth": 2,
            "linecolor": "white",
            "showbackground": true,
            "ticks": "",
            "zerolinecolor": "white"
           }
          },
          "shapedefaults": {
           "line": {
            "color": "#2a3f5f"
           }
          },
          "ternary": {
           "aaxis": {
            "gridcolor": "white",
            "linecolor": "white",
            "ticks": ""
           },
           "baxis": {
            "gridcolor": "white",
            "linecolor": "white",
            "ticks": ""
           },
           "bgcolor": "#E5ECF6",
           "caxis": {
            "gridcolor": "white",
            "linecolor": "white",
            "ticks": ""
           }
          },
          "title": {
           "x": 0.05
          },
          "xaxis": {
           "automargin": true,
           "gridcolor": "white",
           "linecolor": "white",
           "ticks": "",
           "title": {
            "standoff": 15
           },
           "zerolinecolor": "white",
           "zerolinewidth": 2
          },
          "yaxis": {
           "automargin": true,
           "gridcolor": "white",
           "linecolor": "white",
           "ticks": "",
           "title": {
            "standoff": 15
           },
           "zerolinecolor": "white",
           "zerolinewidth": 2
          }
         }
        },
        "title": {
         "text": "Variables Objetivo: Prevalencia de Consumo para Modelos de ML"
        },
        "xaxis": {
         "anchor": "y",
         "domain": [
          0,
          1
         ],
         "tickangle": -45,
         "title": {
          "text": "Variable Objetivo"
         }
        },
        "yaxis": {
         "anchor": "x",
         "domain": [
          0,
          1
         ],
         "title": {
          "text": "Prevalencia de Consumo (%)"
         }
        }
       }
      }
     },
     "metadata": {},
     "output_type": "display_data"
    }
   ],
   "source": [
    "# ANÁLISIS ESPECÍFICO DE VARIABLES OBJETIVO\n",
    "\n",
    "# Verificar disponibilidad de variables objetivo\n",
    "variables_objetivo_disponibles = {}\n",
    "for tipo, var in target_variables.items():\n",
    "    if var in df.columns:\n",
    "        variables_objetivo_disponibles[tipo] = var\n",
    "        print(f\"{get_readable_name(var)} ({tipo.upper()}): {var} - Disponible\")\n",
    "    else:\n",
    "        print(f\"{get_readable_name(var)} ({tipo.upper()}): {var} - NO disponible\")\n",
    "\n",
    "print(f\"\\nVariables objetivo disponibles: {len(variables_objetivo_disponibles)}\")\n",
    "\n",
    "# Calcular prevalencias para variables objetivo\n",
    "prevalencias_objetivo = {}\n",
    "for tipo, var in variables_objetivo_disponibles.items():\n",
    "    prevalencia = (df[var] == 1).mean() * 100\n",
    "    prevalencias_objetivo[tipo] = prevalencia\n",
    "    nombre_legible = get_readable_name(var)\n",
    "    print(f\"{nombre_legible}: {prevalencia:.2f}% de prevalencia\")\n",
    "\n",
    "# Gráfico de variables objetivo con nombres legibles\n",
    "if prevalencias_objetivo:\n",
    "    # Crear nombres legibles para el gráfico\n",
    "    nombres_legibles = []\n",
    "    valores_prevalencia = []\n",
    "    \n",
    "    for tipo, prevalencia in prevalencias_objetivo.items():\n",
    "        var_code = target_variables[tipo]\n",
    "        nombre_legible = get_readable_name(var_code)\n",
    "        nombres_legibles.append(nombre_legible)\n",
    "        valores_prevalencia.append(prevalencia)\n",
    "    \n",
    "    fig_objetivo = px.bar(\n",
    "        x=nombres_legibles,\n",
    "        y=valores_prevalencia,\n",
    "        title='Variables Objetivo: Prevalencia de Consumo para Modelos de ML',\n",
    "        labels={'x': 'Variable Objetivo', 'y': 'Prevalencia de Consumo (%)'},\n",
    "        color=valores_prevalencia,\n",
    "        color_continuous_scale='Reds',\n",
    "        text=[f'{v:.1f}%' for v in valores_prevalencia]\n",
    "    )\n",
    "    \n",
    "    fig_objetivo.update_traces(textposition='outside')\n",
    "    fig_objetivo.update_layout(\n",
    "        height=500,\n",
    "        showlegend=False,\n",
    "        xaxis_tickangle=-45,\n",
    "        annotations=[\n",
    "            dict(\n",
    "                x=0.5, y=1.1,\n",
    "                xref='paper', yref='paper',\n",
    "                text='Variables seleccionadas como TARGET para modelos predictivos',\n",
    "                showarrow=False,\n",
    "                font=dict(size=12, color='gray')\n",
    "            )\n",
    "        ]\n",
    "    )\n",
    "    \n",
    "    fig_objetivo.show()\n",
    "else:\n",
    "    print(\"No se encontraron variables objetivo en el dataset\")"
   ]
  },
  {
   "cell_type": "code",
   "execution_count": 14,
   "id": "a0a4e12b",
   "metadata": {},
   "outputs": [
    {
     "data": {
      "application/vnd.plotly.v1+json": {
       "config": {
        "plotlyServerURL": "https://plot.ly"
       },
       "data": [
        {
         "hovertemplate": "Combinación de Entorno Social=%{x}<br>Probabilidad de Consumo de Marihuana (%)=%{marker.color}<br>text=%{text}<extra></extra>",
         "legendgroup": "",
         "marker": {
          "color": {
           "bdata": "7gbo8tffOUDx6JWx/Y4cQNMCA9lXnjFAp77O+lsQBUA=",
           "dtype": "f8"
          },
          "coloraxis": "coloraxis",
          "pattern": {
           "shape": ""
          }
         },
         "name": "",
         "orientation": "v",
         "showlegend": false,
         "text": [
          "25.9%<br>n=5318",
          "7.1%<br>n=4440",
          "17.6%<br>n=8247",
          "2.6%<br>n=31751"
         ],
         "textposition": "outside",
         "type": "bar",
         "x": [
          "Fam:Sí, Ami:Sí",
          "Fam:Sí, Ami:No",
          "Fam:No, Ami:Sí",
          "Fam:No, Ami:No"
         ],
         "xaxis": "x",
         "y": {
          "bdata": "7gbo8tffOUDx6JWx/Y4cQNMCA9lXnjFAp77O+lsQBUA=",
          "dtype": "f8"
         },
         "yaxis": "y"
        }
       ],
       "layout": {
        "annotations": [
         {
          "font": {
           "color": "red",
           "size": 12,
           "style": "italic"
          },
          "showarrow": false,
          "text": "Mayor entorno consumidor = Mayor probabilidad personal",
          "x": 0.5,
          "xref": "paper",
          "y": 1.15,
          "yref": "paper"
         }
        ],
        "barmode": "relative",
        "coloraxis": {
         "colorbar": {
          "title": {
           "text": "Probabilidad de Consumo de Marihuana (%)"
          }
         },
         "colorscale": [
          [
           0,
           "rgb(49,54,149)"
          ],
          [
           0.1,
           "rgb(69,117,180)"
          ],
          [
           0.2,
           "rgb(116,173,209)"
          ],
          [
           0.3,
           "rgb(171,217,233)"
          ],
          [
           0.4,
           "rgb(224,243,248)"
          ],
          [
           0.5,
           "rgb(255,255,191)"
          ],
          [
           0.6,
           "rgb(254,224,144)"
          ],
          [
           0.7,
           "rgb(253,174,97)"
          ],
          [
           0.8,
           "rgb(244,109,67)"
          ],
          [
           0.9,
           "rgb(215,48,39)"
          ],
          [
           1,
           "rgb(165,0,38)"
          ]
         ]
        },
        "height": 500,
        "legend": {
         "tracegroupgap": 0
        },
        "template": {
         "data": {
          "bar": [
           {
            "error_x": {
             "color": "#2a3f5f"
            },
            "error_y": {
             "color": "#2a3f5f"
            },
            "marker": {
             "line": {
              "color": "#E5ECF6",
              "width": 0.5
             },
             "pattern": {
              "fillmode": "overlay",
              "size": 10,
              "solidity": 0.2
             }
            },
            "type": "bar"
           }
          ],
          "barpolar": [
           {
            "marker": {
             "line": {
              "color": "#E5ECF6",
              "width": 0.5
             },
             "pattern": {
              "fillmode": "overlay",
              "size": 10,
              "solidity": 0.2
             }
            },
            "type": "barpolar"
           }
          ],
          "carpet": [
           {
            "aaxis": {
             "endlinecolor": "#2a3f5f",
             "gridcolor": "white",
             "linecolor": "white",
             "minorgridcolor": "white",
             "startlinecolor": "#2a3f5f"
            },
            "baxis": {
             "endlinecolor": "#2a3f5f",
             "gridcolor": "white",
             "linecolor": "white",
             "minorgridcolor": "white",
             "startlinecolor": "#2a3f5f"
            },
            "type": "carpet"
           }
          ],
          "choropleth": [
           {
            "colorbar": {
             "outlinewidth": 0,
             "ticks": ""
            },
            "type": "choropleth"
           }
          ],
          "contour": [
           {
            "colorbar": {
             "outlinewidth": 0,
             "ticks": ""
            },
            "colorscale": [
             [
              0,
              "#0d0887"
             ],
             [
              0.1111111111111111,
              "#46039f"
             ],
             [
              0.2222222222222222,
              "#7201a8"
             ],
             [
              0.3333333333333333,
              "#9c179e"
             ],
             [
              0.4444444444444444,
              "#bd3786"
             ],
             [
              0.5555555555555556,
              "#d8576b"
             ],
             [
              0.6666666666666666,
              "#ed7953"
             ],
             [
              0.7777777777777778,
              "#fb9f3a"
             ],
             [
              0.8888888888888888,
              "#fdca26"
             ],
             [
              1,
              "#f0f921"
             ]
            ],
            "type": "contour"
           }
          ],
          "contourcarpet": [
           {
            "colorbar": {
             "outlinewidth": 0,
             "ticks": ""
            },
            "type": "contourcarpet"
           }
          ],
          "heatmap": [
           {
            "colorbar": {
             "outlinewidth": 0,
             "ticks": ""
            },
            "colorscale": [
             [
              0,
              "#0d0887"
             ],
             [
              0.1111111111111111,
              "#46039f"
             ],
             [
              0.2222222222222222,
              "#7201a8"
             ],
             [
              0.3333333333333333,
              "#9c179e"
             ],
             [
              0.4444444444444444,
              "#bd3786"
             ],
             [
              0.5555555555555556,
              "#d8576b"
             ],
             [
              0.6666666666666666,
              "#ed7953"
             ],
             [
              0.7777777777777778,
              "#fb9f3a"
             ],
             [
              0.8888888888888888,
              "#fdca26"
             ],
             [
              1,
              "#f0f921"
             ]
            ],
            "type": "heatmap"
           }
          ],
          "histogram": [
           {
            "marker": {
             "pattern": {
              "fillmode": "overlay",
              "size": 10,
              "solidity": 0.2
             }
            },
            "type": "histogram"
           }
          ],
          "histogram2d": [
           {
            "colorbar": {
             "outlinewidth": 0,
             "ticks": ""
            },
            "colorscale": [
             [
              0,
              "#0d0887"
             ],
             [
              0.1111111111111111,
              "#46039f"
             ],
             [
              0.2222222222222222,
              "#7201a8"
             ],
             [
              0.3333333333333333,
              "#9c179e"
             ],
             [
              0.4444444444444444,
              "#bd3786"
             ],
             [
              0.5555555555555556,
              "#d8576b"
             ],
             [
              0.6666666666666666,
              "#ed7953"
             ],
             [
              0.7777777777777778,
              "#fb9f3a"
             ],
             [
              0.8888888888888888,
              "#fdca26"
             ],
             [
              1,
              "#f0f921"
             ]
            ],
            "type": "histogram2d"
           }
          ],
          "histogram2dcontour": [
           {
            "colorbar": {
             "outlinewidth": 0,
             "ticks": ""
            },
            "colorscale": [
             [
              0,
              "#0d0887"
             ],
             [
              0.1111111111111111,
              "#46039f"
             ],
             [
              0.2222222222222222,
              "#7201a8"
             ],
             [
              0.3333333333333333,
              "#9c179e"
             ],
             [
              0.4444444444444444,
              "#bd3786"
             ],
             [
              0.5555555555555556,
              "#d8576b"
             ],
             [
              0.6666666666666666,
              "#ed7953"
             ],
             [
              0.7777777777777778,
              "#fb9f3a"
             ],
             [
              0.8888888888888888,
              "#fdca26"
             ],
             [
              1,
              "#f0f921"
             ]
            ],
            "type": "histogram2dcontour"
           }
          ],
          "mesh3d": [
           {
            "colorbar": {
             "outlinewidth": 0,
             "ticks": ""
            },
            "type": "mesh3d"
           }
          ],
          "parcoords": [
           {
            "line": {
             "colorbar": {
              "outlinewidth": 0,
              "ticks": ""
             }
            },
            "type": "parcoords"
           }
          ],
          "pie": [
           {
            "automargin": true,
            "type": "pie"
           }
          ],
          "scatter": [
           {
            "fillpattern": {
             "fillmode": "overlay",
             "size": 10,
             "solidity": 0.2
            },
            "type": "scatter"
           }
          ],
          "scatter3d": [
           {
            "line": {
             "colorbar": {
              "outlinewidth": 0,
              "ticks": ""
             }
            },
            "marker": {
             "colorbar": {
              "outlinewidth": 0,
              "ticks": ""
             }
            },
            "type": "scatter3d"
           }
          ],
          "scattercarpet": [
           {
            "marker": {
             "colorbar": {
              "outlinewidth": 0,
              "ticks": ""
             }
            },
            "type": "scattercarpet"
           }
          ],
          "scattergeo": [
           {
            "marker": {
             "colorbar": {
              "outlinewidth": 0,
              "ticks": ""
             }
            },
            "type": "scattergeo"
           }
          ],
          "scattergl": [
           {
            "marker": {
             "colorbar": {
              "outlinewidth": 0,
              "ticks": ""
             }
            },
            "type": "scattergl"
           }
          ],
          "scattermap": [
           {
            "marker": {
             "colorbar": {
              "outlinewidth": 0,
              "ticks": ""
             }
            },
            "type": "scattermap"
           }
          ],
          "scattermapbox": [
           {
            "marker": {
             "colorbar": {
              "outlinewidth": 0,
              "ticks": ""
             }
            },
            "type": "scattermapbox"
           }
          ],
          "scatterpolar": [
           {
            "marker": {
             "colorbar": {
              "outlinewidth": 0,
              "ticks": ""
             }
            },
            "type": "scatterpolar"
           }
          ],
          "scatterpolargl": [
           {
            "marker": {
             "colorbar": {
              "outlinewidth": 0,
              "ticks": ""
             }
            },
            "type": "scatterpolargl"
           }
          ],
          "scatterternary": [
           {
            "marker": {
             "colorbar": {
              "outlinewidth": 0,
              "ticks": ""
             }
            },
            "type": "scatterternary"
           }
          ],
          "surface": [
           {
            "colorbar": {
             "outlinewidth": 0,
             "ticks": ""
            },
            "colorscale": [
             [
              0,
              "#0d0887"
             ],
             [
              0.1111111111111111,
              "#46039f"
             ],
             [
              0.2222222222222222,
              "#7201a8"
             ],
             [
              0.3333333333333333,
              "#9c179e"
             ],
             [
              0.4444444444444444,
              "#bd3786"
             ],
             [
              0.5555555555555556,
              "#d8576b"
             ],
             [
              0.6666666666666666,
              "#ed7953"
             ],
             [
              0.7777777777777778,
              "#fb9f3a"
             ],
             [
              0.8888888888888888,
              "#fdca26"
             ],
             [
              1,
              "#f0f921"
             ]
            ],
            "type": "surface"
           }
          ],
          "table": [
           {
            "cells": {
             "fill": {
              "color": "#EBF0F8"
             },
             "line": {
              "color": "white"
             }
            },
            "header": {
             "fill": {
              "color": "#C8D4E3"
             },
             "line": {
              "color": "white"
             }
            },
            "type": "table"
           }
          ]
         },
         "layout": {
          "annotationdefaults": {
           "arrowcolor": "#2a3f5f",
           "arrowhead": 0,
           "arrowwidth": 1
          },
          "autotypenumbers": "strict",
          "coloraxis": {
           "colorbar": {
            "outlinewidth": 0,
            "ticks": ""
           }
          },
          "colorscale": {
           "diverging": [
            [
             0,
             "#8e0152"
            ],
            [
             0.1,
             "#c51b7d"
            ],
            [
             0.2,
             "#de77ae"
            ],
            [
             0.3,
             "#f1b6da"
            ],
            [
             0.4,
             "#fde0ef"
            ],
            [
             0.5,
             "#f7f7f7"
            ],
            [
             0.6,
             "#e6f5d0"
            ],
            [
             0.7,
             "#b8e186"
            ],
            [
             0.8,
             "#7fbc41"
            ],
            [
             0.9,
             "#4d9221"
            ],
            [
             1,
             "#276419"
            ]
           ],
           "sequential": [
            [
             0,
             "#0d0887"
            ],
            [
             0.1111111111111111,
             "#46039f"
            ],
            [
             0.2222222222222222,
             "#7201a8"
            ],
            [
             0.3333333333333333,
             "#9c179e"
            ],
            [
             0.4444444444444444,
             "#bd3786"
            ],
            [
             0.5555555555555556,
             "#d8576b"
            ],
            [
             0.6666666666666666,
             "#ed7953"
            ],
            [
             0.7777777777777778,
             "#fb9f3a"
            ],
            [
             0.8888888888888888,
             "#fdca26"
            ],
            [
             1,
             "#f0f921"
            ]
           ],
           "sequentialminus": [
            [
             0,
             "#0d0887"
            ],
            [
             0.1111111111111111,
             "#46039f"
            ],
            [
             0.2222222222222222,
             "#7201a8"
            ],
            [
             0.3333333333333333,
             "#9c179e"
            ],
            [
             0.4444444444444444,
             "#bd3786"
            ],
            [
             0.5555555555555556,
             "#d8576b"
            ],
            [
             0.6666666666666666,
             "#ed7953"
            ],
            [
             0.7777777777777778,
             "#fb9f3a"
            ],
            [
             0.8888888888888888,
             "#fdca26"
            ],
            [
             1,
             "#f0f921"
            ]
           ]
          },
          "colorway": [
           "#636efa",
           "#EF553B",
           "#00cc96",
           "#ab63fa",
           "#FFA15A",
           "#19d3f3",
           "#FF6692",
           "#B6E880",
           "#FF97FF",
           "#FECB52"
          ],
          "font": {
           "color": "#2a3f5f"
          },
          "geo": {
           "bgcolor": "white",
           "lakecolor": "white",
           "landcolor": "#E5ECF6",
           "showlakes": true,
           "showland": true,
           "subunitcolor": "white"
          },
          "hoverlabel": {
           "align": "left"
          },
          "hovermode": "closest",
          "mapbox": {
           "style": "light"
          },
          "paper_bgcolor": "white",
          "plot_bgcolor": "#E5ECF6",
          "polar": {
           "angularaxis": {
            "gridcolor": "white",
            "linecolor": "white",
            "ticks": ""
           },
           "bgcolor": "#E5ECF6",
           "radialaxis": {
            "gridcolor": "white",
            "linecolor": "white",
            "ticks": ""
           }
          },
          "scene": {
           "xaxis": {
            "backgroundcolor": "#E5ECF6",
            "gridcolor": "white",
            "gridwidth": 2,
            "linecolor": "white",
            "showbackground": true,
            "ticks": "",
            "zerolinecolor": "white"
           },
           "yaxis": {
            "backgroundcolor": "#E5ECF6",
            "gridcolor": "white",
            "gridwidth": 2,
            "linecolor": "white",
            "showbackground": true,
            "ticks": "",
            "zerolinecolor": "white"
           },
           "zaxis": {
            "backgroundcolor": "#E5ECF6",
            "gridcolor": "white",
            "gridwidth": 2,
            "linecolor": "white",
            "showbackground": true,
            "ticks": "",
            "zerolinecolor": "white"
           }
          },
          "shapedefaults": {
           "line": {
            "color": "#2a3f5f"
           }
          },
          "ternary": {
           "aaxis": {
            "gridcolor": "white",
            "linecolor": "white",
            "ticks": ""
           },
           "baxis": {
            "gridcolor": "white",
            "linecolor": "white",
            "ticks": ""
           },
           "bgcolor": "#E5ECF6",
           "caxis": {
            "gridcolor": "white",
            "linecolor": "white",
            "ticks": ""
           }
          },
          "title": {
           "x": 0.05
          },
          "xaxis": {
           "automargin": true,
           "gridcolor": "white",
           "linecolor": "white",
           "ticks": "",
           "title": {
            "standoff": 15
           },
           "zerolinecolor": "white",
           "zerolinewidth": 2
          },
          "yaxis": {
           "automargin": true,
           "gridcolor": "white",
           "linecolor": "white",
           "ticks": "",
           "title": {
            "standoff": 15
           },
           "zerolinecolor": "white",
           "zerolinewidth": 2
          }
         }
        },
        "title": {
         "text": "Poder Predictivo del Entorno Social para Consumo de Marihuana"
        },
        "xaxis": {
         "anchor": "y",
         "domain": [
          0,
          1
         ],
         "tickangle": -45,
         "title": {
          "text": "Combinación de Entorno Social"
         }
        },
        "yaxis": {
         "anchor": "x",
         "domain": [
          0,
          1
         ],
         "title": {
          "text": "Probabilidad de Consumo de Marihuana (%)"
         }
        }
       }
      }
     },
     "metadata": {},
     "output_type": "display_data"
    },
    {
     "name": "stdout",
     "output_type": "stream",
     "text": [
      "ESTADÍSTICAS:\n",
      "- Fam:Sí, Ami:Sí: 25.9% probabilidad (n=5318)\n",
      "- Fam:Sí, Ami:No: 7.1% probabilidad (n=4440)\n",
      "- Fam:No, Ami:Sí: 17.6% probabilidad (n=8247)\n",
      "- Fam:No, Ami:No: 2.6% probabilidad (n=31751)\n"
     ]
    }
   ],
   "source": [
    "# ANÁLISIS DE PODER PREDICTIVO: ENTORNO SOCIAL vs CONSUMO DE MARIHUANA\n",
    "# Este es el análisis clave para demostrar la viabilidad del modelo de ML\n",
    "\n",
    "# Variables clave para análisis predictivo\n",
    "marihuana_var = target_variables['principal']  # G_11_F\n",
    "familiares_var = categorical_features[0]       # G_01  \n",
    "amigos_var = categorical_features[1]          # G_02\n",
    "\n",
    "if marihuana_var in df.columns and familiares_var in df.columns and amigos_var in df.columns:\n",
    "    \n",
    "    # Crear tabla cruzada para análisis con nombres legibles\n",
    "    entorno_consumo = pd.DataFrame({\n",
    "        get_readable_name(familiares_var): df[familiares_var].map({1: 'Sí', 2: 'No', 9: 'No sabe'}),\n",
    "        get_readable_name(amigos_var): df[amigos_var].map({1: 'Sí', 2: 'No', 9: 'No sabe'}),\n",
    "        get_readable_name(marihuana_var): df[marihuana_var].map({1: 'Sí', 2: 'No', 9: 'No sabe'})\n",
    "    })\n",
    "    \n",
    "    # Calcular probabilidades condicionales\n",
    "    prob_data = []\n",
    "    \n",
    "    for fam in ['Sí', 'No']:\n",
    "        for ami in ['Sí', 'No']:\n",
    "            subset = entorno_consumo[\n",
    "                (entorno_consumo[get_readable_name(familiares_var)] == fam) & \n",
    "                (entorno_consumo[get_readable_name(amigos_var)] == ami)\n",
    "            ]\n",
    "            \n",
    "            if len(subset) > 10:  # Solo si hay suficientes casos\n",
    "                prob_consumo = (subset[get_readable_name(marihuana_var)] == 'Sí').mean() * 100\n",
    "                count = len(subset)\n",
    "                \n",
    "                prob_data.append({\n",
    "                    'Familiares': fam,\n",
    "                    'Amigos': ami,\n",
    "                    'Prob_Consumo': prob_consumo,\n",
    "                    'Casos': count,\n",
    "                    'Categoria': f\"Fam:{fam}, Ami:{ami}\"\n",
    "                })\n",
    "    \n",
    "    # Crear gráfico de poder predictivo\n",
    "    if prob_data:\n",
    "        df_prob = pd.DataFrame(prob_data)\n",
    "        \n",
    "        fig_predictivo = px.bar(\n",
    "            df_prob,\n",
    "            x='Categoria',\n",
    "            y='Prob_Consumo',\n",
    "            title=f'Poder Predictivo del Entorno Social para {get_readable_name(marihuana_var)}',\n",
    "            labels={'Categoria': 'Combinación de Entorno Social', \n",
    "                   'Prob_Consumo': f'Probabilidad de {get_readable_name(marihuana_var)} (%)'},\n",
    "            color='Prob_Consumo',\n",
    "            color_continuous_scale='RdYlBu_r',\n",
    "            text=[f'{p:.1f}%<br>n={c}' for p, c in zip(df_prob['Prob_Consumo'], df_prob['Casos'])]\n",
    "        )\n",
    "        \n",
    "        fig_predictivo.update_traces(textposition='outside')\n",
    "        fig_predictivo.update_layout(\n",
    "            height=500,\n",
    "            xaxis_tickangle=-45,\n",
    "            annotations=[\n",
    "                dict(\n",
    "                    x=0.5, y=1.15,\n",
    "                    xref='paper', yref='paper',\n",
    "                    text='Mayor entorno consumidor = Mayor probabilidad personal',\n",
    "                    showarrow=False,\n",
    "                    font=dict(size=12, color='red', style='italic')\n",
    "                )\n",
    "            ]\n",
    "        )\n",
    "        \n",
    "        fig_predictivo.show()\n",
    "        \n",
    "        # Mostrar estadísticas clave con nombres legibles\n",
    "        print(\"ESTADÍSTICAS:\")\n",
    "        for _, row in df_prob.iterrows():\n",
    "            print(f\"- {row['Categoria']}: {row['Prob_Consumo']:.1f}% probabilidad (n={row['Casos']})\")\n",
    "    \n",
    "else:\n",
    "    print(\"Variables de entorno social o marihuana no disponibles para análisis predictivo\")"
   ]
  },
  {
   "cell_type": "code",
   "execution_count": 15,
   "id": "1015e7c6",
   "metadata": {},
   "outputs": [
    {
     "name": "stdout",
     "output_type": "stream",
     "text": [
      "Dataset cargado correctamente desde: '../data/g_capitulos.csv'\n",
      "Dimensiones del dataset: (49756, 98)\n",
      "\n",
      "Primeras 5 filas:\n"
     ]
    },
    {
     "data": {
      "text/html": [
       "<div>\n",
       "<style scoped>\n",
       "    .dataframe tbody tr th:only-of-type {\n",
       "        vertical-align: middle;\n",
       "    }\n",
       "\n",
       "    .dataframe tbody tr th {\n",
       "        vertical-align: top;\n",
       "    }\n",
       "\n",
       "    .dataframe thead th {\n",
       "        text-align: right;\n",
       "    }\n",
       "</style>\n",
       "<table border=\"1\" class=\"dataframe\">\n",
       "  <thead>\n",
       "    <tr style=\"text-align: right;\">\n",
       "      <th></th>\n",
       "      <th>G_01</th>\n",
       "      <th>G_01_A</th>\n",
       "      <th>G_02</th>\n",
       "      <th>G_02_A</th>\n",
       "      <th>G_03</th>\n",
       "      <th>G_04</th>\n",
       "      <th>G_05</th>\n",
       "      <th>G_05_A</th>\n",
       "      <th>G_06_A</th>\n",
       "      <th>G_06_B</th>\n",
       "      <th>...</th>\n",
       "      <th>G_14_B</th>\n",
       "      <th>G_14_C</th>\n",
       "      <th>G_14_D</th>\n",
       "      <th>G_14_E</th>\n",
       "      <th>G_14_F</th>\n",
       "      <th>G_14_G</th>\n",
       "      <th>DIRECTORIO</th>\n",
       "      <th>SECUENCIA_ENCUESTA</th>\n",
       "      <th>SECUENCIA_P</th>\n",
       "      <th>ORDEN</th>\n",
       "    </tr>\n",
       "  </thead>\n",
       "  <tbody>\n",
       "    <tr>\n",
       "      <th>0</th>\n",
       "      <td>2</td>\n",
       "      <td>NaN</td>\n",
       "      <td>2</td>\n",
       "      <td>NaN</td>\n",
       "      <td>2</td>\n",
       "      <td>2</td>\n",
       "      <td>2</td>\n",
       "      <td>NaN</td>\n",
       "      <td>9</td>\n",
       "      <td>9</td>\n",
       "      <td>...</td>\n",
       "      <td>NaN</td>\n",
       "      <td>NaN</td>\n",
       "      <td>NaN</td>\n",
       "      <td>NaN</td>\n",
       "      <td>NaN</td>\n",
       "      <td>NaN</td>\n",
       "      <td>1</td>\n",
       "      <td>2</td>\n",
       "      <td>1</td>\n",
       "      <td>2</td>\n",
       "    </tr>\n",
       "    <tr>\n",
       "      <th>1</th>\n",
       "      <td>2</td>\n",
       "      <td>NaN</td>\n",
       "      <td>2</td>\n",
       "      <td>NaN</td>\n",
       "      <td>2</td>\n",
       "      <td>2</td>\n",
       "      <td>2</td>\n",
       "      <td>NaN</td>\n",
       "      <td>9</td>\n",
       "      <td>9</td>\n",
       "      <td>...</td>\n",
       "      <td>NaN</td>\n",
       "      <td>NaN</td>\n",
       "      <td>NaN</td>\n",
       "      <td>NaN</td>\n",
       "      <td>NaN</td>\n",
       "      <td>NaN</td>\n",
       "      <td>2</td>\n",
       "      <td>1</td>\n",
       "      <td>1</td>\n",
       "      <td>1</td>\n",
       "    </tr>\n",
       "    <tr>\n",
       "      <th>2</th>\n",
       "      <td>2</td>\n",
       "      <td>NaN</td>\n",
       "      <td>2</td>\n",
       "      <td>NaN</td>\n",
       "      <td>2</td>\n",
       "      <td>2</td>\n",
       "      <td>2</td>\n",
       "      <td>NaN</td>\n",
       "      <td>3</td>\n",
       "      <td>3</td>\n",
       "      <td>...</td>\n",
       "      <td>NaN</td>\n",
       "      <td>NaN</td>\n",
       "      <td>NaN</td>\n",
       "      <td>NaN</td>\n",
       "      <td>NaN</td>\n",
       "      <td>NaN</td>\n",
       "      <td>3</td>\n",
       "      <td>1</td>\n",
       "      <td>1</td>\n",
       "      <td>1</td>\n",
       "    </tr>\n",
       "    <tr>\n",
       "      <th>3</th>\n",
       "      <td>2</td>\n",
       "      <td>NaN</td>\n",
       "      <td>2</td>\n",
       "      <td>NaN</td>\n",
       "      <td>2</td>\n",
       "      <td>2</td>\n",
       "      <td>2</td>\n",
       "      <td>NaN</td>\n",
       "      <td>9</td>\n",
       "      <td>9</td>\n",
       "      <td>...</td>\n",
       "      <td>NaN</td>\n",
       "      <td>NaN</td>\n",
       "      <td>NaN</td>\n",
       "      <td>NaN</td>\n",
       "      <td>NaN</td>\n",
       "      <td>NaN</td>\n",
       "      <td>4</td>\n",
       "      <td>1</td>\n",
       "      <td>1</td>\n",
       "      <td>1</td>\n",
       "    </tr>\n",
       "    <tr>\n",
       "      <th>4</th>\n",
       "      <td>2</td>\n",
       "      <td>NaN</td>\n",
       "      <td>2</td>\n",
       "      <td>NaN</td>\n",
       "      <td>2</td>\n",
       "      <td>2</td>\n",
       "      <td>2</td>\n",
       "      <td>NaN</td>\n",
       "      <td>9</td>\n",
       "      <td>9</td>\n",
       "      <td>...</td>\n",
       "      <td>NaN</td>\n",
       "      <td>NaN</td>\n",
       "      <td>NaN</td>\n",
       "      <td>NaN</td>\n",
       "      <td>NaN</td>\n",
       "      <td>NaN</td>\n",
       "      <td>6</td>\n",
       "      <td>1</td>\n",
       "      <td>1</td>\n",
       "      <td>1</td>\n",
       "    </tr>\n",
       "  </tbody>\n",
       "</table>\n",
       "<p>5 rows × 98 columns</p>\n",
       "</div>"
      ],
      "text/plain": [
       "   G_01  G_01_A  G_02  G_02_A  G_03  G_04  G_05  G_05_A  G_06_A  G_06_B  ...  \\\n",
       "0     2     NaN     2     NaN     2     2     2     NaN       9       9  ...   \n",
       "1     2     NaN     2     NaN     2     2     2     NaN       9       9  ...   \n",
       "2     2     NaN     2     NaN     2     2     2     NaN       3       3  ...   \n",
       "3     2     NaN     2     NaN     2     2     2     NaN       9       9  ...   \n",
       "4     2     NaN     2     NaN     2     2     2     NaN       9       9  ...   \n",
       "\n",
       "   G_14_B  G_14_C  G_14_D  G_14_E  G_14_F  G_14_G  DIRECTORIO  \\\n",
       "0     NaN     NaN     NaN     NaN     NaN     NaN           1   \n",
       "1     NaN     NaN     NaN     NaN     NaN     NaN           2   \n",
       "2     NaN     NaN     NaN     NaN     NaN     NaN           3   \n",
       "3     NaN     NaN     NaN     NaN     NaN     NaN           4   \n",
       "4     NaN     NaN     NaN     NaN     NaN     NaN           6   \n",
       "\n",
       "   SECUENCIA_ENCUESTA  SECUENCIA_P  ORDEN  \n",
       "0                   2            1      2  \n",
       "1                   1            1      1  \n",
       "2                   1            1      1  \n",
       "3                   1            1      1  \n",
       "4                   1            1      1  \n",
       "\n",
       "[5 rows x 98 columns]"
      ]
     },
     "execution_count": 15,
     "metadata": {},
     "output_type": "execute_result"
    }
   ],
   "source": [
    "# Cargar el dataset (verificación de carga)\n",
    "print(f\"Dataset cargado correctamente desde: '../data/g_capitulos.csv'\")\n",
    "print(f\"Dimensiones del dataset: {df.shape}\")\n",
    "print(f\"\\nPrimeras 5 filas:\")\n",
    "df.head()"
   ]
  },
  {
   "cell_type": "code",
   "execution_count": 16,
   "id": "1ce2c6fa",
   "metadata": {},
   "outputs": [
    {
     "name": "stdout",
     "output_type": "stream",
     "text": [
      "Información general:\n",
      "<class 'pandas.core.frame.DataFrame'>\n",
      "RangeIndex: 49756 entries, 0 to 49755\n",
      "Data columns (total 98 columns):\n",
      " #   Column              Non-Null Count  Dtype  \n",
      "---  ------              --------------  -----  \n",
      " 0   G_01                49756 non-null  int64  \n",
      " 1   G_01_A              9758 non-null   float64\n",
      " 2   G_02                49756 non-null  int64  \n",
      " 3   G_02_A              13565 non-null  float64\n",
      " 4   G_03                49756 non-null  int64  \n",
      " 5   G_04                49756 non-null  int64  \n",
      " 6   G_05                49756 non-null  int64  \n",
      " 7   G_05_A              13545 non-null  float64\n",
      " 8   G_06_A              49756 non-null  int64  \n",
      " 9   G_06_B              49756 non-null  int64  \n",
      " 10  G_06_C              49756 non-null  int64  \n",
      " 11  G_06_D              49756 non-null  int64  \n",
      " 12  G_06_E              49756 non-null  int64  \n",
      " 13  G_06_F              49756 non-null  int64  \n",
      " 14  G_06_G              49756 non-null  int64  \n",
      " 15  G_06_H              49756 non-null  int64  \n",
      " 16  G_06_I              49756 non-null  int64  \n",
      " 17  G_06_J              49756 non-null  int64  \n",
      " 18  G_06_K              49756 non-null  int64  \n",
      " 19  G_06_L              49756 non-null  int64  \n",
      " 20  G_06_M              49756 non-null  int64  \n",
      " 21  G_08_F              14254 non-null  float64\n",
      " 22  G_06_N              49756 non-null  int64  \n",
      " 23  G_07                49756 non-null  int64  \n",
      " 24  G_08_A              14254 non-null  float64\n",
      " 25  G_08_B              14254 non-null  float64\n",
      " 26  G_08_C              14254 non-null  float64\n",
      " 27  G_08_D              14254 non-null  float64\n",
      " 28  G_08_E              14254 non-null  float64\n",
      " 29  G_08_G              14292 non-null  float64\n",
      " 30  G_09                49756 non-null  int64  \n",
      " 31  G_10                9989 non-null   float64\n",
      " 32  G_11_A              49756 non-null  int64  \n",
      " 33  G_11_A_ANIOS        909 non-null    float64\n",
      " 34  G_11_B              49756 non-null  int64  \n",
      " 35  G_11_B_ANIOS        63 non-null     float64\n",
      " 36  G_11_C              49756 non-null  int64  \n",
      " 37  G_11_C_ANIOS        181 non-null    float64\n",
      " 38  G_11_D              49756 non-null  int64  \n",
      " 39  G_11_D_ANIOS        111 non-null    float64\n",
      " 40  G_11_E              49756 non-null  int64  \n",
      " 41  G_11_E_ANIOS        656 non-null    float64\n",
      " 42  G_11_F              49756 non-null  int64  \n",
      " 43  G_11_F_ANIOS        3982 non-null   float64\n",
      " 44  G_11_G              49756 non-null  int64  \n",
      " 45  G_11_G_ANIOS        973 non-null    float64\n",
      " 46  G_11_H              49756 non-null  int64  \n",
      " 47  G_11_H_ANIOS        310 non-null    float64\n",
      " 48  G_11_I              49756 non-null  int64  \n",
      " 49  G_11_I_ANIOS        294 non-null    float64\n",
      " 50  G_11_J              49756 non-null  int64  \n",
      " 51  G_11_J_ANIOS        49 non-null     float64\n",
      " 52  G_11_K              49756 non-null  int64  \n",
      " 53  G_11_K_ANIOS        63 non-null     float64\n",
      " 54  G_11_L              49756 non-null  int64  \n",
      " 55  G_11_L_ANIOS        18 non-null     float64\n",
      " 56  G_11_M              49756 non-null  int64  \n",
      " 57  G_11_M_ANIOS        390 non-null    float64\n",
      " 58  G_11_N              49756 non-null  int64  \n",
      " 59  G_11_N_ANIOS        285 non-null    float64\n",
      " 60  G_11_O              49756 non-null  int64  \n",
      " 61  G_11_O_ANIOS        192 non-null    float64\n",
      " 62  G_11_P              49756 non-null  int64  \n",
      " 63  G_11_P_ANIOS        585 non-null    float64\n",
      " 64  G_11_Q              49756 non-null  int64  \n",
      " 65  G_11_Q_ANIOS        109 non-null    float64\n",
      " 66  G_11_R              49756 non-null  int64  \n",
      " 67  G_11_R_ANIOS        68 non-null     float64\n",
      " 68  G_11_S              49756 non-null  int64  \n",
      " 69  G_11_S_ANIOS        13626 non-null  float64\n",
      " 70  G_11_T              49756 non-null  int64  \n",
      " 71  G_11_T_ANIOS        73 non-null     float64\n",
      " 72  G_11_U              49756 non-null  int64  \n",
      " 73  G_11_U_ANIOS        160 non-null    float64\n",
      " 74  G_11_V              49756 non-null  int64  \n",
      " 75  G_11_V_ANIOS        38 non-null     float64\n",
      " 76  G_12_A              43331 non-null  float64\n",
      " 77  G_12_B              43331 non-null  float64\n",
      " 78  G_12_C              43331 non-null  float64\n",
      " 79  G_12_D              43331 non-null  float64\n",
      " 80  G_12_E              43331 non-null  float64\n",
      " 81  G_12_F              43331 non-null  float64\n",
      " 82  G_12_G              43331 non-null  float64\n",
      " 83  G_12_H              43331 non-null  float64\n",
      " 84  G_12_I              43331 non-null  float64\n",
      " 85  G_12_J              43331 non-null  float64\n",
      " 86  G_13                167 non-null    float64\n",
      " 87  G_14_A              163 non-null    float64\n",
      " 88  G_14_B              88 non-null     float64\n",
      " 89  G_14_C              68 non-null     float64\n",
      " 90  G_14_D              18 non-null     float64\n",
      " 91  G_14_E              23 non-null     float64\n",
      " 92  G_14_F              51 non-null     float64\n",
      " 93  G_14_G              3 non-null      float64\n",
      " 94  DIRECTORIO          49756 non-null  int64  \n",
      " 95  SECUENCIA_ENCUESTA  49756 non-null  int64  \n",
      " 96  SECUENCIA_P         49756 non-null  int64  \n",
      " 97  ORDEN               49756 non-null  int64  \n",
      "dtypes: float64(51), int64(47)\n",
      "memory usage: 37.2 MB\n",
      "\n",
      "Valores únicos por columna:\n",
      "G_01: [2 1]\n",
      "G_01_A: [nan  2.  1.]\n",
      "G_02: [2 1]\n",
      "G_02_A: [nan  2.  1.]\n",
      "G_03: [2 1]\n",
      "G_04: [2 1]\n",
      "G_05: [2 1]\n",
      "G_05_A: [nan  3.  2.]\n",
      "G_06_A: [9 3 1 2]\n",
      "G_06_B: [9 3 1 2]\n"
     ]
    }
   ],
   "source": [
    "# Información general del dataset\n",
    "print(\"Información general:\")\n",
    "df.info()\n",
    "print(f\"\\nValores únicos por columna:\")\n",
    "for col in df.columns[:10]:  # Primeras 10 columnas\n",
    "    print(f\"{col}: {df[col].unique()}\")"
   ]
  },
  {
   "cell_type": "markdown",
   "id": "77dde57a",
   "metadata": {},
   "source": [
    "## 1. Análisis del Entorno Social - Familiares y Amigos Consumidores"
   ]
  },
  {
   "cell_type": "code",
   "execution_count": 18,
   "id": "a4ad2b78",
   "metadata": {},
   "outputs": [
    {
     "data": {
      "application/vnd.plotly.v1+json": {
       "config": {
        "plotlyServerURL": "https://plot.ly"
       },
       "data": [
        {
         "marker": {
          "color": "#FF6B6B"
         },
         "name": "Sí",
         "type": "bar",
         "x": [
          "Familiares Consumen Sustancias",
          "Amigos Consumen Sustancias"
         ],
         "y": [
          19.611705120990433,
          27.26304365302677
         ]
        },
        {
         "marker": {
          "color": "#4ECDC4"
         },
         "name": "No",
         "type": "bar",
         "x": [
          "Familiares Consumen Sustancias",
          "Amigos Consumen Sustancias"
         ],
         "y": [
          80.38829487900956,
          72.73695634697323
         ]
        }
       ],
       "layout": {
        "barmode": "group",
        "height": 500,
        "template": {
         "data": {
          "bar": [
           {
            "error_x": {
             "color": "#2a3f5f"
            },
            "error_y": {
             "color": "#2a3f5f"
            },
            "marker": {
             "line": {
              "color": "#E5ECF6",
              "width": 0.5
             },
             "pattern": {
              "fillmode": "overlay",
              "size": 10,
              "solidity": 0.2
             }
            },
            "type": "bar"
           }
          ],
          "barpolar": [
           {
            "marker": {
             "line": {
              "color": "#E5ECF6",
              "width": 0.5
             },
             "pattern": {
              "fillmode": "overlay",
              "size": 10,
              "solidity": 0.2
             }
            },
            "type": "barpolar"
           }
          ],
          "carpet": [
           {
            "aaxis": {
             "endlinecolor": "#2a3f5f",
             "gridcolor": "white",
             "linecolor": "white",
             "minorgridcolor": "white",
             "startlinecolor": "#2a3f5f"
            },
            "baxis": {
             "endlinecolor": "#2a3f5f",
             "gridcolor": "white",
             "linecolor": "white",
             "minorgridcolor": "white",
             "startlinecolor": "#2a3f5f"
            },
            "type": "carpet"
           }
          ],
          "choropleth": [
           {
            "colorbar": {
             "outlinewidth": 0,
             "ticks": ""
            },
            "type": "choropleth"
           }
          ],
          "contour": [
           {
            "colorbar": {
             "outlinewidth": 0,
             "ticks": ""
            },
            "colorscale": [
             [
              0,
              "#0d0887"
             ],
             [
              0.1111111111111111,
              "#46039f"
             ],
             [
              0.2222222222222222,
              "#7201a8"
             ],
             [
              0.3333333333333333,
              "#9c179e"
             ],
             [
              0.4444444444444444,
              "#bd3786"
             ],
             [
              0.5555555555555556,
              "#d8576b"
             ],
             [
              0.6666666666666666,
              "#ed7953"
             ],
             [
              0.7777777777777778,
              "#fb9f3a"
             ],
             [
              0.8888888888888888,
              "#fdca26"
             ],
             [
              1,
              "#f0f921"
             ]
            ],
            "type": "contour"
           }
          ],
          "contourcarpet": [
           {
            "colorbar": {
             "outlinewidth": 0,
             "ticks": ""
            },
            "type": "contourcarpet"
           }
          ],
          "heatmap": [
           {
            "colorbar": {
             "outlinewidth": 0,
             "ticks": ""
            },
            "colorscale": [
             [
              0,
              "#0d0887"
             ],
             [
              0.1111111111111111,
              "#46039f"
             ],
             [
              0.2222222222222222,
              "#7201a8"
             ],
             [
              0.3333333333333333,
              "#9c179e"
             ],
             [
              0.4444444444444444,
              "#bd3786"
             ],
             [
              0.5555555555555556,
              "#d8576b"
             ],
             [
              0.6666666666666666,
              "#ed7953"
             ],
             [
              0.7777777777777778,
              "#fb9f3a"
             ],
             [
              0.8888888888888888,
              "#fdca26"
             ],
             [
              1,
              "#f0f921"
             ]
            ],
            "type": "heatmap"
           }
          ],
          "histogram": [
           {
            "marker": {
             "pattern": {
              "fillmode": "overlay",
              "size": 10,
              "solidity": 0.2
             }
            },
            "type": "histogram"
           }
          ],
          "histogram2d": [
           {
            "colorbar": {
             "outlinewidth": 0,
             "ticks": ""
            },
            "colorscale": [
             [
              0,
              "#0d0887"
             ],
             [
              0.1111111111111111,
              "#46039f"
             ],
             [
              0.2222222222222222,
              "#7201a8"
             ],
             [
              0.3333333333333333,
              "#9c179e"
             ],
             [
              0.4444444444444444,
              "#bd3786"
             ],
             [
              0.5555555555555556,
              "#d8576b"
             ],
             [
              0.6666666666666666,
              "#ed7953"
             ],
             [
              0.7777777777777778,
              "#fb9f3a"
             ],
             [
              0.8888888888888888,
              "#fdca26"
             ],
             [
              1,
              "#f0f921"
             ]
            ],
            "type": "histogram2d"
           }
          ],
          "histogram2dcontour": [
           {
            "colorbar": {
             "outlinewidth": 0,
             "ticks": ""
            },
            "colorscale": [
             [
              0,
              "#0d0887"
             ],
             [
              0.1111111111111111,
              "#46039f"
             ],
             [
              0.2222222222222222,
              "#7201a8"
             ],
             [
              0.3333333333333333,
              "#9c179e"
             ],
             [
              0.4444444444444444,
              "#bd3786"
             ],
             [
              0.5555555555555556,
              "#d8576b"
             ],
             [
              0.6666666666666666,
              "#ed7953"
             ],
             [
              0.7777777777777778,
              "#fb9f3a"
             ],
             [
              0.8888888888888888,
              "#fdca26"
             ],
             [
              1,
              "#f0f921"
             ]
            ],
            "type": "histogram2dcontour"
           }
          ],
          "mesh3d": [
           {
            "colorbar": {
             "outlinewidth": 0,
             "ticks": ""
            },
            "type": "mesh3d"
           }
          ],
          "parcoords": [
           {
            "line": {
             "colorbar": {
              "outlinewidth": 0,
              "ticks": ""
             }
            },
            "type": "parcoords"
           }
          ],
          "pie": [
           {
            "automargin": true,
            "type": "pie"
           }
          ],
          "scatter": [
           {
            "fillpattern": {
             "fillmode": "overlay",
             "size": 10,
             "solidity": 0.2
            },
            "type": "scatter"
           }
          ],
          "scatter3d": [
           {
            "line": {
             "colorbar": {
              "outlinewidth": 0,
              "ticks": ""
             }
            },
            "marker": {
             "colorbar": {
              "outlinewidth": 0,
              "ticks": ""
             }
            },
            "type": "scatter3d"
           }
          ],
          "scattercarpet": [
           {
            "marker": {
             "colorbar": {
              "outlinewidth": 0,
              "ticks": ""
             }
            },
            "type": "scattercarpet"
           }
          ],
          "scattergeo": [
           {
            "marker": {
             "colorbar": {
              "outlinewidth": 0,
              "ticks": ""
             }
            },
            "type": "scattergeo"
           }
          ],
          "scattergl": [
           {
            "marker": {
             "colorbar": {
              "outlinewidth": 0,
              "ticks": ""
             }
            },
            "type": "scattergl"
           }
          ],
          "scattermap": [
           {
            "marker": {
             "colorbar": {
              "outlinewidth": 0,
              "ticks": ""
             }
            },
            "type": "scattermap"
           }
          ],
          "scattermapbox": [
           {
            "marker": {
             "colorbar": {
              "outlinewidth": 0,
              "ticks": ""
             }
            },
            "type": "scattermapbox"
           }
          ],
          "scatterpolar": [
           {
            "marker": {
             "colorbar": {
              "outlinewidth": 0,
              "ticks": ""
             }
            },
            "type": "scatterpolar"
           }
          ],
          "scatterpolargl": [
           {
            "marker": {
             "colorbar": {
              "outlinewidth": 0,
              "ticks": ""
             }
            },
            "type": "scatterpolargl"
           }
          ],
          "scatterternary": [
           {
            "marker": {
             "colorbar": {
              "outlinewidth": 0,
              "ticks": ""
             }
            },
            "type": "scatterternary"
           }
          ],
          "surface": [
           {
            "colorbar": {
             "outlinewidth": 0,
             "ticks": ""
            },
            "colorscale": [
             [
              0,
              "#0d0887"
             ],
             [
              0.1111111111111111,
              "#46039f"
             ],
             [
              0.2222222222222222,
              "#7201a8"
             ],
             [
              0.3333333333333333,
              "#9c179e"
             ],
             [
              0.4444444444444444,
              "#bd3786"
             ],
             [
              0.5555555555555556,
              "#d8576b"
             ],
             [
              0.6666666666666666,
              "#ed7953"
             ],
             [
              0.7777777777777778,
              "#fb9f3a"
             ],
             [
              0.8888888888888888,
              "#fdca26"
             ],
             [
              1,
              "#f0f921"
             ]
            ],
            "type": "surface"
           }
          ],
          "table": [
           {
            "cells": {
             "fill": {
              "color": "#EBF0F8"
             },
             "line": {
              "color": "white"
             }
            },
            "header": {
             "fill": {
              "color": "#C8D4E3"
             },
             "line": {
              "color": "white"
             }
            },
            "type": "table"
           }
          ]
         },
         "layout": {
          "annotationdefaults": {
           "arrowcolor": "#2a3f5f",
           "arrowhead": 0,
           "arrowwidth": 1
          },
          "autotypenumbers": "strict",
          "coloraxis": {
           "colorbar": {
            "outlinewidth": 0,
            "ticks": ""
           }
          },
          "colorscale": {
           "diverging": [
            [
             0,
             "#8e0152"
            ],
            [
             0.1,
             "#c51b7d"
            ],
            [
             0.2,
             "#de77ae"
            ],
            [
             0.3,
             "#f1b6da"
            ],
            [
             0.4,
             "#fde0ef"
            ],
            [
             0.5,
             "#f7f7f7"
            ],
            [
             0.6,
             "#e6f5d0"
            ],
            [
             0.7,
             "#b8e186"
            ],
            [
             0.8,
             "#7fbc41"
            ],
            [
             0.9,
             "#4d9221"
            ],
            [
             1,
             "#276419"
            ]
           ],
           "sequential": [
            [
             0,
             "#0d0887"
            ],
            [
             0.1111111111111111,
             "#46039f"
            ],
            [
             0.2222222222222222,
             "#7201a8"
            ],
            [
             0.3333333333333333,
             "#9c179e"
            ],
            [
             0.4444444444444444,
             "#bd3786"
            ],
            [
             0.5555555555555556,
             "#d8576b"
            ],
            [
             0.6666666666666666,
             "#ed7953"
            ],
            [
             0.7777777777777778,
             "#fb9f3a"
            ],
            [
             0.8888888888888888,
             "#fdca26"
            ],
            [
             1,
             "#f0f921"
            ]
           ],
           "sequentialminus": [
            [
             0,
             "#0d0887"
            ],
            [
             0.1111111111111111,
             "#46039f"
            ],
            [
             0.2222222222222222,
             "#7201a8"
            ],
            [
             0.3333333333333333,
             "#9c179e"
            ],
            [
             0.4444444444444444,
             "#bd3786"
            ],
            [
             0.5555555555555556,
             "#d8576b"
            ],
            [
             0.6666666666666666,
             "#ed7953"
            ],
            [
             0.7777777777777778,
             "#fb9f3a"
            ],
            [
             0.8888888888888888,
             "#fdca26"
            ],
            [
             1,
             "#f0f921"
            ]
           ]
          },
          "colorway": [
           "#636efa",
           "#EF553B",
           "#00cc96",
           "#ab63fa",
           "#FFA15A",
           "#19d3f3",
           "#FF6692",
           "#B6E880",
           "#FF97FF",
           "#FECB52"
          ],
          "font": {
           "color": "#2a3f5f"
          },
          "geo": {
           "bgcolor": "white",
           "lakecolor": "white",
           "landcolor": "#E5ECF6",
           "showlakes": true,
           "showland": true,
           "subunitcolor": "white"
          },
          "hoverlabel": {
           "align": "left"
          },
          "hovermode": "closest",
          "mapbox": {
           "style": "light"
          },
          "paper_bgcolor": "white",
          "plot_bgcolor": "#E5ECF6",
          "polar": {
           "angularaxis": {
            "gridcolor": "white",
            "linecolor": "white",
            "ticks": ""
           },
           "bgcolor": "#E5ECF6",
           "radialaxis": {
            "gridcolor": "white",
            "linecolor": "white",
            "ticks": ""
           }
          },
          "scene": {
           "xaxis": {
            "backgroundcolor": "#E5ECF6",
            "gridcolor": "white",
            "gridwidth": 2,
            "linecolor": "white",
            "showbackground": true,
            "ticks": "",
            "zerolinecolor": "white"
           },
           "yaxis": {
            "backgroundcolor": "#E5ECF6",
            "gridcolor": "white",
            "gridwidth": 2,
            "linecolor": "white",
            "showbackground": true,
            "ticks": "",
            "zerolinecolor": "white"
           },
           "zaxis": {
            "backgroundcolor": "#E5ECF6",
            "gridcolor": "white",
            "gridwidth": 2,
            "linecolor": "white",
            "showbackground": true,
            "ticks": "",
            "zerolinecolor": "white"
           }
          },
          "shapedefaults": {
           "line": {
            "color": "#2a3f5f"
           }
          },
          "ternary": {
           "aaxis": {
            "gridcolor": "white",
            "linecolor": "white",
            "ticks": ""
           },
           "baxis": {
            "gridcolor": "white",
            "linecolor": "white",
            "ticks": ""
           },
           "bgcolor": "#E5ECF6",
           "caxis": {
            "gridcolor": "white",
            "linecolor": "white",
            "ticks": ""
           }
          },
          "title": {
           "x": 0.05
          },
          "xaxis": {
           "automargin": true,
           "gridcolor": "white",
           "linecolor": "white",
           "ticks": "",
           "title": {
            "standoff": 15
           },
           "zerolinecolor": "white",
           "zerolinewidth": 2
          },
          "yaxis": {
           "automargin": true,
           "gridcolor": "white",
           "linecolor": "white",
           "ticks": "",
           "title": {
            "standoff": 15
           },
           "zerolinecolor": "white",
           "zerolinewidth": 2
          }
         }
        },
        "title": {
         "text": "Prevalencia de Consumo en el Entorno Social"
        },
        "xaxis": {
         "title": {
          "text": "Tipo de Relación"
         }
        },
        "yaxis": {
         "title": {
          "text": "Porcentaje (%)"
         }
        }
       }
      }
     },
     "metadata": {},
     "output_type": "display_data"
    }
   ],
   "source": [
    "# Gráfico 1: Prevalencia de familiares y amigos consumidores\n",
    "\n",
    "# Variables del entorno social (primeras 2 categóricas)\n",
    "familiares_var = categorical_features[0]  # G_01\n",
    "amigos_var = categorical_features[1]      # G_02\n",
    "\n",
    "entorno_data = {\n",
    "    'Tipo': [get_readable_name(familiares_var), get_readable_name(amigos_var)],\n",
    "    'Sí (%)': [\n",
    "        (df[familiares_var] == 1).mean() * 100,\n",
    "        (df[amigos_var] == 1).mean() * 100\n",
    "    ],\n",
    "    'No (%)': [\n",
    "        (df[familiares_var] == 2).mean() * 100,\n",
    "        (df[amigos_var] == 2).mean() * 100\n",
    "    ]\n",
    "}\n",
    "\n",
    "fig1 = go.Figure(data=[\n",
    "    go.Bar(name='Sí', x=entorno_data['Tipo'], y=entorno_data['Sí (%)'], marker_color='#FF6B6B'),\n",
    "    go.Bar(name='No', x=entorno_data['Tipo'], y=entorno_data['No (%)'], marker_color='#4ECDC4')\n",
    "])\n",
    "\n",
    "fig1.update_layout(\n",
    "    title='Prevalencia de Consumo en el Entorno Social',\n",
    "    xaxis_title='Tipo de Relación',\n",
    "    yaxis_title='Porcentaje (%)',\n",
    "    barmode='group',\n",
    "    height=500\n",
    ")\n",
    "\n",
    "fig1.show()"
   ]
  },
  {
   "cell_type": "markdown",
   "id": "e9064334",
   "metadata": {},
   "source": [
    "## 2. Curiosidad y Disposición al Consumo"
   ]
  },
  {
   "cell_type": "code",
   "execution_count": 19,
   "id": "59b8c586",
   "metadata": {},
   "outputs": [
    {
     "data": {
      "application/vnd.plotly.v1+json": {
       "config": {
        "plotlyServerURL": "https://plot.ly"
       },
       "data": [
        {
         "hovertemplate": "Aspecto Evaluado=%{x}<br>Porcentaje de Respuestas Positivas (%)=%{y}<br>color=%{marker.color}<extra></extra>",
         "legendgroup": "",
         "marker": {
          "color": {
           "bdata": "x3dchdB0MEDSZuRKn9wUQDdekogMOTtA",
           "dtype": "f8"
          },
          "coloraxis": "coloraxis",
          "pattern": {
           "shape": ""
          }
         },
         "name": "",
         "orientation": "v",
         "showlegend": false,
         "textposition": "auto",
         "type": "bar",
         "x": [
          "Curiosidad por Probar",
          "Disposición a Consumir",
          "Tuvo Oportunidad de Probar"
         ],
         "xaxis": "x",
         "y": {
          "bdata": "x3dchdB0MEDSZuRKn9wUQDdekogMOTtA",
          "dtype": "f8"
         },
         "yaxis": "y"
        }
       ],
       "layout": {
        "barmode": "relative",
        "coloraxis": {
         "colorbar": {
          "title": {
           "text": "color"
          }
         },
         "colorscale": [
          [
           0,
           "rgb(255,245,240)"
          ],
          [
           0.125,
           "rgb(254,224,210)"
          ],
          [
           0.25,
           "rgb(252,187,161)"
          ],
          [
           0.375,
           "rgb(252,146,114)"
          ],
          [
           0.5,
           "rgb(251,106,74)"
          ],
          [
           0.625,
           "rgb(239,59,44)"
          ],
          [
           0.75,
           "rgb(203,24,29)"
          ],
          [
           0.875,
           "rgb(165,15,21)"
          ],
          [
           1,
           "rgb(103,0,13)"
          ]
         ]
        },
        "height": 500,
        "legend": {
         "tracegroupgap": 0
        },
        "template": {
         "data": {
          "bar": [
           {
            "error_x": {
             "color": "#2a3f5f"
            },
            "error_y": {
             "color": "#2a3f5f"
            },
            "marker": {
             "line": {
              "color": "#E5ECF6",
              "width": 0.5
             },
             "pattern": {
              "fillmode": "overlay",
              "size": 10,
              "solidity": 0.2
             }
            },
            "type": "bar"
           }
          ],
          "barpolar": [
           {
            "marker": {
             "line": {
              "color": "#E5ECF6",
              "width": 0.5
             },
             "pattern": {
              "fillmode": "overlay",
              "size": 10,
              "solidity": 0.2
             }
            },
            "type": "barpolar"
           }
          ],
          "carpet": [
           {
            "aaxis": {
             "endlinecolor": "#2a3f5f",
             "gridcolor": "white",
             "linecolor": "white",
             "minorgridcolor": "white",
             "startlinecolor": "#2a3f5f"
            },
            "baxis": {
             "endlinecolor": "#2a3f5f",
             "gridcolor": "white",
             "linecolor": "white",
             "minorgridcolor": "white",
             "startlinecolor": "#2a3f5f"
            },
            "type": "carpet"
           }
          ],
          "choropleth": [
           {
            "colorbar": {
             "outlinewidth": 0,
             "ticks": ""
            },
            "type": "choropleth"
           }
          ],
          "contour": [
           {
            "colorbar": {
             "outlinewidth": 0,
             "ticks": ""
            },
            "colorscale": [
             [
              0,
              "#0d0887"
             ],
             [
              0.1111111111111111,
              "#46039f"
             ],
             [
              0.2222222222222222,
              "#7201a8"
             ],
             [
              0.3333333333333333,
              "#9c179e"
             ],
             [
              0.4444444444444444,
              "#bd3786"
             ],
             [
              0.5555555555555556,
              "#d8576b"
             ],
             [
              0.6666666666666666,
              "#ed7953"
             ],
             [
              0.7777777777777778,
              "#fb9f3a"
             ],
             [
              0.8888888888888888,
              "#fdca26"
             ],
             [
              1,
              "#f0f921"
             ]
            ],
            "type": "contour"
           }
          ],
          "contourcarpet": [
           {
            "colorbar": {
             "outlinewidth": 0,
             "ticks": ""
            },
            "type": "contourcarpet"
           }
          ],
          "heatmap": [
           {
            "colorbar": {
             "outlinewidth": 0,
             "ticks": ""
            },
            "colorscale": [
             [
              0,
              "#0d0887"
             ],
             [
              0.1111111111111111,
              "#46039f"
             ],
             [
              0.2222222222222222,
              "#7201a8"
             ],
             [
              0.3333333333333333,
              "#9c179e"
             ],
             [
              0.4444444444444444,
              "#bd3786"
             ],
             [
              0.5555555555555556,
              "#d8576b"
             ],
             [
              0.6666666666666666,
              "#ed7953"
             ],
             [
              0.7777777777777778,
              "#fb9f3a"
             ],
             [
              0.8888888888888888,
              "#fdca26"
             ],
             [
              1,
              "#f0f921"
             ]
            ],
            "type": "heatmap"
           }
          ],
          "histogram": [
           {
            "marker": {
             "pattern": {
              "fillmode": "overlay",
              "size": 10,
              "solidity": 0.2
             }
            },
            "type": "histogram"
           }
          ],
          "histogram2d": [
           {
            "colorbar": {
             "outlinewidth": 0,
             "ticks": ""
            },
            "colorscale": [
             [
              0,
              "#0d0887"
             ],
             [
              0.1111111111111111,
              "#46039f"
             ],
             [
              0.2222222222222222,
              "#7201a8"
             ],
             [
              0.3333333333333333,
              "#9c179e"
             ],
             [
              0.4444444444444444,
              "#bd3786"
             ],
             [
              0.5555555555555556,
              "#d8576b"
             ],
             [
              0.6666666666666666,
              "#ed7953"
             ],
             [
              0.7777777777777778,
              "#fb9f3a"
             ],
             [
              0.8888888888888888,
              "#fdca26"
             ],
             [
              1,
              "#f0f921"
             ]
            ],
            "type": "histogram2d"
           }
          ],
          "histogram2dcontour": [
           {
            "colorbar": {
             "outlinewidth": 0,
             "ticks": ""
            },
            "colorscale": [
             [
              0,
              "#0d0887"
             ],
             [
              0.1111111111111111,
              "#46039f"
             ],
             [
              0.2222222222222222,
              "#7201a8"
             ],
             [
              0.3333333333333333,
              "#9c179e"
             ],
             [
              0.4444444444444444,
              "#bd3786"
             ],
             [
              0.5555555555555556,
              "#d8576b"
             ],
             [
              0.6666666666666666,
              "#ed7953"
             ],
             [
              0.7777777777777778,
              "#fb9f3a"
             ],
             [
              0.8888888888888888,
              "#fdca26"
             ],
             [
              1,
              "#f0f921"
             ]
            ],
            "type": "histogram2dcontour"
           }
          ],
          "mesh3d": [
           {
            "colorbar": {
             "outlinewidth": 0,
             "ticks": ""
            },
            "type": "mesh3d"
           }
          ],
          "parcoords": [
           {
            "line": {
             "colorbar": {
              "outlinewidth": 0,
              "ticks": ""
             }
            },
            "type": "parcoords"
           }
          ],
          "pie": [
           {
            "automargin": true,
            "type": "pie"
           }
          ],
          "scatter": [
           {
            "fillpattern": {
             "fillmode": "overlay",
             "size": 10,
             "solidity": 0.2
            },
            "type": "scatter"
           }
          ],
          "scatter3d": [
           {
            "line": {
             "colorbar": {
              "outlinewidth": 0,
              "ticks": ""
             }
            },
            "marker": {
             "colorbar": {
              "outlinewidth": 0,
              "ticks": ""
             }
            },
            "type": "scatter3d"
           }
          ],
          "scattercarpet": [
           {
            "marker": {
             "colorbar": {
              "outlinewidth": 0,
              "ticks": ""
             }
            },
            "type": "scattercarpet"
           }
          ],
          "scattergeo": [
           {
            "marker": {
             "colorbar": {
              "outlinewidth": 0,
              "ticks": ""
             }
            },
            "type": "scattergeo"
           }
          ],
          "scattergl": [
           {
            "marker": {
             "colorbar": {
              "outlinewidth": 0,
              "ticks": ""
             }
            },
            "type": "scattergl"
           }
          ],
          "scattermap": [
           {
            "marker": {
             "colorbar": {
              "outlinewidth": 0,
              "ticks": ""
             }
            },
            "type": "scattermap"
           }
          ],
          "scattermapbox": [
           {
            "marker": {
             "colorbar": {
              "outlinewidth": 0,
              "ticks": ""
             }
            },
            "type": "scattermapbox"
           }
          ],
          "scatterpolar": [
           {
            "marker": {
             "colorbar": {
              "outlinewidth": 0,
              "ticks": ""
             }
            },
            "type": "scatterpolar"
           }
          ],
          "scatterpolargl": [
           {
            "marker": {
             "colorbar": {
              "outlinewidth": 0,
              "ticks": ""
             }
            },
            "type": "scatterpolargl"
           }
          ],
          "scatterternary": [
           {
            "marker": {
             "colorbar": {
              "outlinewidth": 0,
              "ticks": ""
             }
            },
            "type": "scatterternary"
           }
          ],
          "surface": [
           {
            "colorbar": {
             "outlinewidth": 0,
             "ticks": ""
            },
            "colorscale": [
             [
              0,
              "#0d0887"
             ],
             [
              0.1111111111111111,
              "#46039f"
             ],
             [
              0.2222222222222222,
              "#7201a8"
             ],
             [
              0.3333333333333333,
              "#9c179e"
             ],
             [
              0.4444444444444444,
              "#bd3786"
             ],
             [
              0.5555555555555556,
              "#d8576b"
             ],
             [
              0.6666666666666666,
              "#ed7953"
             ],
             [
              0.7777777777777778,
              "#fb9f3a"
             ],
             [
              0.8888888888888888,
              "#fdca26"
             ],
             [
              1,
              "#f0f921"
             ]
            ],
            "type": "surface"
           }
          ],
          "table": [
           {
            "cells": {
             "fill": {
              "color": "#EBF0F8"
             },
             "line": {
              "color": "white"
             }
            },
            "header": {
             "fill": {
              "color": "#C8D4E3"
             },
             "line": {
              "color": "white"
             }
            },
            "type": "table"
           }
          ]
         },
         "layout": {
          "annotationdefaults": {
           "arrowcolor": "#2a3f5f",
           "arrowhead": 0,
           "arrowwidth": 1
          },
          "autotypenumbers": "strict",
          "coloraxis": {
           "colorbar": {
            "outlinewidth": 0,
            "ticks": ""
           }
          },
          "colorscale": {
           "diverging": [
            [
             0,
             "#8e0152"
            ],
            [
             0.1,
             "#c51b7d"
            ],
            [
             0.2,
             "#de77ae"
            ],
            [
             0.3,
             "#f1b6da"
            ],
            [
             0.4,
             "#fde0ef"
            ],
            [
             0.5,
             "#f7f7f7"
            ],
            [
             0.6,
             "#e6f5d0"
            ],
            [
             0.7,
             "#b8e186"
            ],
            [
             0.8,
             "#7fbc41"
            ],
            [
             0.9,
             "#4d9221"
            ],
            [
             1,
             "#276419"
            ]
           ],
           "sequential": [
            [
             0,
             "#0d0887"
            ],
            [
             0.1111111111111111,
             "#46039f"
            ],
            [
             0.2222222222222222,
             "#7201a8"
            ],
            [
             0.3333333333333333,
             "#9c179e"
            ],
            [
             0.4444444444444444,
             "#bd3786"
            ],
            [
             0.5555555555555556,
             "#d8576b"
            ],
            [
             0.6666666666666666,
             "#ed7953"
            ],
            [
             0.7777777777777778,
             "#fb9f3a"
            ],
            [
             0.8888888888888888,
             "#fdca26"
            ],
            [
             1,
             "#f0f921"
            ]
           ],
           "sequentialminus": [
            [
             0,
             "#0d0887"
            ],
            [
             0.1111111111111111,
             "#46039f"
            ],
            [
             0.2222222222222222,
             "#7201a8"
            ],
            [
             0.3333333333333333,
             "#9c179e"
            ],
            [
             0.4444444444444444,
             "#bd3786"
            ],
            [
             0.5555555555555556,
             "#d8576b"
            ],
            [
             0.6666666666666666,
             "#ed7953"
            ],
            [
             0.7777777777777778,
             "#fb9f3a"
            ],
            [
             0.8888888888888888,
             "#fdca26"
            ],
            [
             1,
             "#f0f921"
            ]
           ]
          },
          "colorway": [
           "#636efa",
           "#EF553B",
           "#00cc96",
           "#ab63fa",
           "#FFA15A",
           "#19d3f3",
           "#FF6692",
           "#B6E880",
           "#FF97FF",
           "#FECB52"
          ],
          "font": {
           "color": "#2a3f5f"
          },
          "geo": {
           "bgcolor": "white",
           "lakecolor": "white",
           "landcolor": "#E5ECF6",
           "showlakes": true,
           "showland": true,
           "subunitcolor": "white"
          },
          "hoverlabel": {
           "align": "left"
          },
          "hovermode": "closest",
          "mapbox": {
           "style": "light"
          },
          "paper_bgcolor": "white",
          "plot_bgcolor": "#E5ECF6",
          "polar": {
           "angularaxis": {
            "gridcolor": "white",
            "linecolor": "white",
            "ticks": ""
           },
           "bgcolor": "#E5ECF6",
           "radialaxis": {
            "gridcolor": "white",
            "linecolor": "white",
            "ticks": ""
           }
          },
          "scene": {
           "xaxis": {
            "backgroundcolor": "#E5ECF6",
            "gridcolor": "white",
            "gridwidth": 2,
            "linecolor": "white",
            "showbackground": true,
            "ticks": "",
            "zerolinecolor": "white"
           },
           "yaxis": {
            "backgroundcolor": "#E5ECF6",
            "gridcolor": "white",
            "gridwidth": 2,
            "linecolor": "white",
            "showbackground": true,
            "ticks": "",
            "zerolinecolor": "white"
           },
           "zaxis": {
            "backgroundcolor": "#E5ECF6",
            "gridcolor": "white",
            "gridwidth": 2,
            "linecolor": "white",
            "showbackground": true,
            "ticks": "",
            "zerolinecolor": "white"
           }
          },
          "shapedefaults": {
           "line": {
            "color": "#2a3f5f"
           }
          },
          "ternary": {
           "aaxis": {
            "gridcolor": "white",
            "linecolor": "white",
            "ticks": ""
           },
           "baxis": {
            "gridcolor": "white",
            "linecolor": "white",
            "ticks": ""
           },
           "bgcolor": "#E5ECF6",
           "caxis": {
            "gridcolor": "white",
            "linecolor": "white",
            "ticks": ""
           }
          },
          "title": {
           "x": 0.05
          },
          "xaxis": {
           "automargin": true,
           "gridcolor": "white",
           "linecolor": "white",
           "ticks": "",
           "title": {
            "standoff": 15
           },
           "zerolinecolor": "white",
           "zerolinewidth": 2
          },
          "yaxis": {
           "automargin": true,
           "gridcolor": "white",
           "linecolor": "white",
           "ticks": "",
           "title": {
            "standoff": 15
           },
           "zerolinecolor": "white",
           "zerolinewidth": 2
          }
         }
        },
        "title": {
         "text": "Curiosidad y Disposición hacia el Consumo de Sustancias"
        },
        "xaxis": {
         "anchor": "y",
         "domain": [
          0,
          1
         ],
         "tickangle": -45,
         "title": {
          "text": "Aspecto Evaluado"
         }
        },
        "yaxis": {
         "anchor": "x",
         "domain": [
          0,
          1
         ],
         "title": {
          "text": "Porcentaje de Respuestas Positivas (%)"
         }
        }
       }
      }
     },
     "metadata": {},
     "output_type": "display_data"
    }
   ],
   "source": [
    "# Gráfico 2: Curiosidad vs Disposición a probar sustancias\n",
    "\n",
    "curiosidad_vars = categorical_features[2:5]  # G_03, G_04, G_05\n",
    "curiosidad_data = {\n",
    "    'Pregunta': [get_readable_name(var) for var in curiosidad_vars],\n",
    "    'Sí (%)': [(df[var] == 1).mean() * 100 for var in curiosidad_vars]\n",
    "}\n",
    "\n",
    "fig2 = px.bar(\n",
    "    x=curiosidad_data['Pregunta'], \n",
    "    y=curiosidad_data['Sí (%)'],\n",
    "    title='Curiosidad y Disposición hacia el Consumo de Sustancias',\n",
    "    labels={'x': 'Aspecto Evaluado', 'y': 'Porcentaje de Respuestas Positivas (%)'},\n",
    "    color=curiosidad_data['Sí (%)'],\n",
    "    color_continuous_scale='Reds'\n",
    ")\n",
    "\n",
    "fig2.update_layout(height=500, xaxis_tickangle=-45)\n",
    "fig2.show()"
   ]
  },
  {
   "cell_type": "markdown",
   "id": "0e2d77b7",
   "metadata": {},
   "source": [
    "## 3. Facilidad de Acceso a Diferentes Sustancias"
   ]
  },
  {
   "cell_type": "code",
   "execution_count": 20,
   "id": "237ec46e",
   "metadata": {},
   "outputs": [
    {
     "data": {
      "application/vnd.plotly.v1+json": {
       "config": {
        "plotlyServerURL": "https://plot.ly"
       },
       "data": [
        {
         "hovertemplate": "Sustancia=%{x}<br>Porcentaje que considera \"Fácil de conseguir\" (%)=%{y}<br>color=%{marker.color}<extra></extra>",
         "legendgroup": "",
         "marker": {
          "color": {
           "bdata": "U0F2omZDSUDDLKeDdR4+QNoNeepZaT1AtQiPNiNXM0Bm635/OxNLQMne4QenlDJAbQIGhLeNKkCmQz+yjR06QF6+0gDooTZAdrrEv3b6JEA=",
           "dtype": "f8"
          },
          "coloraxis": "coloraxis",
          "pattern": {
           "shape": ""
          }
         },
         "name": "",
         "orientation": "v",
         "showlegend": false,
         "textposition": "auto",
         "type": "bar",
         "x": [
          "Acceso Fácil a Marihuana",
          "Acceso Fácil a Cocaína",
          "Acceso Fácil a Basuco",
          "Acceso Fácil a Éxtasis",
          "Inhalables",
          "Popper",
          "Metanfetaminas",
          "Tranquilizantes",
          "Estimulantes",
          "Heroína"
         ],
         "xaxis": "x",
         "y": {
          "bdata": "U0F2omZDSUDDLKeDdR4+QNoNeepZaT1AtQiPNiNXM0Bm635/OxNLQMne4QenlDJAbQIGhLeNKkCmQz+yjR06QF6+0gDooTZAdrrEv3b6JEA=",
          "dtype": "f8"
         },
         "yaxis": "y"
        }
       ],
       "layout": {
        "barmode": "relative",
        "coloraxis": {
         "colorbar": {
          "title": {
           "text": "color"
          }
         },
         "colorscale": [
          [
           0,
           "rgb(255,245,235)"
          ],
          [
           0.125,
           "rgb(254,230,206)"
          ],
          [
           0.25,
           "rgb(253,208,162)"
          ],
          [
           0.375,
           "rgb(253,174,107)"
          ],
          [
           0.5,
           "rgb(253,141,60)"
          ],
          [
           0.625,
           "rgb(241,105,19)"
          ],
          [
           0.75,
           "rgb(217,72,1)"
          ],
          [
           0.875,
           "rgb(166,54,3)"
          ],
          [
           1,
           "rgb(127,39,4)"
          ]
         ]
        },
        "height": 500,
        "legend": {
         "tracegroupgap": 0
        },
        "template": {
         "data": {
          "bar": [
           {
            "error_x": {
             "color": "#2a3f5f"
            },
            "error_y": {
             "color": "#2a3f5f"
            },
            "marker": {
             "line": {
              "color": "#E5ECF6",
              "width": 0.5
             },
             "pattern": {
              "fillmode": "overlay",
              "size": 10,
              "solidity": 0.2
             }
            },
            "type": "bar"
           }
          ],
          "barpolar": [
           {
            "marker": {
             "line": {
              "color": "#E5ECF6",
              "width": 0.5
             },
             "pattern": {
              "fillmode": "overlay",
              "size": 10,
              "solidity": 0.2
             }
            },
            "type": "barpolar"
           }
          ],
          "carpet": [
           {
            "aaxis": {
             "endlinecolor": "#2a3f5f",
             "gridcolor": "white",
             "linecolor": "white",
             "minorgridcolor": "white",
             "startlinecolor": "#2a3f5f"
            },
            "baxis": {
             "endlinecolor": "#2a3f5f",
             "gridcolor": "white",
             "linecolor": "white",
             "minorgridcolor": "white",
             "startlinecolor": "#2a3f5f"
            },
            "type": "carpet"
           }
          ],
          "choropleth": [
           {
            "colorbar": {
             "outlinewidth": 0,
             "ticks": ""
            },
            "type": "choropleth"
           }
          ],
          "contour": [
           {
            "colorbar": {
             "outlinewidth": 0,
             "ticks": ""
            },
            "colorscale": [
             [
              0,
              "#0d0887"
             ],
             [
              0.1111111111111111,
              "#46039f"
             ],
             [
              0.2222222222222222,
              "#7201a8"
             ],
             [
              0.3333333333333333,
              "#9c179e"
             ],
             [
              0.4444444444444444,
              "#bd3786"
             ],
             [
              0.5555555555555556,
              "#d8576b"
             ],
             [
              0.6666666666666666,
              "#ed7953"
             ],
             [
              0.7777777777777778,
              "#fb9f3a"
             ],
             [
              0.8888888888888888,
              "#fdca26"
             ],
             [
              1,
              "#f0f921"
             ]
            ],
            "type": "contour"
           }
          ],
          "contourcarpet": [
           {
            "colorbar": {
             "outlinewidth": 0,
             "ticks": ""
            },
            "type": "contourcarpet"
           }
          ],
          "heatmap": [
           {
            "colorbar": {
             "outlinewidth": 0,
             "ticks": ""
            },
            "colorscale": [
             [
              0,
              "#0d0887"
             ],
             [
              0.1111111111111111,
              "#46039f"
             ],
             [
              0.2222222222222222,
              "#7201a8"
             ],
             [
              0.3333333333333333,
              "#9c179e"
             ],
             [
              0.4444444444444444,
              "#bd3786"
             ],
             [
              0.5555555555555556,
              "#d8576b"
             ],
             [
              0.6666666666666666,
              "#ed7953"
             ],
             [
              0.7777777777777778,
              "#fb9f3a"
             ],
             [
              0.8888888888888888,
              "#fdca26"
             ],
             [
              1,
              "#f0f921"
             ]
            ],
            "type": "heatmap"
           }
          ],
          "histogram": [
           {
            "marker": {
             "pattern": {
              "fillmode": "overlay",
              "size": 10,
              "solidity": 0.2
             }
            },
            "type": "histogram"
           }
          ],
          "histogram2d": [
           {
            "colorbar": {
             "outlinewidth": 0,
             "ticks": ""
            },
            "colorscale": [
             [
              0,
              "#0d0887"
             ],
             [
              0.1111111111111111,
              "#46039f"
             ],
             [
              0.2222222222222222,
              "#7201a8"
             ],
             [
              0.3333333333333333,
              "#9c179e"
             ],
             [
              0.4444444444444444,
              "#bd3786"
             ],
             [
              0.5555555555555556,
              "#d8576b"
             ],
             [
              0.6666666666666666,
              "#ed7953"
             ],
             [
              0.7777777777777778,
              "#fb9f3a"
             ],
             [
              0.8888888888888888,
              "#fdca26"
             ],
             [
              1,
              "#f0f921"
             ]
            ],
            "type": "histogram2d"
           }
          ],
          "histogram2dcontour": [
           {
            "colorbar": {
             "outlinewidth": 0,
             "ticks": ""
            },
            "colorscale": [
             [
              0,
              "#0d0887"
             ],
             [
              0.1111111111111111,
              "#46039f"
             ],
             [
              0.2222222222222222,
              "#7201a8"
             ],
             [
              0.3333333333333333,
              "#9c179e"
             ],
             [
              0.4444444444444444,
              "#bd3786"
             ],
             [
              0.5555555555555556,
              "#d8576b"
             ],
             [
              0.6666666666666666,
              "#ed7953"
             ],
             [
              0.7777777777777778,
              "#fb9f3a"
             ],
             [
              0.8888888888888888,
              "#fdca26"
             ],
             [
              1,
              "#f0f921"
             ]
            ],
            "type": "histogram2dcontour"
           }
          ],
          "mesh3d": [
           {
            "colorbar": {
             "outlinewidth": 0,
             "ticks": ""
            },
            "type": "mesh3d"
           }
          ],
          "parcoords": [
           {
            "line": {
             "colorbar": {
              "outlinewidth": 0,
              "ticks": ""
             }
            },
            "type": "parcoords"
           }
          ],
          "pie": [
           {
            "automargin": true,
            "type": "pie"
           }
          ],
          "scatter": [
           {
            "fillpattern": {
             "fillmode": "overlay",
             "size": 10,
             "solidity": 0.2
            },
            "type": "scatter"
           }
          ],
          "scatter3d": [
           {
            "line": {
             "colorbar": {
              "outlinewidth": 0,
              "ticks": ""
             }
            },
            "marker": {
             "colorbar": {
              "outlinewidth": 0,
              "ticks": ""
             }
            },
            "type": "scatter3d"
           }
          ],
          "scattercarpet": [
           {
            "marker": {
             "colorbar": {
              "outlinewidth": 0,
              "ticks": ""
             }
            },
            "type": "scattercarpet"
           }
          ],
          "scattergeo": [
           {
            "marker": {
             "colorbar": {
              "outlinewidth": 0,
              "ticks": ""
             }
            },
            "type": "scattergeo"
           }
          ],
          "scattergl": [
           {
            "marker": {
             "colorbar": {
              "outlinewidth": 0,
              "ticks": ""
             }
            },
            "type": "scattergl"
           }
          ],
          "scattermap": [
           {
            "marker": {
             "colorbar": {
              "outlinewidth": 0,
              "ticks": ""
             }
            },
            "type": "scattermap"
           }
          ],
          "scattermapbox": [
           {
            "marker": {
             "colorbar": {
              "outlinewidth": 0,
              "ticks": ""
             }
            },
            "type": "scattermapbox"
           }
          ],
          "scatterpolar": [
           {
            "marker": {
             "colorbar": {
              "outlinewidth": 0,
              "ticks": ""
             }
            },
            "type": "scatterpolar"
           }
          ],
          "scatterpolargl": [
           {
            "marker": {
             "colorbar": {
              "outlinewidth": 0,
              "ticks": ""
             }
            },
            "type": "scatterpolargl"
           }
          ],
          "scatterternary": [
           {
            "marker": {
             "colorbar": {
              "outlinewidth": 0,
              "ticks": ""
             }
            },
            "type": "scatterternary"
           }
          ],
          "surface": [
           {
            "colorbar": {
             "outlinewidth": 0,
             "ticks": ""
            },
            "colorscale": [
             [
              0,
              "#0d0887"
             ],
             [
              0.1111111111111111,
              "#46039f"
             ],
             [
              0.2222222222222222,
              "#7201a8"
             ],
             [
              0.3333333333333333,
              "#9c179e"
             ],
             [
              0.4444444444444444,
              "#bd3786"
             ],
             [
              0.5555555555555556,
              "#d8576b"
             ],
             [
              0.6666666666666666,
              "#ed7953"
             ],
             [
              0.7777777777777778,
              "#fb9f3a"
             ],
             [
              0.8888888888888888,
              "#fdca26"
             ],
             [
              1,
              "#f0f921"
             ]
            ],
            "type": "surface"
           }
          ],
          "table": [
           {
            "cells": {
             "fill": {
              "color": "#EBF0F8"
             },
             "line": {
              "color": "white"
             }
            },
            "header": {
             "fill": {
              "color": "#C8D4E3"
             },
             "line": {
              "color": "white"
             }
            },
            "type": "table"
           }
          ]
         },
         "layout": {
          "annotationdefaults": {
           "arrowcolor": "#2a3f5f",
           "arrowhead": 0,
           "arrowwidth": 1
          },
          "autotypenumbers": "strict",
          "coloraxis": {
           "colorbar": {
            "outlinewidth": 0,
            "ticks": ""
           }
          },
          "colorscale": {
           "diverging": [
            [
             0,
             "#8e0152"
            ],
            [
             0.1,
             "#c51b7d"
            ],
            [
             0.2,
             "#de77ae"
            ],
            [
             0.3,
             "#f1b6da"
            ],
            [
             0.4,
             "#fde0ef"
            ],
            [
             0.5,
             "#f7f7f7"
            ],
            [
             0.6,
             "#e6f5d0"
            ],
            [
             0.7,
             "#b8e186"
            ],
            [
             0.8,
             "#7fbc41"
            ],
            [
             0.9,
             "#4d9221"
            ],
            [
             1,
             "#276419"
            ]
           ],
           "sequential": [
            [
             0,
             "#0d0887"
            ],
            [
             0.1111111111111111,
             "#46039f"
            ],
            [
             0.2222222222222222,
             "#7201a8"
            ],
            [
             0.3333333333333333,
             "#9c179e"
            ],
            [
             0.4444444444444444,
             "#bd3786"
            ],
            [
             0.5555555555555556,
             "#d8576b"
            ],
            [
             0.6666666666666666,
             "#ed7953"
            ],
            [
             0.7777777777777778,
             "#fb9f3a"
            ],
            [
             0.8888888888888888,
             "#fdca26"
            ],
            [
             1,
             "#f0f921"
            ]
           ],
           "sequentialminus": [
            [
             0,
             "#0d0887"
            ],
            [
             0.1111111111111111,
             "#46039f"
            ],
            [
             0.2222222222222222,
             "#7201a8"
            ],
            [
             0.3333333333333333,
             "#9c179e"
            ],
            [
             0.4444444444444444,
             "#bd3786"
            ],
            [
             0.5555555555555556,
             "#d8576b"
            ],
            [
             0.6666666666666666,
             "#ed7953"
            ],
            [
             0.7777777777777778,
             "#fb9f3a"
            ],
            [
             0.8888888888888888,
             "#fdca26"
            ],
            [
             1,
             "#f0f921"
            ]
           ]
          },
          "colorway": [
           "#636efa",
           "#EF553B",
           "#00cc96",
           "#ab63fa",
           "#FFA15A",
           "#19d3f3",
           "#FF6692",
           "#B6E880",
           "#FF97FF",
           "#FECB52"
          ],
          "font": {
           "color": "#2a3f5f"
          },
          "geo": {
           "bgcolor": "white",
           "lakecolor": "white",
           "landcolor": "#E5ECF6",
           "showlakes": true,
           "showland": true,
           "subunitcolor": "white"
          },
          "hoverlabel": {
           "align": "left"
          },
          "hovermode": "closest",
          "mapbox": {
           "style": "light"
          },
          "paper_bgcolor": "white",
          "plot_bgcolor": "#E5ECF6",
          "polar": {
           "angularaxis": {
            "gridcolor": "white",
            "linecolor": "white",
            "ticks": ""
           },
           "bgcolor": "#E5ECF6",
           "radialaxis": {
            "gridcolor": "white",
            "linecolor": "white",
            "ticks": ""
           }
          },
          "scene": {
           "xaxis": {
            "backgroundcolor": "#E5ECF6",
            "gridcolor": "white",
            "gridwidth": 2,
            "linecolor": "white",
            "showbackground": true,
            "ticks": "",
            "zerolinecolor": "white"
           },
           "yaxis": {
            "backgroundcolor": "#E5ECF6",
            "gridcolor": "white",
            "gridwidth": 2,
            "linecolor": "white",
            "showbackground": true,
            "ticks": "",
            "zerolinecolor": "white"
           },
           "zaxis": {
            "backgroundcolor": "#E5ECF6",
            "gridcolor": "white",
            "gridwidth": 2,
            "linecolor": "white",
            "showbackground": true,
            "ticks": "",
            "zerolinecolor": "white"
           }
          },
          "shapedefaults": {
           "line": {
            "color": "#2a3f5f"
           }
          },
          "ternary": {
           "aaxis": {
            "gridcolor": "white",
            "linecolor": "white",
            "ticks": ""
           },
           "baxis": {
            "gridcolor": "white",
            "linecolor": "white",
            "ticks": ""
           },
           "bgcolor": "#E5ECF6",
           "caxis": {
            "gridcolor": "white",
            "linecolor": "white",
            "ticks": ""
           }
          },
          "title": {
           "x": 0.05
          },
          "xaxis": {
           "automargin": true,
           "gridcolor": "white",
           "linecolor": "white",
           "ticks": "",
           "title": {
            "standoff": 15
           },
           "zerolinecolor": "white",
           "zerolinewidth": 2
          },
          "yaxis": {
           "automargin": true,
           "gridcolor": "white",
           "linecolor": "white",
           "ticks": "",
           "title": {
            "standoff": 15
           },
           "zerolinecolor": "white",
           "zerolinewidth": 2
          }
         }
        },
        "title": {
         "text": "Facilidad de Acceso Percibida por Sustancia"
        },
        "xaxis": {
         "anchor": "y",
         "domain": [
          0,
          1
         ],
         "tickangle": -45,
         "title": {
          "text": "Sustancia"
         }
        },
        "yaxis": {
         "anchor": "x",
         "domain": [
          0,
          1
         ],
         "title": {
          "text": "Porcentaje que considera \"Fácil de conseguir\" (%)"
         }
        }
       }
      }
     },
     "metadata": {},
     "output_type": "display_data"
    }
   ],
   "source": [
    "# Gráfico 3: Facilidad de acceso por sustancia\n",
    "\n",
    "# Variables de accesibilidad (posiciones 2-5 en numerical_features)\n",
    "acceso_vars = numerical_features[2:6]  # G_06_A, G_06_B, G_06_C, G_06_D\n",
    "\n",
    "# Agregar variables adicionales de accesibilidad si están disponibles\n",
    "acceso_adicionales = ['G_06_E', 'G_06_F', 'G_06_G', 'G_06_H', 'G_06_I', 'G_06_J']\n",
    "for var in acceso_adicionales:\n",
    "    if var in df.columns:\n",
    "        acceso_vars.append(var)\n",
    "\n",
    "# Calcular porcentajes de acceso fácil\n",
    "acceso_facil = []\n",
    "nombres_sustancias = []\n",
    "\n",
    "for var in acceso_vars:\n",
    "    if var in df.columns:\n",
    "        facil_pct = (df[var] == 1).mean() * 100  # 1 = \"Me sería fácil\"\n",
    "        acceso_facil.append(facil_pct)\n",
    "        # Usar nombres legibles si están en el diccionario, sino crear nombres descriptivos\n",
    "        if var in variable_names:\n",
    "            nombres_sustancias.append(get_readable_name(var))\n",
    "        else:\n",
    "            # Crear nombre descriptivo para variables no mapeadas\n",
    "            sustancia_map = {\n",
    "                'G_06_E': 'Inhalables', 'G_06_F': 'Popper', 'G_06_G': 'Metanfetaminas',\n",
    "                'G_06_H': 'Tranquilizantes', 'G_06_I': 'Estimulantes', 'G_06_J': 'Heroína'\n",
    "            }\n",
    "            nombres_sustancias.append(sustancia_map.get(var, var))\n",
    "\n",
    "fig3 = px.bar(\n",
    "    x=nombres_sustancias,\n",
    "    y=acceso_facil,\n",
    "    title='Facilidad de Acceso Percibida por Sustancia',\n",
    "    labels={'x': 'Sustancia', 'y': 'Porcentaje que considera \"Fácil de conseguir\" (%)'},\n",
    "    color=acceso_facil,\n",
    "    color_continuous_scale='Oranges'\n",
    ")\n",
    "\n",
    "fig3.update_layout(height=500, xaxis_tickangle=-45)\n",
    "fig3.show()"
   ]
  },
  {
   "cell_type": "markdown",
   "id": "c573a56c",
   "metadata": {},
   "source": [
    "## 4. Consumo Personal por Tipo de Sustancia"
   ]
  },
  {
   "cell_type": "code",
   "execution_count": 24,
   "id": "123b8027",
   "metadata": {},
   "outputs": [
    {
     "data": {
      "application/vnd.plotly.v1+json": {
       "config": {
        "plotlyServerURL": "https://plot.ly"
       },
       "data": [
        {
         "hovertemplate": "Sustancia=%{x}<br>Porcentaje de Consumidores (%)=%{y}<br>text=%{text}<br>color=%{marker.color}<extra></extra>",
         "legendgroup": "",
         "marker": {
          "color": {
           "bdata": "AAECAwQFBgcICQo=",
           "dtype": "i1"
          },
          "coloraxis": "coloraxis",
          "pattern": {
           "shape": ""
          }
         },
         "name": "",
         "orientation": "v",
         "showlegend": false,
         "text": [
          "8.0%",
          "2.0%",
          "1.8%",
          "1.3%",
          "0.6%",
          "0.6%",
          "0.4%",
          "0.2%",
          "0.1%",
          "0.1%",
          "0.0%"
         ],
         "textfont": {
          "color": "black",
          "size": 12
         },
         "textposition": "outside",
         "type": "bar",
         "x": [
          "Consumo de Marihuana",
          "Consumo de Cocaína",
          "Tranquilizantes",
          "Popper",
          "Consumo de Basuco",
          "Éxtasis",
          "Inhalables",
          "DICK",
          "Estimulantes",
          "Heroína",
          "Uso de Jeringas"
         ],
         "xaxis": "x",
         "y": {
          "bdata": "YXuzaZABIECwhWCC50n/P5ZxN5YLO/0/GQ6lNE4Y9T/K8s1/8u/jP7xouYmE6OI/drOQ3xdI1z/99rlsK47MP1h+w+MDNcA/Tzb3DAY2uT+AGT/qBtCMPw==",
          "dtype": "f8"
         },
         "yaxis": "y"
        }
       ],
       "layout": {
        "barmode": "relative",
        "coloraxis": {
         "colorbar": {
          "title": {
           "text": "color"
          }
         },
         "colorscale": [
          [
           0,
           "#0d0887"
          ],
          [
           0.1111111111111111,
           "#46039f"
          ],
          [
           0.2222222222222222,
           "#7201a8"
          ],
          [
           0.3333333333333333,
           "#9c179e"
          ],
          [
           0.4444444444444444,
           "#bd3786"
          ],
          [
           0.5555555555555556,
           "#d8576b"
          ],
          [
           0.6666666666666666,
           "#ed7953"
          ],
          [
           0.7777777777777778,
           "#fb9f3a"
          ],
          [
           0.8888888888888888,
           "#fdca26"
          ],
          [
           1,
           "#f0f921"
          ]
         ]
        },
        "height": 500,
        "legend": {
         "tracegroupgap": 0
        },
        "plot_bgcolor": "white",
        "showlegend": false,
        "template": {
         "data": {
          "bar": [
           {
            "error_x": {
             "color": "#2a3f5f"
            },
            "error_y": {
             "color": "#2a3f5f"
            },
            "marker": {
             "line": {
              "color": "#E5ECF6",
              "width": 0.5
             },
             "pattern": {
              "fillmode": "overlay",
              "size": 10,
              "solidity": 0.2
             }
            },
            "type": "bar"
           }
          ],
          "barpolar": [
           {
            "marker": {
             "line": {
              "color": "#E5ECF6",
              "width": 0.5
             },
             "pattern": {
              "fillmode": "overlay",
              "size": 10,
              "solidity": 0.2
             }
            },
            "type": "barpolar"
           }
          ],
          "carpet": [
           {
            "aaxis": {
             "endlinecolor": "#2a3f5f",
             "gridcolor": "white",
             "linecolor": "white",
             "minorgridcolor": "white",
             "startlinecolor": "#2a3f5f"
            },
            "baxis": {
             "endlinecolor": "#2a3f5f",
             "gridcolor": "white",
             "linecolor": "white",
             "minorgridcolor": "white",
             "startlinecolor": "#2a3f5f"
            },
            "type": "carpet"
           }
          ],
          "choropleth": [
           {
            "colorbar": {
             "outlinewidth": 0,
             "ticks": ""
            },
            "type": "choropleth"
           }
          ],
          "contour": [
           {
            "colorbar": {
             "outlinewidth": 0,
             "ticks": ""
            },
            "colorscale": [
             [
              0,
              "#0d0887"
             ],
             [
              0.1111111111111111,
              "#46039f"
             ],
             [
              0.2222222222222222,
              "#7201a8"
             ],
             [
              0.3333333333333333,
              "#9c179e"
             ],
             [
              0.4444444444444444,
              "#bd3786"
             ],
             [
              0.5555555555555556,
              "#d8576b"
             ],
             [
              0.6666666666666666,
              "#ed7953"
             ],
             [
              0.7777777777777778,
              "#fb9f3a"
             ],
             [
              0.8888888888888888,
              "#fdca26"
             ],
             [
              1,
              "#f0f921"
             ]
            ],
            "type": "contour"
           }
          ],
          "contourcarpet": [
           {
            "colorbar": {
             "outlinewidth": 0,
             "ticks": ""
            },
            "type": "contourcarpet"
           }
          ],
          "heatmap": [
           {
            "colorbar": {
             "outlinewidth": 0,
             "ticks": ""
            },
            "colorscale": [
             [
              0,
              "#0d0887"
             ],
             [
              0.1111111111111111,
              "#46039f"
             ],
             [
              0.2222222222222222,
              "#7201a8"
             ],
             [
              0.3333333333333333,
              "#9c179e"
             ],
             [
              0.4444444444444444,
              "#bd3786"
             ],
             [
              0.5555555555555556,
              "#d8576b"
             ],
             [
              0.6666666666666666,
              "#ed7953"
             ],
             [
              0.7777777777777778,
              "#fb9f3a"
             ],
             [
              0.8888888888888888,
              "#fdca26"
             ],
             [
              1,
              "#f0f921"
             ]
            ],
            "type": "heatmap"
           }
          ],
          "histogram": [
           {
            "marker": {
             "pattern": {
              "fillmode": "overlay",
              "size": 10,
              "solidity": 0.2
             }
            },
            "type": "histogram"
           }
          ],
          "histogram2d": [
           {
            "colorbar": {
             "outlinewidth": 0,
             "ticks": ""
            },
            "colorscale": [
             [
              0,
              "#0d0887"
             ],
             [
              0.1111111111111111,
              "#46039f"
             ],
             [
              0.2222222222222222,
              "#7201a8"
             ],
             [
              0.3333333333333333,
              "#9c179e"
             ],
             [
              0.4444444444444444,
              "#bd3786"
             ],
             [
              0.5555555555555556,
              "#d8576b"
             ],
             [
              0.6666666666666666,
              "#ed7953"
             ],
             [
              0.7777777777777778,
              "#fb9f3a"
             ],
             [
              0.8888888888888888,
              "#fdca26"
             ],
             [
              1,
              "#f0f921"
             ]
            ],
            "type": "histogram2d"
           }
          ],
          "histogram2dcontour": [
           {
            "colorbar": {
             "outlinewidth": 0,
             "ticks": ""
            },
            "colorscale": [
             [
              0,
              "#0d0887"
             ],
             [
              0.1111111111111111,
              "#46039f"
             ],
             [
              0.2222222222222222,
              "#7201a8"
             ],
             [
              0.3333333333333333,
              "#9c179e"
             ],
             [
              0.4444444444444444,
              "#bd3786"
             ],
             [
              0.5555555555555556,
              "#d8576b"
             ],
             [
              0.6666666666666666,
              "#ed7953"
             ],
             [
              0.7777777777777778,
              "#fb9f3a"
             ],
             [
              0.8888888888888888,
              "#fdca26"
             ],
             [
              1,
              "#f0f921"
             ]
            ],
            "type": "histogram2dcontour"
           }
          ],
          "mesh3d": [
           {
            "colorbar": {
             "outlinewidth": 0,
             "ticks": ""
            },
            "type": "mesh3d"
           }
          ],
          "parcoords": [
           {
            "line": {
             "colorbar": {
              "outlinewidth": 0,
              "ticks": ""
             }
            },
            "type": "parcoords"
           }
          ],
          "pie": [
           {
            "automargin": true,
            "type": "pie"
           }
          ],
          "scatter": [
           {
            "fillpattern": {
             "fillmode": "overlay",
             "size": 10,
             "solidity": 0.2
            },
            "type": "scatter"
           }
          ],
          "scatter3d": [
           {
            "line": {
             "colorbar": {
              "outlinewidth": 0,
              "ticks": ""
             }
            },
            "marker": {
             "colorbar": {
              "outlinewidth": 0,
              "ticks": ""
             }
            },
            "type": "scatter3d"
           }
          ],
          "scattercarpet": [
           {
            "marker": {
             "colorbar": {
              "outlinewidth": 0,
              "ticks": ""
             }
            },
            "type": "scattercarpet"
           }
          ],
          "scattergeo": [
           {
            "marker": {
             "colorbar": {
              "outlinewidth": 0,
              "ticks": ""
             }
            },
            "type": "scattergeo"
           }
          ],
          "scattergl": [
           {
            "marker": {
             "colorbar": {
              "outlinewidth": 0,
              "ticks": ""
             }
            },
            "type": "scattergl"
           }
          ],
          "scattermap": [
           {
            "marker": {
             "colorbar": {
              "outlinewidth": 0,
              "ticks": ""
             }
            },
            "type": "scattermap"
           }
          ],
          "scattermapbox": [
           {
            "marker": {
             "colorbar": {
              "outlinewidth": 0,
              "ticks": ""
             }
            },
            "type": "scattermapbox"
           }
          ],
          "scatterpolar": [
           {
            "marker": {
             "colorbar": {
              "outlinewidth": 0,
              "ticks": ""
             }
            },
            "type": "scatterpolar"
           }
          ],
          "scatterpolargl": [
           {
            "marker": {
             "colorbar": {
              "outlinewidth": 0,
              "ticks": ""
             }
            },
            "type": "scatterpolargl"
           }
          ],
          "scatterternary": [
           {
            "marker": {
             "colorbar": {
              "outlinewidth": 0,
              "ticks": ""
             }
            },
            "type": "scatterternary"
           }
          ],
          "surface": [
           {
            "colorbar": {
             "outlinewidth": 0,
             "ticks": ""
            },
            "colorscale": [
             [
              0,
              "#0d0887"
             ],
             [
              0.1111111111111111,
              "#46039f"
             ],
             [
              0.2222222222222222,
              "#7201a8"
             ],
             [
              0.3333333333333333,
              "#9c179e"
             ],
             [
              0.4444444444444444,
              "#bd3786"
             ],
             [
              0.5555555555555556,
              "#d8576b"
             ],
             [
              0.6666666666666666,
              "#ed7953"
             ],
             [
              0.7777777777777778,
              "#fb9f3a"
             ],
             [
              0.8888888888888888,
              "#fdca26"
             ],
             [
              1,
              "#f0f921"
             ]
            ],
            "type": "surface"
           }
          ],
          "table": [
           {
            "cells": {
             "fill": {
              "color": "#EBF0F8"
             },
             "line": {
              "color": "white"
             }
            },
            "header": {
             "fill": {
              "color": "#C8D4E3"
             },
             "line": {
              "color": "white"
             }
            },
            "type": "table"
           }
          ]
         },
         "layout": {
          "annotationdefaults": {
           "arrowcolor": "#2a3f5f",
           "arrowhead": 0,
           "arrowwidth": 1
          },
          "autotypenumbers": "strict",
          "coloraxis": {
           "colorbar": {
            "outlinewidth": 0,
            "ticks": ""
           }
          },
          "colorscale": {
           "diverging": [
            [
             0,
             "#8e0152"
            ],
            [
             0.1,
             "#c51b7d"
            ],
            [
             0.2,
             "#de77ae"
            ],
            [
             0.3,
             "#f1b6da"
            ],
            [
             0.4,
             "#fde0ef"
            ],
            [
             0.5,
             "#f7f7f7"
            ],
            [
             0.6,
             "#e6f5d0"
            ],
            [
             0.7,
             "#b8e186"
            ],
            [
             0.8,
             "#7fbc41"
            ],
            [
             0.9,
             "#4d9221"
            ],
            [
             1,
             "#276419"
            ]
           ],
           "sequential": [
            [
             0,
             "#0d0887"
            ],
            [
             0.1111111111111111,
             "#46039f"
            ],
            [
             0.2222222222222222,
             "#7201a8"
            ],
            [
             0.3333333333333333,
             "#9c179e"
            ],
            [
             0.4444444444444444,
             "#bd3786"
            ],
            [
             0.5555555555555556,
             "#d8576b"
            ],
            [
             0.6666666666666666,
             "#ed7953"
            ],
            [
             0.7777777777777778,
             "#fb9f3a"
            ],
            [
             0.8888888888888888,
             "#fdca26"
            ],
            [
             1,
             "#f0f921"
            ]
           ],
           "sequentialminus": [
            [
             0,
             "#0d0887"
            ],
            [
             0.1111111111111111,
             "#46039f"
            ],
            [
             0.2222222222222222,
             "#7201a8"
            ],
            [
             0.3333333333333333,
             "#9c179e"
            ],
            [
             0.4444444444444444,
             "#bd3786"
            ],
            [
             0.5555555555555556,
             "#d8576b"
            ],
            [
             0.6666666666666666,
             "#ed7953"
            ],
            [
             0.7777777777777778,
             "#fb9f3a"
            ],
            [
             0.8888888888888888,
             "#fdca26"
            ],
            [
             1,
             "#f0f921"
            ]
           ]
          },
          "colorway": [
           "#636efa",
           "#EF553B",
           "#00cc96",
           "#ab63fa",
           "#FFA15A",
           "#19d3f3",
           "#FF6692",
           "#B6E880",
           "#FF97FF",
           "#FECB52"
          ],
          "font": {
           "color": "#2a3f5f"
          },
          "geo": {
           "bgcolor": "white",
           "lakecolor": "white",
           "landcolor": "#E5ECF6",
           "showlakes": true,
           "showland": true,
           "subunitcolor": "white"
          },
          "hoverlabel": {
           "align": "left"
          },
          "hovermode": "closest",
          "mapbox": {
           "style": "light"
          },
          "paper_bgcolor": "white",
          "plot_bgcolor": "#E5ECF6",
          "polar": {
           "angularaxis": {
            "gridcolor": "white",
            "linecolor": "white",
            "ticks": ""
           },
           "bgcolor": "#E5ECF6",
           "radialaxis": {
            "gridcolor": "white",
            "linecolor": "white",
            "ticks": ""
           }
          },
          "scene": {
           "xaxis": {
            "backgroundcolor": "#E5ECF6",
            "gridcolor": "white",
            "gridwidth": 2,
            "linecolor": "white",
            "showbackground": true,
            "ticks": "",
            "zerolinecolor": "white"
           },
           "yaxis": {
            "backgroundcolor": "#E5ECF6",
            "gridcolor": "white",
            "gridwidth": 2,
            "linecolor": "white",
            "showbackground": true,
            "ticks": "",
            "zerolinecolor": "white"
           },
           "zaxis": {
            "backgroundcolor": "#E5ECF6",
            "gridcolor": "white",
            "gridwidth": 2,
            "linecolor": "white",
            "showbackground": true,
            "ticks": "",
            "zerolinecolor": "white"
           }
          },
          "shapedefaults": {
           "line": {
            "color": "#2a3f5f"
           }
          },
          "ternary": {
           "aaxis": {
            "gridcolor": "white",
            "linecolor": "white",
            "ticks": ""
           },
           "baxis": {
            "gridcolor": "white",
            "linecolor": "white",
            "ticks": ""
           },
           "bgcolor": "#E5ECF6",
           "caxis": {
            "gridcolor": "white",
            "linecolor": "white",
            "ticks": ""
           }
          },
          "title": {
           "x": 0.05
          },
          "xaxis": {
           "automargin": true,
           "gridcolor": "white",
           "linecolor": "white",
           "ticks": "",
           "title": {
            "standoff": 15
           },
           "zerolinecolor": "white",
           "zerolinewidth": 2
          },
          "yaxis": {
           "automargin": true,
           "gridcolor": "white",
           "linecolor": "white",
           "ticks": "",
           "title": {
            "standoff": 15
           },
           "zerolinecolor": "white",
           "zerolinewidth": 2
          }
         }
        },
        "title": {
         "text": "Prevalencia de Consumo Personal por Sustancia (Alguna vez en la vida)"
        },
        "xaxis": {
         "anchor": "y",
         "domain": [
          0,
          1
         ],
         "gridcolor": "lightgray",
         "tickangle": -45,
         "title": {
          "text": "Sustancia"
         }
        },
        "yaxis": {
         "anchor": "x",
         "domain": [
          0,
          1
         ],
         "gridcolor": "lightgray",
         "title": {
          "text": "Porcentaje de Consumidores (%)"
         }
        }
       }
      }
     },
     "metadata": {},
     "output_type": "display_data"
    }
   ],
   "source": [
    "# Gráfico 4: Prevalencia de consumo personal\n",
    "\n",
    "# Variables de consumo personal (empezando por las 4 objetivo principales)\n",
    "consumo_vars = list(target_variables.values())  # G_11_F, G_11_G, G_11_H, G_13\n",
    "\n",
    "# Agregar otras variables de consumo si están disponibles\n",
    "consumo_adicionales = ['G_11_A', 'G_11_B', 'G_11_C', 'G_11_D', 'G_11_E', 'G_11_I', 'G_11_J']\n",
    "for var in consumo_adicionales:\n",
    "    if var in df.columns:\n",
    "        consumo_vars.append(var)\n",
    "\n",
    "consumo_personal = []\n",
    "nombres_consumo = []\n",
    "\n",
    "for var in consumo_vars:\n",
    "    if var in df.columns:\n",
    "        consumo_pct = (df[var] == 1).mean() * 100  # 1 = \"Sí\"\n",
    "        consumo_personal.append(consumo_pct)\n",
    "        \n",
    "        # Usar nombres legibles si están en el diccionario\n",
    "        if var in variable_names:\n",
    "            nombres_consumo.append(get_readable_name(var))\n",
    "        else:\n",
    "            # Crear nombres descriptivos para variables no mapeadas\n",
    "            sustancia_map = {\n",
    "                'G_11_A': 'Tranquilizantes', 'G_11_B': 'Estimulantes', 'G_11_C': 'Inhalables',\n",
    "                'G_11_D': 'DICK', 'G_11_E': 'Popper', 'G_11_I': 'Éxtasis', 'G_11_J': 'Heroína'\n",
    "            }\n",
    "            nombres_consumo.append(sustancia_map.get(var, var))\n",
    "\n",
    "# Ordenar de mayor a menor\n",
    "datos_ordenados = sorted(zip(nombres_consumo, consumo_personal), key=lambda x: x[1], reverse=True)\n",
    "nombres_ord, consumo_ord = zip(*datos_ordenados)\n",
    "\n",
    "colors = ['#FF6B6B', '#4ECDC4', '#45B7D1', '#96CEB4', '#FFEAA7', \n",
    "          '#DDA0DD', '#FFB347', '#87CEEB', '#F0E68C', '#FFA07A', '#98FB98']\n",
    "\n",
    "fig4 = px.bar(\n",
    "    x=list(nombres_ord),\n",
    "    y=list(consumo_ord),\n",
    "    title='Prevalencia de Consumo Personal por Sustancia (Alguna vez en la vida)',\n",
    "    labels={'x': 'Sustancia', 'y': 'Porcentaje de Consumidores (%)'},\n",
    "    color=list(range(len(consumo_ord))),  # Usar índices para colores discretos\n",
    "    color_discrete_sequence=colors[:len(consumo_ord)],  # Aplicar colores personalizados\n",
    "    text=[f'{v:.1f}%' for v in consumo_ord]  # Agregar valores en las barras\n",
    ")\n",
    "\n",
    "fig4.update_traces(textposition='outside', textfont=dict(size=12, color='black'))\n",
    "fig4.update_layout(\n",
    "    height=500, \n",
    "    xaxis_tickangle=-45,\n",
    "    showlegend=False,\n",
    "    plot_bgcolor='white',\n",
    "    xaxis=dict(gridcolor='lightgray'),\n",
    "    yaxis=dict(gridcolor='lightgray')\n",
    ")\n",
    "fig4.show()"
   ]
  },
  {
   "cell_type": "markdown",
   "id": "ec0e65f8",
   "metadata": {},
   "source": [
    "## 5. Relación entre Entorno Social y Consumo Personal"
   ]
  },
  {
   "cell_type": "code",
   "execution_count": 22,
   "id": "cacf93ff",
   "metadata": {},
   "outputs": [
    {
     "data": {
      "application/vnd.plotly.v1+json": {
       "config": {
        "plotlyServerURL": "https://plot.ly"
       },
       "data": [
        {
         "coloraxis": "coloraxis",
         "hovertemplate": "x: %{x}<br>y: %{y}<br>Correlación: %{z}<extra></extra>",
         "name": "0",
         "type": "heatmap",
         "x": [
          "Familiares Consumen Sustancias",
          "Amigos Consumen Sustancias",
          "Curiosidad por Probar",
          "Disposición a Consumir",
          "Tuvo Oportunidad de Probar",
          "Cantidad de Familiares que Consumen",
          "Cantidad de Amigos que Consumen",
          "Acceso Fácil a Marihuana",
          "Acceso Fácil a Cocaína",
          "Acceso Fácil a Basuco",
          "Acceso Fácil a Éxtasis",
          "Consumo de Marihuana",
          "Consumo de Cocaína",
          "Consumo de Basuco"
         ],
         "xaxis": "x",
         "y": [
          "Familiares Consumen Sustancias",
          "Amigos Consumen Sustancias",
          "Curiosidad por Probar",
          "Disposición a Consumir",
          "Tuvo Oportunidad de Probar",
          "Cantidad de Familiares que Consumen",
          "Cantidad de Amigos que Consumen",
          "Acceso Fácil a Marihuana",
          "Acceso Fácil a Cocaína",
          "Acceso Fácil a Basuco",
          "Acceso Fácil a Éxtasis",
          "Consumo de Marihuana",
          "Consumo de Cocaína",
          "Consumo de Basuco"
         ],
         "yaxis": "y",
         "z": {
          "bdata": "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",
          "dtype": "f8",
          "shape": "14, 14"
         }
        }
       ],
       "layout": {
        "annotations": [
         {
          "font": {
           "color": "gray",
           "size": 12
          },
          "showarrow": false,
          "text": "Variables predictoras clave para modelos de Machine Learning",
          "x": 0.5,
          "xref": "paper",
          "y": 1.1,
          "yref": "paper"
         }
        ],
        "coloraxis": {
         "colorbar": {
          "title": {
           "text": "Correlación"
          }
         },
         "colorscale": [
          [
           0,
           "rgb(5,48,97)"
          ],
          [
           0.1,
           "rgb(33,102,172)"
          ],
          [
           0.2,
           "rgb(67,147,195)"
          ],
          [
           0.3,
           "rgb(146,197,222)"
          ],
          [
           0.4,
           "rgb(209,229,240)"
          ],
          [
           0.5,
           "rgb(247,247,247)"
          ],
          [
           0.6,
           "rgb(253,219,199)"
          ],
          [
           0.7,
           "rgb(244,165,130)"
          ],
          [
           0.8,
           "rgb(214,96,77)"
          ],
          [
           0.9,
           "rgb(178,24,43)"
          ],
          [
           1,
           "rgb(103,0,31)"
          ]
         ]
        },
        "height": 700,
        "template": {
         "data": {
          "bar": [
           {
            "error_x": {
             "color": "#2a3f5f"
            },
            "error_y": {
             "color": "#2a3f5f"
            },
            "marker": {
             "line": {
              "color": "#E5ECF6",
              "width": 0.5
             },
             "pattern": {
              "fillmode": "overlay",
              "size": 10,
              "solidity": 0.2
             }
            },
            "type": "bar"
           }
          ],
          "barpolar": [
           {
            "marker": {
             "line": {
              "color": "#E5ECF6",
              "width": 0.5
             },
             "pattern": {
              "fillmode": "overlay",
              "size": 10,
              "solidity": 0.2
             }
            },
            "type": "barpolar"
           }
          ],
          "carpet": [
           {
            "aaxis": {
             "endlinecolor": "#2a3f5f",
             "gridcolor": "white",
             "linecolor": "white",
             "minorgridcolor": "white",
             "startlinecolor": "#2a3f5f"
            },
            "baxis": {
             "endlinecolor": "#2a3f5f",
             "gridcolor": "white",
             "linecolor": "white",
             "minorgridcolor": "white",
             "startlinecolor": "#2a3f5f"
            },
            "type": "carpet"
           }
          ],
          "choropleth": [
           {
            "colorbar": {
             "outlinewidth": 0,
             "ticks": ""
            },
            "type": "choropleth"
           }
          ],
          "contour": [
           {
            "colorbar": {
             "outlinewidth": 0,
             "ticks": ""
            },
            "colorscale": [
             [
              0,
              "#0d0887"
             ],
             [
              0.1111111111111111,
              "#46039f"
             ],
             [
              0.2222222222222222,
              "#7201a8"
             ],
             [
              0.3333333333333333,
              "#9c179e"
             ],
             [
              0.4444444444444444,
              "#bd3786"
             ],
             [
              0.5555555555555556,
              "#d8576b"
             ],
             [
              0.6666666666666666,
              "#ed7953"
             ],
             [
              0.7777777777777778,
              "#fb9f3a"
             ],
             [
              0.8888888888888888,
              "#fdca26"
             ],
             [
              1,
              "#f0f921"
             ]
            ],
            "type": "contour"
           }
          ],
          "contourcarpet": [
           {
            "colorbar": {
             "outlinewidth": 0,
             "ticks": ""
            },
            "type": "contourcarpet"
           }
          ],
          "heatmap": [
           {
            "colorbar": {
             "outlinewidth": 0,
             "ticks": ""
            },
            "colorscale": [
             [
              0,
              "#0d0887"
             ],
             [
              0.1111111111111111,
              "#46039f"
             ],
             [
              0.2222222222222222,
              "#7201a8"
             ],
             [
              0.3333333333333333,
              "#9c179e"
             ],
             [
              0.4444444444444444,
              "#bd3786"
             ],
             [
              0.5555555555555556,
              "#d8576b"
             ],
             [
              0.6666666666666666,
              "#ed7953"
             ],
             [
              0.7777777777777778,
              "#fb9f3a"
             ],
             [
              0.8888888888888888,
              "#fdca26"
             ],
             [
              1,
              "#f0f921"
             ]
            ],
            "type": "heatmap"
           }
          ],
          "histogram": [
           {
            "marker": {
             "pattern": {
              "fillmode": "overlay",
              "size": 10,
              "solidity": 0.2
             }
            },
            "type": "histogram"
           }
          ],
          "histogram2d": [
           {
            "colorbar": {
             "outlinewidth": 0,
             "ticks": ""
            },
            "colorscale": [
             [
              0,
              "#0d0887"
             ],
             [
              0.1111111111111111,
              "#46039f"
             ],
             [
              0.2222222222222222,
              "#7201a8"
             ],
             [
              0.3333333333333333,
              "#9c179e"
             ],
             [
              0.4444444444444444,
              "#bd3786"
             ],
             [
              0.5555555555555556,
              "#d8576b"
             ],
             [
              0.6666666666666666,
              "#ed7953"
             ],
             [
              0.7777777777777778,
              "#fb9f3a"
             ],
             [
              0.8888888888888888,
              "#fdca26"
             ],
             [
              1,
              "#f0f921"
             ]
            ],
            "type": "histogram2d"
           }
          ],
          "histogram2dcontour": [
           {
            "colorbar": {
             "outlinewidth": 0,
             "ticks": ""
            },
            "colorscale": [
             [
              0,
              "#0d0887"
             ],
             [
              0.1111111111111111,
              "#46039f"
             ],
             [
              0.2222222222222222,
              "#7201a8"
             ],
             [
              0.3333333333333333,
              "#9c179e"
             ],
             [
              0.4444444444444444,
              "#bd3786"
             ],
             [
              0.5555555555555556,
              "#d8576b"
             ],
             [
              0.6666666666666666,
              "#ed7953"
             ],
             [
              0.7777777777777778,
              "#fb9f3a"
             ],
             [
              0.8888888888888888,
              "#fdca26"
             ],
             [
              1,
              "#f0f921"
             ]
            ],
            "type": "histogram2dcontour"
           }
          ],
          "mesh3d": [
           {
            "colorbar": {
             "outlinewidth": 0,
             "ticks": ""
            },
            "type": "mesh3d"
           }
          ],
          "parcoords": [
           {
            "line": {
             "colorbar": {
              "outlinewidth": 0,
              "ticks": ""
             }
            },
            "type": "parcoords"
           }
          ],
          "pie": [
           {
            "automargin": true,
            "type": "pie"
           }
          ],
          "scatter": [
           {
            "fillpattern": {
             "fillmode": "overlay",
             "size": 10,
             "solidity": 0.2
            },
            "type": "scatter"
           }
          ],
          "scatter3d": [
           {
            "line": {
             "colorbar": {
              "outlinewidth": 0,
              "ticks": ""
             }
            },
            "marker": {
             "colorbar": {
              "outlinewidth": 0,
              "ticks": ""
             }
            },
            "type": "scatter3d"
           }
          ],
          "scattercarpet": [
           {
            "marker": {
             "colorbar": {
              "outlinewidth": 0,
              "ticks": ""
             }
            },
            "type": "scattercarpet"
           }
          ],
          "scattergeo": [
           {
            "marker": {
             "colorbar": {
              "outlinewidth": 0,
              "ticks": ""
             }
            },
            "type": "scattergeo"
           }
          ],
          "scattergl": [
           {
            "marker": {
             "colorbar": {
              "outlinewidth": 0,
              "ticks": ""
             }
            },
            "type": "scattergl"
           }
          ],
          "scattermap": [
           {
            "marker": {
             "colorbar": {
              "outlinewidth": 0,
              "ticks": ""
             }
            },
            "type": "scattermap"
           }
          ],
          "scattermapbox": [
           {
            "marker": {
             "colorbar": {
              "outlinewidth": 0,
              "ticks": ""
             }
            },
            "type": "scattermapbox"
           }
          ],
          "scatterpolar": [
           {
            "marker": {
             "colorbar": {
              "outlinewidth": 0,
              "ticks": ""
             }
            },
            "type": "scatterpolar"
           }
          ],
          "scatterpolargl": [
           {
            "marker": {
             "colorbar": {
              "outlinewidth": 0,
              "ticks": ""
             }
            },
            "type": "scatterpolargl"
           }
          ],
          "scatterternary": [
           {
            "marker": {
             "colorbar": {
              "outlinewidth": 0,
              "ticks": ""
             }
            },
            "type": "scatterternary"
           }
          ],
          "surface": [
           {
            "colorbar": {
             "outlinewidth": 0,
             "ticks": ""
            },
            "colorscale": [
             [
              0,
              "#0d0887"
             ],
             [
              0.1111111111111111,
              "#46039f"
             ],
             [
              0.2222222222222222,
              "#7201a8"
             ],
             [
              0.3333333333333333,
              "#9c179e"
             ],
             [
              0.4444444444444444,
              "#bd3786"
             ],
             [
              0.5555555555555556,
              "#d8576b"
             ],
             [
              0.6666666666666666,
              "#ed7953"
             ],
             [
              0.7777777777777778,
              "#fb9f3a"
             ],
             [
              0.8888888888888888,
              "#fdca26"
             ],
             [
              1,
              "#f0f921"
             ]
            ],
            "type": "surface"
           }
          ],
          "table": [
           {
            "cells": {
             "fill": {
              "color": "#EBF0F8"
             },
             "line": {
              "color": "white"
             }
            },
            "header": {
             "fill": {
              "color": "#C8D4E3"
             },
             "line": {
              "color": "white"
             }
            },
            "type": "table"
           }
          ]
         },
         "layout": {
          "annotationdefaults": {
           "arrowcolor": "#2a3f5f",
           "arrowhead": 0,
           "arrowwidth": 1
          },
          "autotypenumbers": "strict",
          "coloraxis": {
           "colorbar": {
            "outlinewidth": 0,
            "ticks": ""
           }
          },
          "colorscale": {
           "diverging": [
            [
             0,
             "#8e0152"
            ],
            [
             0.1,
             "#c51b7d"
            ],
            [
             0.2,
             "#de77ae"
            ],
            [
             0.3,
             "#f1b6da"
            ],
            [
             0.4,
             "#fde0ef"
            ],
            [
             0.5,
             "#f7f7f7"
            ],
            [
             0.6,
             "#e6f5d0"
            ],
            [
             0.7,
             "#b8e186"
            ],
            [
             0.8,
             "#7fbc41"
            ],
            [
             0.9,
             "#4d9221"
            ],
            [
             1,
             "#276419"
            ]
           ],
           "sequential": [
            [
             0,
             "#0d0887"
            ],
            [
             0.1111111111111111,
             "#46039f"
            ],
            [
             0.2222222222222222,
             "#7201a8"
            ],
            [
             0.3333333333333333,
             "#9c179e"
            ],
            [
             0.4444444444444444,
             "#bd3786"
            ],
            [
             0.5555555555555556,
             "#d8576b"
            ],
            [
             0.6666666666666666,
             "#ed7953"
            ],
            [
             0.7777777777777778,
             "#fb9f3a"
            ],
            [
             0.8888888888888888,
             "#fdca26"
            ],
            [
             1,
             "#f0f921"
            ]
           ],
           "sequentialminus": [
            [
             0,
             "#0d0887"
            ],
            [
             0.1111111111111111,
             "#46039f"
            ],
            [
             0.2222222222222222,
             "#7201a8"
            ],
            [
             0.3333333333333333,
             "#9c179e"
            ],
            [
             0.4444444444444444,
             "#bd3786"
            ],
            [
             0.5555555555555556,
             "#d8576b"
            ],
            [
             0.6666666666666666,
             "#ed7953"
            ],
            [
             0.7777777777777778,
             "#fb9f3a"
            ],
            [
             0.8888888888888888,
             "#fdca26"
            ],
            [
             1,
             "#f0f921"
            ]
           ]
          },
          "colorway": [
           "#636efa",
           "#EF553B",
           "#00cc96",
           "#ab63fa",
           "#FFA15A",
           "#19d3f3",
           "#FF6692",
           "#B6E880",
           "#FF97FF",
           "#FECB52"
          ],
          "font": {
           "color": "#2a3f5f"
          },
          "geo": {
           "bgcolor": "white",
           "lakecolor": "white",
           "landcolor": "#E5ECF6",
           "showlakes": true,
           "showland": true,
           "subunitcolor": "white"
          },
          "hoverlabel": {
           "align": "left"
          },
          "hovermode": "closest",
          "mapbox": {
           "style": "light"
          },
          "paper_bgcolor": "white",
          "plot_bgcolor": "#E5ECF6",
          "polar": {
           "angularaxis": {
            "gridcolor": "white",
            "linecolor": "white",
            "ticks": ""
           },
           "bgcolor": "#E5ECF6",
           "radialaxis": {
            "gridcolor": "white",
            "linecolor": "white",
            "ticks": ""
           }
          },
          "scene": {
           "xaxis": {
            "backgroundcolor": "#E5ECF6",
            "gridcolor": "white",
            "gridwidth": 2,
            "linecolor": "white",
            "showbackground": true,
            "ticks": "",
            "zerolinecolor": "white"
           },
           "yaxis": {
            "backgroundcolor": "#E5ECF6",
            "gridcolor": "white",
            "gridwidth": 2,
            "linecolor": "white",
            "showbackground": true,
            "ticks": "",
            "zerolinecolor": "white"
           },
           "zaxis": {
            "backgroundcolor": "#E5ECF6",
            "gridcolor": "white",
            "gridwidth": 2,
            "linecolor": "white",
            "showbackground": true,
            "ticks": "",
            "zerolinecolor": "white"
           }
          },
          "shapedefaults": {
           "line": {
            "color": "#2a3f5f"
           }
          },
          "ternary": {
           "aaxis": {
            "gridcolor": "white",
            "linecolor": "white",
            "ticks": ""
           },
           "baxis": {
            "gridcolor": "white",
            "linecolor": "white",
            "ticks": ""
           },
           "bgcolor": "#E5ECF6",
           "caxis": {
            "gridcolor": "white",
            "linecolor": "white",
            "ticks": ""
           }
          },
          "title": {
           "x": 0.05
          },
          "xaxis": {
           "automargin": true,
           "gridcolor": "white",
           "linecolor": "white",
           "ticks": "",
           "title": {
            "standoff": 15
           },
           "zerolinecolor": "white",
           "zerolinewidth": 2
          },
          "yaxis": {
           "automargin": true,
           "gridcolor": "white",
           "linecolor": "white",
           "ticks": "",
           "title": {
            "standoff": 15
           },
           "zerolinecolor": "white",
           "zerolinewidth": 2
          }
         }
        },
        "title": {
         "text": "Correlación: Entorno Social, Acceso a Drogas y Comportamiento de Consumo"
        },
        "width": 900,
        "xaxis": {
         "anchor": "y",
         "domain": [
          0,
          1
         ]
        },
        "yaxis": {
         "anchor": "x",
         "autorange": "reversed",
         "domain": [
          0,
          1
         ]
        }
       }
      }
     },
     "metadata": {},
     "output_type": "display_data"
    }
   ],
   "source": [
    "# Gráfico 5: Matriz de correlación entre entorno, acceso y comportamiento\n",
    "\n",
    "\n",
    "# Crear variables binarias para análisis de correlación usando nombres legibles\n",
    "df_analisis = pd.DataFrame()\n",
    "\n",
    "# Variables categóricas (entorno + actitudes)\n",
    "for var in categorical_features:\n",
    "    if var in df.columns:\n",
    "        nombre_legible = get_readable_name(var)\n",
    "        df_analisis[nombre_legible] = (df[var] == 1).astype(int)\n",
    "\n",
    "# Variables numéricas principales (primeras 6 de numerical_features)\n",
    "numeric_principales = numerical_features[:6]  # Cantidades + accesibilidad principal\n",
    "for var in numeric_principales:\n",
    "    if var in df.columns:\n",
    "        nombre_legible = get_readable_name(var)\n",
    "        df_analisis[nombre_legible] = (df[var] == 1).astype(int)\n",
    "\n",
    "# Variables objetivo (las 3 principales)\n",
    "objetivos_principales = [target_variables['principal'], target_variables['intermedia'], target_variables['alto_riesgo']]\n",
    "for var in objetivos_principales:\n",
    "    if var in df.columns:\n",
    "        nombre_legible = get_readable_name(var)\n",
    "        df_analisis[nombre_legible] = (df[var] == 1).astype(int)\n",
    "\n",
    "# Calcular matriz de correlación\n",
    "if not df_analisis.empty:\n",
    "    corr_matrix = df_analisis.corr()\n",
    "\n",
    "    fig5 = px.imshow(\n",
    "        corr_matrix,\n",
    "        title='Correlación: Entorno Social, Acceso a Drogas y Comportamiento de Consumo',\n",
    "        color_continuous_scale='RdBu_r',\n",
    "        aspect='auto',\n",
    "        labels=dict(color=\"Correlación\")\n",
    "    )\n",
    "\n",
    "    fig5.update_layout(\n",
    "        height=700,\n",
    "        width=900,\n",
    "        annotations=[\n",
    "            dict(\n",
    "                x=0.5, y=1.1,\n",
    "                xref='paper', yref='paper',\n",
    "                text='Variables predictoras clave para modelos de Machine Learning',\n",
    "                showarrow=False,\n",
    "                font=dict(size=12, color='gray')\n",
    "            )\n",
    "        ]\n",
    "    )\n",
    "\n",
    "    fig5.show()\n",
    "else:\n",
    "    print(\"No se pudieron crear variables para la matriz de correlación\")"
   ]
  }
 ],
 "metadata": {
  "kernelspec": {
   "display_name": "Python 3",
   "language": "python",
   "name": "python3"
  },
  "language_info": {
   "codemirror_mode": {
    "name": "ipython",
    "version": 3
   },
   "file_extension": ".py",
   "mimetype": "text/x-python",
   "name": "python",
   "nbconvert_exporter": "python",
   "pygments_lexer": "ipython3",
   "version": "3.13.6"
  }
 },
 "nbformat": 4,
 "nbformat_minor": 5
}
