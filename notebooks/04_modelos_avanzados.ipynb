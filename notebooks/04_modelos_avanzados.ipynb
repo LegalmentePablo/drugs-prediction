{
 "cells": [
  {
   "cell_type": "markdown",
   "id": "973b2fce",
   "metadata": {},
   "source": [
    "## Instrucciones de Uso\n",
    "\n",
    "**Este notebook requiere datos procesados del notebook 03_encoding_transformaciones.ipynb**\n",
    "\n",
    "### Flujo:\n",
    "1. **Ejecutar primero** `03_encoding_transformaciones.ipynb` completamente\n",
    "2. **Asegurarse** de que al final del notebook 03 se ejecute el código para guardar datos\n",
    "3. **Luego ejecutar** este notebook que cargará automáticamente los datos balanceados con SMOTE"
   ]
  },
  {
   "cell_type": "markdown",
   "id": "68b59458",
   "metadata": {},
   "source": [
    "# Modelos Avanzados de Machine Learning\n",
    "## Predicción de Consumo de Sustancias Psicoactivas - ENCSPA 2019\n",
    "\n",
    "### Objetivo\n",
    "Implementar y comparar modelos avanzados de Machine Learning para mejorar la predicción de consumo de marihuana, optimizando el rendimiento más allá de los modelos baseline.\n",
    "\n",
    "### Modelos a Implementar\n",
    "- **XGBoost**: Gradient boosting optimizado con regularización\n",
    "- **LightGBM**: Gradient boosting rápido y eficiente en memoria\n",
    "- **Random Forest**: Ensemble de árboles de decisión (baseline)\n",
    "- **Gradient Boosting**: Boosting secuencial tradicional\n",
    "\n",
    "### Metodología\n",
    "- Validación cruzada estratificada (5-fold)\n",
    "- Optimización de hiperparámetros con RandomizedSearchCV\n",
    "- Métricas: Accuracy, Precision, Recall, F1, ROC-AUC\n",
    "- Análisis de feature importance y tiempos de entrenamiento"
   ]
  },
  {
   "cell_type": "markdown",
   "id": "6557a40a",
   "metadata": {},
   "source": [
    "## 1. Importación de Librerías y Configuración"
   ]
  },
  {
   "cell_type": "code",
   "execution_count": 3,
   "id": "479731d0",
   "metadata": {},
   "outputs": [
    {
     "name": "stdout",
     "output_type": "stream",
     "text": [
      "Librerías importadas exitosamente\n"
     ]
    }
   ],
   "source": [
    "# Librerías base\n",
    "import pandas as pd\n",
    "import numpy as np\n",
    "import matplotlib.pyplot as plt\n",
    "import seaborn as sns\n",
    "import plotly.express as px\n",
    "import plotly.graph_objects as go\n",
    "from plotly.subplots import make_subplots\n",
    "import warnings\n",
    "warnings.filterwarnings('ignore')\n",
    "\n",
    "# Machine Learning\n",
    "from sklearn.model_selection import (\n",
    "    StratifiedKFold, cross_validate, RandomizedSearchCV\n",
    ")\n",
    "from sklearn.ensemble import (\n",
    "    RandomForestClassifier, GradientBoostingClassifier\n",
    ")\n",
    "from sklearn.metrics import (\n",
    "    accuracy_score, precision_score, recall_score, f1_score, \n",
    "    roc_auc_score, confusion_matrix, classification_report,\n",
    "    roc_curve, auc\n",
    ")\n",
    "\n",
    "# Modelos avanzados\n",
    "import xgboost as xgb\n",
    "import lightgbm as lgb\n",
    "\n",
    "# Utilidades\n",
    "import time\n",
    "import joblib\n",
    "from datetime import datetime\n",
    "\n",
    "# Configuración de visualización\n",
    "plt.style.use('default')\n",
    "sns.set_palette(\"husl\")\n",
    "pd.set_option('display.max_columns', None)\n",
    "pd.set_option('display.width', None)\n",
    "\n",
    "print(\"Librerías importadas exitosamente\")"
   ]
  },
  {
   "cell_type": "markdown",
   "id": "fba86dfd",
   "metadata": {},
   "source": [
    "## 2. Carga de Datos Preprocessados"
   ]
  },
  {
   "cell_type": "code",
   "execution_count": 4,
   "id": "ee08d461",
   "metadata": {},
   "outputs": [
    {
     "name": "stdout",
     "output_type": "stream",
     "text": [
      "Intentando cargar datos del notebook 03_encoding_transformaciones...\n",
      "Datos cargados desde notebook 03 (CON SMOTE para train)\n",
      "   • Features disponibles: 14\n",
      "\n",
      "VERIFICACIÓN FINAL DE DATOS:\n",
      "   • Train: 31,442 muestras, 14 features\n",
      "   • Test: 4,686 muestras, 14 features\n",
      "   • NaN en datos: 0\n",
      "\n",
      "DISTRIBUCIÓN DE CLASES:\n",
      "   • Train - No consume: 15,721 (50.0%)\n",
      "   • Train - Sí consume: 15,721 (50.0%)\n",
      "   • Test - No consume: 3,931 (83.9%)\n",
      "   • Test - Sí consume: 755 (16.1%)\n",
      "SMOTE aplicado - Balance train: 50.0%\n"
     ]
    }
   ],
   "source": [
    "print(\"Intentando cargar datos del notebook 03_encoding_transformaciones...\")\n",
    "\n",
    "try:\n",
    "    # Cargar datos balanceados con SMOTE (para entrenamiento)\n",
    "    X_train_balanced = pd.read_pickle('../data/processed/X_train_balanced.pkl')\n",
    "    y_train_balanced = pd.read_pickle('../data/processed/y_train_balanced.pkl')\n",
    "    \n",
    "    # Cargar datos de test (SIN balanceo para evaluación realista)\n",
    "    X_test_transformed = pd.read_pickle('../data/processed/X_test_transformed.pkl')\n",
    "    y_test = pd.read_pickle('../data/processed/y_test.pkl')\n",
    "    \n",
    "    # Cargar nombres de features\n",
    "    feature_names = pd.read_pickle('../data/processed/feature_names.pkl')\n",
    "    \n",
    "    # Usar datos balanceados para entrenamiento y originales para test\n",
    "    X_train_final = X_train_balanced\n",
    "    y_train_final = y_train_balanced\n",
    "    X_test_final = X_test_transformed\n",
    "    y_test_final = y_test\n",
    "    \n",
    "    print(\"Datos cargados desde notebook 03 (CON SMOTE para train)\")\n",
    "    print(f\"   • Features disponibles: {len(feature_names)}\")\n",
    "    \n",
    "except FileNotFoundError:\n",
    "    print(\"Archivos del notebook 03 no encontrados\")\n",
    "    print(\"Ejecutando notebook 03 para generar datos procesados...\")\n",
    "    \n",
    "    # Ejecutar notebook 03 si está en el mismo directorio\n",
    "    try:\n",
    "        get_ipython().run_line_magic('run', '03_encoding_transformaciones.ipynb')\n",
    "        \n",
    "        # Ahora deberían estar disponibles las variables\n",
    "        X_train_final = X_train_balanced\n",
    "        y_train_final = y_train_balanced\n",
    "        X_test_final = X_test_transformed\n",
    "        y_test_final = y_test\n",
    "        \n",
    "        print(\"Notebook 03 ejecutado exitosamente\")\n",
    "        \n",
    "    except Exception as e:\n",
    "        print(f\"Error ejecutando notebook 03: {e}\")\n",
    "        print(\"Cargando datos con pipeline básico...\")\n",
    "\n",
    "        # FALLBACK: Pipeline básico si todo falla\n",
    "        df = pd.read_csv('../data/g_capitulos.csv')\n",
    "        \n",
    "        # Variables según análisis previos\n",
    "        target_var = 'G_11_F'\n",
    "        categorical_features = ['G_01', 'G_02', 'G_03', 'G_04', 'G_05']\n",
    "        numerical_features = [\n",
    "            'G_06_A', 'G_06_B', 'G_06_C', 'G_06_D',\n",
    "            'G_07', 'G_08_A', 'G_08_B', 'G_01_A', 'G_02_A'\n",
    "        ]\n",
    "        \n",
    "        # Filtrar casos válidos\n",
    "        df_clean = df[df[target_var].isin([1, 2])].copy()\n",
    "        \n",
    "        # Preparar variables\n",
    "        features = categorical_features + numerical_features\n",
    "        X = df_clean[features]\n",
    "        y = (df_clean[target_var] == 1).astype(int)\n",
    "        \n",
    "        # Preprocessing básico\n",
    "        from sklearn.model_selection import train_test_split\n",
    "        from sklearn.impute import SimpleImputer\n",
    "        from sklearn.preprocessing import LabelEncoder, StandardScaler\n",
    "        \n",
    "        # Train-test split\n",
    "        X_train, X_test, y_train, y_test = train_test_split(\n",
    "            X, y, test_size=0.2, random_state=42, stratify=y\n",
    "        )\n",
    "        \n",
    "        # Imputación\n",
    "        cat_imputer = SimpleImputer(strategy='most_frequent')\n",
    "        num_imputer = SimpleImputer(strategy='median')\n",
    "        \n",
    "        X_train[categorical_features] = cat_imputer.fit_transform(X_train[categorical_features])\n",
    "        X_test[categorical_features] = cat_imputer.transform(X_test[categorical_features])\n",
    "        \n",
    "        X_train[numerical_features] = num_imputer.fit_transform(X_train[numerical_features])\n",
    "        X_test[numerical_features] = num_imputer.transform(X_test[numerical_features])\n",
    "        \n",
    "        # Encoding\n",
    "        le_dict = {}\n",
    "        for col in categorical_features:\n",
    "            le = LabelEncoder()\n",
    "            X_train[col] = le.fit_transform(X_train[col].astype(str))\n",
    "            X_test[col] = le.transform(X_test[col].astype(str))\n",
    "            le_dict[col] = le\n",
    "        \n",
    "        # Escalamiento\n",
    "        scaler = StandardScaler()\n",
    "        X_train[numerical_features] = scaler.fit_transform(X_train[numerical_features])\n",
    "        X_test[numerical_features] = scaler.transform(X_test[numerical_features])\n",
    "        \n",
    "        # Sin SMOTE en fallback\n",
    "        X_train_final = X_train\n",
    "        y_train_final = y_train\n",
    "        X_test_final = X_test\n",
    "        y_test_final = y_test\n",
    "        \n",
    "        print(\"Pipeline básico ejecutado (SIN SMOTE)\")\n",
    "\n",
    "# Verificación final de datos\n",
    "print(\"\\nVERIFICACIÓN FINAL DE DATOS:\")\n",
    "print(f\"   • Train: {X_train_final.shape[0]:,} muestras, {X_train_final.shape[1]} features\")\n",
    "print(f\"   • Test: {X_test_final.shape[0]:,} muestras, {X_test_final.shape[1]} features\")\n",
    "print(f\"   • NaN en datos: {X_train_final.isnull().sum().sum() + X_test_final.isnull().sum().sum()}\")\n",
    "\n",
    "print(f\"\\nDISTRIBUCIÓN DE CLASES:\")\n",
    "print(f\"   • Train - No consume: {(y_train_final == 0).sum():,} ({(y_train_final == 0).mean():.1%})\")\n",
    "print(f\"   • Train - Sí consume: {(y_train_final == 1).sum():,} ({(y_train_final == 1).mean():.1%})\")\n",
    "print(f\"   • Test - No consume: {(y_test_final == 0).sum():,} ({(y_test_final == 0).mean():.1%})\")\n",
    "print(f\"   • Test - Sí consume: {(y_test_final == 1).sum():,} ({(y_test_final == 1).mean():.1%})\")\n",
    "\n",
    "# Verificar si tenemos balance (indicativo de SMOTE)\n",
    "train_balance = (y_train_final == 1).mean()\n",
    "if train_balance > 0.4:\n",
    "    print(f\"SMOTE aplicado - Balance train: {train_balance:.1%}\")\n",
    "else:\n",
    "    print(f\"Sin SMOTE - Balance original: {train_balance:.1%}\")"
   ]
  },
  {
   "cell_type": "markdown",
   "id": "4a0fdd70",
   "metadata": {},
   "source": [
    "## 3. Definición de Modelos y Espacios de Hiperparámetros"
   ]
  },
  {
   "cell_type": "code",
   "execution_count": 5,
   "id": "36781625",
   "metadata": {},
   "outputs": [
    {
     "name": "stdout",
     "output_type": "stream",
     "text": [
      "Modelos configurados:\n",
      "   • XGBoost: 7 hiperparámetros, 2,916 combinaciones posibles\n",
      "   • LightGBM: 8 hiperparámetros, 8,748 combinaciones posibles\n",
      "   • RandomForest: 6 hiperparámetros, 648 combinaciones posibles\n",
      "   • GradientBoosting: 7 hiperparámetros, 2,187 combinaciones posibles\n",
      "\n",
      "Estrategia de búsqueda:\n",
      "   • RandomizedSearchCV con 50 iteraciones por modelo\n",
      "   • Validación cruzada: StratifiedKFold con 5 folds\n",
      "   • Métrica de optimización: ROC-AUC\n"
     ]
    }
   ],
   "source": [
    "# Configuración de modelos avanzados\n",
    "modelos_avanzados = {\n",
    "    'XGBoost': {\n",
    "        'model': xgb.XGBClassifier(\n",
    "            random_state=42, \n",
    "            eval_metric='logloss',\n",
    "            verbosity=0\n",
    "        ),\n",
    "        'params': {\n",
    "            'n_estimators': [100, 200, 300],\n",
    "            'max_depth': [3, 4, 5, 6],\n",
    "            'learning_rate': [0.01, 0.1, 0.2],\n",
    "            'subsample': [0.8, 0.9, 1.0],\n",
    "            'colsample_bytree': [0.8, 0.9, 1.0],\n",
    "            'reg_alpha': [0, 0.1, 0.5],\n",
    "            'reg_lambda': [1, 1.5, 2]\n",
    "        }\n",
    "    },\n",
    "    \n",
    "    'LightGBM': {\n",
    "        'model': lgb.LGBMClassifier(\n",
    "            random_state=42,\n",
    "            verbose=-1,\n",
    "            force_col_wise=True\n",
    "        ),\n",
    "        'params': {\n",
    "            'n_estimators': [100, 200, 300],\n",
    "            'max_depth': [3, 4, 5, 6],\n",
    "            'learning_rate': [0.01, 0.1, 0.2],\n",
    "            'subsample': [0.8, 0.9, 1.0],\n",
    "            'colsample_bytree': [0.8, 0.9, 1.0],\n",
    "            'reg_alpha': [0, 0.1, 0.5],\n",
    "            'reg_lambda': [0, 0.1, 0.5],\n",
    "            'num_leaves': [15, 31, 50]\n",
    "        }\n",
    "    },\n",
    "    \n",
    "    'RandomForest': {\n",
    "        'model': RandomForestClassifier(\n",
    "            random_state=42,\n",
    "            n_jobs=-1\n",
    "        ),\n",
    "        'params': {\n",
    "            'n_estimators': [100, 200, 300],\n",
    "            'max_depth': [10, 15, 20, None],\n",
    "            'min_samples_split': [2, 5, 10],\n",
    "            'min_samples_leaf': [1, 2, 4],\n",
    "            'max_features': ['sqrt', 'log2', 0.8],\n",
    "            'bootstrap': [True, False]\n",
    "        }\n",
    "    },\n",
    "    \n",
    "    'GradientBoosting': {\n",
    "        'model': GradientBoostingClassifier(\n",
    "            random_state=42\n",
    "        ),\n",
    "        'params': {\n",
    "            'n_estimators': [100, 200, 300],\n",
    "            'max_depth': [3, 4, 5],\n",
    "            'learning_rate': [0.01, 0.1, 0.2],\n",
    "            'subsample': [0.8, 0.9, 1.0],\n",
    "            'max_features': ['sqrt', 'log2', None],\n",
    "            'min_samples_split': [2, 5, 10],\n",
    "            'min_samples_leaf': [1, 2, 4]\n",
    "        }\n",
    "    }\n",
    "}\n",
    "\n",
    "print(\"Modelos configurados:\")\n",
    "for nombre, config in modelos_avanzados.items():\n",
    "    n_params = len(config['params'])\n",
    "    total_combinations = np.prod([len(v) for v in config['params'].values()])\n",
    "    print(f\"   • {nombre}: {n_params} hiperparámetros, {total_combinations:,} combinaciones posibles\")\n",
    "\n",
    "print(f\"\\nEstrategia de búsqueda:\")\n",
    "print(f\"   • RandomizedSearchCV con 50 iteraciones por modelo\")\n",
    "print(f\"   • Validación cruzada: StratifiedKFold con 5 folds\")\n",
    "print(f\"   • Métrica de optimización: ROC-AUC\")"
   ]
  },
  {
   "cell_type": "markdown",
   "id": "c55b8d4c",
   "metadata": {},
   "source": [
    "## 4. Validación Cruzada Baseline"
   ]
  },
  {
   "cell_type": "code",
   "execution_count": 6,
   "id": "7eeeb339",
   "metadata": {},
   "outputs": [
    {
     "name": "stdout",
     "output_type": "stream",
     "text": [
      "EVALUACION BASELINE - MODELOS SIN OPTIMIZAR (FASE 1)\n",
      "======================================================================\n",
      "Objetivo: Establecer línea base de rendimiento con hiperparámetros por defecto\n",
      "Semilla CV: 42\n",
      "======================================================================\n",
      "   Evaluando XGBoost (BASELINE - hiperparámetros por defecto)...\n",
      "     Completado en 1.98s, F1-CV (baseline): 0.9233\n",
      "   Evaluando LightGBM (BASELINE - hiperparámetros por defecto)...\n",
      "     Completado en 3.07s, F1-CV (baseline): 0.9245\n",
      "   Evaluando RandomForest (BASELINE - hiperparámetros por defecto)...\n",
      "     Completado en 1.75s, F1-CV (baseline): 0.9227\n",
      "   Evaluando GradientBoosting (BASELINE - hiperparámetros por defecto)...\n",
      "     Completado en 2.27s, F1-CV (baseline): 0.9151\n",
      "\n",
      "RESULTADOS BASELINE (Validación Cruzada 5-fold):\n",
      "================================================================================\n",
      "IMPORTANTE: Estos son resultados con hiperparámetros POR DEFECTO\n",
      "================================================================================\n",
      "          modelo accuracy_test_mean precision_test_mean recall_test_mean f1_test_mean roc_auc_test_mean tiempo_entrenamiento\n",
      "         XGBoost             0.9217              0.9050           0.9423       0.9233            0.9764                1.98s\n",
      "        LightGBM             0.9226              0.9030           0.9470       0.9245            0.9763                3.07s\n",
      "    RandomForest             0.9215              0.9083           0.9377       0.9227            0.9687                1.75s\n",
      "GradientBoosting             0.9121              0.8855           0.9467       0.9151            0.9692                2.27s\n",
      "\n",
      "MEJOR MODELO BASELINE (F1-Score): LightGBM con F1 = 0.9245\n",
      "\n",
      "RANKING BASELINE (por F1-Score):\n",
      "   1. LightGBM       : F1=0.9245, AUC=0.9763\n",
      "   2. XGBoost        : F1=0.9233, AUC=0.9764\n",
      "   3. RandomForest   : F1=0.9227, AUC=0.9687\n",
      "   4. GradientBoosting: F1=0.9151, AUC=0.9692\n"
     ]
    }
   ],
   "source": [
    "# Configuración de validación cruzada con semilla fija\n",
    "RANDOM_SEED_CV = 42  # Semilla específica\n",
    "cv_strategy = StratifiedKFold(n_splits=5, shuffle=True, random_state=RANDOM_SEED_CV)\n",
    "\n",
    "# Métricas a evaluar\n",
    "scoring_metrics = {\n",
    "    'accuracy': 'accuracy',\n",
    "    'precision': 'precision',\n",
    "    'recall': 'recall',\n",
    "    'f1': 'f1',\n",
    "    'roc_auc': 'roc_auc'\n",
    "}\n",
    "\n",
    "# Función para evaluar modelo con validación cruzada\n",
    "def evaluar_modelo_cv(modelo, X, y, cv, scoring, nombre_modelo):\n",
    "    \"\"\"\n",
    "    Evalúa un modelo usando validación cruzada y devuelve métricas detalladas\n",
    "    \"\"\"\n",
    "    print(f\"   Evaluando {nombre_modelo} (BASELINE - hiperparámetros por defecto)...\")\n",
    "    \n",
    "    start_time = time.time()\n",
    "    \n",
    "    # Realizar validación cruzada\n",
    "    cv_results = cross_validate(\n",
    "        modelo, X, y, \n",
    "        cv=cv, \n",
    "        scoring=scoring,\n",
    "        return_train_score=True,\n",
    "        n_jobs=-1\n",
    "    )\n",
    "    \n",
    "    training_time = time.time() - start_time\n",
    "    \n",
    "    # Organizar resultados\n",
    "    resultados = {\n",
    "        'modelo': nombre_modelo,\n",
    "        'tiempo_entrenamiento': training_time\n",
    "    }\n",
    "    \n",
    "    # Agregar métricas de test y train\n",
    "    for metric in scoring.keys():\n",
    "        test_scores = cv_results[f'test_{metric}']\n",
    "        train_scores = cv_results[f'train_{metric}']\n",
    "        \n",
    "        resultados[f'{metric}_test_mean'] = test_scores.mean()\n",
    "        resultados[f'{metric}_test_std'] = test_scores.std()\n",
    "        resultados[f'{metric}_train_mean'] = train_scores.mean()\n",
    "        resultados[f'{metric}_train_std'] = train_scores.std()\n",
    "        resultados[f'{metric}_overfitting'] = train_scores.mean() - test_scores.mean()\n",
    "    \n",
    "    print(f\"     Completado en {training_time:.2f}s, F1-CV (baseline): {resultados['f1_test_mean']:.4f}\")\n",
    "    \n",
    "    return resultados\n",
    "\n",
    "# Evaluar todos los modelos baseline (sin optimización)\n",
    "print(\"EVALUACION BASELINE - MODELOS SIN OPTIMIZAR (FASE 1)\")\n",
    "print(\"=\" * 70)\n",
    "print(\"Objetivo: Establecer línea base de rendimiento con hiperparámetros por defecto\")\n",
    "print(f\"Semilla CV: {RANDOM_SEED_CV}\")\n",
    "print(\"=\" * 70)\n",
    "\n",
    "resultados_baseline = []\n",
    "\n",
    "for nombre, config in modelos_avanzados.items():\n",
    "    modelo_base = config['model']\n",
    "    resultado = evaluar_modelo_cv(\n",
    "        modelo_base, X_train_final, y_train_final, \n",
    "        cv_strategy, scoring_metrics, nombre\n",
    "    )\n",
    "    resultados_baseline.append(resultado)\n",
    "\n",
    "# Convertir a DataFrame para análisis\n",
    "df_baseline = pd.DataFrame(resultados_baseline)\n",
    "\n",
    "print(f\"\\nRESULTADOS BASELINE (Validación Cruzada 5-fold):\")\n",
    "print(\"=\" * 80)\n",
    "print(\"IMPORTANTE: Estos son resultados con hiperparámetros POR DEFECTO\")\n",
    "print(\"=\" * 80)\n",
    "\n",
    "# Mostrar métricas principales\n",
    "metricas_principales = ['accuracy_test_mean', 'precision_test_mean', 'recall_test_mean', \n",
    "                       'f1_test_mean', 'roc_auc_test_mean', 'tiempo_entrenamiento']\n",
    "\n",
    "df_display = df_baseline[['modelo'] + metricas_principales].copy()\n",
    "for col in metricas_principales[:-1]:  # Exclude tiempo_entrenamiento\n",
    "    df_display[col] = df_display[col].apply(lambda x: f\"{x:.4f}\")\n",
    "df_display['tiempo_entrenamiento'] = df_display['tiempo_entrenamiento'].apply(lambda x: f\"{x:.2f}s\")\n",
    "\n",
    "print(df_display.to_string(index=False))\n",
    "\n",
    "# Identificar mejor modelo por F1-score\n",
    "mejor_modelo_f1 = df_baseline.loc[df_baseline['f1_test_mean'].idxmax(), 'modelo']\n",
    "mejor_f1_score = df_baseline['f1_test_mean'].max()\n",
    "\n",
    "print(f\"\\nMEJOR MODELO BASELINE (F1-Score): {mejor_modelo_f1} con F1 = {mejor_f1_score:.4f}\")\n",
    "\n",
    "# Ranking baseline\n",
    "print(f\"\\nRANKING BASELINE (por F1-Score):\")\n",
    "df_baseline_sorted = df_baseline.sort_values('f1_test_mean', ascending=False)\n",
    "for i, (_, row) in enumerate(df_baseline_sorted.iterrows(), 1):\n",
    "    print(f\"   {i}. {row['modelo']:15s}: F1={row['f1_test_mean']:.4f}, AUC={row['roc_auc_test_mean']:.4f}\")"
   ]
  },
  {
   "cell_type": "markdown",
   "id": "dd6d36d0",
   "metadata": {},
   "source": [
    "## 5. Optimización de Hiperparámetros"
   ]
  },
  {
   "cell_type": "code",
   "execution_count": 7,
   "id": "942cd7b9",
   "metadata": {},
   "outputs": [
    {
     "name": "stdout",
     "output_type": "stream",
     "text": [
      "CONFIGURACION DE REPRODUCIBILIDAD:\n",
      "   Semilla global: 42\n",
      "   Iteraciones búsqueda: 50\n",
      "   Folds CV optimización: 3\n",
      "   Todas las ejecuciones futuras darán resultados idénticos\n",
      "\n",
      "OPTIMIZACION DE HIPERPARAMETROS (FASE 2)\n",
      "============================================================\n",
      "Configuración: 50 iteraciones por modelo, 3-fold CV\n",
      "Métrica objetivo: F1-Score (balance precision/recall)\n",
      "Semilla reproducible: 42\n",
      "MODELO 1/4: XGBoost\n",
      "   Espacio de búsqueda: 2,916 combinaciones posibles\n",
      "   OPTIMIZANDO: XGBoost\n",
      "   Búsqueda aleatoria con 50 iteraciones y 3-fold CV\n",
      "     Optimización completada en 6.20s\n",
      "     Mejor F1-Score CV (optimizado): 0.9245\n",
      "     Parámetros optimizados: 7 parámetros encontrados\n",
      "\n",
      "MODELO 2/4: LightGBM\n",
      "   Espacio de búsqueda: 8,748 combinaciones posibles\n",
      "   OPTIMIZANDO: LightGBM\n",
      "   Búsqueda aleatoria con 50 iteraciones y 3-fold CV\n",
      "     Optimización completada en 562.20s\n",
      "     Mejor F1-Score CV (optimizado): 0.9254\n",
      "     Parámetros optimizados: 8 parámetros encontrados\n",
      "\n",
      "MODELO 3/4: RandomForest\n",
      "   Espacio de búsqueda: 648 combinaciones posibles\n",
      "   OPTIMIZANDO: RandomForest\n",
      "   Búsqueda aleatoria con 50 iteraciones y 3-fold CV\n",
      "     Optimización completada en 26.93s\n",
      "     Mejor F1-Score CV (optimizado): 0.9246\n",
      "     Parámetros optimizados: 6 parámetros encontrados\n",
      "\n",
      "MODELO 4/4: GradientBoosting\n",
      "   Espacio de búsqueda: 2,187 combinaciones posibles\n",
      "   OPTIMIZANDO: GradientBoosting\n",
      "   Búsqueda aleatoria con 50 iteraciones y 3-fold CV\n",
      "     Optimización completada en 23.53s\n",
      "     Mejor F1-Score CV (optimizado): 0.9251\n",
      "     Parámetros optimizados: 7 parámetros encontrados\n",
      "\n",
      "COMPARACION: BASELINE vs OPTIMIZADO\n",
      "======================================================================\n",
      "BASELINE = Hiperparámetros por defecto (sin optimización)\n",
      "OPTIMIZADO = Hiperparámetros encontrados por RandomizedSearchCV\n",
      "======================================================================\n",
      "Modelo          Baseline F1  Optimizado F1  Mejora     Tiempo    \n",
      "----------------------------------------------------------------------\n",
      "XGBoost         0.9233       0.9245         0.0013++++ 6.2       s 📈\n",
      "LightGBM        0.9245       0.9254         0.0009++++ 562.2     s 📈\n",
      "RandomForest    0.9227       0.9246         0.0019++++ 26.9      s 📈\n",
      "GradientBoosting 0.9151       0.9251         0.0100++++ 23.5      s 📈\n",
      "\n",
      "MEJOR MODELO OPTIMIZADO (CV): LightGBM\n",
      "   F1-Score CV (optimizado): 0.9254\n",
      "   Mejores hiperparámetros encontrados:\n",
      "     • subsample: 1.0\n",
      "     • reg_lambda: 0\n",
      "     • reg_alpha: 0.5\n",
      "     • num_leaves: 50\n",
      "     • n_estimators: 100\n",
      "     • max_depth: 6\n",
      "     • learning_rate: 0.2\n",
      "     • colsample_bytree: 0.8\n"
     ]
    }
   ],
   "source": [
    "# CONFIGURACION DE REPRODUCIBILIDAD Y OPTIMIZACION\n",
    "RANDOM_SEED = 42    # Semilla\n",
    "N_ITER_SEARCH = 50  # Número de iteraciones\n",
    "CV_FOLDS = 3        # Folds para optimización (menor para rapidez)\n",
    "\n",
    "# Configurar numpy para reproducibilidad\n",
    "np.random.seed(RANDOM_SEED)\n",
    "\n",
    "print(f\"CONFIGURACION DE REPRODUCIBILIDAD:\")\n",
    "print(f\"   Semilla global: {RANDOM_SEED}\")\n",
    "print(f\"   Iteraciones búsqueda: {N_ITER_SEARCH}\")\n",
    "print(f\"   Folds CV optimización: {CV_FOLDS}\")\n",
    "print(\"   Todas las ejecuciones futuras darán resultados idénticos\")\n",
    "print()\n",
    "\n",
    "# Función para optimizar hiperparámetros\n",
    "def optimizar_modelo(nombre_modelo, modelo_base, param_grid, X, y):\n",
    "    \"\"\"\n",
    "    Optimiza hiperparámetros usando RandomizedSearchCV\n",
    "    \"\"\"\n",
    "    print(f\"   OPTIMIZANDO: {nombre_modelo}\")\n",
    "    print(f\"   Búsqueda aleatoria con {N_ITER_SEARCH} iteraciones y {CV_FOLDS}-fold CV\")\n",
    "    \n",
    "    # Configurar búsqueda aleatoria\n",
    "    random_search = RandomizedSearchCV(\n",
    "        estimator=modelo_base,\n",
    "        param_distributions=param_grid,\n",
    "        n_iter=N_ITER_SEARCH,\n",
    "        cv=StratifiedKFold(n_splits=CV_FOLDS, shuffle=True, random_state=RANDOM_SEED),\n",
    "        scoring='f1',  # Optimizar por F1-score\n",
    "        n_jobs=-1,\n",
    "        random_state=RANDOM_SEED,\n",
    "        verbose=0\n",
    "    )\n",
    "    \n",
    "    start_time = time.time()\n",
    "    \n",
    "    # Ejecutar búsqueda\n",
    "    random_search.fit(X, y)\n",
    "    \n",
    "    optimization_time = time.time() - start_time\n",
    "    \n",
    "    print(f\"     Optimización completada en {optimization_time:.2f}s\")\n",
    "    print(f\"     Mejor F1-Score CV (optimizado): {random_search.best_score_:.4f}\")\n",
    "    print(f\"     Parámetros optimizados: {len(random_search.best_params_)} parámetros encontrados\")\n",
    "    \n",
    "    return {\n",
    "        'modelo_optimizado': random_search.best_estimator_,\n",
    "        'mejores_parametros': random_search.best_params_,\n",
    "        'mejor_score_cv': random_search.best_score_,\n",
    "        'tiempo_optimizacion': optimization_time,\n",
    "        'search_object': random_search\n",
    "    }\n",
    "\n",
    "# Optimizar todos los modelos\n",
    "print(\"OPTIMIZACION DE HIPERPARAMETROS (FASE 2)\")\n",
    "print(\"=\" * 60)\n",
    "print(f\"Configuración: {N_ITER_SEARCH} iteraciones por modelo, {CV_FOLDS}-fold CV\")\n",
    "print(f\"Métrica objetivo: F1-Score (balance precision/recall)\")\n",
    "print(f\"Semilla reproducible: {RANDOM_SEED}\")\n",
    "\n",
    "modelos_optimizados = {}\n",
    "\n",
    "for i, (nombre, config) in enumerate(modelos_avanzados.items(), 1):\n",
    "    print(f\"MODELO {i}/4: {nombre}\")\n",
    "    \n",
    "    # Mostrar espacio de busqueda\n",
    "    total_combinations = np.prod([len(v) for v in config['params'].values()])\n",
    "    print(f\"   Espacio de búsqueda: {total_combinations:,} combinaciones posibles\")\n",
    "    \n",
    "    resultado_opt = optimizar_modelo(\n",
    "        nombre, \n",
    "        config['model'], \n",
    "        config['params'], \n",
    "        X_train_final, \n",
    "        y_train_final\n",
    "    )\n",
    "    modelos_optimizados[nombre] = resultado_opt\n",
    "    print()  # Línea en blanco para separación\n",
    "\n",
    "# Resumen de optimización\n",
    "print(\"COMPARACION: BASELINE vs OPTIMIZADO\")\n",
    "print(\"=\" * 70)\n",
    "print(\"BASELINE = Hiperparámetros por defecto (sin optimización)\")\n",
    "print(\"OPTIMIZADO = Hiperparámetros encontrados por RandomizedSearchCV\")\n",
    "print(\"=\" * 70)\n",
    "\n",
    "# Crear tabla comparativa baseline vs optimizado\n",
    "print(f\"{'Modelo':<15} {'Baseline F1':<12} {'Optimizado F1':<14} {'Mejora':<10} {'Tiempo':<10}\")\n",
    "print(\"-\" * 70)\n",
    "\n",
    "for nombre, resultado in modelos_optimizados.items():\n",
    "    baseline_f1 = df_baseline[df_baseline['modelo'] == nombre]['f1_test_mean'].iloc[0]\n",
    "    optimizado_f1 = resultado['mejor_score_cv']\n",
    "    mejora = optimizado_f1 - baseline_f1\n",
    "    tiempo = resultado['tiempo_optimizacion']\n",
    "    \n",
    "    # Indicador visual de mejora\n",
    "    indicador = \"📈\" if mejora > 0 else \"📉\" if mejora < 0 else \"➡️\"\n",
    "    \n",
    "    print(f\"{nombre:<15} {baseline_f1:<12.4f} {optimizado_f1:<14.4f} {mejora:+<10.4f} {tiempo:<10.1f}s {indicador}\")\n",
    "\n",
    "# Identificar modelo con mejor score de optimización\n",
    "mejor_modelo_opt = max(modelos_optimizados.items(), \n",
    "                      key=lambda x: x[1]['mejor_score_cv'])\n",
    "\n",
    "print(f\"\\nMEJOR MODELO OPTIMIZADO (CV): {mejor_modelo_opt[0]}\")\n",
    "print(f\"   F1-Score CV (optimizado): {mejor_modelo_opt[1]['mejor_score_cv']:.4f}\")\n",
    "\n",
    "# Mostrar hiperparametros del mejor modelo\n",
    "print(f\"   Mejores hiperparámetros encontrados:\")\n",
    "for param, valor in mejor_modelo_opt[1]['mejores_parametros'].items():\n",
    "    print(f\"     • {param}: {valor}\")"
   ]
  },
  {
   "cell_type": "markdown",
   "id": "b67eb02c",
   "metadata": {},
   "source": [
    "## 6. Evaluación Final en Conjunto de Test"
   ]
  },
  {
   "cell_type": "code",
   "execution_count": 8,
   "id": "97daae3d",
   "metadata": {},
   "outputs": [
    {
     "name": "stdout",
     "output_type": "stream",
     "text": [
      "EVALUACION FINAL EN CONJUNTO DE TEST (FASE 3)\n",
      "======================================================================\n",
      "IMPORTANTE: Los modelos usan hiperparámetros OPTIMIZADOS (encontrados en Fase 2)\n",
      "IMPORTANTE: Cada modelo se entrena con hiperparámetros ya optimizados\n",
      "Semilla global: 42\n",
      "======================================================================\n",
      "EVALUANDO MODELO 1/4: XGBoost (con hiperparámetros optimizados)\n",
      "   Entrenando XGBoost (OPTIMIZADO) en datos completos...\n",
      "     F1-Score: 0.6524, ROC-AUC: 0.9236\n",
      "     Tiempo entrenamiento: 0.210s\n",
      "EVALUANDO MODELO 2/4: LightGBM (con hiperparámetros optimizados)\n",
      "   Entrenando LightGBM (OPTIMIZADO) en datos completos...\n",
      "     F1-Score: 0.6509, ROC-AUC: 0.9218\n",
      "     Tiempo entrenamiento: 0.110s\n",
      "EVALUANDO MODELO 3/4: RandomForest (con hiperparámetros optimizados)\n",
      "   Entrenando RandomForest (OPTIMIZADO) en datos completos...\n",
      "     F1-Score: 0.6542, ROC-AUC: 0.9198\n",
      "     Tiempo entrenamiento: 0.488s\n",
      "EVALUANDO MODELO 4/4: GradientBoosting (con hiperparámetros optimizados)\n",
      "   Entrenando GradientBoosting (OPTIMIZADO) en datos completos...\n",
      "     F1-Score: 0.6489, ROC-AUC: 0.9236\n",
      "     Tiempo entrenamiento: 3.982s\n",
      "\n",
      "RESULTADOS FINALES EN TEST SET:\n",
      "==========================================================================================\n",
      "MODELOS CON HIPERPARAMETROS OPTIMIZADOS - EVALUACION EN DATOS INDEPENDIENTES\n",
      "==========================================================================================\n",
      "          modelo accuracy precision recall     f1 roc_auc tiempo_entrenamiento tiempo_prediccion\n",
      "         XGBoost   0.8681    0.5670 0.7682 0.6524  0.9236               0.210s            0.006s\n",
      "        LightGBM   0.8709    0.5767 0.7470 0.6509  0.9218               0.110s            0.007s\n",
      "    RandomForest   0.8737    0.5852 0.7417 0.6542  0.9198               0.488s            0.097s\n",
      "GradientBoosting   0.8679    0.5675 0.7576 0.6489  0.9236               3.982s            0.032s\n",
      "\n",
      "MEJOR MODELO FINAL (por F1-Score en Test): RandomForest\n",
      "   F1-Score: 0.6542\n",
      "   ROC-AUC: 0.9198\n",
      "   Accuracy: 0.8737\n",
      "   Precision: 0.5852\n",
      "   Recall: 0.7417\n",
      "\n",
      "MODELO GUARDADO:\n",
      "   Modelo: ../models/mejor_modelo_randomforest.pkl\n",
      "   Metadatos: ../models/metadatos_randomforest.json\n",
      "   Semilla: 42 (reproducibilidad garantizada)\n"
     ]
    }
   ],
   "source": [
    "# Función para evaluación completa en test set\n",
    "def evaluar_test_completo(modelo, X_train, X_test, y_train, y_test, nombre_modelo):\n",
    "    \"\"\"\n",
    "    Evalúa modelo en conjunto de test con métricas completas\n",
    "    IMPORTANTE: El modelo ya está optimizado, solo se entrena una vez más con datos completos\n",
    "    \"\"\"\n",
    "    # Entrenar modelo con los datos de entrenamiento\n",
    "    print(f\"   Entrenando {nombre_modelo} (OPTIMIZADO) en datos completos...\")\n",
    "    start_time = time.time()\n",
    "    modelo.fit(X_train, y_train)\n",
    "    training_time = time.time() - start_time\n",
    "    \n",
    "    # Predicciones en test\n",
    "    start_time = time.time()\n",
    "    y_pred = modelo.predict(X_test)\n",
    "    y_pred_proba = modelo.predict_proba(X_test)[:, 1]\n",
    "    prediction_time = time.time() - start_time\n",
    "    \n",
    "    # Calcular métricas\n",
    "    resultados = {\n",
    "        'modelo': nombre_modelo,\n",
    "        'accuracy': accuracy_score(y_test, y_pred),\n",
    "        'precision': precision_score(y_test, y_pred),\n",
    "        'recall': recall_score(y_test, y_pred),\n",
    "        'f1': f1_score(y_test, y_pred),\n",
    "        'roc_auc': roc_auc_score(y_test, y_pred_proba),\n",
    "        'tiempo_entrenamiento': training_time,\n",
    "        'tiempo_prediccion': prediction_time,\n",
    "        'y_pred': y_pred,\n",
    "        'y_pred_proba': y_pred_proba,\n",
    "        'modelo_entrenado': modelo  # IMPORTANTE: Guardar el modelo ya entrenado\n",
    "    }\n",
    "    \n",
    "    print(f\"     F1-Score: {resultados['f1']:.4f}, ROC-AUC: {resultados['roc_auc']:.4f}\")\n",
    "    print(f\"     Tiempo entrenamiento: {resultados['tiempo_entrenamiento']:.3f}s\")\n",
    "    \n",
    "    return resultados\n",
    "\n",
    "# Evaluar modelos optimizados en test\n",
    "print(\"EVALUACION FINAL EN CONJUNTO DE TEST (FASE 3)\")\n",
    "print(\"=\" * 70)\n",
    "print(\"IMPORTANTE: Los modelos usan hiperparámetros OPTIMIZADOS (encontrados en Fase 2)\")\n",
    "print(\"IMPORTANTE: Cada modelo se entrena con hiperparámetros ya optimizados\")\n",
    "print(f\"Semilla global: {RANDOM_SEED}\")\n",
    "print(\"=\" * 70)\n",
    "\n",
    "resultados_test_final = []\n",
    "\n",
    "for i, (nombre, config_opt) in enumerate(modelos_optimizados.items(), 1):\n",
    "    print(f\"EVALUANDO MODELO {i}/4: {nombre} (con hiperparámetros optimizados)\")\n",
    "    \n",
    "    # Usar el modelo optimizado (NO reentrenado)\n",
    "    modelo_optimizado = config_opt['modelo_optimizado']\n",
    "    \n",
    "    resultado = evaluar_test_completo(\n",
    "        modelo_optimizado,\n",
    "        X_train_final, X_test_final, y_train_final, y_test_final,\n",
    "        nombre\n",
    "    )\n",
    "    \n",
    "    resultados_test_final.append(resultado)\n",
    "\n",
    "print()\n",
    "\n",
    "# Convertir a DataFrame\n",
    "df_test_final = pd.DataFrame(resultados_test_final)\n",
    "\n",
    "# Mostrar tabla comparativa\n",
    "print(\"RESULTADOS FINALES EN TEST SET:\")\n",
    "print(\"=\" * 90)\n",
    "print(\"MODELOS CON HIPERPARAMETROS OPTIMIZADOS - EVALUACION EN DATOS INDEPENDIENTES\")\n",
    "print(\"=\" * 90)\n",
    "\n",
    "# Seleccionar columnas para mostrar\n",
    "cols_display = ['modelo', 'accuracy', 'precision', 'recall', 'f1', 'roc_auc', \n",
    "               'tiempo_entrenamiento', 'tiempo_prediccion']\n",
    "\n",
    "df_display_final = df_test_final[cols_display].copy()\n",
    "\n",
    "# Formatear números\n",
    "for col in ['accuracy', 'precision', 'recall', 'f1', 'roc_auc']:\n",
    "    df_display_final[col] = df_display_final[col].apply(lambda x: f\"{x:.4f}\")\n",
    "\n",
    "for col in ['tiempo_entrenamiento', 'tiempo_prediccion']:\n",
    "    df_display_final[col] = df_display_final[col].apply(lambda x: f\"{x:.3f}s\")\n",
    "\n",
    "print(df_display_final.to_string(index=False))\n",
    "\n",
    "# Identificar mejor modelo final (UN SOLO CRITERIO)\n",
    "mejor_modelo_final = df_test_final.loc[df_test_final['f1'].idxmax()]\n",
    "\n",
    "print(f\"\\nMEJOR MODELO FINAL (por F1-Score en Test): {mejor_modelo_final['modelo']}\")\n",
    "print(f\"   F1-Score: {mejor_modelo_final['f1']:.4f}\")\n",
    "print(f\"   ROC-AUC: {mejor_modelo_final['roc_auc']:.4f}\")\n",
    "print(f\"   Accuracy: {mejor_modelo_final['accuracy']:.4f}\")\n",
    "print(f\"   Precision: {mejor_modelo_final['precision']:.4f}\")\n",
    "print(f\"   Recall: {mejor_modelo_final['recall']:.4f}\")\n",
    "\n",
    "# Guardar el mejor modelo (YA ENTRENADO con hiperparametros optimizados)\n",
    "mejor_nombre = mejor_modelo_final['modelo']\n",
    "mejor_modelo_entrenado = mejor_modelo_final['modelo_entrenado']\n",
    "\n",
    "# Crear directorio para modelos\n",
    "import os\n",
    "os.makedirs('../models', exist_ok=True)\n",
    "\n",
    "# Guardar modelo completo\n",
    "modelo_path = f'../models/mejor_modelo_{mejor_nombre.lower()}.pkl'\n",
    "joblib.dump(mejor_modelo_entrenado, modelo_path)\n",
    "\n",
    "# Guardar metadatos del modelo\n",
    "metadatos = {\n",
    "    'nombre_modelo': mejor_nombre,\n",
    "    'hiperparametros': modelos_optimizados[mejor_nombre]['mejores_parametros'],\n",
    "    'metricas_test': {\n",
    "        'f1_score': mejor_modelo_final['f1'],\n",
    "        'roc_auc': mejor_modelo_final['roc_auc'],\n",
    "        'accuracy': mejor_modelo_final['accuracy'],\n",
    "        'precision': mejor_modelo_final['precision'],\n",
    "        'recall': mejor_modelo_final['recall']\n",
    "    },\n",
    "    'semilla_reproducibilidad': RANDOM_SEED,\n",
    "    'fecha_entrenamiento': datetime.now().strftime('%Y-%m-%d %H:%M:%S'),\n",
    "    'datos_entrenamiento': {\n",
    "        'n_muestras': X_train_final.shape[0],\n",
    "        'n_features': X_train_final.shape[1],\n",
    "        'balance_clases': y_train_final.mean()\n",
    "    }\n",
    "}\n",
    "\n",
    "metadatos_path = f'../models/metadatos_{mejor_nombre.lower()}.json'\n",
    "import json\n",
    "with open(metadatos_path, 'w') as f:\n",
    "    json.dump(metadatos, f, indent=2)\n",
    "\n",
    "print(f\"\\nMODELO GUARDADO:\")\n",
    "print(f\"   Modelo: {modelo_path}\")\n",
    "print(f\"   Metadatos: {metadatos_path}\")\n",
    "print(f\"   Semilla: {RANDOM_SEED} (reproducibilidad garantizada)\")"
   ]
  },
  {
   "cell_type": "markdown",
   "id": "598094bd",
   "metadata": {},
   "source": [
    "## 7. Definición de Variables y Análisis de Feature Importance"
   ]
  },
  {
   "cell_type": "markdown",
   "id": "variable_definitions",
   "metadata": {},
   "source": [
    "### 7.1 Definición de Variables"
   ]
  },
  {
   "cell_type": "code",
   "execution_count": 9,
   "id": "variable_setup",
   "metadata": {},
   "outputs": [],
   "source": [
    "target_variable = 'G_11_F'  # Consumo de marihuana (8% prevalencia)\n",
    "\n",
    "# Variables predictoras categóricas (entorno social + actitudes)\n",
    "categorical_features = [\n",
    "    # Entorno Social\n",
    "    'G_01',  # Familiares consumen sustancias\n",
    "    'G_02',  # Amigos consumen sustancias \n",
    "    \n",
    "    # Actitudes y Curiosidad\n",
    "    'G_03',  # Curiosidad por probar\n",
    "    'G_04',  # Disposición a consumir\n",
    "    'G_05'   # Tuvo oportunidad de probar\n",
    "]\n",
    "\n",
    "# Variables predictoras numéricas (accesibilidad + exposición)\n",
    "numerical_features = [\n",
    "    # Cantidad de familiares/amigos\n",
    "    'G_01_A',  # Cantidad de familiares que consumen\n",
    "    'G_02_A',  # Cantidad de amigos que consumen\n",
    "    \n",
    "    # Accesibilidad (facilidad de acceso)\n",
    "    'G_06_A',  # Facilidad acceso marihuana\n",
    "    'G_06_B',  # Facilidad acceso cocaína\n",
    "    'G_06_C',  # Facilidad acceso basuco\n",
    "    'G_06_D',  # Facilidad acceso éxtasis\n",
    "    \n",
    "    # Exposición (ofertas recibidas)\n",
    "    'G_07',    # Ofertas recibidas en último año\n",
    "    'G_08_A',  # Ofertas de marihuana\n",
    "    'G_08_B'   # Ofertas de cocaína\n",
    "]\n",
    "\n",
    "# Diccionario de nombres legibles\n",
    "variable_names = {\n",
    "    # Variable objetivo\n",
    "    'G_11_F': 'Consumo de Marihuana',\n",
    "    \n",
    "    # Variables categóricas - Entorno Social\n",
    "    'G_01': 'Familiares Consumen Sustancias',\n",
    "    'G_02': 'Amigos Consumen Sustancias',\n",
    "    \n",
    "    # Variables categóricas - Actitudes\n",
    "    'G_03': 'Curiosidad por Probar',\n",
    "    'G_04': 'Disposición a Consumir',\n",
    "    'G_05': 'Tuvo Oportunidad de Probar',\n",
    "    \n",
    "    # Variables numéricas - Cantidades\n",
    "    'G_01_A': 'Cantidad de Familiares que Consumen',\n",
    "    'G_02_A': 'Cantidad de Amigos que Consumen',\n",
    "    \n",
    "    # Variables numéricas - Accesibilidad\n",
    "    'G_06_A': 'Acceso Fácil a Marihuana',\n",
    "    'G_06_B': 'Acceso Fácil a Cocaína',\n",
    "    'G_06_C': 'Acceso Fácil a Basuco',\n",
    "    'G_06_D': 'Acceso Fácil a Éxtasis',\n",
    "    \n",
    "    # Variables numéricas - Exposición\n",
    "    'G_07': 'Ofertas Recibidas (Último Año)',\n",
    "    'G_08_A': 'Ofertas de Marihuana',\n",
    "    'G_08_B': 'Ofertas de Cocaína'\n",
    "}\n",
    "\n",
    "# Mapeo adicional para variables codificadas (one-hot encoding)\n",
    "# Estas aparecen en los resultados de feature importance\n",
    "encoded_variable_names = {\n",
    "    # Variables categóricas codificadas (valor 1.0 = \"Sí\")\n",
    "    'G_01_1.0': 'Familiares Consumen Sustancias (Sí)',\n",
    "    'G_02_1.0': 'Amigos Consumen Sustancias (Sí)',\n",
    "    'G_03_1.0': 'Curiosidad por Probar (Sí)',\n",
    "    'G_04_1.0': 'Disposición a Consumir (Sí)',\n",
    "    'G_05_1.0': 'Tuvo Oportunidad de Probar (Sí)',\n",
    "    \n",
    "    # Variables categóricas codificadas (valor 0.0 = \"No\")\n",
    "    'G_01_0.0': 'Familiares Consumen Sustancias (No)',\n",
    "    'G_02_0.0': 'Amigos Consumen Sustancias (No)',\n",
    "    'G_03_0.0': 'Curiosidad por Probar (No)',\n",
    "    'G_04_0.0': 'Disposición a Consumir (No)',\n",
    "    'G_05_0.0': 'Tuvo Oportunidad de Probar (No)'\n",
    "}\n",
    "\n",
    "# Combinar ambos diccionarios\n",
    "all_variable_names = {**variable_names, **encoded_variable_names}\n",
    "\n",
    "# Función para obtener nombre legible (consistente con notebooks anteriores)\n",
    "def get_readable_name(var_code):\n",
    "    \"\"\"Convierte código de variable a nombre legible\"\"\"\n",
    "    return all_variable_names.get(var_code, var_code)\n",
    "\n",
    "# Todas las variables para el análisis\n",
    "all_features = categorical_features + numerical_features + [target_variable]"
   ]
  },
  {
   "cell_type": "markdown",
   "id": "feature_importance_section",
   "metadata": {},
   "source": [
    "### 7.2 Análisis de Feature Importance"
   ]
  },
  {
   "cell_type": "code",
   "execution_count": 10,
   "id": "528ce1b9",
   "metadata": {},
   "outputs": [
    {
     "name": "stdout",
     "output_type": "stream",
     "text": [
      "ANALISIS DE FEATURE IMPORTANCE NORMALIZADA\n",
      "============================================================\n",
      "Usando modelos ya entrenados con hiperparametros optimizados\n",
      "IMPORTANTE: Importancias normalizadas para comparación entre modelos\n",
      "Cada modelo suma 1.0 - valores comparables entre algoritmos\n",
      "============================================================\n",
      "XGBoost: 14 features extraidas\n",
      "LightGBM: 14 features extraidas\n",
      "RandomForest: 14 features extraidas\n",
      "GradientBoosting: 14 features extraidas\n",
      "\n",
      "VERIFICACION DE NORMALIZACION:\n",
      "   XGBoost        : Suma = 1.0000 (debe ser ≈ 1.0)\n",
      "   LightGBM       : Suma = 1.0000 (debe ser ≈ 1.0)\n",
      "   RandomForest   : Suma = 1.0000 (debe ser ≈ 1.0)\n",
      "   GradientBoosting: Suma = 1.0000 (debe ser ≈ 1.0)\n",
      "\n",
      "TOP 10 FEATURES MAS IMPORTANTES (Importancias Normalizadas):\n",
      "======================================================================\n",
      "Valores normalizados - comparables entre todos los modelos\n",
      " 1. Curiosidad por Probar (Sí) | Promedio: 0.4882\n",
      "     XGBoost        : 0.6989\n",
      "     LightGBM       : 0.0452\n",
      "     RandomForest   : 0.4360\n",
      "     GradientBoosting: 0.7728\n",
      "\n",
      " 2. Tuvo Oportunidad de Probar (Sí) | Promedio: 0.0817\n",
      "     XGBoost        : 0.0643\n",
      "     LightGBM       : 0.0487\n",
      "     RandomForest   : 0.1545\n",
      "     GradientBoosting: 0.0593\n",
      "\n",
      " 3. Disposición a Consumir (Sí) | Promedio: 0.0628\n",
      "     XGBoost        : 0.0545\n",
      "     LightGBM       : 0.0538\n",
      "     RandomForest   : 0.1069\n",
      "     GradientBoosting: 0.0359\n",
      "\n",
      " 4. Acceso Fácil a Éxtasis | Promedio: 0.0595\n",
      "     XGBoost        : 0.0228\n",
      "     LightGBM       : 0.1486\n",
      "     RandomForest   : 0.0369\n",
      "     GradientBoosting: 0.0296\n",
      "\n",
      " 5. Acceso Fácil a Cocaína | Promedio: 0.0485\n",
      "     XGBoost        : 0.0188\n",
      "     LightGBM       : 0.1304\n",
      "     RandomForest   : 0.0282\n",
      "     GradientBoosting: 0.0168\n",
      "\n",
      " 6. Acceso Fácil a Basuco | Promedio: 0.0485\n",
      "     XGBoost        : 0.0194\n",
      "     LightGBM       : 0.1265\n",
      "     RandomForest   : 0.0292\n",
      "     GradientBoosting: 0.0188\n",
      "\n",
      " 7. Ofertas de Marihuana | Promedio: 0.0468\n",
      "     XGBoost        : 0.0203\n",
      "     LightGBM       : 0.0912\n",
      "     RandomForest   : 0.0515\n",
      "     GradientBoosting: 0.0244\n",
      "\n",
      " 8. Acceso Fácil a Marihuana | Promedio: 0.0346\n",
      "     XGBoost        : 0.0214\n",
      "     LightGBM       : 0.0703\n",
      "     RandomForest   : 0.0344\n",
      "     GradientBoosting: 0.0123\n",
      "\n",
      " 9. Ofertas de Cocaína   | Promedio: 0.0326\n",
      "     XGBoost        : 0.0086\n",
      "     LightGBM       : 0.0933\n",
      "     RandomForest   : 0.0241\n",
      "     GradientBoosting: 0.0045\n",
      "\n",
      "10. Ofertas Recibidas (Último Año) | Promedio: 0.0296\n",
      "     XGBoost        : 0.0209\n",
      "     LightGBM       : 0.0374\n",
      "     RandomForest   : 0.0520\n",
      "     GradientBoosting: 0.0083\n",
      "\n"
     ]
    },
    {
     "data": {
      "application/vnd.plotly.v1+json": {
       "config": {
        "plotlyServerURL": "https://plot.ly"
       },
       "data": [
        {
         "marker": {
          "color": "#1f77b4"
         },
         "name": "XGBoost",
         "text": [
          "0.699",
          "0.064",
          "0.055",
          "0.023",
          "0.019",
          "0.019",
          "0.020",
          "0.021",
          "0.009",
          "0.021"
         ],
         "textposition": "auto",
         "type": "bar",
         "x": [
          "Curiosidad por Probar (Sí)",
          "Tuvo Oportunidad de Probar (Sí)",
          "Disposición a Consumir (Sí)",
          "Acceso Fácil a Éxtasis",
          "Acceso Fácil a Cocaína",
          "Acceso Fácil a Basuco",
          "Ofertas de Marihuana",
          "Acceso Fácil a Marihuana",
          "Ofertas de Cocaína",
          "Ofertas Recibidas (Último Año)"
         ],
         "y": {
          "bdata": "AAAAoH1d5j8AAACAUnSwPwAAAIBU6qs/AAAAQK5ilz8AAAAArDuTPwAAAKBU4ZM/AAAAYPXJlD8AAADgKueVPwAAAKBLhYE/AAAAQJtklT8=",
          "dtype": "f8"
         }
        },
        {
         "marker": {
          "color": "#ff7f0e"
         },
         "name": "LightGBM",
         "text": [
          "0.045",
          "0.049",
          "0.054",
          "0.149",
          "0.130",
          "0.126",
          "0.091",
          "0.070",
          "0.093",
          "0.037"
         ],
         "textposition": "auto",
         "type": "bar",
         "x": [
          "Curiosidad por Probar (Sí)",
          "Tuvo Oportunidad de Probar (Sí)",
          "Disposición a Consumir (Sí)",
          "Acceso Fácil a Éxtasis",
          "Acceso Fácil a Cocaína",
          "Acceso Fácil a Basuco",
          "Ofertas de Marihuana",
          "Acceso Fácil a Marihuana",
          "Ofertas de Cocaína",
          "Ofertas Recibidas (Último Año)"
         ],
         "y": {
          "bdata": "R+YEPJ8epz84Mifg+fSoPyRzAp5Pj6s/qMfN2B8Gwz963Iz9YbDAPz49bsb+MMA/xS+JkGpZtz/wfHrcjP2xP0HbvVWa4rc/Z+wPg4Ujoz8=",
          "dtype": "f8"
         }
        },
        {
         "marker": {
          "color": "#2ca02c"
         },
         "name": "RandomForest",
         "text": [
          "0.436",
          "0.155",
          "0.107",
          "0.037",
          "0.028",
          "0.029",
          "0.052",
          "0.034",
          "0.024",
          "0.052"
         ],
         "textposition": "auto",
         "type": "bar",
         "x": [
          "Curiosidad por Probar (Sí)",
          "Tuvo Oportunidad de Probar (Sí)",
          "Disposición a Consumir (Sí)",
          "Acceso Fácil a Éxtasis",
          "Acceso Fácil a Cocaína",
          "Acceso Fácil a Basuco",
          "Ofertas de Marihuana",
          "Acceso Fácil a Marihuana",
          "Ofertas de Cocaína",
          "Ofertas Recibidas (Último Año)"
         ],
         "y": {
          "bdata": "2YknQAfn2z8OQGROp8fDP8d+26+WXrs/LaUjeTrfoj/6P6VMFuicP5P27ObC5Z0/Olon8oNeqj/PIl/Pp5ehPw2FyDtduZg/eDL4LU+Zqj8=",
          "dtype": "f8"
         }
        },
        {
         "marker": {
          "color": "#d62728"
         },
         "name": "GradientBoosting",
         "text": [
          "0.773",
          "0.059",
          "0.036",
          "0.030",
          "0.017",
          "0.019",
          "0.024",
          "0.012",
          "0.005",
          "0.008"
         ],
         "textposition": "auto",
         "type": "bar",
         "x": [
          "Curiosidad por Probar (Sí)",
          "Tuvo Oportunidad de Probar (Sí)",
          "Disposición a Consumir (Sí)",
          "Acceso Fácil a Éxtasis",
          "Acceso Fácil a Cocaína",
          "Acceso Fácil a Basuco",
          "Ofertas de Marihuana",
          "Acceso Fácil a Marihuana",
          "Ofertas de Cocaína",
          "Ofertas Recibidas (Último Año)"
         ],
         "y": {
          "bdata": "OgQWEMO66D9lTe9dxlmuP5y6zA49X6I/FHD/ELBbnj/g1mxF2ymRPznrWXbgNJM/u6oY35zymD/QZ7PiyjuJP0miTouRk3I/pRqPPpn7gD8=",
          "dtype": "f8"
         }
        }
       ],
       "layout": {
        "barmode": "group",
        "height": 600,
        "showlegend": true,
        "template": {
         "data": {
          "bar": [
           {
            "error_x": {
             "color": "#2a3f5f"
            },
            "error_y": {
             "color": "#2a3f5f"
            },
            "marker": {
             "line": {
              "color": "#E5ECF6",
              "width": 0.5
             },
             "pattern": {
              "fillmode": "overlay",
              "size": 10,
              "solidity": 0.2
             }
            },
            "type": "bar"
           }
          ],
          "barpolar": [
           {
            "marker": {
             "line": {
              "color": "#E5ECF6",
              "width": 0.5
             },
             "pattern": {
              "fillmode": "overlay",
              "size": 10,
              "solidity": 0.2
             }
            },
            "type": "barpolar"
           }
          ],
          "carpet": [
           {
            "aaxis": {
             "endlinecolor": "#2a3f5f",
             "gridcolor": "white",
             "linecolor": "white",
             "minorgridcolor": "white",
             "startlinecolor": "#2a3f5f"
            },
            "baxis": {
             "endlinecolor": "#2a3f5f",
             "gridcolor": "white",
             "linecolor": "white",
             "minorgridcolor": "white",
             "startlinecolor": "#2a3f5f"
            },
            "type": "carpet"
           }
          ],
          "choropleth": [
           {
            "colorbar": {
             "outlinewidth": 0,
             "ticks": ""
            },
            "type": "choropleth"
           }
          ],
          "contour": [
           {
            "colorbar": {
             "outlinewidth": 0,
             "ticks": ""
            },
            "colorscale": [
             [
              0,
              "#0d0887"
             ],
             [
              0.1111111111111111,
              "#46039f"
             ],
             [
              0.2222222222222222,
              "#7201a8"
             ],
             [
              0.3333333333333333,
              "#9c179e"
             ],
             [
              0.4444444444444444,
              "#bd3786"
             ],
             [
              0.5555555555555556,
              "#d8576b"
             ],
             [
              0.6666666666666666,
              "#ed7953"
             ],
             [
              0.7777777777777778,
              "#fb9f3a"
             ],
             [
              0.8888888888888888,
              "#fdca26"
             ],
             [
              1,
              "#f0f921"
             ]
            ],
            "type": "contour"
           }
          ],
          "contourcarpet": [
           {
            "colorbar": {
             "outlinewidth": 0,
             "ticks": ""
            },
            "type": "contourcarpet"
           }
          ],
          "heatmap": [
           {
            "colorbar": {
             "outlinewidth": 0,
             "ticks": ""
            },
            "colorscale": [
             [
              0,
              "#0d0887"
             ],
             [
              0.1111111111111111,
              "#46039f"
             ],
             [
              0.2222222222222222,
              "#7201a8"
             ],
             [
              0.3333333333333333,
              "#9c179e"
             ],
             [
              0.4444444444444444,
              "#bd3786"
             ],
             [
              0.5555555555555556,
              "#d8576b"
             ],
             [
              0.6666666666666666,
              "#ed7953"
             ],
             [
              0.7777777777777778,
              "#fb9f3a"
             ],
             [
              0.8888888888888888,
              "#fdca26"
             ],
             [
              1,
              "#f0f921"
             ]
            ],
            "type": "heatmap"
           }
          ],
          "histogram": [
           {
            "marker": {
             "pattern": {
              "fillmode": "overlay",
              "size": 10,
              "solidity": 0.2
             }
            },
            "type": "histogram"
           }
          ],
          "histogram2d": [
           {
            "colorbar": {
             "outlinewidth": 0,
             "ticks": ""
            },
            "colorscale": [
             [
              0,
              "#0d0887"
             ],
             [
              0.1111111111111111,
              "#46039f"
             ],
             [
              0.2222222222222222,
              "#7201a8"
             ],
             [
              0.3333333333333333,
              "#9c179e"
             ],
             [
              0.4444444444444444,
              "#bd3786"
             ],
             [
              0.5555555555555556,
              "#d8576b"
             ],
             [
              0.6666666666666666,
              "#ed7953"
             ],
             [
              0.7777777777777778,
              "#fb9f3a"
             ],
             [
              0.8888888888888888,
              "#fdca26"
             ],
             [
              1,
              "#f0f921"
             ]
            ],
            "type": "histogram2d"
           }
          ],
          "histogram2dcontour": [
           {
            "colorbar": {
             "outlinewidth": 0,
             "ticks": ""
            },
            "colorscale": [
             [
              0,
              "#0d0887"
             ],
             [
              0.1111111111111111,
              "#46039f"
             ],
             [
              0.2222222222222222,
              "#7201a8"
             ],
             [
              0.3333333333333333,
              "#9c179e"
             ],
             [
              0.4444444444444444,
              "#bd3786"
             ],
             [
              0.5555555555555556,
              "#d8576b"
             ],
             [
              0.6666666666666666,
              "#ed7953"
             ],
             [
              0.7777777777777778,
              "#fb9f3a"
             ],
             [
              0.8888888888888888,
              "#fdca26"
             ],
             [
              1,
              "#f0f921"
             ]
            ],
            "type": "histogram2dcontour"
           }
          ],
          "mesh3d": [
           {
            "colorbar": {
             "outlinewidth": 0,
             "ticks": ""
            },
            "type": "mesh3d"
           }
          ],
          "parcoords": [
           {
            "line": {
             "colorbar": {
              "outlinewidth": 0,
              "ticks": ""
             }
            },
            "type": "parcoords"
           }
          ],
          "pie": [
           {
            "automargin": true,
            "type": "pie"
           }
          ],
          "scatter": [
           {
            "fillpattern": {
             "fillmode": "overlay",
             "size": 10,
             "solidity": 0.2
            },
            "type": "scatter"
           }
          ],
          "scatter3d": [
           {
            "line": {
             "colorbar": {
              "outlinewidth": 0,
              "ticks": ""
             }
            },
            "marker": {
             "colorbar": {
              "outlinewidth": 0,
              "ticks": ""
             }
            },
            "type": "scatter3d"
           }
          ],
          "scattercarpet": [
           {
            "marker": {
             "colorbar": {
              "outlinewidth": 0,
              "ticks": ""
             }
            },
            "type": "scattercarpet"
           }
          ],
          "scattergeo": [
           {
            "marker": {
             "colorbar": {
              "outlinewidth": 0,
              "ticks": ""
             }
            },
            "type": "scattergeo"
           }
          ],
          "scattergl": [
           {
            "marker": {
             "colorbar": {
              "outlinewidth": 0,
              "ticks": ""
             }
            },
            "type": "scattergl"
           }
          ],
          "scattermap": [
           {
            "marker": {
             "colorbar": {
              "outlinewidth": 0,
              "ticks": ""
             }
            },
            "type": "scattermap"
           }
          ],
          "scattermapbox": [
           {
            "marker": {
             "colorbar": {
              "outlinewidth": 0,
              "ticks": ""
             }
            },
            "type": "scattermapbox"
           }
          ],
          "scatterpolar": [
           {
            "marker": {
             "colorbar": {
              "outlinewidth": 0,
              "ticks": ""
             }
            },
            "type": "scatterpolar"
           }
          ],
          "scatterpolargl": [
           {
            "marker": {
             "colorbar": {
              "outlinewidth": 0,
              "ticks": ""
             }
            },
            "type": "scatterpolargl"
           }
          ],
          "scatterternary": [
           {
            "marker": {
             "colorbar": {
              "outlinewidth": 0,
              "ticks": ""
             }
            },
            "type": "scatterternary"
           }
          ],
          "surface": [
           {
            "colorbar": {
             "outlinewidth": 0,
             "ticks": ""
            },
            "colorscale": [
             [
              0,
              "#0d0887"
             ],
             [
              0.1111111111111111,
              "#46039f"
             ],
             [
              0.2222222222222222,
              "#7201a8"
             ],
             [
              0.3333333333333333,
              "#9c179e"
             ],
             [
              0.4444444444444444,
              "#bd3786"
             ],
             [
              0.5555555555555556,
              "#d8576b"
             ],
             [
              0.6666666666666666,
              "#ed7953"
             ],
             [
              0.7777777777777778,
              "#fb9f3a"
             ],
             [
              0.8888888888888888,
              "#fdca26"
             ],
             [
              1,
              "#f0f921"
             ]
            ],
            "type": "surface"
           }
          ],
          "table": [
           {
            "cells": {
             "fill": {
              "color": "#EBF0F8"
             },
             "line": {
              "color": "white"
             }
            },
            "header": {
             "fill": {
              "color": "#C8D4E3"
             },
             "line": {
              "color": "white"
             }
            },
            "type": "table"
           }
          ]
         },
         "layout": {
          "annotationdefaults": {
           "arrowcolor": "#2a3f5f",
           "arrowhead": 0,
           "arrowwidth": 1
          },
          "autotypenumbers": "strict",
          "coloraxis": {
           "colorbar": {
            "outlinewidth": 0,
            "ticks": ""
           }
          },
          "colorscale": {
           "diverging": [
            [
             0,
             "#8e0152"
            ],
            [
             0.1,
             "#c51b7d"
            ],
            [
             0.2,
             "#de77ae"
            ],
            [
             0.3,
             "#f1b6da"
            ],
            [
             0.4,
             "#fde0ef"
            ],
            [
             0.5,
             "#f7f7f7"
            ],
            [
             0.6,
             "#e6f5d0"
            ],
            [
             0.7,
             "#b8e186"
            ],
            [
             0.8,
             "#7fbc41"
            ],
            [
             0.9,
             "#4d9221"
            ],
            [
             1,
             "#276419"
            ]
           ],
           "sequential": [
            [
             0,
             "#0d0887"
            ],
            [
             0.1111111111111111,
             "#46039f"
            ],
            [
             0.2222222222222222,
             "#7201a8"
            ],
            [
             0.3333333333333333,
             "#9c179e"
            ],
            [
             0.4444444444444444,
             "#bd3786"
            ],
            [
             0.5555555555555556,
             "#d8576b"
            ],
            [
             0.6666666666666666,
             "#ed7953"
            ],
            [
             0.7777777777777778,
             "#fb9f3a"
            ],
            [
             0.8888888888888888,
             "#fdca26"
            ],
            [
             1,
             "#f0f921"
            ]
           ],
           "sequentialminus": [
            [
             0,
             "#0d0887"
            ],
            [
             0.1111111111111111,
             "#46039f"
            ],
            [
             0.2222222222222222,
             "#7201a8"
            ],
            [
             0.3333333333333333,
             "#9c179e"
            ],
            [
             0.4444444444444444,
             "#bd3786"
            ],
            [
             0.5555555555555556,
             "#d8576b"
            ],
            [
             0.6666666666666666,
             "#ed7953"
            ],
            [
             0.7777777777777778,
             "#fb9f3a"
            ],
            [
             0.8888888888888888,
             "#fdca26"
            ],
            [
             1,
             "#f0f921"
            ]
           ]
          },
          "colorway": [
           "#636efa",
           "#EF553B",
           "#00cc96",
           "#ab63fa",
           "#FFA15A",
           "#19d3f3",
           "#FF6692",
           "#B6E880",
           "#FF97FF",
           "#FECB52"
          ],
          "font": {
           "color": "#2a3f5f"
          },
          "geo": {
           "bgcolor": "white",
           "lakecolor": "white",
           "landcolor": "#E5ECF6",
           "showlakes": true,
           "showland": true,
           "subunitcolor": "white"
          },
          "hoverlabel": {
           "align": "left"
          },
          "hovermode": "closest",
          "mapbox": {
           "style": "light"
          },
          "paper_bgcolor": "white",
          "plot_bgcolor": "#E5ECF6",
          "polar": {
           "angularaxis": {
            "gridcolor": "white",
            "linecolor": "white",
            "ticks": ""
           },
           "bgcolor": "#E5ECF6",
           "radialaxis": {
            "gridcolor": "white",
            "linecolor": "white",
            "ticks": ""
           }
          },
          "scene": {
           "xaxis": {
            "backgroundcolor": "#E5ECF6",
            "gridcolor": "white",
            "gridwidth": 2,
            "linecolor": "white",
            "showbackground": true,
            "ticks": "",
            "zerolinecolor": "white"
           },
           "yaxis": {
            "backgroundcolor": "#E5ECF6",
            "gridcolor": "white",
            "gridwidth": 2,
            "linecolor": "white",
            "showbackground": true,
            "ticks": "",
            "zerolinecolor": "white"
           },
           "zaxis": {
            "backgroundcolor": "#E5ECF6",
            "gridcolor": "white",
            "gridwidth": 2,
            "linecolor": "white",
            "showbackground": true,
            "ticks": "",
            "zerolinecolor": "white"
           }
          },
          "shapedefaults": {
           "line": {
            "color": "#2a3f5f"
           }
          },
          "ternary": {
           "aaxis": {
            "gridcolor": "white",
            "linecolor": "white",
            "ticks": ""
           },
           "baxis": {
            "gridcolor": "white",
            "linecolor": "white",
            "ticks": ""
           },
           "bgcolor": "#E5ECF6",
           "caxis": {
            "gridcolor": "white",
            "linecolor": "white",
            "ticks": ""
           }
          },
          "title": {
           "x": 0.05
          },
          "xaxis": {
           "automargin": true,
           "gridcolor": "white",
           "linecolor": "white",
           "ticks": "",
           "title": {
            "standoff": 15
           },
           "zerolinecolor": "white",
           "zerolinewidth": 2
          },
          "yaxis": {
           "automargin": true,
           "gridcolor": "white",
           "linecolor": "white",
           "ticks": "",
           "title": {
            "standoff": 15
           },
           "zerolinecolor": "white",
           "zerolinewidth": 2
          }
         }
        },
        "title": {
         "text": "Feature Importance Normalizada por Modelo - Top 10 Features<br><sub>Valores normalizados (suma=1.0) - Comparables entre algoritmos</sub>"
        },
        "xaxis": {
         "tickangle": 45,
         "title": {
          "text": "Features"
         }
        },
        "yaxis": {
         "title": {
          "text": "Importance Score (Normalizado)"
         }
        }
       }
      }
     },
     "metadata": {},
     "output_type": "display_data"
    },
    {
     "name": "stdout",
     "output_type": "stream",
     "text": [
      "\n",
      "TOP 15 FEATURES DEL MEJOR MODELO (RandomForest) - NORMALIZADAS:\n",
      "=================================================================\n",
      "Importancias normalizadas (suma total = 1.0)\n",
      "----------------------------------------\n",
      " 1. Curiosidad por Probar (Sí): 0.4360\n",
      " 2. Tuvo Oportunidad de Probar (Sí): 0.1545\n",
      " 3. Disposición a Consumir (Sí): 0.1069\n",
      " 4. Ofertas Recibidas (Último Año): 0.0520\n",
      " 5. Ofertas de Marihuana: 0.0515\n",
      " 6. Acceso Fácil a Éxtasis: 0.0369\n",
      " 7. Acceso Fácil a Marihuana: 0.0344\n",
      " 8. Acceso Fácil a Basuco: 0.0292\n",
      " 9. Acceso Fácil a Cocaína: 0.0282\n",
      "10. Ofertas de Cocaína  : 0.0241\n",
      "11. Amigos Consumen Sustancias (Sí): 0.0231\n",
      "12. Familiares Consumen Sustancias (Sí): 0.0126\n",
      "13. Cantidad de Familiares que Consumen: 0.0055\n",
      "14. Cantidad de Amigos que Consumen: 0.0051\n"
     ]
    }
   ],
   "source": [
    "# Función para extraer feature importance NORMALIZADA\n",
    "def extraer_feature_importance(modelo_entrenado, feature_names, nombre_modelo):\n",
    "    \"\"\"\n",
    "    Extrae feature importance de modelo YA ENTRENADO con normalización\n",
    "    \"\"\"\n",
    "    try:\n",
    "        if hasattr(modelo_entrenado, 'feature_importances_'):\n",
    "            importances = modelo_entrenado.feature_importances_\n",
    "        elif hasattr(modelo_entrenado, 'coef_'):\n",
    "            importances = np.abs(modelo_entrenado.coef_[0])\n",
    "        else:\n",
    "            return None\n",
    "        \n",
    "        # NORMALIZAR importancias para hacer comparables entre modelos\n",
    "        # Método: Normalización por suma (cada modelo suma 1.0)\n",
    "        importances_normalized = importances / importances.sum()\n",
    "        \n",
    "        # Crear DataFrame\n",
    "        df_importance = pd.DataFrame({\n",
    "            'feature': feature_names,\n",
    "            'importance': importances_normalized,  # Usar importancias normalizadas\n",
    "            'importance_raw': importances,         # Mantener valores originales\n",
    "            'modelo': nombre_modelo\n",
    "        }).sort_values('importance', ascending=False)\n",
    "        \n",
    "        return df_importance\n",
    "        \n",
    "    except Exception as e:\n",
    "        print(f\"Error extrayendo importances para {nombre_modelo}: {e}\")\n",
    "        return None\n",
    "\n",
    "# Extraer importances de modelos YA ENTRENADOS (sin reentrenar)\n",
    "feature_names = X_train_final.columns.tolist()\n",
    "all_importances = []\n",
    "\n",
    "print(\"ANALISIS DE FEATURE IMPORTANCE NORMALIZADA\")\n",
    "print(\"=\" * 60)\n",
    "print(\"Usando modelos ya entrenados con hiperparametros optimizados\")\n",
    "print(\"IMPORTANTE: Importancias normalizadas para comparación entre modelos\")\n",
    "print(\"Cada modelo suma 1.0 - valores comparables entre algoritmos\")\n",
    "print(\"=\" * 60)\n",
    "\n",
    "for resultado in resultados_test_final:\n",
    "    nombre = resultado['modelo']\n",
    "    modelo_entrenado = resultado['modelo_entrenado']\n",
    "    \n",
    "    df_imp = extraer_feature_importance(modelo_entrenado, feature_names, nombre)\n",
    "    \n",
    "    if df_imp is not None:\n",
    "        all_importances.append(df_imp)\n",
    "        print(f\"{nombre}: {len(df_imp)} features extraidas\")\n",
    "    else:\n",
    "        print(f\"{nombre}: No se pudo extraer feature importance\")\n",
    "\n",
    "# Combinar todas las importances\n",
    "if all_importances:\n",
    "    df_all_importances = pd.concat(all_importances, ignore_index=True)\n",
    "    \n",
    "    # Verificar normalización\n",
    "    print(f\"\\nVERIFICACION DE NORMALIZACION:\")\n",
    "    for modelo in df_all_importances['modelo'].unique():\n",
    "        suma_modelo = df_all_importances[df_all_importances['modelo'] == modelo]['importance'].sum()\n",
    "        print(f\"   {modelo:15s}: Suma = {suma_modelo:.4f} (debe ser ≈ 1.0)\")\n",
    "    \n",
    "    # Tabla pivot para comparación (importancias normalizadas)\n",
    "    df_importance_pivot = df_all_importances.pivot(\n",
    "        index='feature', columns='modelo', values='importance'\n",
    "    ).fillna(0)\n",
    "    \n",
    "    # Tabla pivot para valores sin normalizar (para referencia)\n",
    "    df_importance_raw = df_all_importances.pivot(\n",
    "        index='feature', columns='modelo', values='importance_raw'\n",
    "    ).fillna(0)\n",
    "    \n",
    "    # Calcular importancia promedio\n",
    "    df_importance_pivot['promedio'] = df_importance_pivot.mean(axis=1)\n",
    "    df_importance_pivot = df_importance_pivot.sort_values('promedio', ascending=False)\n",
    "    \n",
    "    print(f\"\\nTOP 10 FEATURES MAS IMPORTANTES (Importancias Normalizadas):\")\n",
    "    print(\"=\" * 70)\n",
    "    print(\"Valores normalizados - comparables entre todos los modelos\")\n",
    "    \n",
    "    # Mostrar top 10\n",
    "    top_features = df_importance_pivot.head(10)\n",
    "    \n",
    "    for idx, (feature, row) in enumerate(top_features.iterrows(), 1):\n",
    "        pretty_feature = get_readable_name(feature)\n",
    "        print(f\"{idx:2d}. {pretty_feature:20s} | Promedio: {row['promedio']:.4f}\")\n",
    "        \n",
    "        # Mostrar por modelo\n",
    "        for modelo in [r['modelo'] for r in resultados_test_final]:\n",
    "            if modelo in row.index and row[modelo] > 0:\n",
    "                print(f\"     {modelo:15s}: {row[modelo]:.4f}\")\n",
    "        print()\n",
    "    \n",
    "    # Crear visualización\n",
    "    fig = go.Figure()\n",
    "    \n",
    "    # Agregar barras para cada modelo\n",
    "    colores = ['#1f77b4', '#ff7f0e', '#2ca02c', '#d62728']\n",
    "    x_labels = [get_readable_name(f) for f in top_features.index]\n",
    "    for i, modelo in enumerate([r['modelo'] for r in resultados_test_final]):\n",
    "        if modelo in df_importance_pivot.columns:\n",
    "            fig.add_trace(go.Bar(\n",
    "                name=modelo,\n",
    "                x=x_labels,\n",
    "                y=top_features[modelo],\n",
    "                text=[f'{v:.3f}' for v in top_features[modelo]],\n",
    "                textposition='auto',\n",
    "                marker_color=colores[i % len(colores)]\n",
    "            ))\n",
    "    \n",
    "    fig.update_layout(\n",
    "        title='Feature Importance Normalizada por Modelo - Top 10 Features<br><sub>Valores normalizados (suma=1.0) - Comparables entre algoritmos</sub>',\n",
    "        xaxis_title='Features',\n",
    "        yaxis_title='Importance Score (Normalizado)',\n",
    "        barmode='group',\n",
    "        height=600,\n",
    "        showlegend=True,\n",
    "        xaxis={'tickangle': 45}\n",
    "    )\n",
    "    \n",
    "    fig.show()\n",
    "    \n",
    "    # Guardar feature importance del mejor modelo\n",
    "    mejor_modelo_name = mejor_modelo_final['modelo']\n",
    "    if mejor_modelo_name in df_importance_pivot.columns:\n",
    "        top_features_mejor = df_importance_pivot[mejor_modelo_name].sort_values(ascending=False).head(15)\n",
    "        \n",
    "        print(f\"\\nTOP 15 FEATURES DEL MEJOR MODELO ({mejor_modelo_name}) - NORMALIZADAS:\")\n",
    "        print(\"=\" * 65)\n",
    "        print(\"Importancias normalizadas (suma total = 1.0)\")\n",
    "        print(\"-\" * 40)\n",
    "        for idx, (feature, importance) in enumerate(top_features_mejor.items(), 1):\n",
    "            pretty_feature = get_readable_name(feature)\n",
    "            print(f\"{idx:2d}. {pretty_feature:20s}: {importance:.4f}\")\n",
    "    \n",
    "else:\n",
    "    print(\"No se pudieron extraer feature importances de ningun modelo\")"
   ]
  },
  {
   "cell_type": "markdown",
   "id": "84931a0a",
   "metadata": {},
   "source": [
    "## 8. Curvas ROC Comparativas"
   ]
  },
  {
   "cell_type": "code",
   "execution_count": 11,
   "id": "ca5ada3f",
   "metadata": {},
   "outputs": [
    {
     "name": "stdout",
     "output_type": "stream",
     "text": [
      "Generando Curvas ROC Comparativas...\n",
      "\n",
      "XGBoost: AUC = 0.9236\n",
      "LightGBM: AUC = 0.9218\n",
      "RandomForest: AUC = 0.9198\n",
      "GradientBoosting: AUC = 0.9236\n"
     ]
    },
    {
     "data": {
      "application/vnd.plotly.v1+json": {
       "config": {
        "plotlyServerURL": "https://plot.ly"
       },
       "data": [
        {
         "line": {
          "color": "#1f77b4",
          "width": 2
         },
         "mode": "lines",
         "name": "XGBoost (AUC = 0.924)",
         "type": "scatter",
         "x": {
          "bdata": "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",
          "dtype": "f8"
         },
         "y": {
          "bdata": "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",
          "dtype": "f8"
         }
        },
        {
         "line": {
          "color": "#ff7f0e",
          "width": 2
         },
         "mode": "lines",
         "name": "LightGBM (AUC = 0.922)",
         "type": "scatter",
         "x": {
          "bdata": "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",
          "dtype": "f8"
         },
         "y": {
          "bdata": "AAAAAAAAAAAUZ/CZXrNVPxRn8Jles2U/T01084ZGgD9PTXTzhkaQPzJassby/JI/FGfwmV6zlT/3cy5tymmYPy2USf3XMZ8/iNBD6CH0oD/AUxPdvKGhP2rdgbuNqqM/93MubcppqD8v9/1hZRepP6D9nEubcqo/gwrbHgcprT+DCtseBymtPy2USf3XMa8/T01084ZGsD8kkqti70qxP5WYSkwlprI/MlqyxvL8sj9q3YG7jaqzPz8iuSr2rrQ/eKWIH5FctT9N6r+O+WC2P4Vtj4OUDrc/hW2Pg5QOtz+uxaOvniS8P+dIc6Q50rw/WE8Sjm8tvj9YTxKOby2+P5DS4YIK274/kNLhggrbvj+BbEA2IBvAPx0uqLDtccA/6w7cbVSdwD+I0EPoIfTAP440R5ojzcE/XRV7V4r4wT/HtxaPvnrCP5WYSkwlpsI/zhsaQcBTwz+c/E3+Jn/DP5z8Tf4mf8M/OL61ePTVwz84vrV49NXDP6rEVGIqMcU/Roa83PeHxT9+CYzRkjXGP03qv475YMY/6asnCce3xj+3jFvGLePGP1NOw0D7Occ/U07DQPs5xz8iL/f9YWXHP/APK7vIkMc/KJP6r2M+yD/3cy5tymnIP/dzLm3Kacg/kzWW55fAyD+TNZbnl8DIP2EWyqT+68g/L/f9YWUXyT/LuGXcMm7JPwQ8NdHNG8o/oP2cS5tyyj+g/ZxLm3LKP2/e0AgCnso/Pb8ExmjJyj/g5G/yN/nLPxhoP+fSpsw/50hzpDnSzD/nSHOkOdLMPx/MQpnUf80/vI2qE6LWzT8mMEZL1ljOP8LxrcWjr84/X7MVQHEGzz8tlEn91zHPP5c25TQMtM8/Gnym12wF0D+BbEA2IBvQP09NdPOGRtA/tj0OUjpc0D8dLqiw7XHQPx0uqLDtcdA/6w7cbVSd0D9S/3XMB7PQPyHgqYlu3tA/IeCpiW7e0D+I0EPoIfTQP72hEQQ8NdE/i4JFwaJg0T/yct8fVnbRP440R5ojzdE/jjRHmiPN0T/EBRW2PQ7SPyv2rhTxI9I/YMd8MAtl0j9gx3wwC2XSPy6osO1xkNI/lZhKTCWm0j/8iOSq2LvSP5lKTCWmEtM/mUpMJaYS0z9nK4DiDD7TPwPt51zalNM/A+3nXNqU0z84vrV49NXTPzi+tXj01dM/Bp/pNVsB1D8Gn+k1WwHUP9V/HfPBLNQ/2+MgpcMF1T/b4yClwwXVP3tXivgRydU/e1eK+BHJ1T9JOL61ePTVP0k4vrV49NU/fgmM0ZI11j9+CYzRkjXWP+b5JTBGS9Y/Teq/jvlg1j+Cu42qE6LWP4K7jaoTotY/6asnCce31j+3jFvGLePWP1NOw0D7Odc/iR+RXBV71z+JH5FcFXvXP/APK7vIkNc/VwDFGXym1z++8F54L7zXP77wXngvvNc/JeH41uLR1z9assby/BLYP8GiYFGwKNg/93Mubcpp2D/3cy5tymnYP15kyMt9f9g/xVRiKjGV2D/FVGIqMZXYPyxF/Ijkqtg/LEX8iOSq2D+TNZbnl8DYP5M1lueXwNg/yAZkA7IB2T9kyMt9f1jZPzOp/zrmg9k/M6n/OuaD2T/Pame1s9rZP89qZ7Wz2tk/nUubchoG2j8EPDXRzRvaP2sszy+BMdo/ayzPL4Ex2j+g/ZxLm3LaPwfuNqpOiNo/B+42qk6I2j9v3tAIAp7aPz2/BMZoydo/cpDS4YIK2z9ykNLhggrbP6dhoP2cS9s/qxOi1h242z959NWThOPbPxW2PQ5SOtw/45Zxy7hl3D/jlnHLuGXcP7F3pYgfkdw/f1jZRYa83D9/WNlFhrzcP+dIc6Q50tw/50hzpDnS3D/q+nR9uj7dP1HrDtxtVN0/UesO3G1U3T8fzEKZ1H/dP+2sdlY7q90/7ax2Vjur3T9UnRC17sDdP1SdELXuwN0/im7e0AgC3j+Kbt7QCALeP4pu3tAIAt4/vz+s7CJD3j+/P6zsIkPePyYwRkvWWN4/JjBGS9ZY3j/0EHoIPYTeP5DS4YIK294/kNLhggrb3j/4wnvhvfDeP/jCe+G98N4/X7MVQHEG3z+UhONbi0ffP/t0fbo+Xd8/yVWxd6WI3z/JVbF3pYjfP5c25TQMtN8//iZ/k7/J3z9lFxnyct/fPxp8ptdsBeA/gWxANiAb4D+0ZI3l+SXgPxtVJ0StO+A/G1UnRK074D8bVSdErTvgP09NdPOGRuA/tj0OUjpc4D+2PQ5SOlzgP+o1WwEUZ+A/Uv91zAez4D+G98J74b3gP4b3wnvhveA/ue8PK7vI4D+57w8ru8jgP+3nXNqU0+A/7edc2pTT4D9U2PY4SOngP4jQQ+gh9OA/78DdRtUJ4T/vwN1G1QnhP/CZXrMVQOE/V4r4EclV4T/AUxPdvKHhP8BTE928oeE/9EtgjJas4T/0S2CMlqzhP1s8+upJwuE/Wzz66knC4T+ONEeaI83hP440R5ojzeE/wiyUSf3X4T/1JOH41uLhPykdLqiw7eE/KR0uqLDt4T8pHS6osO3hPykdLqiw7eE/XRV7V4r44T9dFXtXivjhP8QFFbY9DuI/xAUVtj0O4j8r9q4U8SPiPyv2rhTxI+I/Xu77w8ou4j/HtxaPvnriP8e3Fo++euI/Lqiw7XGQ4j8uqLDtcZDiP2Kg/ZxLm+I/YqD9nEub4j9ioP2cS5viP5WYSkwlpuI/lZhKTCWm4j/JkJf7/rDiP8mQl/v+sOI/Y3l+CYzR4j+Xccu4ZdziP5dxy7hl3OI//mFlFxny4j9lUv91zAfjP2VS/3XMB+M/ZVL/dcwH4z+ZSkwlphLjPwA75oNZKOM/ADvmg1ko4z9nK4DiDD7jP2crgOIMPuM/zhsaQcBT4z81DLSfc2njPzUMtJ9zaeM/aAQBT0104z+c/E3+Jn/jPwPt51zalOM/at2Bu42q4z/RzRsaQcDjP9HNGxpBwOM/BcZoyRrL4z84vrV49NXjP5+uT9en6+M/Bp/pNVsB5D9uj4OUDhfkP26Pg5QOF+Q/oYfQQ+gh5D+hh9BD6CHkP6GH0EPoIeQ/1X8d88Es5D88cLdRdULkPzxwt1F1QuQ/b2gEAU9N5D9vaAQBT03kP9ZYnl8CY+Q/ClHrDtxt5D8KUesO3G3kPz1JOL61eOQ/pDnSHGmO5D8MKmx7HKTkP3MaBtrPueQ/DQPt51za5D8NA+3nXNrkP0H7OZc25eQ/Qfs5lzbl5D9B+zmXNuXkP6jr0/Xp+uQ/qOvT9en65D/b4yClwwXlP0LUugN3G+U/dswHs1Am5T+qxFRiKjHlP6rEVGIqMeU/RK07cLdR5T9ErTtwt1HlP3iliB+RXOU/q53Vzmpn5T+rndXOamflP9+VIn5EcuU/35UifkRy5T9Ghrzc94flP612VjurneU/rXZWO6ud5T/gbqPqhKjlP+Buo+qEqOU/FGfwmV6z5T97V4r4EcnlP3tXivgRyeU/FkBxBp/p5T8WQHEGn+nlPxZAcQaf6eU/fTALZVL/5T+wKFgULArmP7AoWBQsCuY/sChYFCwK5j+wKFgULArmPxcZ8nLfH+Y/Fxnyct8f5j9LET8iuSrmP34JjNGSNeY/fgmM0ZI15j9+CYzRkjXmP34JjNGSNeY/GfJy3x9W5j8Z8nLfH1bmP03qv475YOY/Teq/jvlg5j/n0qachoHmP+fSppyGgeY/G8vzS2CM5j/pqycJx7fmP+mrJwnHt+Y/HKR0uKDC5j8cpHS4oMLmPxykdLigwuY/UJzBZ3rN5j9QnMFnes3mP7eMW8Yt4+Y/t4xbxi3j5j/rhKh1B+7mP+uEqHUH7uY/Hn31JOH45j+FbY+DlA7nP7ll3DJuGec/uWXcMm4Z5z+5ZdwybhnnP7ll3DJuGec/uWXcMm4Z5z/sXSniRyTnP+xdKeJHJOc/IFZ2kSEv5z9TTsNA+znnP1NOw0D7Oec/h0YQ8NRE5z+HRhDw1ETnP7o+XZ+uT+c/iR+RXBV75z/wDyu7yJDnP77wXngvvOc/vvBeeC+85z++8F54L7znP77wXngvvOc/JeH41uLR5z+M0ZI1lufnP4zRkjWW5+c/jNGSNZbn5z+M0ZI1lufnP/PBLJRJ/ec/88EslEn95z/zwSyUSf3nP/PBLJRJ/ec/J7p5QyMI6D8nunlDIwjoPye6eUMjCOg/waJgUbAo6D/BomBRsCjoP/WarQCKM+g/KJP6r2M+6D8ok/qvYz7oP1yLR189Seg/XItHXz1J6D9ci0dfPUnoP1yLR189Seg/j4OUDhdU6D+Pg5QOF1ToP/dzLm3Kaeg/93Mubcpp6D8qbHscpHToP15kyMt9f+g/xVRiKjGV6D/FVGIqMZXoP/hMr9kKoOg/+Eyv2Qqg6D8sRfyI5KroPyxF/Ijkqug/kzWW55fA6D/6JTBGS9boP/olMEZL1ug/LR599STh6D8tHn31JOHoP2EWyqT+6+g/YRbKpP7r6D9hFsqk/uvoP8gGZAOyAek/yAZkA7IB6T/8/rCyiwzpP/z+sLKLDOk/L/f9YWUX6T8v9/1hZRfpP2PvShE/Iuk/Y+9KET8i6T/K3+Rv8jfpP8rf5G/yN+k//dcxH8xC6T/91zEfzELpP/3XMR/MQuk/MdB+zqVN6T8x0H7OpU3pP2TIy31/WOk/mMAYLVlj6T//sLKLDHnpP/+wsosMeek/M6n/OuaD6T/NkeZIc6TpP82R5khzpOk/AYoz+Eyv6T80goCnJrrpP5tyGgbaz+k/m3IaBtrP6T82WwEUZ/DpPzZbARRn8Ok/nUubchoG6j+dS5tyGgbqP9FD6CH0EOo/0UPoIfQQ6j8EPDXRzRvqPwQ8NdHNG+o/ODSCgKcm6j9rLM8vgTHqP58kHN9aPOo/nyQc31o86j/SHGmONEfqPwYVtj0OUuo/BhW2PQ5S6j85DQPt51zqP6D9nEubcuo/oP2cS5ty6j/U9en6dH3qP9T16fp0feo/1PXp+nR96j8H7jaqTojqPwfuNqpOiOo/O+aDWSiT6j/WzmpntbPqP9bOame1s+o/Cce3Fo++6j8Jx7cWj77qPz2/BMZoyeo/Pb8ExmjJ6j9wt1F1QtTqP3C3UXVC1Oo/16fr0/Xp6j/Xp+vT9enqP9en69P16eo/C6A4g8/06j8LoDiDz/TqPz6YhTKp/+o/PpiFMqn/6j9ykNLhggrrP6WIH5FcFes/2YBsQDYg6z/ZgGxANiDrP3RpU07DQOs/dGlTTsNA6z90aVNOw0DrP9tZ7ax2Vus/21ntrHZW6z/bWe2sdlbrP9tZ7ax2Vus/21ntrHZW6z+pOiFq3YHrP6k6IWrdges/3DJuGbeM6z/cMm4Zt4zrPxAru8iQl+s/ECu7yJCX6z9DIwh4aqLrP0MjCHhqous/dxtVJ0St6z93G1UnRK3rP94L74X3wus/3gvvhffC6z8SBDw10c3rPxIEPDXRzes/RfyI5KrY6z9F/IjkqtjrP3n01ZOE4+s/efTVk4Tj6z959NWThOPrP3n01ZOE4+s/rOwiQ17u6z+s7CJDXu7rPxPdvKERBOw/E928oREE7D96zVYAxRnsP3rNVgDFGew/rsWjr54k7D/hvfBeeC/sP+G98F54L+w/FbY9DlI67D8Vtj0OUjrsP0muir0rRew/Sa6KvStF7D98ptdsBVDsP3ym12wFUOw/sJ4kHN9a7D+wniQc31rsP7CeJBzfWuw/45Zxy7hl7D/jlnHLuGXsP+OWccu4Zew/45Zxy7hl7D9KhwsqbHvsP7F3pYgfkew/5W/yN/mb7D/lb/I3+ZvsP+Vv8jf5m+w/GGg/59Km7D8YaD/n0qbsPxhoP+fSpuw/GGg/59Km7D9MYIyWrLHsP0xgjJassew/TGCMlqyx7D9MYIyWrLHsP7NQJvVfx+w/s1Am9V/H7D/nSHOkOdLsPxpBwFMT3ew/GkHAUxPd7D8aQcBTE93sP045DQPt5+w/TjkNA+3n7D9OOQ0D7efsP045DQPt5+w/gTFassby7D+BMVqyxvLsP7Upp2Gg/ew/tSmnYaD97D/oIfQQegjtP+gh9BB6CO0/HBpBwFMT7T8cGkHAUxPtP08Sjm8tHu0/TxKOby0e7T9PEo5vLR7tP08Sjm8tHu0/TxKOby0e7T9PEo5vLR7tP4MK2x4HKe0/tgIozuAz7T/q+nR9uj7tP+r6dH26Pu0/6vp0fbo+7T/q+nR9uj7tPx3zwSyUSe0/HfPBLJRJ7T8d88EslEntPx3zwSyUSe0/UesO3G1U7T9R6w7cbVTtP1HrDtxtVO0/UesO3G1U7T9R6w7cbVTtP4XjW4tHX+0/heNbi0df7T+426g6IWrtP7jbqDohau0/7NP16fp07T/s0/Xp+nTtPx/MQpnUf+0/H8xCmdR/7T8fzEKZ1H/tPx/MQpnUf+0/H8xCmdR/7T8fzEKZ1H/tPx/MQpnUf+0/U8SPSK6K7T9TxI9IrortP1PEj0iuiu0/U8SPSK6K7T+GvNz3h5XtP4a83PeHle0/hrzc94eV7T8hpcMFFbbtPyGlwwUVtu0/IaXDBRW27T8hpcMFFbbtPyGlwwUVtu0/IaXDBRW27T8hpcMFFbbtPyGlwwUVtu0/iJVdZMjL7T+IlV1kyMvtP4iVXWTIy+0/iJVdZMjL7T+8jaoTotbtP7yNqhOi1u0/vI2qE6LW7T+8jaoTotbtP7yNqhOi1u0/74X3wnvh7T/vhffCe+HtPyN+RHJV7O0/I35EclXs7T8jfkRyVeztPyN+RHJV7O0/I35EclXs7T8jfkRyVeztPyN+RHJV7O0/I35EclXs7T9WdpEhL/ftP1Z2kSEv9+0/VnaRIS/37T9WdpEhL/ftP1Z2kSEv9+0/VnaRIS/37T+Kbt7QCALuP4pu3tAIAu4/im7e0AgC7j+Kbt7QCALuP4pu3tAIAu4/im7e0AgC7j+9ZiuA4gzuP71mK4DiDO4/vWYrgOIM7j/xXngvvBfuPyRXxd6VIu4/JFfF3pUi7j8kV8XelSLuPyRXxd6VIu4/JFfF3pUi7j8kV8XelSLuPyRXxd6VIu4/JFfF3pUi7j8kV8XelSLuPyRXxd6VIu4/JFfF3pUi7j8kV8XelSLuPyRXxd6VIu4/WE8Sjm8t7j9YTxKOby3uP1hPEo5vLe4/i0dfPUk47j+/P6zsIkPuP78/rOwiQ+4/vz+s7CJD7j/yN/mb/E3uPyYwRkvWWO4/JjBGS9ZY7j8mMEZL1ljuPyYwRkvWWO4/JjBGS9ZY7j8mMEZL1ljuPyYwRkvWWO4/JjBGS9ZY7j8mMEZL1ljuP1ook/qvY+4/WiiT+q9j7j9aKJP6r2PuP1ook/qvY+4/WiiT+q9j7j9aKJP6r2PuP1ook/qvY+4/WiiT+q9j7j9aKJP6r2PuP40g4KmJbu4/jSDgqYlu7j+NIOCpiW7uP40g4KmJbu4/jSDgqYlu7j/BGC1ZY3nuP8EYLVljee4/wRgtWWN57j/BGC1ZY3nuP8EYLVljee4/wRgtWWN57j/0EHoIPYTuPygJx7cWj+4/KAnHtxaP7j9bARRn8JnuP1sBFGfwme4/WwEUZ/CZ7j9bARRn8JnuP1sBFGfwme4/WwEUZ/CZ7j9bARRn8JnuP1sBFGfwme4/WwEUZ/CZ7j9bARRn8JnuP1sBFGfwme4/WwEUZ/CZ7j9bARRn8JnuP1sBFGfwme4/WwEUZ/CZ7j+P+WAWyqTuP4/5YBbKpO4/wvGtxaOv7j/C8a3Fo6/uP8LxrcWjr+4/wvGtxaOv7j/C8a3Fo6/uP8LxrcWjr+4/wvGtxaOv7j/C8a3Fo6/uP8LxrcWjr+4/wvGtxaOv7j/C8a3Fo6/uP8LxrcWjr+4/wvGtxaOv7j/C8a3Fo6/uP8LxrcWjr+4/wvGtxaOv7j/C8a3Fo6/uP8LxrcWjr+4/wvGtxaOv7j/C8a3Fo6/uP8LxrcWjr+4/wvGtxaOv7j/C8a3Fo6/uP8LxrcWjr+4/wvGtxaOv7j/C8a3Fo6/uP8LxrcWjr+4/wvGtxaOv7j/C8a3Fo6/uP/bp+nR9uu4/9un6dH267j/26fp0fbruPyniRyRXxe4/KeJHJFfF7j8p4kckV8XuPyniRyRXxe4/KeJHJFfF7j8p4kckV8XuPyniRyRXxe4/KeJHJFfF7j8p4kckV8XuPyniRyRXxe4/KeJHJFfF7j8p4kckV8XuPyniRyRXxe4/KeJHJFfF7j8p4kckV8XuPyniRyRXxe4/XdqU0zDQ7j9d2pTTMNDuP5DS4YIK2+4/kNLhggrb7j/Eyi4y5OXuP8TKLjLk5e4/xMouMuTl7j/Eyi4y5OXuP8TKLjLk5e4/xMouMuTl7j/Eyi4y5OXuP/jCe+G98O4/+MJ74b3w7j/4wnvhvfDuP/jCe+G98O4/+MJ74b3w7j/4wnvhvfDuP/jCe+G98O4/+MJ74b3w7j/4wnvhvfDuPyu7yJCX++4/K7vIkJf77j8ru8iQl/vuPyu7yJCX++4/K7vIkJf77j9fsxVAcQbvP1+zFUBxBu8/kqti70oR7z+Sq2LvShHvP5KrYu9KEe8/kqti70oR7z+Sq2LvShHvP5KrYu9KEe8/kqti70oR7z+Sq2LvShHvP5KrYu9KEe8/kqti70oR7z+Sq2LvShHvP5KrYu9KEe8/kqti70oR7z/Go6+eJBzvP8ajr54kHO8/xqOvniQc7z/Go6+eJBzvP8ajr54kHO8/xqOvniQc7z/Go6+eJBzvP8ajr54kHO8/+Zv8Tf4m7z/5m/xN/ibvP/mb/E3+Ju8/+Zv8Tf4m7z/5m/xN/ibvP/mb/E3+Ju8/+Zv8Tf4m7z/5m/xN/ibvP/mb/E3+Ju8/+Zv8Tf4m7z/5m/xN/ibvP/mb/E3+Ju8/+Zv8Tf4m7z/5m/xN/ibvP/mb/E3+Ju8/+Zv8Tf4m7z8tlEn91zHvPy2USf3XMe8/LZRJ/dcx7z9gjJassTzvP2CMlqyxPO8/YIyWrLE87z9gjJassTzvP2CMlqyxPO8/YIyWrLE87z9gjJassTzvP2CMlqyxPO8/YIyWrLE87z9gjJassTzvP2CMlqyxPO8/YIyWrLE87z+UhONbi0fvP5SE41uLR+8/x3wwC2VS7z/HfDALZVLvP8d8MAtlUu8/x3wwC2VS7z/HfDALZVLvP8d8MAtlUu8/+3R9uj5d7z/7dH26Pl3vP/t0fbo+Xe8/+3R9uj5d7z/7dH26Pl3vP/t0fbo+Xe8/+3R9uj5d7z/7dH26Pl3vP/t0fbo+Xe8/+3R9uj5d7z/7dH26Pl3vP/t0fbo+Xe8/+3R9uj5d7z/7dH26Pl3vP/t0fbo+Xe8/+3R9uj5d7z/7dH26Pl3vP/t0fbo+Xe8/+3R9uj5d7z/7dH26Pl3vP/t0fbo+Xe8/+3R9uj5d7z8ubcppGGjvPy5tymkYaO8/Lm3KaRho7z8ubcppGGjvPy5tymkYaO8/Lm3KaRho7z8ubcppGGjvPy5tymkYaO8/Lm3KaRho7z8ubcppGGjvPy5tymkYaO8/YmUXGfJy7z9iZRcZ8nLvP2JlFxnycu8/YmUXGfJy7z9iZRcZ8nLvP2JlFxnycu8/YmUXGfJy7z9iZRcZ8nLvP2JlFxnycu8/YmUXGfJy7z+WXWTIy33vP5ZdZMjLfe8/ll1kyMt97z+WXWTIy33vP5ZdZMjLfe8/ll1kyMt97z+WXWTIy33vP5ZdZMjLfe8/ll1kyMt97z+WXWTIy33vP5ZdZMjLfe8/ll1kyMt97z+WXWTIy33vP5ZdZMjLfe8/ll1kyMt97z+WXWTIy33vP5ZdZMjLfe8/ll1kyMt97z+WXWTIy33vP5ZdZMjLfe8/ll1kyMt97z+WXWTIy33vP5ZdZMjLfe8/ll1kyMt97z+WXWTIy33vP5ZdZMjLfe8/ll1kyMt97z+WXWTIy33vP5ZdZMjLfe8/ll1kyMt97z+WXWTIy33vP5ZdZMjLfe8//U3+Jn+T7z/9Tf4mf5PvP/1N/iZ/k+8//U3+Jn+T7z/9Tf4mf5PvP/1N/iZ/k+8//U3+Jn+T7z/9Tf4mf5PvP/1N/iZ/k+8//U3+Jn+T7z/9Tf4mf5PvP/1N/iZ/k+8//U3+Jn+T7z/9Tf4mf5PvP/1N/iZ/k+8/MEZL1lie7z8wRkvWWJ7vPzBGS9ZYnu8/MEZL1lie7z8wRkvWWJ7vPzBGS9ZYnu8/MEZL1lie7z8wRkvWWJ7vPzBGS9ZYnu8/MEZL1lie7z8wRkvWWJ7vP2Q+mIUyqe8/ZD6YhTKp7z9kPpiFMqnvP2Q+mIUyqe8/ZD6YhTKp7z9kPpiFMqnvP2Q+mIUyqe8/ZD6YhTKp7z9kPpiFMqnvP2Q+mIUyqe8/ZD6YhTKp7z9kPpiFMqnvP5c25TQMtO8/lzblNAy07z+XNuU0DLTvP5c25TQMtO8/lzblNAy07z+XNuU0DLTvP5c25TQMtO8/lzblNAy07z/LLjLk5b7vP8suMuTlvu8/yy4y5OW+7z/LLjLk5b7vP/4mf5O/ye8//iZ/k7/J7z/+Jn+Tv8nvP/4mf5O/ye8//iZ/k7/J7z/+Jn+Tv8nvP/4mf5O/ye8//iZ/k7/J7z8yH8xCmdTvPzIfzEKZ1O8/Mh/MQpnU7z8yH8xCmdTvPzIfzEKZ1O8/Mh/MQpnU7z8yH8xCmdTvPzIfzEKZ1O8/Mh/MQpnU7z8yH8xCmdTvPzIfzEKZ1O8/Mh/MQpnU7z8yH8xCmdTvP2UXGfJy3+8/ZRcZ8nLf7z9lFxnyct/vP2UXGfJy3+8/ZRcZ8nLf7z9lFxnyct/vP2UXGfJy3+8/mQ9moUzq7z+ZD2ahTOrvP5kPZqFM6u8/mQ9moUzq7z+ZD2ahTOrvP5kPZqFM6u8/mQ9moUzq7z+ZD2ahTOrvP5kPZqFM6u8/mQ9moUzq7z+ZD2ahTOrvP5kPZqFM6u8/mQ9moUzq7z+ZD2ahTOrvP5kPZqFM6u8/mQ9moUzq7z+ZD2ahTOrvP5kPZqFM6u8/mQ9moUzq7z+ZD2ahTOrvP5kPZqFM6u8/mQ9moUzq7z+ZD2ahTOrvP5kPZqFM6u8/mQ9moUzq7z+ZD2ahTOrvP5kPZqFM6u8/mQ9moUzq7z+ZD2ahTOrvP5kPZqFM6u8/mQ9moUzq7z+ZD2ahTOrvP5kPZqFM6u8/mQ9moUzq7z+ZD2ahTOrvP5kPZqFM6u8/mQ9moUzq7z+ZD2ahTOrvP5kPZqFM6u8/mQ9moUzq7z+ZD2ahTOrvP5kPZqFM6u8/mQ9moUzq7z+ZD2ahTOrvP5kPZqFM6u8/mQ9moUzq7z+ZD2ahTOrvP5kPZqFM6u8/mQ9moUzq7z+ZD2ahTOrvP5kPZqFM6u8/mQ9moUzq7z+ZD2ahTOrvP5kPZqFM6u8/mQ9moUzq7z+ZD2ahTOrvP5kPZqFM6u8/mQ9moUzq7z+ZD2ahTOrvP5kPZqFM6u8/mQ9moUzq7z+ZD2ahTOrvP5kPZqFM6u8/mQ9moUzq7z+ZD2ahTOrvP5kPZqFM6u8/mQ9moUzq7z+ZD2ahTOrvP5kPZqFM6u8/mQ9moUzq7z+ZD2ahTOrvP5kPZqFM6u8/mQ9moUzq7z+ZD2ahTOrvP8wHs1Am9e8/zAezUCb17z/MB7NQJvXvP8wHs1Am9e8/zAezUCb17z/MB7NQJvXvP8wHs1Am9e8/zAezUCb17z/MB7NQJvXvP8wHs1Am9e8/zAezUCb17z/MB7NQJvXvP8wHs1Am9e8/zAezUCb17z/MB7NQJvXvP8wHs1Am9e8/zAezUCb17z/MB7NQJvXvP8wHs1Am9e8/zAezUCb17z/MB7NQJvXvP8wHs1Am9e8/zAezUCb17z/MB7NQJvXvP8wHs1Am9e8/zAezUCb17z/MB7NQJvXvP8wHs1Am9e8/zAezUCb17z/MB7NQJvXvP8wHs1Am9e8/zAezUCb17z/MB7NQJvXvP8wHs1Am9e8/zAezUCb17z/MB7NQJvXvP8wHs1Am9e8/zAezUCb17z/MB7NQJvXvP8wHs1Am9e8/zAezUCb17z/MB7NQJvXvP8wHs1Am9e8/zAezUCb17z/MB7NQJvXvP8wHs1Am9e8/zAezUCb17z/MB7NQJvXvP8wHs1Am9e8/zAezUCb17z/MB7NQJvXvP8wHs1Am9e8/zAezUCb17z/MB7NQJvXvP8wHs1Am9e8/zAezUCb17z/MB7NQJvXvP8wHs1Am9e8/zAezUCb17z/MB7NQJvXvP8wHs1Am9e8/zAezUCb17z/MB7NQJvXvP8wHs1Am9e8/zAezUCb17z/MB7NQJvXvP8wHs1Am9e8/zAezUCb17z/MB7NQJvXvP8wHs1Am9e8/zAezUCb17z/MB7NQJvXvP8wHs1Am9e8/zAezUCb17z8AAAAAAADwPwAAAAAAAPA/AAAAAAAA8D8AAAAAAADwPwAAAAAAAPA/AAAAAAAA8D8AAAAAAADwPwAAAAAAAPA/AAAAAAAA8D8AAAAAAADwPwAAAAAAAPA/AAAAAAAA8D8AAAAAAADwPwAAAAAAAPA/AAAAAAAA8D8AAAAAAADwPwAAAAAAAPA/AAAAAAAA8D8AAAAAAADwPwAAAAAAAPA/AAAAAAAA8D8AAAAAAADwPwAAAAAAAPA/AAAAAAAA8D8AAAAAAADwPwAAAAAAAPA/AAAAAAAA8D8AAAAAAADwPwAAAAAAAPA/AAAAAAAA8D8AAAAAAADwPwAAAAAAAPA/AAAAAAAA8D8AAAAAAADwPwAAAAAAAPA/AAAAAAAA8D8AAAAAAADwPwAAAAAAAPA/AAAAAAAA8D8AAAAAAADwPwAAAAAAAPA/AAAAAAAA8D8AAAAAAADwPwAAAAAAAPA/AAAAAAAA8D8AAAAAAADwPwAAAAAAAPA/AAAAAAAA8D8AAAAAAADwPwAAAAAAAPA/AAAAAAAA8D8AAAAAAADwPwAAAAAAAPA/AAAAAAAA8D8AAAAAAADwPwAAAAAAAPA/AAAAAAAA8D8AAAAAAADwPwAAAAAAAPA/AAAAAAAA8D8AAAAAAADwPwAAAAAAAPA/AAAAAAAA8D8AAAAAAADwPwAAAAAAAPA/AAAAAAAA8D8AAAAAAADwPwAAAAAAAPA/AAAAAAAA8D8AAAAAAADwPwAAAAAAAPA/AAAAAAAA8D8AAAAAAADwPwAAAAAAAPA/AAAAAAAA8D8AAAAAAADwPwAAAAAAAPA/",
          "dtype": "f8"
         }
        },
        {
         "line": {
          "color": "#2ca02c",
          "width": 2
         },
         "mode": "lines",
         "name": "RandomForest (AUC = 0.920)",
         "type": "scatter",
         "x": {
          "bdata": "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",
          "dtype": "f8"
         },
         "y": {
          "bdata": "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",
          "dtype": "f8"
         }
        },
        {
         "line": {
          "color": "#d62728",
          "width": 2
         },
         "mode": "lines",
         "name": "GradientBoosting (AUC = 0.924)",
         "type": "scatter",
         "x": {
          "bdata": "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",
          "dtype": "f8"
         },
         "y": {
          "bdata": "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",
          "dtype": "f8"
         }
        },
        {
         "line": {
          "color": "gray",
          "dash": "dash",
          "width": 1
         },
         "mode": "lines",
         "name": "Clasificador Aleatorio (AUC = 0.500)",
         "type": "scatter",
         "x": [
          0,
          1
         ],
         "y": [
          0,
          1
         ]
        }
       ],
       "layout": {
        "height": 600,
        "showlegend": true,
        "template": {
         "data": {
          "bar": [
           {
            "error_x": {
             "color": "#2a3f5f"
            },
            "error_y": {
             "color": "#2a3f5f"
            },
            "marker": {
             "line": {
              "color": "#E5ECF6",
              "width": 0.5
             },
             "pattern": {
              "fillmode": "overlay",
              "size": 10,
              "solidity": 0.2
             }
            },
            "type": "bar"
           }
          ],
          "barpolar": [
           {
            "marker": {
             "line": {
              "color": "#E5ECF6",
              "width": 0.5
             },
             "pattern": {
              "fillmode": "overlay",
              "size": 10,
              "solidity": 0.2
             }
            },
            "type": "barpolar"
           }
          ],
          "carpet": [
           {
            "aaxis": {
             "endlinecolor": "#2a3f5f",
             "gridcolor": "white",
             "linecolor": "white",
             "minorgridcolor": "white",
             "startlinecolor": "#2a3f5f"
            },
            "baxis": {
             "endlinecolor": "#2a3f5f",
             "gridcolor": "white",
             "linecolor": "white",
             "minorgridcolor": "white",
             "startlinecolor": "#2a3f5f"
            },
            "type": "carpet"
           }
          ],
          "choropleth": [
           {
            "colorbar": {
             "outlinewidth": 0,
             "ticks": ""
            },
            "type": "choropleth"
           }
          ],
          "contour": [
           {
            "colorbar": {
             "outlinewidth": 0,
             "ticks": ""
            },
            "colorscale": [
             [
              0,
              "#0d0887"
             ],
             [
              0.1111111111111111,
              "#46039f"
             ],
             [
              0.2222222222222222,
              "#7201a8"
             ],
             [
              0.3333333333333333,
              "#9c179e"
             ],
             [
              0.4444444444444444,
              "#bd3786"
             ],
             [
              0.5555555555555556,
              "#d8576b"
             ],
             [
              0.6666666666666666,
              "#ed7953"
             ],
             [
              0.7777777777777778,
              "#fb9f3a"
             ],
             [
              0.8888888888888888,
              "#fdca26"
             ],
             [
              1,
              "#f0f921"
             ]
            ],
            "type": "contour"
           }
          ],
          "contourcarpet": [
           {
            "colorbar": {
             "outlinewidth": 0,
             "ticks": ""
            },
            "type": "contourcarpet"
           }
          ],
          "heatmap": [
           {
            "colorbar": {
             "outlinewidth": 0,
             "ticks": ""
            },
            "colorscale": [
             [
              0,
              "#0d0887"
             ],
             [
              0.1111111111111111,
              "#46039f"
             ],
             [
              0.2222222222222222,
              "#7201a8"
             ],
             [
              0.3333333333333333,
              "#9c179e"
             ],
             [
              0.4444444444444444,
              "#bd3786"
             ],
             [
              0.5555555555555556,
              "#d8576b"
             ],
             [
              0.6666666666666666,
              "#ed7953"
             ],
             [
              0.7777777777777778,
              "#fb9f3a"
             ],
             [
              0.8888888888888888,
              "#fdca26"
             ],
             [
              1,
              "#f0f921"
             ]
            ],
            "type": "heatmap"
           }
          ],
          "histogram": [
           {
            "marker": {
             "pattern": {
              "fillmode": "overlay",
              "size": 10,
              "solidity": 0.2
             }
            },
            "type": "histogram"
           }
          ],
          "histogram2d": [
           {
            "colorbar": {
             "outlinewidth": 0,
             "ticks": ""
            },
            "colorscale": [
             [
              0,
              "#0d0887"
             ],
             [
              0.1111111111111111,
              "#46039f"
             ],
             [
              0.2222222222222222,
              "#7201a8"
             ],
             [
              0.3333333333333333,
              "#9c179e"
             ],
             [
              0.4444444444444444,
              "#bd3786"
             ],
             [
              0.5555555555555556,
              "#d8576b"
             ],
             [
              0.6666666666666666,
              "#ed7953"
             ],
             [
              0.7777777777777778,
              "#fb9f3a"
             ],
             [
              0.8888888888888888,
              "#fdca26"
             ],
             [
              1,
              "#f0f921"
             ]
            ],
            "type": "histogram2d"
           }
          ],
          "histogram2dcontour": [
           {
            "colorbar": {
             "outlinewidth": 0,
             "ticks": ""
            },
            "colorscale": [
             [
              0,
              "#0d0887"
             ],
             [
              0.1111111111111111,
              "#46039f"
             ],
             [
              0.2222222222222222,
              "#7201a8"
             ],
             [
              0.3333333333333333,
              "#9c179e"
             ],
             [
              0.4444444444444444,
              "#bd3786"
             ],
             [
              0.5555555555555556,
              "#d8576b"
             ],
             [
              0.6666666666666666,
              "#ed7953"
             ],
             [
              0.7777777777777778,
              "#fb9f3a"
             ],
             [
              0.8888888888888888,
              "#fdca26"
             ],
             [
              1,
              "#f0f921"
             ]
            ],
            "type": "histogram2dcontour"
           }
          ],
          "mesh3d": [
           {
            "colorbar": {
             "outlinewidth": 0,
             "ticks": ""
            },
            "type": "mesh3d"
           }
          ],
          "parcoords": [
           {
            "line": {
             "colorbar": {
              "outlinewidth": 0,
              "ticks": ""
             }
            },
            "type": "parcoords"
           }
          ],
          "pie": [
           {
            "automargin": true,
            "type": "pie"
           }
          ],
          "scatter": [
           {
            "fillpattern": {
             "fillmode": "overlay",
             "size": 10,
             "solidity": 0.2
            },
            "type": "scatter"
           }
          ],
          "scatter3d": [
           {
            "line": {
             "colorbar": {
              "outlinewidth": 0,
              "ticks": ""
             }
            },
            "marker": {
             "colorbar": {
              "outlinewidth": 0,
              "ticks": ""
             }
            },
            "type": "scatter3d"
           }
          ],
          "scattercarpet": [
           {
            "marker": {
             "colorbar": {
              "outlinewidth": 0,
              "ticks": ""
             }
            },
            "type": "scattercarpet"
           }
          ],
          "scattergeo": [
           {
            "marker": {
             "colorbar": {
              "outlinewidth": 0,
              "ticks": ""
             }
            },
            "type": "scattergeo"
           }
          ],
          "scattergl": [
           {
            "marker": {
             "colorbar": {
              "outlinewidth": 0,
              "ticks": ""
             }
            },
            "type": "scattergl"
           }
          ],
          "scattermap": [
           {
            "marker": {
             "colorbar": {
              "outlinewidth": 0,
              "ticks": ""
             }
            },
            "type": "scattermap"
           }
          ],
          "scattermapbox": [
           {
            "marker": {
             "colorbar": {
              "outlinewidth": 0,
              "ticks": ""
             }
            },
            "type": "scattermapbox"
           }
          ],
          "scatterpolar": [
           {
            "marker": {
             "colorbar": {
              "outlinewidth": 0,
              "ticks": ""
             }
            },
            "type": "scatterpolar"
           }
          ],
          "scatterpolargl": [
           {
            "marker": {
             "colorbar": {
              "outlinewidth": 0,
              "ticks": ""
             }
            },
            "type": "scatterpolargl"
           }
          ],
          "scatterternary": [
           {
            "marker": {
             "colorbar": {
              "outlinewidth": 0,
              "ticks": ""
             }
            },
            "type": "scatterternary"
           }
          ],
          "surface": [
           {
            "colorbar": {
             "outlinewidth": 0,
             "ticks": ""
            },
            "colorscale": [
             [
              0,
              "#0d0887"
             ],
             [
              0.1111111111111111,
              "#46039f"
             ],
             [
              0.2222222222222222,
              "#7201a8"
             ],
             [
              0.3333333333333333,
              "#9c179e"
             ],
             [
              0.4444444444444444,
              "#bd3786"
             ],
             [
              0.5555555555555556,
              "#d8576b"
             ],
             [
              0.6666666666666666,
              "#ed7953"
             ],
             [
              0.7777777777777778,
              "#fb9f3a"
             ],
             [
              0.8888888888888888,
              "#fdca26"
             ],
             [
              1,
              "#f0f921"
             ]
            ],
            "type": "surface"
           }
          ],
          "table": [
           {
            "cells": {
             "fill": {
              "color": "#EBF0F8"
             },
             "line": {
              "color": "white"
             }
            },
            "header": {
             "fill": {
              "color": "#C8D4E3"
             },
             "line": {
              "color": "white"
             }
            },
            "type": "table"
           }
          ]
         },
         "layout": {
          "annotationdefaults": {
           "arrowcolor": "#2a3f5f",
           "arrowhead": 0,
           "arrowwidth": 1
          },
          "autotypenumbers": "strict",
          "coloraxis": {
           "colorbar": {
            "outlinewidth": 0,
            "ticks": ""
           }
          },
          "colorscale": {
           "diverging": [
            [
             0,
             "#8e0152"
            ],
            [
             0.1,
             "#c51b7d"
            ],
            [
             0.2,
             "#de77ae"
            ],
            [
             0.3,
             "#f1b6da"
            ],
            [
             0.4,
             "#fde0ef"
            ],
            [
             0.5,
             "#f7f7f7"
            ],
            [
             0.6,
             "#e6f5d0"
            ],
            [
             0.7,
             "#b8e186"
            ],
            [
             0.8,
             "#7fbc41"
            ],
            [
             0.9,
             "#4d9221"
            ],
            [
             1,
             "#276419"
            ]
           ],
           "sequential": [
            [
             0,
             "#0d0887"
            ],
            [
             0.1111111111111111,
             "#46039f"
            ],
            [
             0.2222222222222222,
             "#7201a8"
            ],
            [
             0.3333333333333333,
             "#9c179e"
            ],
            [
             0.4444444444444444,
             "#bd3786"
            ],
            [
             0.5555555555555556,
             "#d8576b"
            ],
            [
             0.6666666666666666,
             "#ed7953"
            ],
            [
             0.7777777777777778,
             "#fb9f3a"
            ],
            [
             0.8888888888888888,
             "#fdca26"
            ],
            [
             1,
             "#f0f921"
            ]
           ],
           "sequentialminus": [
            [
             0,
             "#0d0887"
            ],
            [
             0.1111111111111111,
             "#46039f"
            ],
            [
             0.2222222222222222,
             "#7201a8"
            ],
            [
             0.3333333333333333,
             "#9c179e"
            ],
            [
             0.4444444444444444,
             "#bd3786"
            ],
            [
             0.5555555555555556,
             "#d8576b"
            ],
            [
             0.6666666666666666,
             "#ed7953"
            ],
            [
             0.7777777777777778,
             "#fb9f3a"
            ],
            [
             0.8888888888888888,
             "#fdca26"
            ],
            [
             1,
             "#f0f921"
            ]
           ]
          },
          "colorway": [
           "#636efa",
           "#EF553B",
           "#00cc96",
           "#ab63fa",
           "#FFA15A",
           "#19d3f3",
           "#FF6692",
           "#B6E880",
           "#FF97FF",
           "#FECB52"
          ],
          "font": {
           "color": "#2a3f5f"
          },
          "geo": {
           "bgcolor": "white",
           "lakecolor": "white",
           "landcolor": "#E5ECF6",
           "showlakes": true,
           "showland": true,
           "subunitcolor": "white"
          },
          "hoverlabel": {
           "align": "left"
          },
          "hovermode": "closest",
          "mapbox": {
           "style": "light"
          },
          "paper_bgcolor": "white",
          "plot_bgcolor": "#E5ECF6",
          "polar": {
           "angularaxis": {
            "gridcolor": "white",
            "linecolor": "white",
            "ticks": ""
           },
           "bgcolor": "#E5ECF6",
           "radialaxis": {
            "gridcolor": "white",
            "linecolor": "white",
            "ticks": ""
           }
          },
          "scene": {
           "xaxis": {
            "backgroundcolor": "#E5ECF6",
            "gridcolor": "white",
            "gridwidth": 2,
            "linecolor": "white",
            "showbackground": true,
            "ticks": "",
            "zerolinecolor": "white"
           },
           "yaxis": {
            "backgroundcolor": "#E5ECF6",
            "gridcolor": "white",
            "gridwidth": 2,
            "linecolor": "white",
            "showbackground": true,
            "ticks": "",
            "zerolinecolor": "white"
           },
           "zaxis": {
            "backgroundcolor": "#E5ECF6",
            "gridcolor": "white",
            "gridwidth": 2,
            "linecolor": "white",
            "showbackground": true,
            "ticks": "",
            "zerolinecolor": "white"
           }
          },
          "shapedefaults": {
           "line": {
            "color": "#2a3f5f"
           }
          },
          "ternary": {
           "aaxis": {
            "gridcolor": "white",
            "linecolor": "white",
            "ticks": ""
           },
           "baxis": {
            "gridcolor": "white",
            "linecolor": "white",
            "ticks": ""
           },
           "bgcolor": "#E5ECF6",
           "caxis": {
            "gridcolor": "white",
            "linecolor": "white",
            "ticks": ""
           }
          },
          "title": {
           "x": 0.05
          },
          "xaxis": {
           "automargin": true,
           "gridcolor": "white",
           "linecolor": "white",
           "ticks": "",
           "title": {
            "standoff": 15
           },
           "zerolinecolor": "white",
           "zerolinewidth": 2
          },
          "yaxis": {
           "automargin": true,
           "gridcolor": "white",
           "linecolor": "white",
           "ticks": "",
           "title": {
            "standoff": 15
           },
           "zerolinecolor": "white",
           "zerolinewidth": 2
          }
         }
        },
        "title": {
         "text": "Curvas ROC - Comparación de Modelos Avanzados"
        },
        "width": 800,
        "xaxis": {
         "range": [
          0,
          1
         ],
         "title": {
          "text": "Tasa de Falsos Positivos (1 - Especificidad)"
         }
        },
        "yaxis": {
         "range": [
          0,
          1
         ],
         "title": {
          "text": "Tasa de Verdaderos Positivos (Sensibilidad)"
         }
        }
       }
      }
     },
     "metadata": {},
     "output_type": "display_data"
    },
    {
     "name": "stdout",
     "output_type": "stream",
     "text": [
      "\n",
      "Resumen de AUC Scores:\n",
      "==============================\n",
      "1. XGBoost        : 0.9236\n",
      "2. GradientBoosting: 0.9236\n",
      "3. LightGBM       : 0.9218\n",
      "4. RandomForest   : 0.9198\n",
      "\n",
      "Diferencias respecto al mejor modelo:\n",
      "   GradientBoosting: -0.0000 AUC\n",
      "   LightGBM       : -0.0018 AUC\n",
      "   RandomForest   : -0.0038 AUC\n"
     ]
    }
   ],
   "source": [
    "# Crear curvas ROC para todos los modelos\n",
    "fig_roc = go.Figure()\n",
    "\n",
    "print(\"Generando Curvas ROC Comparativas...\\n\")\n",
    "\n",
    "# Colores para los modelos\n",
    "colores = ['#1f77b4', '#ff7f0e', '#2ca02c', '#d62728', '#9467bd']\n",
    "\n",
    "roc_data = []\n",
    "\n",
    "for i, resultado in enumerate(resultados_test_final):\n",
    "    nombre = resultado['modelo']\n",
    "    y_pred_proba = resultado['y_pred_proba']\n",
    "    \n",
    "    # Calcular curva ROC\n",
    "    fpr, tpr, thresholds = roc_curve(y_test_final, y_pred_proba)\n",
    "    roc_auc = auc(fpr, tpr)\n",
    "    \n",
    "    # Guardar datos\n",
    "    roc_data.append({\n",
    "        'modelo': nombre,\n",
    "        'fpr': fpr,\n",
    "        'tpr': tpr,\n",
    "        'auc': roc_auc\n",
    "    })\n",
    "    \n",
    "    # Agregar curva al gráfico\n",
    "    color = colores[i % len(colores)]\n",
    "    \n",
    "    fig_roc.add_trace(go.Scatter(\n",
    "        x=fpr,\n",
    "        y=tpr,\n",
    "        mode='lines',\n",
    "        name=f'{nombre} (AUC = {roc_auc:.3f})',\n",
    "        line=dict(color=color, width=2)\n",
    "    ))\n",
    "    \n",
    "    print(f\"{nombre}: AUC = {roc_auc:.4f}\")\n",
    "\n",
    "# Agregar línea diagonal (clasificador aleatorio)\n",
    "fig_roc.add_trace(go.Scatter(\n",
    "    x=[0, 1],\n",
    "    y=[0, 1],\n",
    "    mode='lines',\n",
    "    name='Clasificador Aleatorio (AUC = 0.500)',\n",
    "    line=dict(color='gray', width=1, dash='dash')\n",
    "))\n",
    "\n",
    "# Configurar layout\n",
    "fig_roc.update_layout(\n",
    "    title='Curvas ROC - Comparación de Modelos Avanzados',\n",
    "    xaxis_title='Tasa de Falsos Positivos (1 - Especificidad)',\n",
    "    yaxis_title='Tasa de Verdaderos Positivos (Sensibilidad)',\n",
    "    width=800,\n",
    "    height=600,\n",
    "    showlegend=True,\n",
    "    xaxis=dict(range=[0, 1]),\n",
    "    yaxis=dict(range=[0, 1])\n",
    ")\n",
    "\n",
    "fig_roc.show()\n",
    "\n",
    "# Tabla resumen de AUC\n",
    "print(\"\\nResumen de AUC Scores:\")\n",
    "print(\"=\" * 30)\n",
    "\n",
    "roc_summary = sorted(roc_data, key=lambda x: x['auc'], reverse=True)\n",
    "\n",
    "for i, data in enumerate(roc_summary, 1):\n",
    "    print(f\"{i}. {data['modelo']:15s}: {data['auc']:.4f}\")\n",
    "\n",
    "# Diferencia con el mejor\n",
    "mejor_auc = roc_summary[0]['auc']\n",
    "print(f\"\\nDiferencias respecto al mejor modelo:\")\n",
    "for data in roc_summary[1:]:\n",
    "    diff = mejor_auc - data['auc']\n",
    "    print(f\"   {data['modelo']:15s}: -{diff:.4f} AUC\")"
   ]
  },
  {
   "cell_type": "markdown",
   "id": "4e8110c1",
   "metadata": {},
   "source": [
    "## 9. Matriz de Confusión del Mejor Modelo"
   ]
  },
  {
   "cell_type": "code",
   "execution_count": 12,
   "id": "c0883ded",
   "metadata": {},
   "outputs": [
    {
     "data": {
      "application/vnd.plotly.v1+json": {
       "config": {
        "plotlyServerURL": "https://plot.ly"
       },
       "data": [
        {
         "colorscale": [
          [
           0,
           "rgb(247,251,255)"
          ],
          [
           0.125,
           "rgb(222,235,247)"
          ],
          [
           0.25,
           "rgb(198,219,239)"
          ],
          [
           0.375,
           "rgb(158,202,225)"
          ],
          [
           0.5,
           "rgb(107,174,214)"
          ],
          [
           0.625,
           "rgb(66,146,198)"
          ],
          [
           0.75,
           "rgb(33,113,181)"
          ],
          [
           0.875,
           "rgb(8,81,156)"
          ],
          [
           1,
           "rgb(8,48,107)"
          ]
         ],
         "hoverongaps": false,
         "text": {
          "bdata": "zg2NAcMAMAI=",
          "dtype": "i2",
          "shape": "2, 2"
         },
         "textfont": {
          "size": 16
         },
         "texttemplate": "%{text}",
         "type": "heatmap",
         "x": [
          "Predicho: No Consume",
          "Predicho: Sí Consume"
         ],
         "y": [
          "Real: No Consume",
          "Real: Sí Consume"
         ],
         "z": {
          "bdata": "zg2NAcMAMAI=",
          "dtype": "i2",
          "shape": "2, 2"
         }
        }
       ],
       "layout": {
        "height": 400,
        "template": {
         "data": {
          "bar": [
           {
            "error_x": {
             "color": "#2a3f5f"
            },
            "error_y": {
             "color": "#2a3f5f"
            },
            "marker": {
             "line": {
              "color": "#E5ECF6",
              "width": 0.5
             },
             "pattern": {
              "fillmode": "overlay",
              "size": 10,
              "solidity": 0.2
             }
            },
            "type": "bar"
           }
          ],
          "barpolar": [
           {
            "marker": {
             "line": {
              "color": "#E5ECF6",
              "width": 0.5
             },
             "pattern": {
              "fillmode": "overlay",
              "size": 10,
              "solidity": 0.2
             }
            },
            "type": "barpolar"
           }
          ],
          "carpet": [
           {
            "aaxis": {
             "endlinecolor": "#2a3f5f",
             "gridcolor": "white",
             "linecolor": "white",
             "minorgridcolor": "white",
             "startlinecolor": "#2a3f5f"
            },
            "baxis": {
             "endlinecolor": "#2a3f5f",
             "gridcolor": "white",
             "linecolor": "white",
             "minorgridcolor": "white",
             "startlinecolor": "#2a3f5f"
            },
            "type": "carpet"
           }
          ],
          "choropleth": [
           {
            "colorbar": {
             "outlinewidth": 0,
             "ticks": ""
            },
            "type": "choropleth"
           }
          ],
          "contour": [
           {
            "colorbar": {
             "outlinewidth": 0,
             "ticks": ""
            },
            "colorscale": [
             [
              0,
              "#0d0887"
             ],
             [
              0.1111111111111111,
              "#46039f"
             ],
             [
              0.2222222222222222,
              "#7201a8"
             ],
             [
              0.3333333333333333,
              "#9c179e"
             ],
             [
              0.4444444444444444,
              "#bd3786"
             ],
             [
              0.5555555555555556,
              "#d8576b"
             ],
             [
              0.6666666666666666,
              "#ed7953"
             ],
             [
              0.7777777777777778,
              "#fb9f3a"
             ],
             [
              0.8888888888888888,
              "#fdca26"
             ],
             [
              1,
              "#f0f921"
             ]
            ],
            "type": "contour"
           }
          ],
          "contourcarpet": [
           {
            "colorbar": {
             "outlinewidth": 0,
             "ticks": ""
            },
            "type": "contourcarpet"
           }
          ],
          "heatmap": [
           {
            "colorbar": {
             "outlinewidth": 0,
             "ticks": ""
            },
            "colorscale": [
             [
              0,
              "#0d0887"
             ],
             [
              0.1111111111111111,
              "#46039f"
             ],
             [
              0.2222222222222222,
              "#7201a8"
             ],
             [
              0.3333333333333333,
              "#9c179e"
             ],
             [
              0.4444444444444444,
              "#bd3786"
             ],
             [
              0.5555555555555556,
              "#d8576b"
             ],
             [
              0.6666666666666666,
              "#ed7953"
             ],
             [
              0.7777777777777778,
              "#fb9f3a"
             ],
             [
              0.8888888888888888,
              "#fdca26"
             ],
             [
              1,
              "#f0f921"
             ]
            ],
            "type": "heatmap"
           }
          ],
          "histogram": [
           {
            "marker": {
             "pattern": {
              "fillmode": "overlay",
              "size": 10,
              "solidity": 0.2
             }
            },
            "type": "histogram"
           }
          ],
          "histogram2d": [
           {
            "colorbar": {
             "outlinewidth": 0,
             "ticks": ""
            },
            "colorscale": [
             [
              0,
              "#0d0887"
             ],
             [
              0.1111111111111111,
              "#46039f"
             ],
             [
              0.2222222222222222,
              "#7201a8"
             ],
             [
              0.3333333333333333,
              "#9c179e"
             ],
             [
              0.4444444444444444,
              "#bd3786"
             ],
             [
              0.5555555555555556,
              "#d8576b"
             ],
             [
              0.6666666666666666,
              "#ed7953"
             ],
             [
              0.7777777777777778,
              "#fb9f3a"
             ],
             [
              0.8888888888888888,
              "#fdca26"
             ],
             [
              1,
              "#f0f921"
             ]
            ],
            "type": "histogram2d"
           }
          ],
          "histogram2dcontour": [
           {
            "colorbar": {
             "outlinewidth": 0,
             "ticks": ""
            },
            "colorscale": [
             [
              0,
              "#0d0887"
             ],
             [
              0.1111111111111111,
              "#46039f"
             ],
             [
              0.2222222222222222,
              "#7201a8"
             ],
             [
              0.3333333333333333,
              "#9c179e"
             ],
             [
              0.4444444444444444,
              "#bd3786"
             ],
             [
              0.5555555555555556,
              "#d8576b"
             ],
             [
              0.6666666666666666,
              "#ed7953"
             ],
             [
              0.7777777777777778,
              "#fb9f3a"
             ],
             [
              0.8888888888888888,
              "#fdca26"
             ],
             [
              1,
              "#f0f921"
             ]
            ],
            "type": "histogram2dcontour"
           }
          ],
          "mesh3d": [
           {
            "colorbar": {
             "outlinewidth": 0,
             "ticks": ""
            },
            "type": "mesh3d"
           }
          ],
          "parcoords": [
           {
            "line": {
             "colorbar": {
              "outlinewidth": 0,
              "ticks": ""
             }
            },
            "type": "parcoords"
           }
          ],
          "pie": [
           {
            "automargin": true,
            "type": "pie"
           }
          ],
          "scatter": [
           {
            "fillpattern": {
             "fillmode": "overlay",
             "size": 10,
             "solidity": 0.2
            },
            "type": "scatter"
           }
          ],
          "scatter3d": [
           {
            "line": {
             "colorbar": {
              "outlinewidth": 0,
              "ticks": ""
             }
            },
            "marker": {
             "colorbar": {
              "outlinewidth": 0,
              "ticks": ""
             }
            },
            "type": "scatter3d"
           }
          ],
          "scattercarpet": [
           {
            "marker": {
             "colorbar": {
              "outlinewidth": 0,
              "ticks": ""
             }
            },
            "type": "scattercarpet"
           }
          ],
          "scattergeo": [
           {
            "marker": {
             "colorbar": {
              "outlinewidth": 0,
              "ticks": ""
             }
            },
            "type": "scattergeo"
           }
          ],
          "scattergl": [
           {
            "marker": {
             "colorbar": {
              "outlinewidth": 0,
              "ticks": ""
             }
            },
            "type": "scattergl"
           }
          ],
          "scattermap": [
           {
            "marker": {
             "colorbar": {
              "outlinewidth": 0,
              "ticks": ""
             }
            },
            "type": "scattermap"
           }
          ],
          "scattermapbox": [
           {
            "marker": {
             "colorbar": {
              "outlinewidth": 0,
              "ticks": ""
             }
            },
            "type": "scattermapbox"
           }
          ],
          "scatterpolar": [
           {
            "marker": {
             "colorbar": {
              "outlinewidth": 0,
              "ticks": ""
             }
            },
            "type": "scatterpolar"
           }
          ],
          "scatterpolargl": [
           {
            "marker": {
             "colorbar": {
              "outlinewidth": 0,
              "ticks": ""
             }
            },
            "type": "scatterpolargl"
           }
          ],
          "scatterternary": [
           {
            "marker": {
             "colorbar": {
              "outlinewidth": 0,
              "ticks": ""
             }
            },
            "type": "scatterternary"
           }
          ],
          "surface": [
           {
            "colorbar": {
             "outlinewidth": 0,
             "ticks": ""
            },
            "colorscale": [
             [
              0,
              "#0d0887"
             ],
             [
              0.1111111111111111,
              "#46039f"
             ],
             [
              0.2222222222222222,
              "#7201a8"
             ],
             [
              0.3333333333333333,
              "#9c179e"
             ],
             [
              0.4444444444444444,
              "#bd3786"
             ],
             [
              0.5555555555555556,
              "#d8576b"
             ],
             [
              0.6666666666666666,
              "#ed7953"
             ],
             [
              0.7777777777777778,
              "#fb9f3a"
             ],
             [
              0.8888888888888888,
              "#fdca26"
             ],
             [
              1,
              "#f0f921"
             ]
            ],
            "type": "surface"
           }
          ],
          "table": [
           {
            "cells": {
             "fill": {
              "color": "#EBF0F8"
             },
             "line": {
              "color": "white"
             }
            },
            "header": {
             "fill": {
              "color": "#C8D4E3"
             },
             "line": {
              "color": "white"
             }
            },
            "type": "table"
           }
          ]
         },
         "layout": {
          "annotationdefaults": {
           "arrowcolor": "#2a3f5f",
           "arrowhead": 0,
           "arrowwidth": 1
          },
          "autotypenumbers": "strict",
          "coloraxis": {
           "colorbar": {
            "outlinewidth": 0,
            "ticks": ""
           }
          },
          "colorscale": {
           "diverging": [
            [
             0,
             "#8e0152"
            ],
            [
             0.1,
             "#c51b7d"
            ],
            [
             0.2,
             "#de77ae"
            ],
            [
             0.3,
             "#f1b6da"
            ],
            [
             0.4,
             "#fde0ef"
            ],
            [
             0.5,
             "#f7f7f7"
            ],
            [
             0.6,
             "#e6f5d0"
            ],
            [
             0.7,
             "#b8e186"
            ],
            [
             0.8,
             "#7fbc41"
            ],
            [
             0.9,
             "#4d9221"
            ],
            [
             1,
             "#276419"
            ]
           ],
           "sequential": [
            [
             0,
             "#0d0887"
            ],
            [
             0.1111111111111111,
             "#46039f"
            ],
            [
             0.2222222222222222,
             "#7201a8"
            ],
            [
             0.3333333333333333,
             "#9c179e"
            ],
            [
             0.4444444444444444,
             "#bd3786"
            ],
            [
             0.5555555555555556,
             "#d8576b"
            ],
            [
             0.6666666666666666,
             "#ed7953"
            ],
            [
             0.7777777777777778,
             "#fb9f3a"
            ],
            [
             0.8888888888888888,
             "#fdca26"
            ],
            [
             1,
             "#f0f921"
            ]
           ],
           "sequentialminus": [
            [
             0,
             "#0d0887"
            ],
            [
             0.1111111111111111,
             "#46039f"
            ],
            [
             0.2222222222222222,
             "#7201a8"
            ],
            [
             0.3333333333333333,
             "#9c179e"
            ],
            [
             0.4444444444444444,
             "#bd3786"
            ],
            [
             0.5555555555555556,
             "#d8576b"
            ],
            [
             0.6666666666666666,
             "#ed7953"
            ],
            [
             0.7777777777777778,
             "#fb9f3a"
            ],
            [
             0.8888888888888888,
             "#fdca26"
            ],
            [
             1,
             "#f0f921"
            ]
           ]
          },
          "colorway": [
           "#636efa",
           "#EF553B",
           "#00cc96",
           "#ab63fa",
           "#FFA15A",
           "#19d3f3",
           "#FF6692",
           "#B6E880",
           "#FF97FF",
           "#FECB52"
          ],
          "font": {
           "color": "#2a3f5f"
          },
          "geo": {
           "bgcolor": "white",
           "lakecolor": "white",
           "landcolor": "#E5ECF6",
           "showlakes": true,
           "showland": true,
           "subunitcolor": "white"
          },
          "hoverlabel": {
           "align": "left"
          },
          "hovermode": "closest",
          "mapbox": {
           "style": "light"
          },
          "paper_bgcolor": "white",
          "plot_bgcolor": "#E5ECF6",
          "polar": {
           "angularaxis": {
            "gridcolor": "white",
            "linecolor": "white",
            "ticks": ""
           },
           "bgcolor": "#E5ECF6",
           "radialaxis": {
            "gridcolor": "white",
            "linecolor": "white",
            "ticks": ""
           }
          },
          "scene": {
           "xaxis": {
            "backgroundcolor": "#E5ECF6",
            "gridcolor": "white",
            "gridwidth": 2,
            "linecolor": "white",
            "showbackground": true,
            "ticks": "",
            "zerolinecolor": "white"
           },
           "yaxis": {
            "backgroundcolor": "#E5ECF6",
            "gridcolor": "white",
            "gridwidth": 2,
            "linecolor": "white",
            "showbackground": true,
            "ticks": "",
            "zerolinecolor": "white"
           },
           "zaxis": {
            "backgroundcolor": "#E5ECF6",
            "gridcolor": "white",
            "gridwidth": 2,
            "linecolor": "white",
            "showbackground": true,
            "ticks": "",
            "zerolinecolor": "white"
           }
          },
          "shapedefaults": {
           "line": {
            "color": "#2a3f5f"
           }
          },
          "ternary": {
           "aaxis": {
            "gridcolor": "white",
            "linecolor": "white",
            "ticks": ""
           },
           "baxis": {
            "gridcolor": "white",
            "linecolor": "white",
            "ticks": ""
           },
           "bgcolor": "#E5ECF6",
           "caxis": {
            "gridcolor": "white",
            "linecolor": "white",
            "ticks": ""
           }
          },
          "title": {
           "x": 0.05
          },
          "xaxis": {
           "automargin": true,
           "gridcolor": "white",
           "linecolor": "white",
           "ticks": "",
           "title": {
            "standoff": 15
           },
           "zerolinecolor": "white",
           "zerolinewidth": 2
          },
          "yaxis": {
           "automargin": true,
           "gridcolor": "white",
           "linecolor": "white",
           "ticks": "",
           "title": {
            "standoff": 15
           },
           "zerolinecolor": "white",
           "zerolinewidth": 2
          }
         }
        },
        "title": {
         "text": "Matriz de Confusión - RandomForest"
        },
        "width": 500,
        "xaxis": {
         "title": {
          "text": "Predicción"
         }
        },
        "yaxis": {
         "title": {
          "text": "Valor Real"
         }
        }
       }
      }
     },
     "metadata": {},
     "output_type": "display_data"
    },
    {
     "name": "stdout",
     "output_type": "stream",
     "text": [
      "\n",
      "Análisis Detallado - RandomForest\n",
      "==================================================\n",
      "Matriz de Confusión:\n",
      "   Verdaderos Negativos (TN): 3,534\n",
      "   Falsos Positivos (FP):     397\n",
      "   Falsos Negativos (FN):     195\n",
      "   Verdaderos Positivos (TP): 560\n",
      "\n",
      "Métricas Calculadas:\n",
      "   Accuracy:    0.8737\n",
      "   Precision:   0.5852\n",
      "   Recall:      0.7417\n",
      "   Specificity: 0.8990\n",
      "   F1-Score:    0.6542\n",
      "\n",
      "Interpretación de Resultados:\n",
      "   • De 3,931 personas que NO consumen, el modelo identifica correctamente 3,534 (89.9%)\n",
      "   • De 755 personas que SÍ consumen, el modelo identifica correctamente 560 (74.2%)\n",
      "   • Falsos positivos: 397 personas (10.1% de los no consumidores)\n",
      "   • Falsos negativos: 195 personas (25.8% de los consumidores)\n",
      "\n",
      "Reporte de Clasificación Completo:\n",
      "============================================================\n",
      "              precision    recall  f1-score   support\n",
      "\n",
      "  No Consume       0.95      0.90      0.92      3931\n",
      "  Sí Consume       0.59      0.74      0.65       755\n",
      "\n",
      "    accuracy                           0.87      4686\n",
      "   macro avg       0.77      0.82      0.79      4686\n",
      "weighted avg       0.89      0.87      0.88      4686\n",
      "\n"
     ]
    }
   ],
   "source": [
    "# Obtener el mejor modelo y sus predicciones\n",
    "mejor_resultado = df_test_final.loc[df_test_final['f1'].idxmax()]\n",
    "mejor_nombre = mejor_resultado['modelo']\n",
    "mejor_y_pred = mejor_resultado['y_pred']\n",
    "\n",
    "# Calcular matriz de confusión\n",
    "cm = confusion_matrix(y_test_final, mejor_y_pred)\n",
    "\n",
    "# Crear heatmap interactivo\n",
    "fig_cm = go.Figure(data=go.Heatmap(\n",
    "    z=cm,\n",
    "    x=['Predicho: No Consume', 'Predicho: Sí Consume'],\n",
    "    y=['Real: No Consume', 'Real: Sí Consume'],\n",
    "    colorscale='Blues',\n",
    "    text=cm,\n",
    "    texttemplate=\"%{text}\",\n",
    "    textfont={\"size\": 16},\n",
    "    hoverongaps=False\n",
    "))\n",
    "\n",
    "fig_cm.update_layout(\n",
    "    title=f'Matriz de Confusión - {mejor_nombre}',\n",
    "    xaxis_title='Predicción',\n",
    "    yaxis_title='Valor Real',\n",
    "    width=500,\n",
    "    height=400\n",
    ")\n",
    "\n",
    "fig_cm.show()\n",
    "\n",
    "# Calcular métricas detalladas de la matriz de confusión\n",
    "tn, fp, fn, tp = cm.ravel()\n",
    "\n",
    "print(f\"\\nAnálisis Detallado - {mejor_nombre}\")\n",
    "print(\"=\" * 50)\n",
    "print(f\"Matriz de Confusión:\")\n",
    "print(f\"   Verdaderos Negativos (TN): {tn:,}\")\n",
    "print(f\"   Falsos Positivos (FP):     {fp:,}\")\n",
    "print(f\"   Falsos Negativos (FN):     {fn:,}\")\n",
    "print(f\"   Verdaderos Positivos (TP): {tp:,}\")\n",
    "\n",
    "print(f\"\\nMétricas Calculadas:\")\n",
    "print(f\"   Accuracy:    {(tp + tn) / (tp + tn + fp + fn):.4f}\")\n",
    "print(f\"   Precision:   {tp / (tp + fp):.4f}\")\n",
    "print(f\"   Recall:      {tp / (tp + fn):.4f}\")\n",
    "print(f\"   Specificity: {tn / (tn + fp):.4f}\")\n",
    "print(f\"   F1-Score:    {2 * tp / (2 * tp + fp + fn):.4f}\")\n",
    "\n",
    "# Interpretación de resultados\n",
    "print(f\"\\nInterpretación de Resultados:\")\n",
    "print(f\"   • De {tn + fp:,} personas que NO consumen, el modelo identifica correctamente {tn:,} ({tn/(tn+fp):.1%})\")\n",
    "print(f\"   • De {tp + fn:,} personas que SÍ consumen, el modelo identifica correctamente {tp:,} ({tp/(tp+fn):.1%})\")\n",
    "print(f\"   • Falsos positivos: {fp:,} personas ({fp/(tn+fp):.1%} de los no consumidores)\")\n",
    "print(f\"   • Falsos negativos: {fn:,} personas ({fn/(tp+fn):.1%} de los consumidores)\")\n",
    "\n",
    "# Reporte de clasificación completo\n",
    "print(f\"\\nReporte de Clasificación Completo:\")\n",
    "print(\"=\" * 60)\n",
    "print(classification_report(y_test_final, mejor_y_pred, \n",
    "                          target_names=['No Consume', 'Sí Consume']))"
   ]
  }
 ],
 "metadata": {
  "kernelspec": {
   "display_name": "Python 3",
   "language": "python",
   "name": "python3"
  },
  "language_info": {
   "codemirror_mode": {
    "name": "ipython",
    "version": 3
   },
   "file_extension": ".py",
   "mimetype": "text/x-python",
   "name": "python",
   "nbconvert_exporter": "python",
   "pygments_lexer": "ipython3",
   "version": "3.13.6"
  }
 },
 "nbformat": 4,
 "nbformat_minor": 5
}
